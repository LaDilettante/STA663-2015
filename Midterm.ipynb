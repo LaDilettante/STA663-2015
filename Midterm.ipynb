{
 "metadata": {
  "name": "",
  "signature": "sha256:e3a951438fb51316e36753e4403a090debe96987a7870db8c25f6e0e2dcff5ac"
 },
 "nbformat": 3,
 "nbformat_minor": 0,
 "worksheets": [
  {
   "cells": [
    {
     "cell_type": "markdown",
     "metadata": {},
     "source": [
      "Geometric interpretation of optimization\n",
      "\n",
      "* Why conjugate optimization is better than simple gradient descent\n",
      "\n",
      "* Quadratic approximiation to a function (Taylor series). 1d approximiation (tangent line)"
     ]
    },
    {
     "cell_type": "code",
     "collapsed": false,
     "input": [],
     "language": "python",
     "metadata": {},
     "outputs": []
    }
   ],
   "metadata": {}
  }
 ]
}