{
 "metadata": {
  "name": "",
  "signature": "sha256:23032ee526198f4821c2f97800273fac75e677e01884aa9618f81b5d3b9bc40b"
 },
 "nbformat": 3,
 "nbformat_minor": 0,
 "worksheets": [
  {
   "cells": [
    {
     "cell_type": "code",
     "collapsed": false,
     "input": [
      "from __future__ import division\n",
      "\n",
      "import os\n",
      "import sys\n",
      "import glob\n",
      "import matplotlib.pyplot as plt\n",
      "import numpy as np\n",
      "import pandas as pd\n",
      "%matplotlib inline\n",
      "%precision 4\n",
      "plt.style.use('ggplot')\n"
     ],
     "language": "python",
     "metadata": {},
     "outputs": [],
     "prompt_number": 1
    },
    {
     "cell_type": "code",
     "collapsed": false,
     "input": [
      "import scipy.optimize as opt\n",
      "import scipy.stats as stats\n",
      "import scipy.linalg as la\n",
      "from IPython.display import Image"
     ],
     "language": "python",
     "metadata": {},
     "outputs": [],
     "prompt_number": 2
    },
    {
     "cell_type": "markdown",
     "metadata": {},
     "source": [
      "**Exercise 1 (10 points)**.\n",
      "\n",
      "A milkmaid is at point A and needs to get to point B. However, she also needs to fill a pail of water from the river en route from A to B. The equation of the river's path is shown in the figure below. \n",
      "\n",
      "- What is the minimum distance she has to travel to do this?\n",
      "- Modify the code below so that the path taken by the milkmaid is shown as a dashed line.\n",
      "\n",
      "```\n",
      "x = np.linspace(0, 10, 100)\n",
      "plt.xlim([0, 10])\n",
      "plt.plot(x, 10.0/(1+x), 'b', linewidth=5)\n",
      "plt.scatter([2,8], [8,4], c=[0,1], s=100)\n",
      "plt.text(8, 5, 'B (8,4)', fontsize=16)\n",
      "plt.text(2, 9, 'A (2,8)', fontsize=16)\n",
      "plt.text(0.5, 2, 'River', fontsize=16)\n",
      "plt.text(0.5, 0.5, 'g(x y) = y - 10/(1+x)', fontsize=16);\n",
      "```"
     ]
    },
    {
     "cell_type": "code",
     "collapsed": false,
     "input": [
      "obj = lambda x: np.linalg.norm(x - np.array([2, 8])) + np.linalg.norm(x - np.array([8,4]))\n",
      "cons = ({'type':'eq', 'fun': lambda x: x[1] - 10 / float(1 + x[0]) })\n",
      "result = opt.minimize(obj, (0,0), constraints=cons)\n",
      "print result\n",
      "print \"Distance traveled: \", result.fun"
     ],
     "language": "python",
     "metadata": {},
     "outputs": [
      {
       "output_type": "stream",
       "stream": "stdout",
       "text": [
        "  status: 0\n",
        " success: True\n",
        "    njev: 14\n",
        "    nfev: 60\n",
        "     fun: 9.9633982996427921\n",
        "       x: array([ 0.5323,  6.5263])\n",
        " message: 'Optimization terminated successfully.'\n",
        "     jac: array([-1.6529, -0.3881,  0.    ])\n",
        "     nit: 14\n",
        "Distance traveled:  9.96339829964\n"
       ]
      }
     ],
     "prompt_number": 170
    },
    {
     "cell_type": "code",
     "collapsed": false,
     "input": [
      "x = np.linspace(0, 10, 100)\n",
      "plt.xlim([0, 10])\n",
      "plt.plot(x, 10.0/(1+x), 'b', linewidth=5)\n",
      "plt.scatter([2,8], [8,4], c=[0,1], s=100)\n",
      "plt.text(8, 5, 'B (8,4)', fontsize=16)\n",
      "plt.text(2, 9, 'A (2,8)', fontsize=16)\n",
      "plt.text(0.5, 2, 'River', fontsize=16)\n",
      "plt.text(0.5, 0.5, 'g(x y) = y - 10/(1+x)', fontsize=16)\n",
      "\n",
      "plt.plot([2, result.x[0]], [8, result.x[1]], 'r--');\n",
      "plt.plot([8, result.x[0]], [4, result.x[1]], 'r--');"
     ],
     "language": "python",
     "metadata": {},
     "outputs": [
      {
       "metadata": {},
       "output_type": "display_data",
       "png": "[encoded data removed]",
       "text": [
        "<matplotlib.figure.Figure at 0x7f94b01e7b90>"
       ]
      }
     ],
     "prompt_number": 171
    },
    {
     "cell_type": "markdown",
     "metadata": {},
     "source": [
      "**Exercise 2 (10 points)**.\n",
      "\n",
      "You are given 5 samples of 100 rolls of a die. The die is chosen at random from one of two dice, either of which may be biased. Given the following counts, estimate the parameters for each die (i.e. the probabilites of getting a 1, 2, 3, 4, 5 or 6)."
     ]
    },
    {
     "cell_type": "code",
     "collapsed": false,
     "input": [
      "df = pd.read_csv('dice.csv', index_col=0)\n",
      "df"
     ],
     "language": "python",
     "metadata": {},
     "outputs": [
      {
       "html": [
        "<div style=\"max-height:1000px;max-width:1500px;overflow:auto;\">\n",
        "<table border=\"1\" class=\"dataframe\">\n",
        "  <thead>\n",
        "    <tr style=\"text-align: right;\">\n",
        "      <th></th>\n",
        "      <th>1</th>\n",
        "      <th>2</th>\n",
        "      <th>3</th>\n",
        "      <th>4</th>\n",
        "      <th>5</th>\n",
        "      <th>6</th>\n",
        "    </tr>\n",
        "  </thead>\n",
        "  <tbody>\n",
        "    <tr>\n",
        "      <th>Sample 1</th>\n",
        "      <td>  2</td>\n",
        "      <td> 14</td>\n",
        "      <td> 10</td>\n",
        "      <td> 20</td>\n",
        "      <td> 26</td>\n",
        "      <td> 28</td>\n",
        "    </tr>\n",
        "    <tr>\n",
        "      <th>Sample 2</th>\n",
        "      <td>  1</td>\n",
        "      <td> 13</td>\n",
        "      <td> 12</td>\n",
        "      <td> 17</td>\n",
        "      <td> 21</td>\n",
        "      <td> 36</td>\n",
        "    </tr>\n",
        "    <tr>\n",
        "      <th>Sample 3</th>\n",
        "      <td> 21</td>\n",
        "      <td> 18</td>\n",
        "      <td> 16</td>\n",
        "      <td> 12</td>\n",
        "      <td> 14</td>\n",
        "      <td> 19</td>\n",
        "    </tr>\n",
        "    <tr>\n",
        "      <th>Sample 4</th>\n",
        "      <td> 15</td>\n",
        "      <td> 20</td>\n",
        "      <td> 20</td>\n",
        "      <td> 15</td>\n",
        "      <td> 12</td>\n",
        "      <td> 18</td>\n",
        "    </tr>\n",
        "    <tr>\n",
        "      <th>Sample 5</th>\n",
        "      <td>  5</td>\n",
        "      <td> 10</td>\n",
        "      <td> 11</td>\n",
        "      <td> 24</td>\n",
        "      <td> 17</td>\n",
        "      <td> 33</td>\n",
        "    </tr>\n",
        "  </tbody>\n",
        "</table>\n",
        "</div>"
       ],
       "metadata": {},
       "output_type": "pyout",
       "prompt_number": 3,
       "text": [
        "           1   2   3   4   5   6\n",
        "Sample 1   2  14  10  20  26  28\n",
        "Sample 2   1  13  12  17  21  36\n",
        "Sample 3  21  18  16  12  14  19\n",
        "Sample 4  15  20  20  15  12  18\n",
        "Sample 5   5  10  11  24  17  33"
       ]
      }
     ],
     "prompt_number": 3
    },
    {
     "cell_type": "markdown",
     "metadata": {},
     "source": [
      "$z_i = \\{A, B\\}$ indicates which dice the ith sample is.\n",
      "\n",
      "$w_{i;z_i} = p(z_i | x_i, \\theta)$ is the posterior belief about which dice the ith sample is, given observed data.\n",
      "\n",
      "$x_{i1}, \\dots, x_{i6}$ is the counts of $1, \\dots, 6$ for the ith sample.\n",
      "\n",
      "$$Q = \\sum_i \\sum_{z_i} w_{i;z_i} \\log \\frac{p(x_i, z_i | \\theta)}{w_{i;z_i}}$$\n",
      "\n",
      "$$w_{i;z_i} = \\frac{p(x_i, z_i | \\theta)}{p(x_i | \\theta)} = \\frac{\\theta_{z_i1}^{x_{i1}} \\dots \\theta_{z_i6}^{x_{i6}}}{\\sum_{z_i} \\theta_{z_i1}^{x_{i1}} \\dots \\theta_{z_i6}^{x_{i6}}}$$\n",
      "\n",
      "Maximizing $Q$, using Lagrangian with constraint $\\theta_1 + \\dots \\theta_6 = 1$, we have:\n",
      "\n",
      "$$\\theta_{z_is} = \\frac{\\sum_i w_{i;z_i} x_{is}}{\\sum_s \\sum_i w_{i;z_i} x_{is}}$$"
     ]
    },
    {
     "cell_type": "code",
     "collapsed": false,
     "input": [
      "tol = 1e-6\n",
      "max_iter = 100\n",
      "# thetas = np.array([np.repeat(float(1/6), 6), np.repeat(float(1/6), 6)])\n",
      "def gen_p():\n",
      "    thetas = np.random.random(size=6)\n",
      "    return thetas / thetas.sum()\n",
      "thetas = np.array([gen_p(), gen_p()]) # Random start\n",
      "\n",
      "ll_old = 0 \n",
      "for i in range(max_iter):\n",
      "    ll_A = (df * np.log(thetas[0])).sum(1)\n",
      "    ll_B = (df * np.log(thetas[1])).sum(1)\n",
      "\n",
      "    denom = np.exp(ll_A) + np.exp(ll_B)\n",
      "    w_A = np.exp(ll_A) / denom\n",
      "    w_B = np.exp(ll_B) / denom\n",
      "    \n",
      "    v_A = w_A[:, np.newaxis] * df\n",
      "    v_B = w_B[:, np.newaxis] * df\n",
      "    \n",
      "    thetas_old = thetas.copy() # Copy old thetas to check convergence\n",
      "\n",
      "    # Update new thetas\n",
      "    thetas[0] = np.sum(v_A, 0) / np.sum(v_A, 0).sum() # Double sum, because np.sum on dataframe sum over row first. we need to sum again\n",
      "    thetas[1] = np.sum(v_B, 0) / np.sum(v_B, 0).sum()\n",
      "\n",
      "    ll_new = np.sum(w_A * ll_A + w_B * ll_B)\n",
      "    \n",
      "    print \"Iteration: {:d}; ll_new: {:.2f}\".format(i + 1, ll_new)\n",
      "    print \"Theta A: \", [\"{:.2f}\".format(theta) for theta in thetas[0]]\n",
      "    print \"Theta B: \", [\"{:.2f}\".format(theta) for theta in thetas[1]]\n",
      "    \n",
      "    #if np.sum(np.abs(thetas - thetas_old)) < tol:\n",
      "    if np.abs(ll_new - ll_old) < tol:\n",
      "        break\n",
      "    ll_old = ll_new"
     ],
     "language": "python",
     "metadata": {},
     "outputs": [
      {
       "output_type": "stream",
       "stream": "stdout",
       "text": [
        "Iteration: 1; ll_new: -885.25\n",
        "Theta A:  ['0.20', '0.18', '0.17', '0.12', '0.14', '0.19']\n",
        "Theta B:  ['0.09', '0.15', '0.14', '0.18', '0.18', '0.27']\n",
        "Iteration: 2; ll_new: -855.07\n",
        "Theta A:  ['0.18', '0.19', '0.18', '0.13', '0.13', '0.19']\n",
        "Theta B:  ['0.03', '0.12', '0.11', '0.20', '0.21', '0.32']\n",
        "Iteration: 3; ll_new: -840.95\n",
        "Theta A:  ['0.18', '0.19', '0.18', '0.14', '0.13', '0.19']\n",
        "Theta B:  ['0.03', '0.12', '0.11', '0.20', '0.21', '0.32']\n",
        "Iteration: 4; ll_new: -840.95\n",
        "Theta A:  ['0.18', '0.19', '0.18', '0.14', '0.13', '0.19']\n",
        "Theta B:  ['0.03', '0.12', '0.11', '0.20', '0.21', '0.32']\n",
        "Iteration: 5; ll_new: -840.95\n",
        "Theta A:  ['0.18', '0.19', '0.18', '0.14', '0.13', '0.19']\n",
        "Theta B:  ['0.03', '0.12', '0.11', '0.20', '0.21', '0.32']\n"
       ]
      }
     ],
     "prompt_number": 6
    },
    {
     "cell_type": "markdown",
     "metadata": {},
     "source": [
      "**Exercise 3 (10 points)**\n",
      "\n",
      "You have some data about the intervals between arrivals (in minutes) of customers to a bank. You want to know how many customers to expect from 9 AM to 5 PM. Simulate 1000 sequences of customer arrivals over an 8 hour period and esitmate the mean and variance. "
     ]
    },
    {
     "cell_type": "code",
     "collapsed": false,
     "input": [
      "data = np.loadtxt('arrival_intervals.txt')"
     ],
     "language": "python",
     "metadata": {},
     "outputs": [],
     "prompt_number": 174
    },
    {
     "cell_type": "code",
     "collapsed": false,
     "input": [
      "from scipy.interpolate import interp1d\n",
      "\n",
      "def extrap1d(interpolator):\n",
      "    \"\"\"From StackOverflow http://bit.ly/1BjyRfk\"\"\"\n",
      "    xs = interpolator.x\n",
      "    ys = interpolator.y\n",
      "\n",
      "    def pointwise(x):\n",
      "        if x < xs[0]:\n",
      "            return ys[0]+(x-xs[0])*(ys[1]-ys[0])/(xs[1]-xs[0])\n",
      "        elif x > xs[-1]:\n",
      "            return ys[-1]+(x-xs[-1])*(ys[-1]-ys[-2])/(xs[-1]-xs[-2])\n",
      "        else:\n",
      "            return interpolator(x)\n",
      "\n",
      "    def ufunclike(xs):\n",
      "        return np.array(map(pointwise, np.array(xs)))\n",
      "\n",
      "    return ufunclike"
     ],
     "language": "python",
     "metadata": {},
     "outputs": [],
     "prompt_number": 175
    },
    {
     "cell_type": "code",
     "collapsed": true,
     "input": [
      "from statsmodels.distributions.empirical_distribution import ECDF\n",
      "ecdf = ECDF(data)\n",
      "inv_cdf = extrap1d(interp1d(ecdf.y, ecdf.x, \n",
      "                            bounds_error=False, assume_sorted=True))\n",
      "\n",
      "def arrival_interval_generator():\n",
      "    ys = inv_cdf(np.random.uniform(0, 1, size=1000))\n",
      "    return ys[np.isfinite(ys)]\n",
      "\n",
      "ys = arrival_interval_generator()\n",
      "\n",
      "# Check the distribution of the newly generated variable\n",
      "plt.hist(data, 25, histtype='step', color='red', normed=True, linewidth=1)\n",
      "plt.hist(ys, 25, histtype='step', color='blue', normed=True, linewidth=1);"
     ],
     "language": "python",
     "metadata": {},
     "outputs": [
      {
       "metadata": {},
       "output_type": "display_data",
       "png": "[encoded data removed]",
       "text": [
        "<matplotlib.figure.Figure at 0x7f94b60e6890>"
       ]
      }
     ],
     "prompt_number": 176
    },
    {
     "cell_type": "code",
     "collapsed": false,
     "input": [
      "# 1000 sequences of arrivals over 8 hours\n",
      "nseq = 1000\n",
      "intervals_seqs = np.array([arrival_interval_generator() for i in range(nseq)])\n",
      "customers_seqs = np.array([(intervals_seq.cumsum() <= (8 * 60)).sum() for intervals_seq in intervals_seqs])"
     ],
     "language": "python",
     "metadata": {},
     "outputs": [],
     "prompt_number": 177
    },
    {
     "cell_type": "code",
     "collapsed": false,
     "input": [
      "print \"Mean: \", customers_seqs.mean()\n",
      "print \"Variance: \", customers_seqs.var()"
     ],
     "language": "python",
     "metadata": {},
     "outputs": [
      {
       "output_type": "stream",
       "stream": "stdout",
       "text": [
        "Mean:  34.602\n",
        "Variance:  73.517596\n"
       ]
      }
     ],
     "prompt_number": 178
    },
    {
     "cell_type": "markdown",
     "metadata": {},
     "source": [
      "**Exercsie 4 (10 points)**\n",
      "\n",
      "The Cauchy distribution is given by \n",
      "$$\n",
      "f(x) = \\frac{1}{\\pi (1 + x^2)}, \\ \\ -\\infty \\lt x \\lt \\infty \n",
      "$$\n",
      "\n",
      "1. Integrate the tail probability $P(X > 2)$ using Monte Carlo with 1,000 samples:\n",
      "    1. Sampling from the Cauchy distribution directly\n",
      "    2. Sampling from the uniform distribution using an appropriate change of variables\n",
      "2. Plot the 95% CI for the Monte Carlo estimates for the number of samples from 1 to 1,000, and using 1,000 reps to estimate the lower and upper bounds:\n",
      "    1. For sampling from the Cauchy distribution using mulitple Monte Carlo sequences\n",
      "    2. For sampling from the uniform distribution using bootstrap samples of a single Monte Carlo sequence\n",
      "\n"
     ]
    },
    {
     "cell_type": "markdown",
     "metadata": {},
     "source": [
      "We are trying to estimate the quantity\n",
      "\n",
      "$$\n",
      "\\int_2^\\infty \\frac{1}{\\pi (1 + x^2)} dx\n",
      "$$\n",
      "\n",
      "Using the substitution $y = 2/x$, we get\n",
      "\n",
      "$$\n",
      "\\int_0^1 \\frac{2}{\\pi(4 + y^2)} dy\n",
      "$$\n",
      "\n",
      "Hence, a MC estimate with $y \\sim Unif(0,1)$:\n",
      "\n",
      "$$\\frac{1}{n} \\sum_i^n \\frac{2}{\\pi(4 + y^2)}$$\n"
     ]
    },
    {
     "cell_type": "code",
     "collapsed": false,
     "input": [
      "# 4.1 Integrate the tail probability P(X > 2) using Monte Carlo with 1000 samples\n",
      "\n",
      "n = 1000\n",
      "cauchy_sample = stats.cauchy.rvs(size=n)\n",
      "uniform_sample = stats.uniform.rvs(size=n)\n",
      "\n",
      "print \"Tail probability (true): \", 1 - stats.cauchy.cdf(2)\n",
      "print \"Tail probability via Cauchy sampling: \", (cauchy_sample > 2).sum() / n\n",
      "print \"Tail probability via Uniform sampling: \", np.sum(2.0 / np.pi / (4 + uniform_sample ** 2)) / float(n)"
     ],
     "language": "python",
     "metadata": {},
     "outputs": [
      {
       "output_type": "stream",
       "stream": "stdout",
       "text": [
        "Tail probability (true):  0.14758361765\n",
        "Tail probability via Cauchy sampling:  0.152\n",
        "Tail probability via Uniform sampling:  0.147564196229\n"
       ]
      }
     ],
     "prompt_number": 179
    },
    {
     "cell_type": "code",
     "collapsed": false,
     "input": [
      "# 4.2Plot the 95% CI for the Monte Carlo estimates for the number of samples from 1 to 1,000, \n",
      "# and using 1,000 reps to estimate the lower and upper bounds:\n",
      "\n",
      "def cauchy_tailprob(n, x=2):\n",
      "    cauchy_sample = stats.cauchy.rvs(size=n)\n",
      "    return (cauchy_sample > 2).sum() / n"
     ],
     "language": "python",
     "metadata": {},
     "outputs": [],
     "prompt_number": 180
    },
    {
     "cell_type": "code",
     "collapsed": false,
     "input": [
      "# 4.2.A: Cauchy independent sequences\n",
      "n = 1000\n",
      "reps = 1000\n",
      "y = np.array([[cauchy_tailprob(n) for rep in range(reps)] \n",
      "                                for n in range(1, n + 1)])\n",
      "lower, upper = np.percentile(y, q=(2.5, 97.5), axis=1)"
     ],
     "language": "python",
     "metadata": {},
     "outputs": [],
     "prompt_number": 181
    },
    {
     "cell_type": "code",
     "collapsed": false,
     "input": [
      "plt.plot(np.arange(1, n+1), y, c='grey', alpha=0.02)\n",
      "plt.plot(np.arange(1, n+1), y[:,0], c='red')\n",
      "plt.plot(np.arange(1, n+1), lower, c='blue', linewidth=2)\n",
      "plt.plot(np.arange(1, n+1), upper, c='blue', linewidth=2);"
     ],
     "language": "python",
     "metadata": {},
     "outputs": [
      {
       "metadata": {},
       "output_type": "display_data",
       "png": "[encoded data removed]",
       "text": [
        "<matplotlib.figure.Figure at 0x7f94b01cbfd0>"
       ]
      }
     ],
     "prompt_number": 182
    },
    {
     "cell_type": "code",
     "collapsed": false,
     "input": [
      "# 4.2.B: Uniform, 1000 bootstrap sample of 1 sequence\n",
      "f = lambda x: 2.0 / np.pi / (4 + x ** 2)\n",
      "x = np.random.choice(f(np.random.random(n)), (n, reps))\n",
      "y = x.cumsum(axis=0) / np.arange(1, n+1)[:, np.newaxis] * 1.0\n",
      "lower, upper = np.percentile(y, q=(2.5, 97.5), axis=1)"
     ],
     "language": "python",
     "metadata": {},
     "outputs": [],
     "prompt_number": 183
    },
    {
     "cell_type": "code",
     "collapsed": false,
     "input": [
      "plt.plot(np.arange(1, n+1), y, c='grey', alpha=0.02)\n",
      "plt.plot(np.arange(1, n+1), y[:,0], c='red')\n",
      "plt.plot(np.arange(1, n+1), lower, c='blue', linewidth=2)\n",
      "plt.plot(np.arange(1, n+1), upper, c='blue', linewidth=2);"
     ],
     "language": "python",
     "metadata": {},
     "outputs": [
      {
       "metadata": {},
       "output_type": "display_data",
       "png": "[encoded data removed]",
       "text": [
        "<matplotlib.figure.Figure at 0x7f94b0f570d0>"
       ]
      }
     ],
     "prompt_number": 184
    },
    {
     "cell_type": "markdown",
     "metadata": {},
     "source": [
      "**Exercise 5 (10 points)**.\n",
      "\n",
      "Estimate the following integral using Monte Carlo integration\n",
      "\n",
      "$$\n",
      "\\int_{-\\infty}^{\\infty} x^2 \\frac{1}{2}e^{-|x|} dx\n",
      "$$\n",
      "\n",
      "Hint: See figure.\n",
      "\n",
      "![Hint](./dexp.png)"
     ]
    },
    {
     "cell_type": "markdown",
     "metadata": {},
     "source": [
      "Use importance sampling"
     ]
    },
    {
     "cell_type": "code",
     "collapsed": false,
     "input": [
      "n = 10000\n",
      "h = lambda x: x**2 / 2.0 * np.exp(-np.abs(x))\n",
      "g = stats.norm(loc=0, scale=2) # The importance distribution\n",
      "x = g.rvs(n) # Draw x from g\n",
      "print \"Area under curve:\", 1.0 / n * np.sum(h(x) / g.pdf(x))"
     ],
     "language": "python",
     "metadata": {},
     "outputs": [
      {
       "output_type": "stream",
       "stream": "stdout",
       "text": [
        "Area under curve: 1.96465375551\n"
       ]
      }
     ],
     "prompt_number": 185
    }
   ],
   "metadata": {}
  }
 ]
}