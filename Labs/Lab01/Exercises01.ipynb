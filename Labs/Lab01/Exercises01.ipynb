{
 "metadata": {
  "name": "",
  "signature": "sha256:a051896596b1b5772168e5e4e1dd08f8ff0b018b3cbaceead847b2268ef522ea"
 },
 "nbformat": 3,
 "nbformat_minor": 0,
 "worksheets": [
  {
   "cells": [
    {
     "cell_type": "code",
     "collapsed": true,
     "input": [
      "from IPython.display import Image"
     ],
     "language": "python",
     "metadata": {},
     "outputs": [],
     "prompt_number": 17
    },
    {
     "cell_type": "markdown",
     "metadata": {},
     "source": [
      "Computer lab\n",
      "----\n",
      "\n",
      "These exercises are designed to give you some practice coding in Python and proivde familiarity with the language syntax."
     ]
    },
    {
     "cell_type": "markdown",
     "metadata": {},
     "source": [
      "**Exercise 1 [10 pts]**. Write code to solve the [Project Euler puzzle 1](https://projecteuler.net/problems)"
     ]
    },
    {
     "cell_type": "code",
     "collapsed": true,
     "input": [
      "res = []\n",
      "for i in range(1000):\n",
      "    if i % 3 == 0 or i % 5 == 0:\n",
      "        res.append(i)\n",
      "print sum(res)"
     ],
     "language": "python",
     "metadata": {},
     "outputs": [
      {
       "output_type": "stream",
       "stream": "stdout",
       "text": [
        "233168\n"
       ]
      }
     ],
     "prompt_number": 18
    },
    {
     "cell_type": "markdown",
     "metadata": {},
     "source": [
      "**Exericse 2 [10 pts]**. Wikipedia gives the sample correlation coefficient formula as shown below. Write functions to calculate the sample mean, the sample standard deviation and the sample correlation coefficient. Calculate the sample correlation coefficent for the following lists of numbers:\n",
      "\n",
      "```python\n",
      "x = [10.0, 8.0, 13.0, 9.0, 11.0, 14.0, 6.0, 4.0, 12.0, 7.0, 5.0]\n",
      "y = [8.04, 6.95, 7.58, 8.81, 8.33, 9.96, 7.24, 4.26, 10.84, 4.82, 5.68]\n",
      "```\n",
      "\n",
      "Do NOT use `numpy`  functions - the idea is to code the functions yourself! The square root of $x$ can be calculated as ```x**0.5```."
     ]
    },
    {
     "cell_type": "code",
     "collapsed": true,
     "input": [
      "Image(url=\"http://upload.wikimedia.org/math/0/4/e/04e3ee493ddb1f01e03d8bf024fbd0a5.png\")"
     ],
     "language": "python",
     "metadata": {},
     "outputs": [
      {
       "html": [
        "<img src=\"http://upload.wikimedia.org/math/0/4/e/04e3ee493ddb1f01e03d8bf024fbd0a5.png\"/>"
       ],
       "metadata": {},
       "output_type": "pyout",
       "prompt_number": 19,
       "text": [
        "<IPython.core.display.Image at 0x7f34dab3de90>"
       ]
      }
     ],
     "prompt_number": 19
    },
    {
     "cell_type": "code",
     "collapsed": true,
     "input": [
      "Image(url=\"http://upload.wikimedia.org/math/7/0/d/70df5220933ae8298cd5ef1c719360bf.png\")"
     ],
     "language": "python",
     "metadata": {},
     "outputs": [
      {
       "html": [
        "<img src=\"http://upload.wikimedia.org/math/7/0/d/70df5220933ae8298cd5ef1c719360bf.png\"/>"
       ],
       "metadata": {},
       "output_type": "pyout",
       "prompt_number": 20,
       "text": [
        "<IPython.core.display.Image at 0x7f34daacf890>"
       ]
      }
     ],
     "prompt_number": 20
    },
    {
     "cell_type": "code",
     "collapsed": false,
     "input": [
      "def mean(l):\n",
      "    \"\"\"Calculate sample mean\"\"\"\n",
      "    return sum(l) / len(l)\n",
      "\n",
      "def sd(l):\n",
      "    \"\"\"Calculate sample standard deviation\"\"\"\n",
      "    return sum([(x - mean(l))**2 for x in l]) / float(len(l) - 1)\n",
      "\n",
      "def corr(xs, ys):\n",
      "    \"\"\"Calculate sample correlation\"\"\"\n",
      "    if len(xs) == len(ys):\n",
      "        return sum([(xs[i] - mean(xs)) / float(sd(xs)) * (ys[i] - mean(ys)) / float(sd(ys)) for i in range(len(xs))]) / \\\n",
      "                  float(len(xs)-1)\n",
      "    else:\n",
      "        print \"The length are not the same\"\n",
      "        \n",
      "x = [10.0, 8.0, 13.0, 9.0, 11.0, 14.0, 6.0, 4.0, 12.0, 7.0, 5.0]\n",
      "y = [8.04, 6.95, 7.58, 8.81, 8.33, 9.96, 7.24, 4.26, 10.84, 4.82, 5.68]\n",
      "corr(x, y)\n",
      "\n",
      "\n",
      "\n"
     ],
     "language": "python",
     "metadata": {},
     "outputs": [
      {
       "metadata": {},
       "output_type": "pyout",
       "prompt_number": 21,
       "text": [
        "0.12116750763657061"
       ]
      }
     ],
     "prompt_number": 21
    },
    {
     "cell_type": "markdown",
     "metadata": {},
     "source": [
      "**Exercise 3** [10 pts]. Write a function to calculate hailstone numbers.\n",
      "\n",
      "Start with any positive integer (an initial seed) and obtain a sequence of numbers by following these rules.\n",
      "\n",
      "1. Base case: If the number is 1, stop.\n",
      "2. Recursvie case: If the current number is even, divide it by two; else if it is odd, multiply it by three and add one. \n",
      "\n",
      "The seqeunce of numbers obtained are known as *hailstone numbers* - although it is not proven that all sequences will eventually terminate with 1 (Collatz conjecture), no couter-example has yet been found. \n",
      "\n",
      "For example, starting with 7, we get the seuqence 7, 22, 11, 34, 17, 52, 26, 13, 40, 20, 10, 5, 16, 8, 4, 2, 1, 4, 2, 1.\n",
      "\n",
      "A recursive function to find the sequence of hailstone nummbers is given below. Write a *non-recursvie* version of the function that gives the same result. Using your function, what is the length of the sequeence obtained when we start with 23?\n",
      "\n",
      "```python\n",
      "def hailstone(n, acc=None):\n",
      "    \"\"\"Given a positive integer n, return the series of hailstone numbers.\"\"\"\n",
      "    if acc is None:\n",
      "        acc = []\n",
      "    acc.append(n)\n",
      "    if n == 1:\n",
      "        return acc\n",
      "    else:\n",
      "        if n%2 == 0:\n",
      "            return hailstone(n/2, acc)\n",
      "        else:\n",
      "            return hailstone(n*3 + 1, acc)\n",
      "```"
     ]
    },
    {
     "cell_type": "code",
     "collapsed": true,
     "input": [
      "def hailstone(n):\n",
      "    \"\"\"Calculate hailstone number\"\"\"\n",
      "    res = []\n",
      "    while n != 1:\n",
      "        res.append(n)\n",
      "        if n % 2 == 0: \n",
      "            n = n / 2\n",
      "        else: \n",
      "            n = n*3 + 1\n",
      "    res.append(1)\n",
      "    return res\n",
      "\n",
      "print hailstone(7)\n",
      "len(hailstone(23))"
     ],
     "language": "python",
     "metadata": {},
     "outputs": [
      {
       "output_type": "stream",
       "stream": "stdout",
       "text": [
        "[7, 22, 11, 34, 17, 52, 26, 13, 40, 20, 10, 5, 16, 8, 4, 2, 1]\n"
       ]
      },
      {
       "metadata": {},
       "output_type": "pyout",
       "prompt_number": 22,
       "text": [
        "16"
       ]
      }
     ],
     "prompt_number": 22
    },
    {
     "cell_type": "markdown",
     "metadata": {},
     "source": [
      "**Exercise 4 [20 pts]**. A Caesar cipher replaces each in a string with the letter $k$ modulo 26 positions down. For example, with $k=3$, 'a' would become 'd', 'b' would become 'e' and so on. The Caesar cipher is very easy to crack, since the relative letter frequencies are preserved - that is, 'e' is the most commonly used English letter, so the most frequent letter in the cipher is likely to be the code for 'e'. We can download a large corpus of English text (e.g. a few books from Project Gutenberg), and estimate the individual letter frequencies. Using for example, a multinomial model where each letter is one of 26 possibiilites with frequencies given by the the previous estimates, and assuming that each letter is independent, we can simply go through all 26 possible values of $k$ and choose the model with the highest likelihood. Or just use $\\chi^2$ statistic to compare observed and expected frequencies.\n",
      "\n",
      "Have an extended exercise to write a Caesar encoder and code to crack the cipher. \n",
      "\n",
      "- Writing the encoder/decoder\n",
      "    - Convert a sentence to lowercase\n",
      "    - Write a function let2int to convert a lowercase letter to a number from 0 to 25\n",
      "        - Hint: look up ord() function\n",
      "    - Write the reverse function int2let to convert a number to a lowercase letter\n",
      "        - Hint: look up chr() function\n",
      "    - Write a functiton to encode a sentecne with shift k\n",
      "        - Hint: Use list comprehension with [ternary operator](https://docs.python.org/3.3/faq/programming.html#is-there-an-equivalent-of-c-s-ternary-operator) to check for lowercase letter\n",
      "    - Write a function to decode a sentence with shfit k\n",
      "        - HInt: Use the ecnode function\n",
      "    - Confirm that sentence = decode(encode(sentence))\n",
      "    \n",
      "- Writing the cracker\n",
      "    - Write a function to download a book from Project Gutenberg\n",
      "        - Hint: use\n",
      "        ```python\n",
      "        text = urllib2.urlopen('http://www.gutenberg.org/ebooks/1342.txt.utf-8').read()\n",
      "        ```\n",
      "    - Write a fucntion to estimte letter frequencies in text\n",
      "        - Hint: recall various ways to count letters in a string from Lecture 1\n",
      "    - Write a function to calculate the $\\chi^2$ statistic given observed and expected frequencies\n",
      "        - HInt: $\\chi^2 = \\sum_{i=1}{k} \\frac{(\\text{Observed} - \\text{Expected})^2}{\\text{Expected}}$\n",
      "    - Write a cracker to deecode encrypted text by choosing the shift $k$ with the smallest $\\chi^2$ score\n",
      "        - Hint: xs.index(min(xs)) gives location of minimumn value in the list xs"
     ]
    },
    {
     "cell_type": "code",
     "collapsed": true,
     "input": [
      "# Encoder / Decoder\n",
      "def let2int(c):\n",
      "    \"\"\"Convert a lowercase letter to a number from 0 to 25\"\"\"\n",
      "    return ord(c) - ord(\"a\")\n",
      "\n",
      "def int2let(n):\n",
      "    \"\"\"Reverse function int2let to convert a number to a lowercase letter\"\"\"\n",
      "    return chr(n + ord(\"a\"))\n",
      "\n",
      "def encode(s, k):\n",
      "    \"\"\"Caesar encode with shift k. Only alphabets are converted to lowercase then encoded.\n",
      "    Punctuation and speciak marks are kept the same.\"\"\"\n",
      "    cs = [c if c.islower() else c.lower() for c in s]\n",
      "    return \"\".join([int2let((let2int(c) + k) % 26) if c.isalpha() else c for c in cs])\n",
      "\n",
      "def decode(s, k):\n",
      "    \"\"\"Take an encoded message then decode using the provided shift k.\"\"\"\n",
      "    return \"\".join([int2let((let2int(c) - k) % 26) if c.isalpha() else c for c in s])\n",
      "\n",
      "# Testing the encode and decode function\n",
      "print encode(\"this is bullshit!#@$\", 1)\n",
      "print decode(encode(\"this is bullshit!#@$\", 4), 4)\n",
      "\n",
      "# Cracker\n",
      "import urllib2\n",
      "def book(url):\n",
      "    \"\"\"Download book from url.\"\"\"\n",
      "    return urllib2.urlopen(url).read()\n",
      "\n",
      "def letterfreq(s):\n",
      "    \"\"\"Calculate the letter ratio from a string. Punctuations and marks are ignored.\"\"\"\n",
      "    res = {}\n",
      "    for c in s:\n",
      "        if c.isalpha():\n",
      "            res[c.lower()] = res.get(c.lower(), 0) + 1\n",
      "            \n",
      "    totalfreq = float(sum(res.values()))\n",
      "    for key in res:\n",
      "        res[key] = res[key] / totalfreq\n",
      "    return res\n",
      "\n",
      "# Use the letter frequency / ratio in Pride and Prejudice to serve as the reference English letter frequency\n",
      "expectedfreq = letterfreq(book('http://www.gutenberg.org/ebooks/1342.txt.utf-8'))\n",
      "\n",
      "def cracker(s):\n",
      "    \"\"\"Crack a Caesar ciper by trying all shift k from 0 to 25. Print the shift number that results in a string\n",
      "    with letter frequency most similar to English letter frequency.\"\"\"\n",
      "    chisqs = []\n",
      "    for k in range(26):\n",
      "        obsfreq = letterfreq(decode(s, k))\n",
      "        # Calculate chi-square statistic and append it to chisqs\n",
      "        chisqs.append(sum([(obsfreq[key] - expectedfreq[key])**2 / expectedfreq[key] for key in obsfreq]))\n",
      "    # The asnwer is the index with the lowest chi-square statistic\n",
      "    answer = chisqs.index(min(chisqs))\n",
      "    \n",
      "    # Print out the result\n",
      "    print \"The shift is \", chisqs.index(min(chisqs))\n",
      "    print \"The decoded message is \\n\", decode(s, answer)[:500]\n",
      "    \n",
      "decodedmsg = encode(book(\"http://www.gutenberg.org/files/46/46.txt\"), 30)\n",
      "cracker(decodedmsg)"
     ],
     "language": "python",
     "metadata": {},
     "outputs": [
      {
       "output_type": "stream",
       "stream": "stdout",
       "text": [
        "uijt jt cvmmtiju!#@$\n",
        "this is bullshit!#@$\n",
        "The shift is "
       ]
      },
      {
       "output_type": "stream",
       "stream": "stdout",
       "text": [
        " 4\n",
        "The decoded message is \n",
        "the project gutenberg ebook of a christmas carol, by charles dickens\r\n",
        "\r\n",
        "this ebook is for the use of anyone anywhere at no cost and with\r\n",
        "almost no restrictions whatsoever.  you may copy it, give it away or\r\n",
        "re-use it under the terms of the project gutenberg license included\r\n",
        "with this ebook or online at www.gutenberg.net\r\n",
        "\r\n",
        "\r\n",
        "title: a christmas carol\r\n",
        "       a ghost story of christmas\r\n",
        "\r\n",
        "author: charles dickens\r\n",
        "\r\n",
        "release date: august 11, 2004 [ebook #46]\r\n",
        "\r\n",
        "language: english\r\n",
        "\r\n",
        "character set e"
       ]
      },
      {
       "output_type": "stream",
       "stream": "stdout",
       "text": [
        "\n"
       ]
      }
     ],
     "prompt_number": 1
    },
    {
     "cell_type": "code",
     "collapsed": false,
     "input": [],
     "language": "python",
     "metadata": {},
     "outputs": []
    }
   ],
   "metadata": {}
  }
 ]
}