{
 "metadata": {
  "name": "",
  "signature": "sha256:3a076713511b49181fab08caa00ca88dddc8d1db0dc1828cb7c219c26b291fa9"
 },
 "nbformat": 3,
 "nbformat_minor": 0,
 "worksheets": [
  {
   "cells": [
    {
     "cell_type": "code",
     "collapsed": false,
     "input": [
      "import os\n",
      "import sys\n",
      "import glob\n",
      "import matplotlib.pyplot as plt\n",
      "import numpy as np\n",
      "import pandas as pd\n",
      "import scipy.optimize\n",
      "import sympy\n",
      "%matplotlib inline\n",
      "%precision 4\n",
      "plt.style.use('ggplot')"
     ],
     "language": "python",
     "metadata": {},
     "outputs": [],
<<<<<<< HEAD
     "prompt_number": 143
=======
     "prompt_number": 50
>>>>>>> c99c942c7ae8e416b4d9af8cb6faa06e0a72355f
    },
    {
     "cell_type": "code",
     "collapsed": false,
     "input": [
      "from sympy import Symbol, symbols, exp, I, pi, N, expand\n",
      "from sympy import init_printing \n",
      "init_printing()"
     ],
     "language": "python",
     "metadata": {},
     "outputs": [],
<<<<<<< HEAD
     "prompt_number": 144
=======
     "prompt_number": 48
>>>>>>> c99c942c7ae8e416b4d9af8cb6faa06e0a72355f
    },
    {
     "cell_type": "markdown",
     "metadata": {},
     "source": [
      "Background for Exercises 1 and 2\n",
      "----\n",
      "\n",
      "The first 2 exercises are about using Newton's method to find the cube roots of unity - find $z$ such that $z^3 = 1$. From the fundamental theorem of algebra, we know there must be exactly 3 complex roots since this is a degree 3 polynomial.\n",
      "\n",
      "We start with Euler's fabulosu equation\n",
      "$$\n",
      "e^{ix} = \\cos x + i \\sin x\n",
      "$$\n",
      "\n",
      "Raising $e^{ix}$ to the $n$th power where $n$ is an integer, we get from Euler's formula with $nx$ substituting for $x$\n",
      "$$\n",
      "(e^{ix})^n = e^{i(nx)} = \\cos nx + i \\sin nx\n",
      "$$\n",
      "\n",
      "Whenever $nx$ is an integer multiple of $2\\pi$, we have\n",
      "$$\n",
      "\\cos nx + i \\sin nx = 1\n",
      "$$\n",
      "\n",
      "So\n",
      "$$\n",
      "e^{2\\pi i \\frac{k}{n}}\n",
      "$$\n",
      "is a root of 1 whenever $k/n = 0, 1, 2, \\ldots$.\n",
      "\n",
      "So the cube roots of unity are $1, e^{2\\pi i/3}, e^{4\\pi i/3}$. \n",
      "\n",
      "While we can do this analytically, the idea is to use Newton's method to find these roots, and in the process, disover some rather perplexing behavior of Newton's method."
     ]
    },
    {
     "cell_type": "code",
     "collapsed": false,
     "input": [
      "expand(exp(2*pi*I/3), complex=True)"
     ],
     "language": "python",
     "metadata": {},
     "outputs": [
      {
       "latex": [
        "$$- \\frac{1}{2} + \\frac{\\sqrt{3} i}{2}$$"
       ],
       "metadata": {},
       "output_type": "pyout",
       "png": "iVBORw0KGgoAAAANSUhEUgAAAGoAAAAjCAYAAAB8dp8zAAAABHNCSVQICAgIfAhkiAAABDFJREFU\naIHt2muIVVUUwPGfOZXlOIZliIqpDSVFmhUWBVmRJCh9KDLJiMreBFr4IaKkUiqKjISKrPCWPUki\nTCuaKBKCCsrQPhT5UejxIXtnZY8P617meufMueeeudO52fnDcO9Z+7XuWXuvtdfeQ0lJSUk7OAV/\nt+GvZJh5DaOKViIrBxStQEHMx7vYU7QiJelsQk/RSrRCO1fUGGzElDb2ORycge34oWhFiuAq3CGC\n69RCNWnOSxhfsA4XFDx+xxtqFh4qWIcZeKVgHTreUE9Ld82nYT0eqX6+KIzbjMOxEysy1L0LFzfI\n5uBlvI4deBKTMvSVm042VC+eSCmfjc323bI/KmLZiU36noRtmJdBj49xSN3zSXgTh1Wfu7EV3xjG\nd9kOQ81E19BVGcBjwu0MxoNC//rZvrAqW9smHeZgQ4Nsi5hE9cyujvtCTdCJedTNmJyj3ZiUsknV\n8s9S6mwTq+fbOll39fOXHPoksQTPNcjm4m0c2aDLdzi3TeMOoB0rqtJiH4fiWTycUucBnJxDl/uw\nV7Y41YyRIi1o9BY78BumNci/ws9tGHcflgh/XluuNw6hr4rshurCbViFHyUnseNEoG6Vafga16TU\nOU5MkM1Y3KS/eZIn02hMaJBNFO/ynUyaFkRF66tynHBPyxLK7sTZLfS1UBh+O241eHg4UMS9kVhe\nrZ/GepFsZ+Fe/InTM9YvhIp87vNxfI4RdbJuEazz0IU+vI8jEsoX4bzq97fUBf4ERuGTBt0Goxc/\nYXVmTQuiIp+hZgl3Mb9OtgLnD0GXM6t9bkwoO0qspun4S7/RkrgQ92QY72B8iDWNBfUWPgHrZLM6\nMUOuy1g3iackB+kpIpD+nlC2FB+l9LlVxKoF4kdvEobLcm80AwfZ14X14Ptq+x4x0xu5G5foN1gS\nG8UR26cp448Qm6KdWJlB35Zp9+VaRf6d40XiZfXiWrHJyUIPfhU7vKPr5KP1/4axCe268CVurz5P\nT6gzVqySZqyu66fGZRnaFUZFfkN1YZdIUPuEa8rCKPyBL8TGpEbtFviDQdotEEF/sliNA1wWrsQt\nTca/QhwtNbKu9mU4TgCKZK9IE1bhBvESs7AH94vVsbtOvky4u+sHaXescJW7xM5vfUKdxbg6Zexz\nqmO/gWfq5F2G4ar/VNwk/HCfCMJ5qRha0jxe+Pk81+yX43lxzNMnDmWPSak/UdwUr8GlCeUTquVp\n7DZ4yFiVXfXmdIt9f41FIqfJe/pb0bkHu62yXKzsjmCmCOC1INwjZsOinP2tNTBT/6/ynuQcrBBG\nCNdX29YfLww1uzCNOoNe+ZPtf4UN4hD0/85KyXGrI1gqTpyzJs37M6/qvybpKBYKQxE7rqnFqbL/\nkTUhbMZccfSzRcyis8Sq2tWm/kvawHRxvtaYA/yn/sGxpKSkpKSkJB//ABys339ivqmuAAAAAElF\nTkSuQmCC\n",
       "prompt_number": 145,
       "text": [
        "        ___  \n",
        "  1   \u2572\u2571 3 \u22c5\u2148\n",
        "- \u2500 + \u2500\u2500\u2500\u2500\u2500\u2500\u2500\n",
        "  2      2   "
       ]
      }
     ],
     "prompt_number": 145
    },
    {
     "cell_type": "code",
     "collapsed": false,
     "input": [
      "expand(exp(4*pi*I/3), complex=True)"
     ],
     "language": "python",
     "metadata": {},
     "outputs": [
      {
       "latex": [
        "$$- \\frac{1}{2} - \\frac{\\sqrt{3} i}{2}$$"
       ],
       "metadata": {},
       "output_type": "pyout",
       "png": "iVBORw0KGgoAAAANSUhEUgAAAGUAAAAjCAYAAACNfcS+AAAABHNCSVQICAgIfAhkiAAAA+9JREFU\naIHt2luIVWUUwPHf5FRTjmNYhmiU2lBSlE2FRUFWJAlKD0UmGdH9RqCBDxEllVJRZBRUZIWQXWmI\nMK1ookgIqocM7aHIR6HLQ3bPyC4Pa5/mzHafc/aMZ2bvsf2H4Zy9vts6e33fWuv7vqGioqKixun4\npw1/FW3kTXQVrUReDihagTFgIT7A7qIVqRhkI3qKVmI4tHOlTEI/jm5jn/vK2diGn4pWpAiuw90i\nGM4sVJOhvIqpBetwccHjl8ooc/FowTrMwesF61AqozynuSs9E+vxRPL5ijBkKw7HDqzMUfdeXJaS\nzcNreAvb8Sxm5OhrxJTFKL14pkl5HzYZmiY/KWLPKS36noGtWJBDj09xSN3zqXgHhyXP3diC74zi\neyuLUZ4SrqMRjwhd62fx4kT2WJt0mIcNKdlmMWHq6UvGfbkmGK/7lElNymYk5V80qbNVrIrv62Td\nyedv+6bafyzDiynZfLyHI1O6/IAL2jTuXoz2SjkUL+DxJnUexmkj6PtB7JEvrrRigkjFO1Py7fgD\ns1Lyb/BrG8YdwjLhk2vL8NZ2DyB+4J1YjZ9lbwiniCA6XGbhW9zQpM4JYjJswtIW/S2QPXEmYlpK\nNl28t/dzaVpSpggXszyj7B6cN4y+Fgsjb8MdGrvzA0WcmoAVSf1mrBcb1zw8gL9wVs76peVpfImO\nOlm3CKQjoRMD+AhHZJQvwYXJ93fVBeUMuvBZSrdG9OIXrMmtaYmZK5b8wjrZSly0D32ek/TZn1F2\njFgls/G3QQNlcQnuzzHewfgEa9MF9dY8CevkszAxG27KWXc0xtgiYssi8QM3CiPlufeYg4MMdUM9\n+DFp3yNmcJr7cLlB42TRL46cPm8yfodIWHZgVQ59h01Rl0OXihfTixtFspGHHvwuMq1j6+QTDeo7\nOaNdJ77GXcnz7Iw6k8Xsb8Waun5qXJmjXenpxE6x2RsQ7iUPXfgTX4mkoUbtdvLjBu0WiYB8lFhl\ne7kdXIPbW4x/tTh+SbOu9iWdR48n9og0fDVuES8sD7vxkJj1u+rky4XLurlBu+OFu9spMrD1GXWW\n4vomY5+fjP02nq+TdxoFj3IGbhO+dEAEzbFgqvDLI7nqvQoviaOQAXEgeVyT+tPFDeZaXJFRPi0p\nb8YujV386vyqt6Zb5No1loh9xKiefJaQFWLFloKTRcCtBc0eYfklhWlUDB/K3uMUQodwX7U090Rh\nlL7CNBp7eo184zombBCHgv8nVsmOM6XgWnHamndzuL/whsGj/1KxWBiFyIZmFqfK+CbvhqsV88V9\n+GYxY84Vq2Vnm/qvGCazxRlUOu8eV/8AV1FRUVFRsT/yL86l1VXdgfk0AAAAAElFTkSuQmCC\n",
       "prompt_number": 146,
       "text": [
        "        ___  \n",
        "  1   \u2572\u2571 3 \u22c5\u2148\n",
        "- \u2500 - \u2500\u2500\u2500\u2500\u2500\u2500\u2500\n",
        "  2      2   "
       ]
      }
     ],
     "prompt_number": 146
    },
    {
     "cell_type": "code",
     "collapsed": false,
     "input": [
      "plt.figure(figsize=(4,4))\n",
      "roots = np.array([[1,0], [-0.5, np.sqrt(3)/2], [-0.5, -np.sqrt(3)/2]])\n",
      "plt.scatter(roots[:,0], roots[:,1], s=50, c='red')\n",
      "xp = np.linspace(0, 2*np.pi, 100)\n",
      "plt.plot(np.cos(xp), np.sin(xp), c='blue');"
     ],
     "language": "python",
     "metadata": {},
     "outputs": [
      {
       "metadata": {},
       "output_type": "display_data",
       "png": "iVBORw0KGgoAAAANSUhEUgAAARMAAAEECAYAAAALetCbAAAABHNCSVQICAgIfAhkiAAAAAlwSFlz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\nCNBT9Hsu54AAAAAASUVORK5CYII=\n",
       "text": [
        "<matplotlib.figure.Figure at 0x7f1823b285d0>"
       ]
      }
     ],
     "prompt_number": 147
    },
    {
     "cell_type": "markdown",
     "metadata": {},
     "source": [
      "**Exercise 1 (10 points)**. Netwon's method for functions of complex variables - stability and basins of attraction.\n",
      "\n",
      "1. Write a function with the following function signature `newton(z, f, fprime, max_iter=100, tol=1e-6)` where\n",
      "    - `z` is a starting value (a complex number e.g.  ` 3 + 4j`)\n",
      "    - `f` is a function of `z`\n",
      "    - `fprime` is the derivative of  `f`\n",
      "The function will run until either max_iter is reached or the absolute value of the Newton step is less than tol. In either case, the function should return the number of iterations taken and the final value of `z` as a tuple (`i`, `z`). \n",
      "\n",
      "2. Define the function `f` and `fprime` that will result in Newton's method finding the cube roots of 1. Find 3 starting points that will give different roots, and print both the start and end points. "
     ]
    },
    {
     "cell_type": "markdown",
     "metadata": {},
     "source": [
      "**Exercise 1 (Solution):** Newton's method for finding roots:\n",
<<<<<<< HEAD
      "$$x_{k+1} = x_k - \\frac{f(x_k)}{f'(x_k)}$$"
=======
      "$$x_{k+1} = x_k - \\frac{f'(x_k)}{f(x_k)}$$"
>>>>>>> c99c942c7ae8e416b4d9af8cb6faa06e0a72355f
     ]
    },
    {
     "cell_type": "code",
     "collapsed": false,
     "input": [
      "# 1.1 Write the function\n",
<<<<<<< HEAD
      "def newton(z, f, fprime, max_iter=100, tol=1e-6):\n",
      "    '''Newton's method for functions of complex variables'''    \n",
      "    count_iter = 0\n",
      "    x_current = z\n",
      "    delta = 1\n",
      "    while (count_iter < max_iter) and (np.abs(delta) > tol):\n",
      "        delta = - f(x_current) / fprime(x_current)\n",
      "        # Update x_new and x_current\n",
      "        x_new = x_current + delta\n",
      "        x_current = x_new\n",
      "        count_iter += 1\n",
      "    return count_iter, x_new"
     ],
     "language": "python",
     "metadata": {},
     "outputs": [],
     "prompt_number": 148
    },
    {
     "cell_type": "code",
     "collapsed": false,
     "input": [
      "# 1.2 Define f and fprime. Find the cube roots of 1\n",
      "f = lambda x: x ** 3 - 1\n",
      "fprime = lambda x: 3 * x ** 2\n",
      "\n",
      "print \"start point: 0.5; end point:\", newton(0.5, f, fprime)\n",
      "print \"start point: 0.5 - 1j; end point:\", newton(0.5 - 1j, f, fprime)\n",
      "print \"start point: 0.5 + 1j; end point:\", newton(0.5 + 1j, f, fprime)"
     ],
     "language": "python",
     "metadata": {},
=======
      "def newton(z, f, fprime, max_iter=1000, tol=1e-6):\n",
      "    '''Newton's method for functions of complex variables'''    \n",
      "    count_iter = 0\n",
      "    x_current = z\n",
      "    x_new = np.infty\n",
      "    while (count_iter < max_iter) and (np.abs(x_new - x_current) > tol):\n",
      "        delta = f(x_current) / fprime(x_current)\n",
      "        x_new = x_current - delta\n",
      "        count_iter += 1\n",
      "    return count_iter, x_new"
     ],
     "language": "python",
     "metadata": {},
     "outputs": [
      {
       "output_type": "stream",
       "stream": "stdout",
       "text": [
        "\n"
       ]
      }
     ],
     "prompt_number": 4
    },
    {
     "cell_type": "code",
     "collapsed": false,
     "input": [
      "# 1.2 Define f and fprime. Find the cube roots of 1\n",
      "f = lambda x: x ** 3 - 1\n",
      "fprime = lambda x: 3 * x ** 2\n",
      "\n",
      "print \"start: 3 + 4j; end: \", newton(3 + 4j, f, fprime)[1]\n",
      "print np.real_if_close(newton(3 + 4j, f, fprime)[1] ** 3 - 1)\n",
      "print \"start: 1 + 2j; end: \", newton(1 + 2j, f, fprime)[1]\n",
      "print \"start: 2 + 5j; end: \", newton(2 + 5j, f, fprime)[1]\n",
      "print newton(0 + 1j, f, fprime)\n",
      "print newton(0 + 2j, f, fprime)"
     ],
     "language": "python",
     "metadata": {},
>>>>>>> c99c942c7ae8e416b4d9af8cb6faa06e0a72355f
     "outputs": [
      {
       "output_type": "stream",
       "stream": "stdout",
       "text": [
<<<<<<< HEAD
        "start point: 0.5; end point: (7, 1.0)\n",
        "start point: 0.5 - 1j; end point: (8, (-0.5+0.8660254037844386j))\n",
        "start point: 0.5 + 1j; end point: (8, (-0.5-0.8660254037844386j))\n"
       ]
      }
     ],
     "prompt_number": 149
=======
        "start: 3 + 4j; end:  (1.99626666667+2.65386666667j)\n",
        "(-35.2238844392+13.0364128212j)\n",
        "start: 1 + 2j; end:  (0.626666666667+1.28j)\n",
        "start: 2 + 5j; end:  (1.32500990884+3.32540626239j)\n",
        "(1000, (-0.3333333333333333+0.6666666666666667j))\n",
        "(1000, (-0.08333333333333333+1.3333333333333335j))\n"
       ]
      }
     ],
     "prompt_number": 6
>>>>>>> c99c942c7ae8e416b4d9af8cb6faa06e0a72355f
    },
    {
     "cell_type": "markdown",
     "metadata": {},
     "source": [
      "**Exercise 2 (10 points)**. Write the following two plotting functions to see some (pretty) aspects of Newton's algorithm in the complex plane.\n",
      "\n",
      "1. The first function `plot_newton_iters(f, fprime, n=200, extent=[-1,1,-1,1], cmap='hsv')` calculates and stores the number of iterations taken for convergence (or max_iter) for each point in a 2D array. The 2D array limits are given by `extent` - for example, when `extent = [-1,1,-1,1]` the corners of the plot are `(-i, -i), (1, -i), (1, i), (-1, i)`. There are `n` grid points in both the real and imaginary axes. The argument `cmap` specifies the color map to use - the suggested defaults are fine. Finally plot the image using `plt.imshow` - make sure the axis ticks are correctly scaled. Make a plot for the cube roots of 1.\n",
      "\n",
      "2. The second function `plot_newton_basins(f, fprime, n=200, extent=[-1,1,-1,1], cmap='jet')` has the same arguments, but this time the grid stores the identity of the root that the starting point converged to. Make a plot for the cube roots of 1 - since there are 3 roots, there should be only 3 colors in the plot."
     ]
    },
    {
     "cell_type": "code",
     "collapsed": false,
     "input": [
      "# 2.1\n",
      "def plot_newton_iters(f, fprime, n=200, extent=[-1,1,-1,1], cmap='hsv'):\n",
<<<<<<< HEAD
      "    x = np.linspace(extent[0], extent[1], num=n)\n",
      "    y = np.linspace(extent[2], extent[3], num=n)\n",
      "    \n",
      "    stepv = np.array([[newton(complex(x_, y_), f, fprime)[0] for y_ in y] \n",
      "                                                             for x_ in x])\n",
      "    plt.imshow(stepv, cmap=cmap, extent=extent)\n",
      "# 2.2\n",
      "def plot_newton_basins(f, fprime, n=200, extent=[-1,1,-1,1], cmap='jet'):\n",
      "    x = np.linspace(extent[0], extent[1], num=n)\n",
      "    y = np.linspace(extent[2], extent[3], num=n)\n",
      "    rootv = np.around(np.array([[newton(complex(x_, y_), f, fprime)[1] for y_ in y] for x_ in x]),\n",
      "                      decimals=4)\n",
      "    \n",
      "    # Find out a cell in rootv is which root\n",
      "    unique_roots = np.unique(rootv)\n",
      "    which = lambda x: np.nonzero(x == unique_roots)\n",
      "    which2 = np.vectorize(which)\n",
      "    rootv_recoded = which2(rootv)\n",
      "    \n",
      "    plt.imshow(rootv_recoded, cmap=cmap, extent=extent)"
=======
      "\n",
      "\n",
      "\n",
      "\n"
>>>>>>> c99c942c7ae8e416b4d9af8cb6faa06e0a72355f
     ],
     "language": "python",
     "metadata": {},
     "outputs": [],
     "prompt_number": 150
    },
    {
     "cell_type": "code",
     "collapsed": false,
     "input": [
      "plt.subplot(121)\n",
      "plot_newton_iters(f, fprime)\n",
      "plt.subplot(122)\n",
      "plot_newton_basins(f, fprime)"
     ],
     "language": "python",
     "metadata": {},
     "outputs": [
      {
       "metadata": {},
       "output_type": "display_data",
       "png": "iVBORw0KGgoAAAANSUhEUgAAAYIAAAC9CAYAAAC+oXpFAAAABHNCSVQICAgIfAhkiAAAAAlwSFlz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\ntJCGTkv+8BMAAAAASUVORK5CYII=\n",
       "text": [
        "<matplotlib.figure.Figure at 0x7f182481e790>"
       ]
      }
     ],
     "prompt_number": 151
    },
    {
     "cell_type": "markdown",
     "metadata": {},
     "source": [
      "**Exercise 3 (10 points)**. Consider the following function on $\\mathbb{R}^2$:\n",
      "\n",
      "$$f(x_1,x_2) = -x_1x_2e^{-\\frac{(x_1^2+x_2^2)}{2}}$$\n",
      "\n",
      "1. Use `sympy` to compute its gradient.\n",
      "2. Compute the Hessian matrix. \n",
      "3. Find the critical points of $f$.\n",
      "4. Characterize the critical points as max/min or neither. Find the minimum under the constraint \n",
      "$$g(x) = x_1^2+x_2^2 \\leq 10$$\n",
      "and \n",
      "$$h(x) = 2x_1 + 3x_2 = 5$$ using `scipy.optimize.minimize`.\n",
      "5. Plot the function using `matplotlib`."
     ]
    },
    {
     "cell_type": "code",
     "collapsed": false,
     "input": [
      "# 3.1. Use sympy to compute the gradient\n",
      "x1, x2 = symbols('x1 x2')\n",
      "f = - x1 * x2 * exp(- (x1**2 + x2**2) / 2.0 )\n",
<<<<<<< HEAD
      "\n",
      "sympy.diff(f, x1)"
=======
      "\n",
      "print f\n",
      "print sympy.diff(f, x1)\n",
      "print sympy.diff(f, x2)"
     ],
     "language": "python",
     "metadata": {},
     "outputs": [
      {
       "output_type": "stream",
       "stream": "stdout",
       "text": [
        "-x1*x2*exp(-0.5*x1**2 - 0.5*x2**2)\n",
        "1.0*x1**2*x2*exp(-0.5*x1**2 - 0.5*x2**2) - x2*exp(-0.5*x1**2 - 0.5*x2**2)\n",
        "1.0*x1*x2**2*exp(-0.5*x1**2 - 0.5*x2**2) - x1*exp(-0.5*x1**2 - 0.5*x2**2)\n"
       ]
      }
     ],
     "prompt_number": 22
    },
    {
     "cell_type": "code",
     "collapsed": false,
     "input": [
      "# 3.2. Compute the Hessian matrix\n",
      "hess = sympy.hessian(f, (x1, x2))\n",
      "print hess"
     ],
     "language": "python",
     "metadata": {},
     "outputs": [
      {
       "output_type": "stream",
       "stream": "stdout",
       "text": [
        "Matrix([[-1.0*x1**3*x2*exp(-0.5*x1**2 - 0.5*x2**2) + 3.0*x1*x2*exp(-0.5*x1**2 - 0.5*x2**2), -1.0*x1**2*x2**2*exp(-0.5*x1**2 - 0.5*x2**2) + 1.0*x1**2*exp(-0.5*x1**2 - 0.5*x2**2) + 1.0*x2**2*exp(-0.5*x1**2 - 0.5*x2**2) - exp(-0.5*x1**2 - 0.5*x2**2)], [-1.0*x1**2*x2**2*exp(-0.5*x1**2 - 0.5*x2**2) + 1.0*x1**2*exp(-0.5*x1**2 - 0.5*x2**2) + 1.0*x2**2*exp(-0.5*x1**2 - 0.5*x2**2) - exp(-0.5*x1**2 - 0.5*x2**2), -1.0*x1*x2**3*exp(-0.5*x1**2 - 0.5*x2**2) + 3.0*x1*x2*exp(-0.5*x1**2 - 0.5*x2**2)]])\n"
       ]
      }
     ],
     "prompt_number": 26
    },
    {
     "cell_type": "code",
     "collapsed": false,
     "input": [
      "# 3.3. Find the critical point of f\n",
      "critical_pts = sympy.solve([sympy.diff(f, x1), sympy.diff(f, x2)], [x1, x2])\n",
      "print critical_pts"
     ],
     "language": "python",
     "metadata": {},
     "outputs": [
      {
       "output_type": "stream",
       "stream": "stdout",
       "text": [
        "[(-1.00000000000000, -1.00000000000000), (-1.00000000000000, 1.00000000000000), (0.0, 0.0), (1.00000000000000, -1.00000000000000), (1.00000000000000, 1.00000000000000)]\n"
       ]
      }
     ],
     "prompt_number": 31
    },
    {
     "cell_type": "code",
     "collapsed": false,
     "input": [
      "[(x1_, x2_) for x1_, x2_ in critical_pts]"
     ],
     "language": "python",
     "metadata": {},
     "outputs": [
      {
       "latex": [
        "$$\\begin{bmatrix}\\begin{pmatrix}-1.0, & -1.0\\end{pmatrix}, & \\begin{pmatrix}-1.0, & 1.0\\end{pmatrix}, & \\begin{pmatrix}0.0, & 0.0\\end{pmatrix}, & \\begin{pmatrix}1.0, & -1.0\\end{pmatrix}, & \\begin{pmatrix}1.0, & 1.0\\end{pmatrix}\\end{bmatrix}$$"
       ],
       "metadata": {},
       "output_type": "pyout",
       "png": "iVBORw0KGgoAAAANSUhEUgAAAq8AAAAaBAMAAABr16hBAAAAMFBMVEX///8AAAAAAAAAAAAAAAAA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\n//EOn8B/kmp3UOrB7ugAAAAASUVORK5CYII=\n",
       "prompt_number": 33,
       "text": [
        "[(-1.0, -1.0), (-1.0, 1.0), (0.0, 0.0), (1.0, -1.0), (1.0, 1.0)]"
       ]
      }
     ],
     "prompt_number": 33
    },
    {
     "cell_type": "code",
     "collapsed": false,
     "input": [
      "# 3.4. Characterize the critical point as max / min / neither\n",
      "# Find the minimum with constraint using scipy.optimize.minimize\n",
      "hess_det = [hess.subs([(x1, x1_), (x2, x2_)]).det() for x1_, x2_ in critical_pts]\n",
      "print \"\\n\".join([str(pts) + str(det) for pts, det in zip(critical_pts, hess_det)])\n",
      "\n",
      "def obj_f(x1, x2):\n",
      "    return - x1 * x2 * np.exp(- (x1**2 + x2**2) / 2.0 )\n",
      "scipy.optimize.minimize(obj_f, [0.0, 0.0], )"
>>>>>>> c99c942c7ae8e416b4d9af8cb6faa06e0a72355f
     ],
     "language": "python",
     "metadata": {},
     "outputs": [
      {
<<<<<<< HEAD
       "latex": [
        "$$1.0 x_{1}^{2} x_{2} e^{- 0.5 x_{1}^{2} - 0.5 x_{2}^{2}} - x_{2} e^{- 0.5 x_{1}^{2} - 0.5 x_{2}^{2}}$$"
       ],
       "metadata": {},
       "output_type": "pyout",
       "png": "iVBORw0KGgoAAAANSUhEUgAAATQAAAAhCAYAAABX7VcDAAAABHNCSVQICAgIfAhkiAAABnlJREFU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\nYY5diWsRD3MAAAAASUVORK5CYII=\n",
       "prompt_number": 167,
       "text": [
        "                    2         2               2         2\n",
        "      2     - 0.5\u22c5x\u2081  - 0.5\u22c5x\u2082        - 0.5\u22c5x\u2081  - 0.5\u22c5x\u2082 \n",
        "1.0\u22c5x\u2081 \u22c5x\u2082\u22c5\u212f                    - x\u2082\u22c5\u212f                   "
       ]
      }
     ],
     "prompt_number": 167
    },
    {
     "cell_type": "code",
     "collapsed": false,
     "input": [
      "sympy.diff(f, x2)"
     ],
     "language": "python",
     "metadata": {},
     "outputs": [
      {
       "latex": [
        "$$1.0 x_{1} x_{2}^{2} e^{- 0.5 x_{1}^{2} - 0.5 x_{2}^{2}} - x_{1} e^{- 0.5 x_{1}^{2} - 0.5 x_{2}^{2}}$$"
       ],
       "metadata": {},
       "output_type": "pyout",
       "png": "iVBORw0KGgoAAAANSUhEUgAAATQAAAAhCAYAAABX7VcDAAAABHNCSVQICAgIfAhkiAAABoVJREFU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\nUCgUCoVCoVBoiv8DUbhOspGwyGIAAAAASUVORK5CYII=\n",
       "prompt_number": 168,
       "text": [
        "                    2         2               2         2\n",
        "         2  - 0.5\u22c5x\u2081  - 0.5\u22c5x\u2082        - 0.5\u22c5x\u2081  - 0.5\u22c5x\u2082 \n",
        "1.0\u22c5x\u2081\u22c5x\u2082 \u22c5\u212f                    - x\u2081\u22c5\u212f                   "
       ]
      }
     ],
     "prompt_number": 168
    },
    {
     "cell_type": "code",
     "collapsed": false,
     "input": [
      "# 3.2. Compute the Hessian matrix\n",
      "hess = sympy.hessian(f, (x1, x2))\n",
      "hess"
     ],
     "language": "python",
     "metadata": {},
     "outputs": [
      {
       "output_type": "stream",
       "stream": "stderr",
       "text": [
        "/home/bitnami/anaconda/lib/python2.7/site-packages/IPython/core/formatters.py:239: FormatterWarning: Exception in image/png formatter: \n",
        "\\left[\\begin{smallmatrix}- 1.0 x_{1}^{3} x_{2} e^{- 0.5 x_{1}^{2} - 0.5 x_{2}^{2}} + 3.0 x_{1} x_{2} e^{- 0.5 x_{1}^{2} - 0.5 x_{2}^{2}} & - 1.0 x_{1}^{2} x_{2}^{2} e^{- 0.5 x_{1}^{2} - 0.5 x_{2}^{2}} + 1.0 x_{1}^{2} e^{- 0.5 x_{1}^{2} - 0.5 x_{2}^{2}} + 1.0 x_{2}^{2} e^{- 0.5 x_{1}^{2} - 0.5 x_{2}^{2}} - e^{- 0.5 x_{1}^{2} - 0.5 x_{2}^{2}}\\\\- 1.0 x_{1}^{2} x_{2}^{2} e^{- 0.5 x_{1}^{2} - 0.5 x_{2}^{2}} + 1.0 x_{1}^{2} e^{- 0.5 x_{1}^{2} - 0.5 x_{2}^{2}} + 1.0 x_{2}^{2} e^{- 0.5 x_{1}^{2} - 0.5 x_{2}^{2}} - e^{- 0.5 x_{1}^{2} - 0.5 x_{2}^{2}} & - 1.0 x_{1} x_{2}^{3} e^{- 0.5 x_{1}^{2} - 0.5 x_{2}^{2}} + 3.0 x_{1} x_{2} e^{- 0.5 x_{1}^{2} - 0.5 x_{2}^{2}}\\end{smallmatrix}\\right]\n",
        "      ^\n",
        "Expected \"\\right\" (at char 6), (line:1, col:7)\n",
        "  FormatterWarning,\n"
       ]
      },
      {
       "latex": [
        "$$\\left[\\begin{matrix}- 1.0 x_{1}^{3} x_{2} e^{- 0.5 x_{1}^{2} - 0.5 x_{2}^{2}} + 3.0 x_{1} x_{2} e^{- 0.5 x_{1}^{2} - 0.5 x_{2}^{2}} & - 1.0 x_{1}^{2} x_{2}^{2} e^{- 0.5 x_{1}^{2} - 0.5 x_{2}^{2}} + 1.0 x_{1}^{2} e^{- 0.5 x_{1}^{2} - 0.5 x_{2}^{2}} + 1.0 x_{2}^{2} e^{- 0.5 x_{1}^{2} - 0.5 x_{2}^{2}} - e^{- 0.5 x_{1}^{2} - 0.5 x_{2}^{2}}\\\\- 1.0 x_{1}^{2} x_{2}^{2} e^{- 0.5 x_{1}^{2} - 0.5 x_{2}^{2}} + 1.0 x_{1}^{2} e^{- 0.5 x_{1}^{2} - 0.5 x_{2}^{2}} + 1.0 x_{2}^{2} e^{- 0.5 x_{1}^{2} - 0.5 x_{2}^{2}} - e^{- 0.5 x_{1}^{2} - 0.5 x_{2}^{2}} & - 1.0 x_{1} x_{2}^{3} e^{- 0.5 x_{1}^{2} - 0.5 x_{2}^{2}} + 3.0 x_{1} x_{2} e^{- 0.5 x_{1}^{2} - 0.5 x_{2}^{2}}\\end{matrix}\\right]$$"
       ],
       "metadata": {},
       "output_type": "pyout",
       "prompt_number": 165,
       "text": [
        "\u23a1                                                2         2                  \n",
        "\u23a2                                  3     - 0.5\u22c5x\u2081  - 0.5\u22c5x\u2082               - 0.\n",
        "\u23a2                          - 1.0\u22c5x\u2081 \u22c5x\u2082\u22c5\u212f                    + 3.0\u22c5x\u2081\u22c5x\u2082\u22c5\u212f    \n",
        "\u23a2                                                                             \n",
        "\u23a2                       2         2                    2         2            \n",
        "\u23a2        2   2  - 0.5\u22c5x\u2081  - 0.5\u22c5x\u2082          2  - 0.5\u22c5x\u2081  - 0.5\u22c5x\u2082          2  \n",
        "\u23a3- 1.0\u22c5x\u2081 \u22c5x\u2082 \u22c5\u212f                    + 1.0\u22c5x\u2081 \u22c5\u212f                    + 1.0\u22c5x\u2082 \u22c5\u212f\n",
        "\n",
        "    2         2                                                    2         2\n",
        "5\u22c5x\u2081  - 0.5\u22c5x\u2082                                      2   2  - 0.5\u22c5x\u2081  - 0.5\u22c5x\u2082 \n",
        "                                            - 1.0\u22c5x\u2081 \u22c5x\u2082 \u22c5\u212f                   \n",
        "                                                                              \n",
        "        2         2            2         2                                    \n",
        "- 0.5\u22c5x\u2081  - 0.5\u22c5x\u2082     - 0.5\u22c5x\u2081  - 0.5\u22c5x\u2082                                     \n",
        "                    - \u212f                                               - 1.0\u22c5x\u2081\n",
        "\n",
        "                    2         2                    2         2            2   \n",
        "         2  - 0.5\u22c5x\u2081  - 0.5\u22c5x\u2082          2  - 0.5\u22c5x\u2081  - 0.5\u22c5x\u2082     - 0.5\u22c5x\u2081  - \n",
        " + 1.0\u22c5x\u2081 \u22c5\u212f                    + 1.0\u22c5x\u2082 \u22c5\u212f                    - \u212f            \n",
        "                                                                              \n",
        "              2         2                      2         2                    \n",
        "   3  - 0.5\u22c5x\u2081  - 0.5\u22c5x\u2082               - 0.5\u22c5x\u2081  - 0.5\u22c5x\u2082                     \n",
        "\u22c5x\u2082 \u22c5\u212f                    + 3.0\u22c5x\u2081\u22c5x\u2082\u22c5\u212f                                       \n",
        "\n",
        "      2\u23a4\n",
        "0.5\u22c5x\u2082 \u23a5\n",
        "       \u23a5\n",
        "       \u23a5\n",
        "       \u23a5\n",
        "       \u23a5\n",
        "       \u23a6"
       ]
      }
     ],
     "prompt_number": 165
    },
    {
     "cell_type": "code",
     "collapsed": false,
     "input": [
      "# 3.3. Find the critical point of f\n",
      "critical_pts = sympy.solve([sympy.diff(f, x1), sympy.diff(f, x2)], [x1, x2])\n",
      "critical_pts"
     ],
     "language": "python",
     "metadata": {},
     "outputs": [
      {
       "latex": [
        "$$\\begin{bmatrix}\\begin{pmatrix}-1.0, & -1.0\\end{pmatrix}, & \\begin{pmatrix}-1.0, & 1.0\\end{pmatrix}, & \\begin{pmatrix}0.0, & 0.0\\end{pmatrix}, & \\begin{pmatrix}1.0, & -1.0\\end{pmatrix}, & \\begin{pmatrix}1.0, & 1.0\\end{pmatrix}\\end{bmatrix}$$"
       ],
       "metadata": {},
       "output_type": "pyout",
       "prompt_number": 164,
       "text": [
        "[(-1.0, -1.0), (-1.0, 1.0), (0.0, 0.0), (1.0, -1.0), (1.0, 1.0)]"
       ]
      }
     ],
     "prompt_number": 164
    },
    {
     "cell_type": "code",
     "collapsed": false,
     "input": [
      "# 3.4. Characterize the critical point as max / min / neither\n",
      "hess_eigen = [hess.subs([(x1, x1_), (x2, x2_)]).eigenvals() for x1_, x2_ in critical_pts]\n",
      "hess_eigen"
     ],
     "language": "python",
     "metadata": {},
     "outputs": [
      {
       "output_type": "stream",
       "stream": "stderr",
       "text": [
        "/home/bitnami/anaconda/lib/python2.7/site-packages/IPython/core/formatters.py:239: FormatterWarning: Exception in image/png formatter: \n",
        "\\begin{bmatrix}\\begin{Bmatrix}\\frac{147151776468577}{200000000000000} : 2\\end{Bmatrix}, & \\begin{Bmatrix}- \\frac{147151776468577}{200000000000000} : 2\\end{Bmatrix}, & \\begin{Bmatrix}-1 : 1, & 1 : 1\\end{Bmatrix}, & \\begin{Bmatrix}- \\frac{147151776468577}{200000000000000} : 2\\end{Bmatrix}, & \\begin{Bmatrix}\\frac{147151776468577}{200000000000000} : 2\\end{Bmatrix}\\end{bmatrix}\n",
        "^\n",
        "Unknown symbol: \\begin (at char 0), (line:1, col:1)\n",
        "  FormatterWarning,\n"
       ]
      },
      {
       "latex": [
        "$$\\begin{bmatrix}\\begin{Bmatrix}\\frac{147151776468577}{200000000000000} : 2\\end{Bmatrix}, & \\begin{Bmatrix}- \\frac{147151776468577}{200000000000000} : 2\\end{Bmatrix}, & \\begin{Bmatrix}-1 : 1, & 1 : 1\\end{Bmatrix}, & \\begin{Bmatrix}- \\frac{147151776468577}{200000000000000} : 2\\end{Bmatrix}, & \\begin{Bmatrix}\\frac{147151776468577}{200000000000000} : 2\\end{Bmatrix}\\end{bmatrix}$$"
       ],
       "metadata": {},
       "output_type": "pyout",
       "prompt_number": 169,
       "text": [
        "\u23a1\u23a7147151776468577   \u23ab  \u23a7-147151776468577    \u23ab                 \u23a7-14715177646857\n",
        "\u23a2\u23a8\u2500\u2500\u2500\u2500\u2500\u2500\u2500\u2500\u2500\u2500\u2500\u2500\u2500\u2500\u2500: 2\u23ac, \u23a8\u2500\u2500\u2500\u2500\u2500\u2500\u2500\u2500\u2500\u2500\u2500\u2500\u2500\u2500\u2500\u2500\u2500: 2\u23ac, {-1: 1, 1: 1}, \u23a8\u2500\u2500\u2500\u2500\u2500\u2500\u2500\u2500\u2500\u2500\u2500\u2500\u2500\u2500\u2500\n",
        "\u23a3\u23a9200000000000000   \u23ad  \u23a9 200000000000000    \u23ad                 \u23a9 20000000000000\n",
        "\n",
        "7    \u23ab  \u23a7147151776468577   \u23ab\u23a4\n",
        "\u2500\u2500: 2\u23ac, \u23a8\u2500\u2500\u2500\u2500\u2500\u2500\u2500\u2500\u2500\u2500\u2500\u2500\u2500\u2500\u2500: 2\u23ac\u23a5\n",
        "0    \u23ad  \u23a9200000000000000   \u23ad\u23a6"
       ]
      }
     ],
     "prompt_number": 169
    },
    {
     "cell_type": "code",
     "collapsed": false,
     "input": [
      "print \"Min: (-1, -1), (1, 1)\"\n",
      "print \"Max: (-1, 1), (1, -1)\"\n",
      "print \"Saddle point: (0, 0)\""
     ],
     "language": "python",
     "metadata": {},
     "outputs": [
      {
       "output_type": "stream",
       "stream": "stdout",
       "text": [
        "Min: (-1, -1), (1, 1)\n",
        "Max: (-1, 1), (1, -1)\n",
        "Saddle point: (0, 0)\n"
       ]
      }
     ],
     "prompt_number": 170
    },
    {
     "cell_type": "markdown",
     "metadata": {},
     "source": [
      "**Constraints**:\n",
      "$$g(x) = x_1^2+x_2^2 \\leq 10$$\n",
      "and \n",
      "$$h(x) = 2x_1 + 3x_2 = 5$$"
     ]
    },
    {
     "cell_type": "code",
     "collapsed": false,
     "input": [
      "# 3.4. Find the minimum with constraint using scipy.optimize.minimize\n",
      "def obj_f(x): \n",
      "    return - x[0] * x[1] * np.exp(- (x[0]**2 + x[1]**2) / 2.0 )\n",
      "def con1(x):\n",
      "    return -(x[0]**2 + x[1]**2 - 10)\n",
      "def con2(x):\n",
      "    return 2 * x[0] + 3 * x[1] - 5\n",
      "cons = ({'type': 'ineq', 'fun': con1},\n",
      "        {'type': 'eq', 'fun': con2})\n",
      "print \"Minimums under constraints: \", scipy.optimize.minimize(obj_f, [0.0, 0.0], constraints=cons).x"
     ],
     "language": "python",
     "metadata": {},
     "outputs": [
      {
       "output_type": "stream",
       "stream": "stdout",
       "text": [
        "Minimums under constraints:  [ 1.  1.]\n"
       ]
      }
     ],
     "prompt_number": 157
=======
       "output_type": "stream",
       "stream": "stdout",
       "text": [
        "(-1.00000000000000, -1.00000000000000)0.541341132946451\n",
        "(-1.00000000000000, 1.00000000000000)0.541341132946451\n",
        "(0.0, 0.0)-1\n",
        "(1.00000000000000, -1.00000000000000)0.541341132946451\n",
        "(1.00000000000000, 1.00000000000000)0.541341132946451\n"
       ]
      }
     ],
     "prompt_number": 46
>>>>>>> c99c942c7ae8e416b4d9af8cb6faa06e0a72355f
    },
    {
     "cell_type": "markdown",
     "metadata": {},
     "source": [
      "**Exercise 4 (20 points)**. Find the maximum likelihood function for a logistic regression. Load the file \"train.csv\" (located in this directory) into python.  This file is data from the survival data from the Titanic (from https://www.kaggle.com/).  You are to use a logistic regression to model survival as a function of gender, age and class (of travel). Find the maximum likelihood estimator of $\\beta$ by numerical optimization using stochastic gradient descent as follows:\n",
      "\n",
      "1. Stochastic gradient descent.  In this method, gradient descent is used essentially by fitting *one data point at a time*.  Recall the usual gradient descent step:\n",
      "\n",
      "$$\\beta_{i+1} = \\beta_i - \\nabla \\ell(\\beta_i)$$\n",
      "\n",
      "where\n",
      "\n",
      "$$\\nabla \\ell(\\beta_i) = \\sum\\limits_{j=1}^n \\nabla\\ell(\\beta_i,x_j,y_j)$$\n",
      "\n",
      "and $\\ell$ is the log-likelihood function.  All of the data is used to make the next step toward the optimal $\\beta$.  In stochastic gradient descent, only one point at a time is used to determine the next $\\beta$:\n",
      "\n",
      "$$\\beta_{i+1} = \\beta_i - \\alpha\\nabla \\ell(\\beta_i,x_j,y_j)$$\n",
      "\n",
      "where $\\alpha$ is the step size.  For simplicity, we'll take a constant $\\alpha=1$.\n",
      "\n",
      "Implement the following stochastic gradient algorithm:\n",
      " \n",
      "   a. Shuffle data points (i.e. randomly permute the order of the $(x_j,y_j)$\n",
      "   \n",
      "   b. Refine beta using the iterative formula above over each data point. \n",
      "   \n",
      "   c. Repeat a and b until convergence is reached.\n",
      " \n",
      "Apply the algorithm to the given data set to find the best-fit logistic regression coefficients.  Do not forget that your optimization should include a tolerance and a limit on the number of iterations."
     ]
    },
    {
     "cell_type": "code",
     "collapsed": false,
     "input": [
      "# 4.a. Load and clean data\n",
      "data = pd.read_csv('train.csv').loc[:, ['Survived', 'Pclass', 'Sex', 'Age']]\n",
      "data.insert(1, 'Intercept', 1)\n",
      "\n",
      "# Convert Sex to Female (0 - 1)\n",
      "data['Female'] = ((data['Sex'] == 'female') & ~(data['Sex'].isnull())) * 1\n",
      "data = data.drop('Sex', axis=1)\n",
      "# Center and scale age\n",
      "data['Age'] = (data['Age'] - data['Age'].mean()) / data['Age'].std()"
     ],
     "language": "python",
     "metadata": {},
     "outputs": [],
     "prompt_number": 171
    },
    {
     "cell_type": "markdown",
     "metadata": {},
     "source": [
      "Calculate the gradient:\n",
      "$$\\nabla \\ell(\\beta_i) = \\sum\\limits_{j=1}^n \\nabla\\ell(\\beta_i,x_j,y_j) = \\frac{\\partial ll}{\\partial \\beta_i} = \\sum_{j=1}^{n} \\left( y_j - p(x_j)\\right) x_{ji}; \\qquad \\text{where } p(x_j) = \\frac{1}{1 + \\exp^{-\\beta'x_j}} $$\n",
      "\n",
      "$$\\beta_{n+1} = \\beta_n + \\alpha \\nabla \\ell(\\beta_n, x_j, y_j) = \\beta_n + \\left( y_j - p(x_j)\\right) x_{j} $$"
     ]
    },
    {
     "cell_type": "code",
     "collapsed": false,
     "input": [
      "def stochastic_gradient_descent(data, start=np.repeat(0.0, 4), alpha=1, max_iter=1000, tol=1e-6, print_inner=False, print_outer=False):\n",
      "    beta_current = start\n",
      "    delta = np.repeat(1.0, 4)\n",
      "    iter_count = 0\n",
      "    \n",
      "    # while loop to repeat step a and b (below) until covergence\n",
      "    while (iter_count < max_iter) and (any(np.abs(delta) > tol)):\n",
      "        \n",
      "        # Step a: Shuffle data\n",
      "        yx = data.loc[np.random.permutation(data.index), :].dropna()\n",
      "        y = yx.loc[:, 'Survived']\n",
      "        x = yx.loc[:, ['Intercept', 'Pclass', 'Female', 'Age']]\n",
      "        \n",
      "        # Step b: Refine beta using the iterative formula for each data point\n",
      "        inner_count = 0\n",
      "        for j in range(len(yx.index)):\n",
      "            # Calculating delta for each data point\n",
      "            p_j = 1 / ( 1 + np.exp(- beta_current.dot(x.iloc[j, :].values)) )\n",
      "            gradient = (y.iloc[j] - p_j) * x.iloc[j, :].T\n",
      "            delta = alpha * gradient\n",
      "            # Update\n",
      "            beta_new = beta_current + delta # Doing gradient ascent, so + delta instead of - delta\n",
      "            beta_current = beta_new\n",
      "        \n",
      "        # Increment count, print result so far\n",
      "        iter_count += 1\n",
      "        if iter_count % 100 == 0 and print_outer:\n",
      "            print \"outer:\", iter_count, beta_current, delta, beta_new, \"\\n\"\n",
      "    return iter_count, beta_new"
     ],
     "language": "python",
     "metadata": {},
     "outputs": [],
     "prompt_number": 160
    },
    {
     "cell_type": "code",
     "collapsed": false,
     "input": [
      "stochastic_gradient_descent(data=data, print_outer=True)"
     ],
     "language": "python",
     "metadata": {},
     "outputs": [
      {
       "metadata": {},
       "output_type": "pyout",
       "prompt_number": 161,
       "text": [
        "(73, Intercept    2.372416\n",
        " Pclass      -6.101987\n",
        " Female       6.557542\n",
        " Age         -1.322638\n",
        " dtype: float64)"
       ]
      }
     ],
     "prompt_number": 161
    }
   ],
   "metadata": {}
  }
 ]
}