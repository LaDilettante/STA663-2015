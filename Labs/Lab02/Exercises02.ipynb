{
 "metadata": {
  "name": "",
<<<<<<< HEAD
<<<<<<< HEAD
  "signature": "sha256:9d3ddbf18866e321517e02a50e33187661459adf8164fd0d44e5dab881bba6f5"
=======
  "signature": "sha256:89917cde2864b105f13e756f619e475ed6b0423776b7e64f83f55bccef69bfb6"
>>>>>>> 8ad8940c2da936619fc155ead5cff8ac90e265fa
=======
  "signature": "sha256:9d3ddbf18866e321517e02a50e33187661459adf8164fd0d44e5dab881bba6f5"
>>>>>>> 27983cf412684dda0ce9d17c39096def1604af24
 },
 "nbformat": 3,
 "nbformat_minor": 0,
 "worksheets": [
  {
   "cells": [
    {
     "cell_type": "markdown",
     "metadata": {},
     "source": [
      "Computer lab 02\n",
      "----\n",
      "\n",
      "These exercises provide more practice in data manipulation and working with numpy arrays."
     ]
    },
    {
     "cell_type": "code",
     "collapsed": false,
     "input": [
      "import os\n",
      "import sys\n",
      "import glob\n",
      "import matplotlib.pyplot as plt\n",
      "import numpy as np\n",
      "import pandas as pd\n",
      "%matplotlib inline\n",
      "%precision 4\n",
      "plt.style.use('ggplot')"
     ],
     "language": "python",
     "metadata": {},
     "outputs": [],
<<<<<<< HEAD
<<<<<<< HEAD
     "prompt_number": 226
=======
     "prompt_number": 166
>>>>>>> 8ad8940c2da936619fc155ead5cff8ac90e265fa
=======
     "prompt_number": 226
>>>>>>> 27983cf412684dda0ce9d17c39096def1604af24
    },
    {
     "cell_type": "markdown",
     "metadata": {},
     "source": [
      "**Exercise 1 [10 pts]**. Write a 12 by 12 times table chart without explicit looping (i.e. no for, while or comprehensions). Your code should generate this output:\n",
      "\n",
      "```python\n",
      "[[  1   2   3   4   5   6   7   8   9  10  11  12]\n",
      " [  2   4   6   8  10  12  14  16  18  20  22  24]\n",
      " [  3   6   9  12  15  18  21  24  27  30  33  36]\n",
      " [  4   8  12  16  20  24  28  32  36  40  44  48]\n",
      " [  5  10  15  20  25  30  35  40  45  50  55  60]\n",
      " [  6  12  18  24  30  36  42  48  54  60  66  72]\n",
      " [  7  14  21  28  35  42  49  56  63  70  77  84]\n",
      " [  8  16  24  32  40  48  56  64  72  80  88  96]\n",
      " [  9  18  27  36  45  54  63  72  81  90  99 108]\n",
      " [ 10  20  30  40  50  60  70  80  90 100 110 120]\n",
      " [ 11  22  33  44  55  66  77  88  99 110 121 132]\n",
      " [ 12  24  36  48  60  72  84  96 108 120 132 144]]\n",
      "```"
     ]
    },
    {
     "cell_type": "code",
     "collapsed": false,
     "input": [
      "x = np.arange(1, 13)\n",
      "x[:, np.newaxis] * x[np.newaxis, :]"
     ],
     "language": "python",
     "metadata": {},
     "outputs": [
      {
       "metadata": {},
       "output_type": "pyout",
<<<<<<< HEAD
<<<<<<< HEAD
       "prompt_number": 227,
=======
       "prompt_number": 167,
>>>>>>> 8ad8940c2da936619fc155ead5cff8ac90e265fa
=======
       "prompt_number": 227,
>>>>>>> 27983cf412684dda0ce9d17c39096def1604af24
       "text": [
        "array([[  1,   2,   3,   4,   5,   6,   7,   8,   9,  10,  11,  12],\n",
        "       [  2,   4,   6,   8,  10,  12,  14,  16,  18,  20,  22,  24],\n",
        "       [  3,   6,   9,  12,  15,  18,  21,  24,  27,  30,  33,  36],\n",
        "       [  4,   8,  12,  16,  20,  24,  28,  32,  36,  40,  44,  48],\n",
        "       [  5,  10,  15,  20,  25,  30,  35,  40,  45,  50,  55,  60],\n",
        "       [  6,  12,  18,  24,  30,  36,  42,  48,  54,  60,  66,  72],\n",
        "       [  7,  14,  21,  28,  35,  42,  49,  56,  63,  70,  77,  84],\n",
        "       [  8,  16,  24,  32,  40,  48,  56,  64,  72,  80,  88,  96],\n",
        "       [  9,  18,  27,  36,  45,  54,  63,  72,  81,  90,  99, 108],\n",
        "       [ 10,  20,  30,  40,  50,  60,  70,  80,  90, 100, 110, 120],\n",
        "       [ 11,  22,  33,  44,  55,  66,  77,  88,  99, 110, 121, 132],\n",
        "       [ 12,  24,  36,  48,  60,  72,  84,  96, 108, 120, 132, 144]])"
       ]
      }
     ],
<<<<<<< HEAD
<<<<<<< HEAD
     "prompt_number": 227
=======
     "prompt_number": 167
>>>>>>> 8ad8940c2da936619fc155ead5cff8ac90e265fa
=======
     "prompt_number": 227
>>>>>>> 27983cf412684dda0ce9d17c39096def1604af24
    },
    {
     "cell_type": "markdown",
     "metadata": {},
     "source": [
      "**Exercise 2 [10 pts]**. Create a new matrix that normalizes the given matrix so that all *columns* sum to 1.0 without using any loops. Create another matrix so that all *rows* sum to 1.0. In other words, if the 3 matrices were `xs` (given), `ys` (column normalized) and `zs` (row normalized), we would have \n",
      "\n",
      "`ys.sum(axis=0)` = `[ 1.,  1.,  1.,  1.,  1.,  1.]` \n",
      "\n",
      "and \n",
      "\n",
      "`zs.sum(axis=1)` = `[ 1.,  1.,  1.,  1.]`\n",
      "\n",
      "Start by creating the following matrix `xs`\n",
      "```python\n",
      "[[  1.   2.   3.   4.   5.   6.]\n",
      " [  7.   8.   9.  10.  11.  12.]\n",
      " [ 13.  14.  15.  16.  17.  18.]\n",
      " [ 19.  20.  21.  22.  23.  24.]]\n",
      "```"
     ]
    },
    {
     "cell_type": "code",
     "collapsed": false,
     "input": [
      "xs = np.reshape(np.arange(1, 25, dtype=\"float\"), (4, 6))\n",
      "print xs\n",
      "ys = xs / np.sum(xs, axis=0)\n",
      "print ys.sum(axis=0)\n",
      "zs = xs / np.sum(xs, axis=1)[:, np.newaxis]\n",
      "print zs.sum(axis=1)"
     ],
     "language": "python",
     "metadata": {},
     "outputs": [
      {
       "output_type": "stream",
       "stream": "stdout",
       "text": [
        "[[  1.   2.   3.   4.   5.   6.]\n",
        " [  7.   8.   9.  10.  11.  12.]\n",
        " [ 13.  14.  15.  16.  17.  18.]\n",
        " [ 19.  20.  21.  22.  23.  24.]]\n",
        "[ 1.  1.  1.  1.  1.  1.]\n",
        "[ 1.  1.  1.  1.]\n"
       ]
      }
     ],
<<<<<<< HEAD
<<<<<<< HEAD
     "prompt_number": 228
=======
     "prompt_number": 168
>>>>>>> 8ad8940c2da936619fc155ead5cff8ac90e265fa
=======
     "prompt_number": 228
>>>>>>> 27983cf412684dda0ce9d17c39096def1604af24
    },
    {
     "cell_type": "markdown",
     "metadata": {},
     "source": [
      "**Exercise 3 [10 pts]**. In this exercise, we will practice using Pandas dataframes to explore and summarize a data set `heart`.\n",
      "\n",
      "This data contains the survival time after receiving a heart transplant, the age of the patient and whether or not the survival time was censored.\n",
      "\n",
      "- Number of Observations - 69\n",
      "- Number of Variables - 3\n",
      "\n",
      "Variable name definitions::\n",
      "\n",
      "- survival - Days after surgery until death\n",
      "- censors - indicates if an observation is censored. 1 is uncensored\n",
      "- age - age at the time of surgery\n",
      "\n",
      "Answer the following questions with respect to the `heart` data set:\n",
      "\n",
      "- How many patients were censored?\n",
      "- What is the correlation coefficient between age and survival for uncensored patients?\n",
      "- What is the average age for censored and uncensored patients?\n",
      "- What is the average survival time for censored and uncensored patients under the age of 45?\n",
      "- What is the survival time of the youngest and oldest uncensored patient?"
     ]
    },
    {
     "cell_type": "code",
     "collapsed": false,
     "input": [
      "import statsmodels.api as sm\n",
      "heart = sm.datasets.heart.load_pandas().data\n",
      "\n",
      "heart.head(n=6)"
     ],
     "language": "python",
     "metadata": {},
     "outputs": [
      {
       "html": [
        "<div style=\"max-height:1000px;max-width:1500px;overflow:auto;\">\n",
        "<table border=\"1\" class=\"dataframe\">\n",
        "  <thead>\n",
        "    <tr style=\"text-align: right;\">\n",
        "      <th></th>\n",
        "      <th>survival</th>\n",
        "      <th>censors</th>\n",
        "      <th>age</th>\n",
        "    </tr>\n",
        "  </thead>\n",
        "  <tbody>\n",
        "    <tr>\n",
        "      <th>0</th>\n",
        "      <td>  15</td>\n",
        "      <td> 1</td>\n",
        "      <td> 54.3</td>\n",
        "    </tr>\n",
        "    <tr>\n",
        "      <th>1</th>\n",
        "      <td>   3</td>\n",
        "      <td> 1</td>\n",
        "      <td> 40.4</td>\n",
        "    </tr>\n",
        "    <tr>\n",
        "      <th>2</th>\n",
        "      <td> 624</td>\n",
        "      <td> 1</td>\n",
        "      <td> 51.0</td>\n",
        "    </tr>\n",
        "    <tr>\n",
        "      <th>3</th>\n",
        "      <td>  46</td>\n",
        "      <td> 1</td>\n",
        "      <td> 42.5</td>\n",
        "    </tr>\n",
        "    <tr>\n",
        "      <th>4</th>\n",
        "      <td> 127</td>\n",
        "      <td> 1</td>\n",
        "      <td> 48.0</td>\n",
        "    </tr>\n",
        "    <tr>\n",
        "      <th>5</th>\n",
        "      <td>  64</td>\n",
        "      <td> 1</td>\n",
        "      <td> 54.6</td>\n",
        "    </tr>\n",
        "  </tbody>\n",
        "</table>\n",
        "</div>"
       ],
       "metadata": {},
       "output_type": "pyout",
<<<<<<< HEAD
<<<<<<< HEAD
       "prompt_number": 229,
=======
       "prompt_number": 169,
>>>>>>> 8ad8940c2da936619fc155ead5cff8ac90e265fa
=======
       "prompt_number": 229,
>>>>>>> 27983cf412684dda0ce9d17c39096def1604af24
       "text": [
        "   survival  censors   age\n",
        "0        15        1  54.3\n",
        "1         3        1  40.4\n",
        "2       624        1  51.0\n",
        "3        46        1  42.5\n",
        "4       127        1  48.0\n",
        "5        64        1  54.6"
       ]
      }
     ],
<<<<<<< HEAD
<<<<<<< HEAD
     "prompt_number": 229
=======
     "prompt_number": 169
>>>>>>> 8ad8940c2da936619fc155ead5cff8ac90e265fa
=======
     "prompt_number": 229
>>>>>>> 27983cf412684dda0ce9d17c39096def1604af24
    },
    {
     "cell_type": "code",
     "collapsed": false,
     "input": [
      "import statsmodels.api as sm\n",
      "heart = sm.datasets.heart.load_pandas().data\n",
      "\n",
      "# How many patients were censored\n",
      "len(heart['censors']) - sum(heart['censors'])"
     ],
     "language": "python",
     "metadata": {},
     "outputs": [
      {
       "metadata": {},
       "output_type": "pyout",
<<<<<<< HEAD
<<<<<<< HEAD
       "prompt_number": 230,
=======
       "prompt_number": 170,
>>>>>>> 8ad8940c2da936619fc155ead5cff8ac90e265fa
=======
       "prompt_number": 230,
>>>>>>> 27983cf412684dda0ce9d17c39096def1604af24
       "text": [
        "24.0000"
       ]
      }
     ],
<<<<<<< HEAD
<<<<<<< HEAD
     "prompt_number": 230
=======
     "prompt_number": 170
>>>>>>> 8ad8940c2da936619fc155ead5cff8ac90e265fa
=======
     "prompt_number": 230
>>>>>>> 27983cf412684dda0ce9d17c39096def1604af24
    },
    {
     "cell_type": "code",
     "collapsed": false,
     "input": [
      "# Correlation coefficient between age and survival for uncensored patients\n",
      "df_uncensored = heart[heart['censors'] == 1]\n",
      "# Why are these two different?\n",
<<<<<<< HEAD
<<<<<<< HEAD
      "print np.corrcoef(df_uncensored['age'], df_uncensored['survival'])"
=======
      "print np.corrcoef(df_uncensored['age'], df_uncensored['survival'])\n",
      "print np.correlate(df_uncensored['age'], df_uncensored['survival'])\n",
      "these two are different"
>>>>>>> 8ad8940c2da936619fc155ead5cff8ac90e265fa
=======
      "print np.corrcoef(df_uncensored['age'], df_uncensored['survival'])"
>>>>>>> 27983cf412684dda0ce9d17c39096def1604af24
     ],
     "language": "python",
     "metadata": {},
     "outputs": [
      {
<<<<<<< HEAD
<<<<<<< HEAD
=======
>>>>>>> 27983cf412684dda0ce9d17c39096def1604af24
       "output_type": "stream",
       "stream": "stdout",
       "text": [
        "[[ 1.      0.0033]\n",
        " [ 0.0033  1.    ]]\n",
        "[ 487545.4]\n"
       ]
      }
     ],
     "prompt_number": 231
<<<<<<< HEAD
=======
       "ename": "SyntaxError",
       "evalue": "invalid syntax (<ipython-input-225-a6bfee34c7a5>, line 6)",
       "output_type": "pyerr",
       "traceback": [
        "\u001b[1;36m  File \u001b[1;32m\"<ipython-input-225-a6bfee34c7a5>\"\u001b[1;36m, line \u001b[1;32m6\u001b[0m\n\u001b[1;33m    these two are different\u001b[0m\n\u001b[1;37m            ^\u001b[0m\n\u001b[1;31mSyntaxError\u001b[0m\u001b[1;31m:\u001b[0m invalid syntax\n"
       ]
      }
     ],
     "prompt_number": 225
>>>>>>> 8ad8940c2da936619fc155ead5cff8ac90e265fa
=======
>>>>>>> 27983cf412684dda0ce9d17c39096def1604af24
    },
    {
     "cell_type": "code",
     "collapsed": false,
     "input": [
      "# What is the average age for censored and uncensored patients?\n",
      "print heart.loc[heart['censors']==0, \"age\"].mean()\n",
      "print heart.loc[heart['censors']==1, \"age\"].mean()\n",
      "\n",
      "heart.groupby(['censors'])['age'].mean()"
     ],
     "language": "python",
     "metadata": {},
     "outputs": [
      {
       "output_type": "stream",
       "stream": "stdout",
       "text": [
        "41.7291666667\n",
        "48.4844444444\n"
       ]
      },
      {
       "metadata": {},
       "output_type": "pyout",
<<<<<<< HEAD
<<<<<<< HEAD
       "prompt_number": 232,
=======
       "prompt_number": 172,
>>>>>>> 8ad8940c2da936619fc155ead5cff8ac90e265fa
=======
       "prompt_number": 232,
>>>>>>> 27983cf412684dda0ce9d17c39096def1604af24
       "text": [
        "censors\n",
        "0          41.729167\n",
        "1          48.484444\n",
        "Name: age, dtype: float64"
       ]
      }
     ],
<<<<<<< HEAD
<<<<<<< HEAD
     "prompt_number": 232
=======
     "prompt_number": 172
>>>>>>> 8ad8940c2da936619fc155ead5cff8ac90e265fa
=======
     "prompt_number": 232
>>>>>>> 27983cf412684dda0ce9d17c39096def1604af24
    },
    {
     "cell_type": "code",
     "collapsed": false,
     "input": [
      "# What is the average survival time for censored and uncensored patients \n",
      "# under the age of 45?\n",
<<<<<<< HEAD
<<<<<<< HEAD
      "print heart.groupby('censors')['survival']\n",
=======
>>>>>>> 8ad8940c2da936619fc155ead5cff8ac90e265fa
=======
      "print heart.groupby('censors')['survival']\n",
>>>>>>> 27983cf412684dda0ce9d17c39096def1604af24
      "heart[heart['age'] < 45].groupby('censors')['survival'].mean()"
     ],
     "language": "python",
     "metadata": {},
     "outputs": [
      {
<<<<<<< HEAD
<<<<<<< HEAD
=======
>>>>>>> 27983cf412684dda0ce9d17c39096def1604af24
       "output_type": "stream",
       "stream": "stdout",
       "text": [
        "<pandas.core.groupby.SeriesGroupBy object at 0x7faa62c00c90>\n"
       ]
      },
      {
       "metadata": {},
       "output_type": "pyout",
       "prompt_number": 271,
<<<<<<< HEAD
=======
       "metadata": {},
       "output_type": "pyout",
       "prompt_number": 173,
>>>>>>> 8ad8940c2da936619fc155ead5cff8ac90e265fa
=======
>>>>>>> 27983cf412684dda0ce9d17c39096def1604af24
       "text": [
        "censors\n",
        "0          712.818182\n",
        "1          169.909091\n",
        "Name: survival, dtype: float64"
       ]
      }
     ],
<<<<<<< HEAD
<<<<<<< HEAD
     "prompt_number": 271
=======
     "prompt_number": 173
>>>>>>> 8ad8940c2da936619fc155ead5cff8ac90e265fa
=======
     "prompt_number": 271
>>>>>>> 27983cf412684dda0ce9d17c39096def1604af24
    },
    {
     "cell_type": "code",
     "collapsed": false,
     "input": [
      "# What is the survival time of the youngest and oldest uncensored patient?\n",
      "min_age = min(df_uncensored['age'])\n",
      "max_age = max(df_uncensored['age'])\n",
      "print \"min age is\", min_age, \"max age is\", max_age\n",
      "df_uncensored.loc[(df_uncensored['age']==min_age) | (df_uncensored['age']==max_age), \n",
      "                  'survival']"
     ],
     "language": "python",
     "metadata": {},
     "outputs": [
      {
       "output_type": "stream",
       "stream": "stdout",
       "text": [
        "min age is 19.7 max age is 64.5\n"
       ]
      },
      {
       "metadata": {},
       "output_type": "pyout",
<<<<<<< HEAD
<<<<<<< HEAD
       "prompt_number": 234,
=======
       "prompt_number": 174,
>>>>>>> 8ad8940c2da936619fc155ead5cff8ac90e265fa
=======
       "prompt_number": 234,
>>>>>>> 27983cf412684dda0ce9d17c39096def1604af24
       "text": [
        "17     60\n",
        "41    228\n",
        "Name: survival, dtype: float64"
       ]
      }
     ],
<<<<<<< HEAD
<<<<<<< HEAD
     "prompt_number": 234
=======
     "prompt_number": 174
>>>>>>> 8ad8940c2da936619fc155ead5cff8ac90e265fa
=======
     "prompt_number": 234
>>>>>>> 27983cf412684dda0ce9d17c39096def1604af24
    },
    {
     "cell_type": "markdown",
     "metadata": {},
     "source": [
      "**Exercise 4 [20 pts]**. Normalize the given matrix $M$ so that all rows sum to 1.0 (as in Exercise 2). This can then be considered as a transition matrix $P$ for a Markov chain. Find the stationary distribution of this matrix in the following ways using `numpy` and `numpy.linalg` (or `scipy.linalg`):\n",
      "\n",
      "- By repeated matrix multiplication of a random probabilty vector $v$ (a row vector normalized to sum to 1.0) with $P$ using matrix multiplication with `np.dot`.\n",
      "- By raising the matrix $P$ to some large power unitl it doesn't change with higher powers (see `np.linalg.matrix_power`) and then calculating $vP$\n",
      "- From the equation for stationarity $wP = w$, we can see that $w$ must be a left eigenvector of $P$ with eigenvalue $1$ (Note: np.linalg.eig returns the right eigenvectors, but the left eighenvector of a matrix is the right eigenvector of the transposed matrix). Use this to find $w$ using `np.linalg.eig`.\n",
      "- Suppose $w = (w_1, w_2, w_3)$. Then from $wP = w$, we have:\n",
      "\\begin{align}\n",
      "w_1 P_{11} + w_2 P_{21} + w_3 P_{31} &= w_1 \\\\\n",
      "w_1 P_{12} + w_2 P_{22} + w_3 P_{32} &= w_2 \\\\\n",
      "w_1 P_{13} + w_2 P_{23} + w_3 P_{331} &= w_3 \\\\\n",
      "\\end{align}\n",
      "This is a singular system, but we also know that $w_1 + w_2 + w_3 = 1$. Use these facts to set up a linear system of equations that can be solved with `np.linalg.solve` to find $w$.\n",
      "\n",
      "Given matrix $M$\n",
      "```python\n",
      "      [[7, 8, 8],\n",
      "       [1, 3, 8],\n",
      "       [9, 2, 1]]\n",
      "```"
     ]
    },
    {
     "cell_type": "code",
     "collapsed": false,
     "input": [
      "M = np.array([[7, 8, 8], \n",
      "              [1, 3, 8],\n",
      "              [9, 2, 1]], dtype=\"float\")\n",
<<<<<<< HEAD
<<<<<<< HEAD
      "\n",
      "P = M / M.sum(axis=1)[:, np.newaxis]\n",
      "print P"
=======
      "\n",
      "P = M / M.sum(axis=1)[:, np.newaxis]\n",
      "print P"
     ],
     "language": "python",
     "metadata": {},
     "outputs": [
      {
       "output_type": "stream",
       "stream": "stdout",
       "text": [
        "[[ 0.3043  0.3478  0.3478]\n",
        " [ 0.0833  0.25    0.6667]\n",
        " [ 0.75    0.1667  0.0833]]\n"
       ]
      }
     ],
     "prompt_number": 235
    },
    {
     "cell_type": "code",
     "collapsed": false,
     "input": [
      "from functools import reduce\n",
      "# By repeated matrix multiplication of a random probabilty vector v (a row vector normalized to sum to 1.0) \n",
      "# with P using matrix multiplication with np.dot.\n",
      "v = np.random.random(3)\n",
      "v = v / sum(v)\n",
      "\n",
      "print reduce(np.dot, [v] + [P for i in range(9)])\n",
      "print reduce(np.dot, [v] + [P for i in range(10)])"
>>>>>>> 27983cf412684dda0ce9d17c39096def1604af24
     ],
     "language": "python",
     "metadata": {},
     "outputs": [
      {
       "output_type": "stream",
       "stream": "stdout",
       "text": [
<<<<<<< HEAD
        "[[ 0.3043  0.3478  0.3478]\n",
        " [ 0.0833  0.25    0.6667]\n",
        " [ 0.75    0.1667  0.0833]]\n"
       ]
      }
     ],
     "prompt_number": 235
=======
        "[ 0.3986  0.2606  0.3408]\n",
        "[ 0.3986  0.2606  0.3408]\n"
       ]
      }
     ],
     "prompt_number": 241
>>>>>>> 27983cf412684dda0ce9d17c39096def1604af24
    },
    {
     "cell_type": "code",
     "collapsed": false,
     "input": [
<<<<<<< HEAD
      "from functools import reduce\n",
      "# By repeated matrix multiplication of a random probabilty vector v (a row vector normalized to sum to 1.0) \n",
      "# with P using matrix multiplication with np.dot.\n",
      "v = np.random.random(3)\n",
      "v = v / sum(v)\n",
      "\n",
      "print reduce(np.dot, [v] + [P for i in range(9)])\n",
      "print reduce(np.dot, [v] + [P for i in range(10)])"
=======
      "\n",
      "P = M / M.sum(axis=1)[:, np.newaxis]\n",
      "print P"
>>>>>>> 8ad8940c2da936619fc155ead5cff8ac90e265fa
=======
      "# By raising the matrix P to some large power unitl it doesn't change with \n",
      "# higher powers (see np.linalg.matrix_power) and then calculating vP\n",
      "import numpy.linalg as la\n",
      "print v.dot(la.matrix_power(P, 10))"
     ],
     "language": "python",
     "metadata": {},
     "outputs": [
      {
       "output_type": "stream",
       "stream": "stdout",
       "text": [
        "[ 0.3986  0.2606  0.3408]\n"
       ]
      }
     ],
     "prompt_number": 237
    },
    {
     "cell_type": "code",
     "collapsed": false,
     "input": [
      "# From the equation for stationarity wP=w, we can see that w must be a \n",
      "# left eigenvector of P with eigenvalue 1\n",
      "u, V = np.linalg.eig(P.T)\n",
      "\n",
      "res = np.real_if_close(V[:,0])\n",
      "print res / res.sum() # Must normalize because numpy.linalg.eig returns eigenvector of length 1"
     ],
     "language": "python",
     "metadata": {},
     "outputs": [
      {
       "output_type": "stream",
       "stream": "stdout",
       "text": [
        "[ 0.3986  0.2606  0.3408]\n"
       ]
      }
     ],
     "prompt_number": 266
    },
    {
     "cell_type": "code",
     "collapsed": false,
     "input": [
      "# Use these facts to set up a linear system of equations that can be solved \n",
      "# with np.linalg.solve to find w.\n",
      "P2 = P.T.copy()\n",
      "P2[0, 0] = P[0, 0] - 1\n",
      "P2[1, 1] = P[1, 1] - 1\n",
      "P2[2] = [1., 1., 1.]\n",
      "\n",
      "la.solve(P2, np.array([0, 0, 1]))"
>>>>>>> 27983cf412684dda0ce9d17c39096def1604af24
     ],
     "language": "python",
     "metadata": {},
     "outputs": [
      {
<<<<<<< HEAD
       "output_type": "stream",
       "stream": "stdout",
       "text": [
<<<<<<< HEAD
        "[ 0.3986  0.2606  0.3408]\n",
        "[ 0.3986  0.2606  0.3408]\n"
       ]
      }
     ],
     "prompt_number": 241
=======
        "[[ 0.3043  0.3478  0.3478]\n",
        " [ 0.0833  0.25    0.6667]\n",
        " [ 0.75    0.1667  0.0833]]\n"
       ]
      }
     ],
     "prompt_number": 201
>>>>>>> 8ad8940c2da936619fc155ead5cff8ac90e265fa
    },
    {
     "cell_type": "code",
     "collapsed": false,
     "input": [
<<<<<<< HEAD
      "# By raising the matrix P to some large power unitl it doesn't change with \n",
      "# higher powers (see np.linalg.matrix_power) and then calculating vP\n",
      "import numpy.linalg as la\n",
      "print v.dot(la.matrix_power(P, 10))"
     ],
     "language": "python",
     "metadata": {},
     "outputs": [
      {
       "output_type": "stream",
       "stream": "stdout",
       "text": [
        "[ 0.3986  0.2606  0.3408]\n"
       ]
      }
     ],
     "prompt_number": 237
    },
    {
     "cell_type": "code",
     "collapsed": false,
     "input": [
      "# From the equation for stationarity wP=w, we can see that w must be a \n",
      "# left eigenvector of P with eigenvalue 1\n",
      "u, V = np.linalg.eig(P.T)\n",
      "\n",
      "res = np.real_if_close(V[:,0])\n",
      "print res / res.sum() # Must normalize because numpy.linalg.eig returns eigenvector of length 1"
=======
      "from functools import reduce\n",
      "# By repeated matrix multiplication of a random probabilty vector v (a row vector normalized to sum to 1.0) \n",
      "# with P using matrix multiplication with np.dot.\n",
      "v = np.random.random(3)\n",
      "v = v / sum(v)\n",
      "\n",
      "print reduce(np.dot, [v] + [P for i in range(9)])\n",
      "print reduce(np.dot, [v] + [P for i in range(10)])"
>>>>>>> 8ad8940c2da936619fc155ead5cff8ac90e265fa
     ],
     "language": "python",
     "metadata": {},
     "outputs": [
      {
       "output_type": "stream",
       "stream": "stdout",
       "text": [
<<<<<<< HEAD
=======
        "[ 0.3986  0.2606  0.3408]\n",
>>>>>>> 8ad8940c2da936619fc155ead5cff8ac90e265fa
        "[ 0.3986  0.2606  0.3408]\n"
       ]
      }
     ],
<<<<<<< HEAD
     "prompt_number": 266
=======
     "prompt_number": 202
    },
    {
     "cell_type": "code",
     "collapsed": false,
     "input": [
      "# By raising the matrix P to some large power unitl it doesn't change with \n",
      "# higher powers (see np.linalg.matrix_power) and then calculating vP\n",
      "import numpy.linalg as la\n",
      "print v.dot(la.matrix_power(P, 10))"
     ],
     "language": "python",
     "metadata": {},
     "outputs": [
      {
       "output_type": "stream",
       "stream": "stdout",
       "text": [
        "[ 0.3986  0.2606  0.3408]\n"
       ]
      }
     ],
     "prompt_number": 218
    },
    {
     "cell_type": "code",
     "collapsed": false,
     "input": [
      "# From the equation for stationarity wP=w, we can see that w must be a \n",
      "# left eigenvector of P with eigenvalue 1\n",
      "u, V = la.eig(P.T)\n",
      "print u\n",
      "print V not the same result"
     ],
     "language": "python",
     "metadata": {},
     "outputs": [
      {
       "ename": "SyntaxError",
       "evalue": "invalid syntax (<ipython-input-224-158de7ea65e6>, line 5)",
       "output_type": "pyerr",
       "traceback": [
        "\u001b[1;36m  File \u001b[1;32m\"<ipython-input-224-158de7ea65e6>\"\u001b[1;36m, line \u001b[1;32m5\u001b[0m\n\u001b[1;33m    print V not the same result\u001b[0m\n\u001b[1;37m                  ^\u001b[0m\n\u001b[1;31mSyntaxError\u001b[0m\u001b[1;31m:\u001b[0m invalid syntax\n"
       ]
      }
     ],
     "prompt_number": 224
>>>>>>> 8ad8940c2da936619fc155ead5cff8ac90e265fa
    },
    {
     "cell_type": "code",
     "collapsed": false,
     "input": [
      "# Use these facts to set up a linear system of equations that can be solved \n",
      "# with np.linalg.solve to find w.\n",
      "P2 = P.T.copy()\n",
      "P2[0, 0] = P[0, 0] - 1\n",
      "P2[1, 1] = P[1, 1] - 1\n",
      "P2[2] = [1., 1., 1.]\n",
      "\n",
      "la.solve(P2, np.array([0, 0, 1]))"
     ],
     "language": "python",
     "metadata": {},
     "outputs": [
      {
       "metadata": {},
       "output_type": "pyout",
<<<<<<< HEAD
       "prompt_number": 268,
=======
       "prompt_number": 209,
>>>>>>> 8ad8940c2da936619fc155ead5cff8ac90e265fa
=======
       "metadata": {},
       "output_type": "pyout",
       "prompt_number": 268,
>>>>>>> 27983cf412684dda0ce9d17c39096def1604af24
       "text": [
        "array([ 0.3986,  0.2606,  0.3408])"
       ]
      }
     ],
<<<<<<< HEAD
<<<<<<< HEAD
=======
>>>>>>> 27983cf412684dda0ce9d17c39096def1604af24
     "prompt_number": 268
    },
    {
     "cell_type": "code",
     "collapsed": false,
     "input": [],
     "language": "python",
     "metadata": {},
     "outputs": []
<<<<<<< HEAD
=======
     "prompt_number": 209
>>>>>>> 8ad8940c2da936619fc155ead5cff8ac90e265fa
=======
>>>>>>> 27983cf412684dda0ce9d17c39096def1604af24
    }
   ],
   "metadata": {}
  }
 ]
}