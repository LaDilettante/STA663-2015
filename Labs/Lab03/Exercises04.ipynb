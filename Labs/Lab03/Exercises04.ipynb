{
 "metadata": {
  "name": "",
  "signature": "sha256:91c4ccb81e528540216f181686293f326e3ceb93084d8e825bfeefe8473431cf"
 },
 "nbformat": 3,
 "nbformat_minor": 0,
 "worksheets": [
  {
   "cells": [
    {
     "cell_type": "code",
     "collapsed": false,
     "input": [
      "import os\n",
      "import sys\n",
      "import glob\n",
      "import matplotlib.pyplot as plt\n",
      "import numpy as np\n",
      "import pandas as pd\n",
      "%matplotlib inline\n",
      "plt.style.use('ggplot')\n"
     ],
     "language": "python",
     "metadata": {},
     "outputs": [],
     "prompt_number": 2
    },
    {
     "cell_type": "markdown",
     "metadata": {},
     "source": [
      "**Exercise 1 (10 pts)**. LU Decomposition vs Solve.\n",
      "\n",
      "- Generate a $100\\times 100$ random matrix \n",
      "- Compute its determinant\n"
     ]
    },
    {
     "cell_type": "code",
     "collapsed": false,
     "input": [
      "n = 10\n",
      "A = np.random.normal(0.0, 1.0, size=(n, n)).astype('float')\n",
      "print(A)\n",
      "np.linalg.det(A)"
     ],
     "language": "python",
     "metadata": {},
     "outputs": [
      {
       "output_type": "stream",
       "stream": "stdout",
       "text": [
        "[[ -1.55385613e+00   1.03343315e+00  -6.83584290e-03  -1.28887682e+00\n",
        "   -9.67316890e-02  -1.55445647e-01   1.13691633e+00  -1.47663638e+00\n",
        "   -6.38782460e-01  -5.57374238e-01]\n",
        " [ -2.05700338e-02   6.03798399e-01   1.42066085e+00  -4.83504481e-01\n",
        "    3.13398736e-02  -1.97394370e+00  -3.85883202e-01   1.65195929e+00\n",
        "    2.00899785e-01  -1.64913191e-01]\n",
        " [ -9.63136339e-01  -6.04487696e-01   2.88599997e-01   1.97422035e+00\n",
        "    1.16795944e-01  -2.55581379e-01  -8.96499796e-01  -6.07571556e-01\n",
        "    4.93753244e-01  -4.07911557e-01]\n",
        " [ -5.72343975e-01   1.56403242e+00  -2.77001107e-01  -1.34964153e-01\n",
        "    1.10056233e+00   7.27629762e-04   8.49161558e-01   2.19975135e+00\n",
        "    1.50295529e+00   2.75800836e-01]\n",
        " [ -1.05762421e+00   4.75700111e-01   8.59308127e-01   2.58395915e-01\n",
        "    7.58220377e-01   1.32607480e+00  -1.58265467e+00  -9.92208477e-01\n",
        "   -8.44911644e-01   6.79716206e-01]\n",
        " [ -1.33713125e+00  -1.72295518e-03   4.20071928e-01  -1.33802492e+00\n",
        "   -7.62934372e-01  -1.30674740e+00   5.76391891e-01   3.38991409e-01\n",
        "    1.73393043e+00  -1.25494093e-02]\n",
        " [ -7.64844039e-01  -1.92262591e-01   1.50976707e+00   7.65927134e-01\n",
        "   -1.52029979e+00  -3.82264838e-01  -3.07834761e+00  -1.31646401e+00\n",
        "    7.10614511e-01  -1.01220760e+00]\n",
        " [  7.38692785e-02   5.05825151e-02  -4.40869569e-01   1.24548605e+00\n",
        "    1.23819981e+00  -8.36676734e-01  -1.11852510e+00  -2.33358526e+00\n",
        "   -3.79001668e-01   1.45442289e+00]\n",
        " [ -7.41065078e-01   8.26999187e-01  -8.14344688e-01  -7.60042037e-01\n",
        "    1.28962333e+00   5.19496774e-02   5.53224393e-01  -6.71445255e-01\n",
        "    2.69753305e-01   1.11411594e+00]\n",
        " [  9.36448340e-01  -1.38273571e+00  -1.66720091e-02  -5.97417864e-01\n",
        "   -8.98165183e-01  -3.71182876e-01   1.04819500e+00  -1.96242089e+00\n",
        "    9.46927461e-01  -1.01008966e+00]]\n"
       ]
      },
      {
       "metadata": {},
       "output_type": "pyout",
       "prompt_number": 23,
       "text": [
        "1066.1549927665526"
       ]
      }
     ],
     "prompt_number": 23
    },
    {
     "cell_type": "code",
     "collapsed": false,
     "input": [
      "# Your code here\n",
      "\n",
      "\n",
      "\n",
      "\n"
     ],
     "language": "python",
     "metadata": {},
     "outputs": [],
     "prompt_number": 13
    },
    {
     "cell_type": "markdown",
     "metadata": {},
     "source": [
      "**Exercise 2 (10 pts)**. Ill-conditioned linear problems.\n",
      "\n",
      "You are given a $n \\times p$ design matrix $X$ and a $p$-vector of observations $y$ and asked to find the coefficients $\\beta$ that solve the linear equations $X \\beta = y$. \n",
      "```python\n",
      "X = np.load('x.npy')\n",
      "y = np.load('y.npy')\n",
      "```\n",
      "\n",
      "The solution $\\beta$ can also be loaded as\n",
      "```python\n",
      "beta = np.load('b.npy')\n",
      "```\n",
      "\n",
      "- Write a formula that could solve the system of linear equations in terms of $X$ and $y$ Write a function `f1` that takes arguments $X$ and $y$ and returns $\\beta$ using this formula.\n",
      "- How could you code this formula using `np.linalg.solve` that does not require inverting a matrix? Write a function `f2` that takes arguments $X$ and $y$ and returns $\\beta$ using this.\n",
      "- Note that carefully designed algorithms *can* solve this ill-conditioned problem, which is why you should always use library functions for linear algebra rather than write your own.\n",
      "```python\n",
      "np.linalg.lstsq(x, y)[0]\n",
      "```\n",
      "- What happens if you try to solve for $\\beta$ using `f1` or `f2`? Remove the column of $X$ that is making the matrix singluar and find the $p-1$ vector $b$ using `f2`.\n",
      "- Note that the solution differs from that given by `np.linalg.lstsq`? This arises because the relevant condition number for `f2` is actually for the matrix $X^TX$ while the condition number of `lstsq` is for the matrix $X$. Why is the condition so high even after removing the column that makes the matrix singular?"
     ]
    },
    {
     "cell_type": "code",
     "collapsed": false,
     "input": [
      "# Your code here\n",
      "\n",
      "\n",
      "\n",
      "\n"
     ],
     "language": "python",
     "metadata": {},
     "outputs": [],
     "prompt_number": 3
    },
    {
     "cell_type": "markdown",
     "metadata": {},
     "source": [
      "**Exercise 3 (10 pts)**. Importance of using efficient algorihtms.\n",
      "\n",
      "- Implement bubble sort\n",
      "- Calculate its big $\\mathcal{O}$ algorithmic complexity\n",
      "- Time the performance of bubble sort on random uniform deviate vectors of sizes `range(100, 2000, 100)` using `time.time()` from the standard library\n",
      "- Use `scipy.optimize.curve_fit` to fit an appropriate function to the collection of (size, execution time) data points. Extrapolate how long it would take to sort a random vector of size 1,000,000. Now time how long it takes for the system sort to sort a random vector of size 1,000,000.\n",
      "- Plot the fits together with the data points uisng `matplotlib.pyplot` functions."
     ]
    },
    {
     "cell_type": "code",
     "collapsed": false,
     "input": [
      "# Your code here\n",
      "\n",
      "\n",
      "\n",
      "\n"
     ],
     "language": "python",
     "metadata": {},
     "outputs": [],
     "prompt_number": 4
    },
    {
     "cell_type": "markdown",
     "metadata": {},
     "source": [
      "**Exercise 4 (20 pts)**. One of the goals of the course it that you will be able to implement novel algorihtms from the literature. \n",
      "\n",
      "- Implement the mean-shift algorithm in 1D as described [here](http://homepages.inf.ed.ac.uk/rbf/CVonline/LOCAL_COPIES/TUZEL1/MeanShift.pdf). \n",
      "    - Use the following function signature\n",
      "    ```python\n",
      "    def mean_shift(xs, x, kernel, max_iters=100, tol=1e-6):\n",
      "    ```\n",
      "    - xs is the data set, x is the starting location, and kernel is a kernel function\n",
      "    - tol is the difference in $||x||$ across iterations\n",
      "- Use the following kernels with bandwidth $h$ (a default value of 1.0 will work fine)\n",
      "    - Flat - return 1 if $||x|| < h$ and 0 otherwise\n",
      "    - Gaussian \n",
      "    $$\\frac{1}{\\sqrt{2 \\pi h}}e^{\\frac{-||x||^2}{h^2}}$$\n",
      "    - Note that $||x||$ is the norm of the data point being evaluated minus the current value of $x$\n",
      "- Use both kernels to find all 3 modes of the data set in `x1d.npy`\n",
      "- Modify the algorithm and/or kernels so that it now works in an arbitrary number of dimensions.\n",
      "- Use both kernels to find all 3 modes of the data set in `x2d.npy`\n",
      "- Plot the path of successive intermediate solutions of the mean-shift algorithm starting from `x0 = (-4, 10)` until it converges onto a mode in the 2D data for each kernel. Superimpose the path on top of a contour plot of the data density."
     ]
    },
    {
     "cell_type": "code",
     "collapsed": false,
     "input": [
      "# Your code here\n",
      "\n",
      "\n",
      "\n",
      "\n"
     ],
     "language": "python",
     "metadata": {},
     "outputs": [],
     "prompt_number": 5
    }
   ],
   "metadata": {}
  }
 ]
}