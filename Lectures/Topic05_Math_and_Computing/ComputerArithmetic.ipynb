{
 "metadata": {
  "name": "",
<<<<<<< HEAD
<<<<<<< HEAD
  "signature": "sha256:60cf1ef1c494311257a67c2c6c6f1ee3e3532fd9c234e082583a370628705efe"
=======
  "signature": "sha256:433a924a787ae72faf0c5f0920b8c5ff862ea9305638feeac269146ca206a07b"
>>>>>>> 8ad8940c2da936619fc155ead5cff8ac90e265fa
=======
  "signature": "sha256:60cf1ef1c494311257a67c2c6c6f1ee3e3532fd9c234e082583a370628705efe"
>>>>>>> 27983cf412684dda0ce9d17c39096def1604af24
 },
 "nbformat": 3,
 "nbformat_minor": 0,
 "worksheets": [
  {
   "cells": [
    {
     "cell_type": "code",
     "collapsed": false,
     "input": [
<<<<<<< HEAD
      "import os\n",
      "import sys\n",
      "import glob\n",
      "import matplotlib.pyplot as plt\n",
      "import numpy as np\n",
      "import pandas as pd\n",
      "%matplotlib inline\n",
      "%precision 4\n",
      "np.random.seed(1)\n",
      "plt.style.use('ggplot')"
=======
      "%matplotlib inline\n",
      "import matplotlib.pyplot as plt\n",
      "import numpy as np\n",
      "%precision 4\n",
      "import os, sys, glob\n",
      "np.random.seed(1)"
>>>>>>> 8ad8940c2da936619fc155ead5cff8ac90e265fa
     ],
     "language": "python",
     "metadata": {},
     "outputs": [],
     "prompt_number": 1
    },
    {
     "cell_type": "markdown",
     "metadata": {},
     "source": [
      "# Computer numbers and mathematics\n",
      "\n",
      "For this course, we will only be concerned with fixed point numbers (representing integers) and floating point numbers (representing reals). Since computer represnetaions of numbers are finite, they are only approximations to the integer ring and real field of mathematics. This notebook presents a small list of things to be mindful of to avoid unexpected results.\n",
      "\n",
      "**References**\n",
      "\n",
      "* <https://docs.python.org/2/tutorial/floatingpoint.html>\n",
      "* <http://introcs.cs.princeton.edu/java/lectures/9scientific.pdf>\n",
<<<<<<< HEAD
      "\n",
      "The Julia language has a particularly friendly and comprehensive intorduction to [computer arithmetic](http://julia.readthedocs.org/en/latest/manual/integers-and-floating-point-numbers/) which is also appicable to Python."
=======
      "* <http://www.johndcook.com/blog/2008/09/28/theoretical-explanation-for-numerical-results/>\n",
      "* <http://www.johndcook.com/blog/2008/09/26/comparing-three-methods-of-computing-standard-deviation/>\n",
      "* <http://www.johndcook.com/blog/2008/10/20/comparing-two-ways-to-fit-a-line-to-data/>\n",
      "* <http://www.johndcook.com/blog/2008/11/05/how-to-calculate-pearson-correlation-accurately/>"
>>>>>>> 8ad8940c2da936619fc155ead5cff8ac90e265fa
     ]
    },
    {
     "cell_type": "markdown",
     "metadata": {},
     "source": [
      "Some examples of numbers behaving badly\n",
      "----"
     ]
    },
    {
     "cell_type": "markdown",
     "metadata": {},
     "source": [
      "### Normalizing weights\n",
      "\n",
      "Given a set of weights, we want to nromalize them so that the sum = 1."
     ]
    },
    {
     "cell_type": "code",
     "collapsed": false,
     "input": [
      "def normalize(ws):\n",
      "    \"\"\"Returns normalized set of weights that sum to 1.\"\"\"\n",
      "    s = sum(ws)\n",
      "    return [w/s for w in ws]"
     ],
     "language": "python",
     "metadata": {},
     "outputs": [],
     "prompt_number": 2
    },
    {
     "cell_type": "code",
     "collapsed": false,
     "input": [
      "ws = [1,2,3,4,5]\n",
      "normalize(ws)"
     ],
     "language": "python",
     "metadata": {},
     "outputs": [
      {
       "metadata": {},
       "output_type": "pyout",
       "prompt_number": 3,
       "text": [
        "[0, 0, 0, 0, 0]"
       ]
      }
     ],
     "prompt_number": 3
    },
    {
     "cell_type": "markdown",
     "metadata": {},
     "source": [
      "### Comparing likleihoods\n",
      "\n",
      "Assuming indepdnece, the likelihood of observing some data points given a distributional model for each data point is the product of the likelihood for each data point."
     ]
    },
    {
     "cell_type": "code",
     "collapsed": false,
     "input": [
      "from scipy.stats import norm\n",
      "\n",
      "rv1 = norm(0, 1)\n",
<<<<<<< HEAD
<<<<<<< HEAD
      "print rv1\n",
      "rv2 = norm(0, 3)\n",
      "print rv2\n",
      "xs = np.random.normal(0, 3, 1000)\n",
      "likelihood1 = np.prod(rv1.pdf(xs))\n",
      "likelihood2 = np.prod(rv2.pdf(xs))\n",
      "print likelihood2, likelihood1\n",
=======
=======
      "print rv1\n",
>>>>>>> 27983cf412684dda0ce9d17c39096def1604af24
      "rv2 = norm(0, 3)\n",
      "print rv2\n",
      "xs = np.random.normal(0, 3, 1000)\n",
      "likelihood1 = np.prod(rv1.pdf(xs))\n",
      "likelihood2 = np.prod(rv2.pdf(xs))\n",
<<<<<<< HEAD
>>>>>>> 8ad8940c2da936619fc155ead5cff8ac90e265fa
=======
      "print likelihood2, likelihood1\n",
>>>>>>> 27983cf412684dda0ce9d17c39096def1604af24
      "likelihood2 > likelihood1"
     ],
     "language": "python",
     "metadata": {},
     "outputs": [
      {
<<<<<<< HEAD
<<<<<<< HEAD
=======
>>>>>>> 27983cf412684dda0ce9d17c39096def1604af24
       "output_type": "stream",
       "stream": "stdout",
       "text": [
        "<scipy.stats._distn_infrastructure.rv_frozen object at 0x7fafa3070fd0>\n",
        "<scipy.stats._distn_infrastructure.rv_frozen object at 0x7fafa3070b10>\n",
        "0.0 0.0\n"
       ]
      },
      {
<<<<<<< HEAD
       "metadata": {},
       "output_type": "pyout",
       "prompt_number": 6,
=======
       "metadata": {},
       "output_type": "pyout",
       "prompt_number": 4,
>>>>>>> 8ad8940c2da936619fc155ead5cff8ac90e265fa
=======
       "metadata": {},
       "output_type": "pyout",
       "prompt_number": 6,
>>>>>>> 27983cf412684dda0ce9d17c39096def1604af24
       "text": [
        "False"
       ]
      }
     ],
<<<<<<< HEAD
<<<<<<< HEAD
     "prompt_number": 6
=======
     "prompt_number": 4
>>>>>>> 8ad8940c2da936619fc155ead5cff8ac90e265fa
=======
     "prompt_number": 6
>>>>>>> 27983cf412684dda0ce9d17c39096def1604af24
    },
    {
     "cell_type": "markdown",
     "metadata": {},
     "source": [
      "### Equality comparisons\n",
      "\n",
      "We use an equality condition to exit some loop."
     ]
    },
    {
     "cell_type": "code",
     "collapsed": false,
     "input": [
      "s = 0.0\n",
      "\n",
      "for i in range(1000):\n",
      "    s += 1.0/10.0\n",
      "    if s == 1.0:\n",
      "        break\n",
      "print i"
     ],
     "language": "python",
     "metadata": {},
     "outputs": [
      {
       "output_type": "stream",
       "stream": "stdout",
       "text": [
        "999\n"
       ]
      }
     ],
<<<<<<< HEAD
<<<<<<< HEAD
     "prompt_number": 7
=======
     "prompt_number": 5
>>>>>>> 8ad8940c2da936619fc155ead5cff8ac90e265fa
=======
     "prompt_number": 7
>>>>>>> 27983cf412684dda0ce9d17c39096def1604af24
    },
    {
     "cell_type": "markdown",
     "metadata": {},
     "source": [
      "### Calculating variance\n",
      "\n",
      "$$\n",
      "s^2 = \\frac{\\sum_{i=1}^{n} x_i^2 - (\\sum_{i=1}^n x_i)^2/n}{n-1}\n",
      "$$"
     ]
    },
    {
     "cell_type": "code",
     "collapsed": false,
     "input": [
      "def var(xs):\n",
      "    \"\"\"Returns variance of sample data.\"\"\"\n",
      "    n = 0\n",
      "    s = 0\n",
      "    ss = 0\n",
      "    \n",
      "    for x in xs:\n",
      "        n +=1\n",
      "        s += x\n",
      "        ss += x*x\n",
      "\n",
      "    v = (ss - (s*s)/n)/(n-1)\n",
      "    return v"
     ],
     "language": "python",
     "metadata": {},
     "outputs": [],
<<<<<<< HEAD
<<<<<<< HEAD
     "prompt_number": 8
=======
     "prompt_number": 6
>>>>>>> 8ad8940c2da936619fc155ead5cff8ac90e265fa
=======
     "prompt_number": 8
>>>>>>> 27983cf412684dda0ce9d17c39096def1604af24
    },
    {
     "cell_type": "code",
     "collapsed": false,
     "input": [
      "# What is the sample variance for numbers from a normal distribution with variance 1?\n",
      "np.random.seed(4)\n",
      "xs = np.random.normal(1e9, 1, 1000)\n",
      "var(xs)"
     ],
     "language": "python",
     "metadata": {},
     "outputs": [
      {
       "metadata": {},
       "output_type": "pyout",
<<<<<<< HEAD
<<<<<<< HEAD
       "prompt_number": 10,
=======
       "prompt_number": 7,
>>>>>>> 8ad8940c2da936619fc155ead5cff8ac90e265fa
=======
       "prompt_number": 10,
>>>>>>> 27983cf412684dda0ce9d17c39096def1604af24
       "text": [
        "-262.4064"
       ]
      }
     ],
<<<<<<< HEAD
<<<<<<< HEAD
     "prompt_number": 10
=======
     "prompt_number": 7
>>>>>>> 8ad8940c2da936619fc155ead5cff8ac90e265fa
=======
     "prompt_number": 10
>>>>>>> 27983cf412684dda0ce9d17c39096def1604af24
    },
    {
     "cell_type": "markdown",
     "metadata": {},
     "source": [
      "## Finite representation of numbers\n",
      "\n",
      "For integers, there is a maximum and minimum representatble number for langauges. Python integers are acutally objects, so they intelligently switch to arbitrary precision numbers when you go beyond these limits, but this is not true for most other languages including C and R. With 64 bit representation, the maximumm is 2^63 - 1 and the minimum is -2^63 - 1."
     ]
    },
    {
     "cell_type": "code",
     "collapsed": false,
     "input": [
      "import sys\n",
      "sys.maxint"
     ],
     "language": "python",
     "metadata": {},
     "outputs": [
      {
       "metadata": {},
       "output_type": "pyout",
<<<<<<< HEAD
<<<<<<< HEAD
       "prompt_number": 11,
=======
       "prompt_number": 8,
>>>>>>> 8ad8940c2da936619fc155ead5cff8ac90e265fa
=======
       "prompt_number": 11,
>>>>>>> 27983cf412684dda0ce9d17c39096def1604af24
       "text": [
        "9223372036854775807"
       ]
      }
     ],
<<<<<<< HEAD
<<<<<<< HEAD
     "prompt_number": 11
=======
     "prompt_number": 8
>>>>>>> 8ad8940c2da936619fc155ead5cff8ac90e265fa
=======
     "prompt_number": 11
>>>>>>> 27983cf412684dda0ce9d17c39096def1604af24
    },
    {
     "cell_type": "code",
     "collapsed": false,
     "input": [
      "2**63-1 == sys.maxint"
     ],
     "language": "python",
     "metadata": {},
     "outputs": [
      {
       "metadata": {},
       "output_type": "pyout",
<<<<<<< HEAD
<<<<<<< HEAD
       "prompt_number": 12,
=======
       "prompt_number": 9,
>>>>>>> 8ad8940c2da936619fc155ead5cff8ac90e265fa
=======
       "prompt_number": 12,
>>>>>>> 27983cf412684dda0ce9d17c39096def1604af24
       "text": [
        "True"
       ]
      }
     ],
<<<<<<< HEAD
<<<<<<< HEAD
     "prompt_number": 12
=======
     "prompt_number": 9
>>>>>>> 8ad8940c2da936619fc155ead5cff8ac90e265fa
=======
     "prompt_number": 12
>>>>>>> 27983cf412684dda0ce9d17c39096def1604af24
    },
    {
     "cell_type": "code",
     "collapsed": false,
     "input": [
      "# Python handles \"overflow\" of integers gracefully by \n",
      "# swithing from integers to \"long\" abritrary precsion numbers\n",
      "sys.maxint + 1"
     ],
     "language": "python",
     "metadata": {},
     "outputs": [
      {
       "metadata": {},
       "output_type": "pyout",
<<<<<<< HEAD
<<<<<<< HEAD
       "prompt_number": 13,
=======
       "prompt_number": 10,
>>>>>>> 8ad8940c2da936619fc155ead5cff8ac90e265fa
=======
       "prompt_number": 13,
>>>>>>> 27983cf412684dda0ce9d17c39096def1604af24
       "text": [
        "9223372036854775808L"
       ]
      }
     ],
<<<<<<< HEAD
<<<<<<< HEAD
     "prompt_number": 13
=======
     "prompt_number": 10
>>>>>>> 8ad8940c2da936619fc155ead5cff8ac90e265fa
=======
     "prompt_number": 13
>>>>>>> 27983cf412684dda0ce9d17c39096def1604af24
    },
    {
     "cell_type": "markdown",
     "metadata": {},
     "source": [
      "### Integer division\n",
      "\n",
      "This has been illustrated more than once, becuase it is such a common source of bugs. Be very careful when dividing one integer by another. Here are some common workarounds."
     ]
    },
    {
     "cell_type": "code",
     "collapsed": false,
     "input": [
      "# Explicit float conversion\n",
      "\n",
      "print float(1)/3"
     ],
     "language": "python",
     "metadata": {},
     "outputs": [
      {
       "output_type": "stream",
       "stream": "stdout",
       "text": [
        "0.333333333333\n"
       ]
      }
     ],
<<<<<<< HEAD
<<<<<<< HEAD
     "prompt_number": 14
=======
     "prompt_number": 11
>>>>>>> 8ad8940c2da936619fc155ead5cff8ac90e265fa
=======
     "prompt_number": 14
>>>>>>> 27983cf412684dda0ce9d17c39096def1604af24
    },
    {
     "cell_type": "code",
     "collapsed": false,
     "input": [
      "# Implicit float conversion\n",
      "\n",
      "print (0.0 + 1)/3\n",
      "print (1.0 * 1)/3"
     ],
     "language": "python",
     "metadata": {},
     "outputs": [
      {
       "output_type": "stream",
       "stream": "stdout",
       "text": [
        "0.333333333333\n",
        "0.333333333333\n"
       ]
      }
     ],
<<<<<<< HEAD
<<<<<<< HEAD
     "prompt_number": 15
=======
     "prompt_number": 12
>>>>>>> 8ad8940c2da936619fc155ead5cff8ac90e265fa
=======
     "prompt_number": 15
>>>>>>> 27983cf412684dda0ce9d17c39096def1604af24
    },
    {
     "cell_type": "code",
     "collapsed": false,
     "input": [
      "# Telling Python to ALWAYS do floaitng point with '/'\n",
      "# Integer division can still be done with '//'\n",
      "# The __futre__ package contains routines that are only \n",
      "# found beyond some Python release number.\n",
      "\n",
      "from __future__ import division\n",
      "\n",
      "print (1/3)\n",
      "print (1//3)"
     ],
     "language": "python",
     "metadata": {},
     "outputs": [
      {
       "output_type": "stream",
       "stream": "stdout",
       "text": [
        "0.333333333333\n",
        "0\n"
       ]
      }
     ],
<<<<<<< HEAD
<<<<<<< HEAD
     "prompt_number": 16
=======
     "prompt_number": 13
>>>>>>> 8ad8940c2da936619fc155ead5cff8ac90e265fa
=======
     "prompt_number": 16
>>>>>>> 27983cf412684dda0ce9d17c39096def1604af24
    },
    {
     "cell_type": "markdown",
     "metadata": {},
     "source": [
      "[Documentation about the fuure package](https://docs.python.org/2/library/__future__.html)"
     ]
    },
    {
     "cell_type": "markdown",
     "metadata": {},
     "source": [
<<<<<<< HEAD
      "### Overflow in langauges such as C \"wraps around\" and gives negative numbers\n",
      "\n",
      "This will not work out of the box because the VM is missing some packages. If you want to really, really want to run this, you can issue the following commands from the command line and have your sudo password ready. It is not necessary to run this - this is just an example to show integer overflow in C - it does not happen in Python.\n",
      "\n",
      "```bash\n",
      "sudo apt-get update \n",
      "sudo apt-get install build-essential \n",
      "sudo apt-get install llvm \n",
      "pip install git+https://github.com/dabeaz/bitey.git\n",
      "```"
=======
      "### Overflow in langauges such as C \"wraps around\" and gives negative numbers"
>>>>>>> 8ad8940c2da936619fc155ead5cff8ac90e265fa
     ]
    },
    {
     "cell_type": "code",
     "collapsed": false,
     "input": [
      "%%file demo.c\n",
      "\n",
      "#include \"limits.h\"\n",
      "\n",
      "long limit() {\n",
      "    return LONG_MAX;\n",
      "}\n",
      "\n",
      "long overflow() {\n",
      "    long x = LONG_MAX;\n",
      "    return x+1;\n",
      "}"
     ],
     "language": "python",
     "metadata": {},
     "outputs": [
      {
       "output_type": "stream",
       "stream": "stdout",
       "text": [
        "Overwriting demo.c\n"
       ]
      }
     ],
<<<<<<< HEAD
<<<<<<< HEAD
     "prompt_number": 17
=======
     "prompt_number": 14
>>>>>>> 8ad8940c2da936619fc155ead5cff8ac90e265fa
=======
     "prompt_number": 17
>>>>>>> 27983cf412684dda0ce9d17c39096def1604af24
    },
    {
     "cell_type": "code",
     "collapsed": false,
     "input": [
      "! clang -emit-llvm -c demo.c -o demo.o"
     ],
     "language": "python",
     "metadata": {},
     "outputs": [],
     "prompt_number": 15
    },
    {
     "cell_type": "code",
     "collapsed": false,
     "input": [
      "import bitey\n",
      "import demo\n",
      "\n",
      "demo.limit(), demo.overflow()"
     ],
     "language": "python",
     "metadata": {},
     "outputs": [
      {
       "metadata": {},
       "output_type": "pyout",
       "prompt_number": 16,
       "text": [
        "(9223372036854775807, -9223372036854775808)"
       ]
      }
     ],
     "prompt_number": 16
    },
    {
     "cell_type": "markdown",
     "metadata": {},
     "source": [
      "### Floating point numbers\n",
<<<<<<< HEAD
      "\n",
      "A floating point number is stored in 3 pieces (sign bit, exponent, mantissa) so that every float is represetned as get +/- mantissa ^ exponent. Because of this, the interval between consecutive numbers is smallest (high precison) for numebrs close to 0 and largest for numbers close to the lower and upper bounds.\n",
      "\n",
      "Because exponents have to be singed to represent both small and large numbers, but it is more convenint to use unsigned numbers  here, the exponnent has an offset (also knwnn as the exponentn bias). For example, if the expoennt is an unsigned 8-bit number, it can rerpesent the range (0, 255). By using an offset of 128, it will now represent the range (-127, 128)."
=======
      "A floating point number is stored in 3 pieces (sign bit, exponent, mantissa) so that every float is represetned as get +/- mantissa ^ exponent. Because of this, the interval between consecutive numbers is smallest (high precison) for numebrs close to 0 and largest for numbers close to the lower and upper bounds."
>>>>>>> 8ad8940c2da936619fc155ead5cff8ac90e265fa
     ]
    },
    {
     "cell_type": "code",
     "collapsed": false,
     "input": [
      "from IPython.display import Image"
     ],
     "language": "python",
     "metadata": {},
     "outputs": [],
<<<<<<< HEAD
<<<<<<< HEAD
=======
>>>>>>> 27983cf412684dda0ce9d17c39096def1604af24
     "prompt_number": 18
    },
    {
     "cell_type": "markdown",
     "metadata": {},
     "source": [
      "#### Binary represetnation of a floating point number"
     ]
=======
     "prompt_number": 17
>>>>>>> 8ad8940c2da936619fc155ead5cff8ac90e265fa
    },
    {
     "cell_type": "code",
     "collapsed": false,
     "input": [
      "Image(url='http://www.dspguide.com/graphics/F_4_2.gif')"
     ],
     "language": "python",
     "metadata": {},
     "outputs": [
      {
       "html": [
        "<img src=\"http://www.dspguide.com/graphics/F_4_2.gif\"/>"
       ],
       "metadata": {},
       "output_type": "pyout",
<<<<<<< HEAD
<<<<<<< HEAD
=======
>>>>>>> 27983cf412684dda0ce9d17c39096def1604af24
       "prompt_number": 23,
       "text": [
        "<IPython.core.display.Image at 0x7fafa3070d90>"
       ]
      }
     ],
     "prompt_number": 23
    },
    {
     "cell_type": "markdown",
     "metadata": {},
     "source": [
      "#### Intervals between consecutive floating point numbers are not constant\n",
      "\n",
      "Because of this, if you are adding many numbers, it is more accuate to first add the small numbers before the large numbers."
     ]
=======
       "prompt_number": 18,
       "text": [
        "<IPython.core.display.Image at 0x112996810>"
       ]
      }
     ],
     "prompt_number": 18
>>>>>>> 8ad8940c2da936619fc155ead5cff8ac90e265fa
    },
    {
     "cell_type": "code",
     "collapsed": false,
     "input": [
<<<<<<< HEAD
      "Image(url='http:///fig1.jpg')"
=======
      "Image(url='http://jasss.soc.surrey.ac.uk/9/4/4/fig1.jpg')"
>>>>>>> 8ad8940c2da936619fc155ead5cff8ac90e265fa
     ],
     "language": "python",
     "metadata": {},
     "outputs": [
      {
<<<<<<< HEAD
<<<<<<< HEAD
=======
>>>>>>> 27983cf412684dda0ce9d17c39096def1604af24
       "ename": "NameError",
       "evalue": "name 'Image' is not defined",
       "output_type": "pyerr",
       "traceback": [
        "\u001b[1;31m---------------------------------------------------------------------------\u001b[0m\n\u001b[1;31mNameError\u001b[0m                                 Traceback (most recent call last)",
        "\u001b[1;32m<ipython-input-3-7f5b71fe72fa>\u001b[0m in \u001b[0;36m<module>\u001b[1;34m()\u001b[0m\n\u001b[1;32m----> 1\u001b[1;33m \u001b[0mImage\u001b[0m\u001b[1;33m(\u001b[0m\u001b[0murl\u001b[0m\u001b[1;33m=\u001b[0m\u001b[1;34m'http:///fig1.jpg'\u001b[0m\u001b[1;33m)\u001b[0m\u001b[1;33m\u001b[0m\u001b[0m\n\u001b[0m",
        "\u001b[1;31mNameError\u001b[0m: name 'Image' is not defined"
<<<<<<< HEAD
       ]
      }
     ],
     "prompt_number": 3
    },
    {
     "cell_type": "markdown",
     "metadata": {},
     "source": [
      "#### Floating point numbers on your system"
     ]
=======
       "html": [
        "<img src=\"http://jasss.soc.surrey.ac.uk/9/4/4/fig1.jpg\"/>"
       ],
       "metadata": {},
       "output_type": "pyout",
       "prompt_number": 19,
       "text": [
        "<IPython.core.display.Image at 0x10ec5c8d0>"
       ]
      }
     ],
     "prompt_number": 19
>>>>>>> 8ad8940c2da936619fc155ead5cff8ac90e265fa
=======
       ]
      }
     ],
     "prompt_number": 3
    },
    {
     "cell_type": "markdown",
     "metadata": {},
     "source": [
      "#### Floating point numbers on your system"
     ]
>>>>>>> 27983cf412684dda0ce9d17c39096def1604af24
    },
    {
     "cell_type": "markdown",
     "metadata": {},
     "source": [
      "Information about the floating point reresentation on your system can be obtained from `sys.float_info`. Definitions of the stored values are given at <https://docs.python.org/2/library/sys.html#sys.float_info>"
     ]
    },
    {
     "cell_type": "code",
     "collapsed": false,
     "input": [
      "import sys\n",
      "\n",
      "print sys.float_info"
     ],
     "language": "python",
     "metadata": {},
     "outputs": [
      {
       "output_type": "stream",
       "stream": "stdout",
       "text": [
        "sys.float_info(max=1.7976931348623157e+308, max_exp=1024, max_10_exp=308, min=2.2250738585072014e-308, min_exp=-1021, min_10_exp=-307, dig=15, mant_dig=53, epsilon=2.220446049250313e-16, radix=2, rounds=1)\n"
       ]
      }
     ],
<<<<<<< HEAD
<<<<<<< HEAD
=======
>>>>>>> 27983cf412684dda0ce9d17c39096def1604af24
     "prompt_number": 24
    },
    {
     "cell_type": "markdown",
     "metadata": {},
     "source": [
      "#### Floating point numbers may not be precise"
     ]
=======
     "prompt_number": 20
>>>>>>> 8ad8940c2da936619fc155ead5cff8ac90e265fa
    },
    {
     "cell_type": "code",
     "collapsed": false,
     "input": [
<<<<<<< HEAD
=======
      "# Floating point numbers may not be precise\n",
>>>>>>> 8ad8940c2da936619fc155ead5cff8ac90e265fa
      "'%.20f' % (0.1 * 0.1 * 100)"
     ],
     "language": "python",
     "metadata": {},
     "outputs": [
      {
       "metadata": {},
       "output_type": "pyout",
<<<<<<< HEAD
<<<<<<< HEAD
       "prompt_number": 25,
=======
       "prompt_number": 21,
>>>>>>> 8ad8940c2da936619fc155ead5cff8ac90e265fa
=======
       "prompt_number": 25,
>>>>>>> 27983cf412684dda0ce9d17c39096def1604af24
       "text": [
        "'1.00000000000000022204'"
       ]
      }
     ],
<<<<<<< HEAD
<<<<<<< HEAD
     "prompt_number": 25
=======
     "prompt_number": 21
>>>>>>> 8ad8940c2da936619fc155ead5cff8ac90e265fa
=======
     "prompt_number": 25
>>>>>>> 27983cf412684dda0ce9d17c39096def1604af24
    },
    {
     "cell_type": "code",
     "collapsed": false,
     "input": [
      "# Because of this, don't chek for equality of floating point numbers!\n",
      "\n",
      "# Bad\n",
      "s = 0.0\n",
      "\n",
      "for i in range(1000):\n",
      "    s += 1.0/10.0\n",
      "    if s == 1.0:\n",
      "        break\n",
      "print i\n",
      "\n",
      "# OK\n",
      "\n",
      "TOL = 1e-9\n",
      "s = 0.0\n",
      "\n",
      "for i in range(1000):\n",
      "    s += 1.0/10.0\n",
      "    if abs(s - 1.0) < TOL:\n",
      "        break\n",
      "print i"
     ],
     "language": "python",
     "metadata": {},
     "outputs": [
      {
       "output_type": "stream",
       "stream": "stdout",
       "text": [
        "999\n",
        "9\n"
       ]
      }
     ],
<<<<<<< HEAD
<<<<<<< HEAD
     "prompt_number": 26
=======
     "prompt_number": 22
>>>>>>> 8ad8940c2da936619fc155ead5cff8ac90e265fa
=======
     "prompt_number": 26
>>>>>>> 27983cf412684dda0ce9d17c39096def1604af24
    },
    {
     "cell_type": "code",
     "collapsed": false,
     "input": [
      "# Loss of precision\n",
      "1 + 6.022e23 - 6.022e23"
     ],
     "language": "python",
     "metadata": {},
     "outputs": [
      {
       "metadata": {},
       "output_type": "pyout",
<<<<<<< HEAD
<<<<<<< HEAD
       "prompt_number": 27,
=======
       "prompt_number": 23,
>>>>>>> 8ad8940c2da936619fc155ead5cff8ac90e265fa
=======
       "prompt_number": 27,
>>>>>>> 27983cf412684dda0ce9d17c39096def1604af24
       "text": [
        "0.0000"
       ]
      }
     ],
<<<<<<< HEAD
<<<<<<< HEAD
=======
>>>>>>> 27983cf412684dda0ce9d17c39096def1604af24
     "prompt_number": 27
    },
    {
     "cell_type": "markdown",
     "metadata": {},
     "source": [
      "<font color=blue>Lesson: Avoid algorithms that subtract two numbers that are very close to one anotoer. The loss of significnance is greater when both numbers are very large due to the limited number of precsion bits available.</font>"
     ]
    },
    {
     "cell_type": "markdown",
     "metadata": {},
     "source": [
      "#### Associative law does not necessarily hold"
     ]
=======
     "prompt_number": 23
>>>>>>> 8ad8940c2da936619fc155ead5cff8ac90e265fa
    },
    {
     "cell_type": "code",
     "collapsed": false,
     "input": [
<<<<<<< HEAD
=======
      "# Addition may not be associative\n",
>>>>>>> 8ad8940c2da936619fc155ead5cff8ac90e265fa
      "6.022e23 - 6.022e23 + 1"
     ],
     "language": "python",
     "metadata": {},
     "outputs": [
      {
       "metadata": {},
       "output_type": "pyout",
<<<<<<< HEAD
       "prompt_number": 48,
=======
       "prompt_number": 24,
>>>>>>> 8ad8940c2da936619fc155ead5cff8ac90e265fa
       "text": [
        "1.0000"
       ]
      }
     ],
<<<<<<< HEAD
     "prompt_number": 48
    },
    {
     "cell_type": "code",
     "collapsed": false,
     "input": [
      "1 + 6.022e23 - 6.022e23"
     ],
     "language": "python",
     "metadata": {},
     "outputs": [
      {
       "metadata": {},
       "output_type": "pyout",
       "prompt_number": 49,
       "text": [
        "0.0000"
       ]
      }
     ],
     "prompt_number": 49
=======
     "prompt_number": 24
>>>>>>> 8ad8940c2da936619fc155ead5cff8ac90e265fa
    },
    {
     "cell_type": "markdown",
     "metadata": {},
     "source": [
<<<<<<< HEAD
      "#### Distributive law does not hold"
=======
      "<font color=blue>Lesson: Avoid algorithms that subtract two numbers that are very close to one anotoer. The loss of significnance is greater when both numbers are very large due to the limited number of precsion bits available.</font>"
>>>>>>> 8ad8940c2da936619fc155ead5cff8ac90e265fa
     ]
    },
    {
     "cell_type": "code",
     "collapsed": false,
     "input": [
<<<<<<< HEAD
      "a = np.exp(1);\n",
      "b = np.pi;\n",
      "c = np.sin(1);\n",
      "a*(b+c) == a*b+a*c"
     ],
     "language": "python",
     "metadata": {},
     "outputs": [
      {
       "metadata": {},
       "output_type": "pyout",
       "prompt_number": 51,
       "text": [
        "False"
       ]
      }
     ],
     "prompt_number": 51
    },
    {
     "cell_type": "code",
     "collapsed": false,
     "input": [
=======
>>>>>>> 8ad8940c2da936619fc155ead5cff8ac90e265fa
      "# loss of precision can be a problem when calculating likelihoods\n",
      "probs = np.random.random(1000)\n",
      "np.prod(probs)"
     ],
     "language": "python",
     "metadata": {},
     "outputs": [
      {
       "metadata": {},
       "output_type": "pyout",
       "prompt_number": 25,
       "text": [
        "0.0000"
       ]
      }
     ],
     "prompt_number": 25
    },
    {
     "cell_type": "code",
     "collapsed": false,
     "input": [
      "# when multiplying lots of small numbers, work in log space\n",
      "np.sum(np.log(probs))"
     ],
     "language": "python",
     "metadata": {},
     "outputs": [
      {
       "metadata": {},
       "output_type": "pyout",
       "prompt_number": 26,
       "text": [
        "-980.0558"
       ]
      }
     ],
     "prompt_number": 26
    },
    {
     "cell_type": "markdown",
     "metadata": {},
     "source": [
      "<font color=blue>Lesson: Work in log space for very small or very big numbers to reduce underflow/overflow</font>"
     ]
    },
    {
     "cell_type": "markdown",
     "metadata": {},
     "source": [
      "Using arbitrary precision libraries\n",
      "----\n",
      "\n",
      "If you need precision more than speed (e.g. your code is likely to underflow or overflow otherwise and you cannot find or don't want to use a workaround), Python has support for arbitrary precison mathematics via \n",
      "\n",
<<<<<<< HEAD
      "- [The decimal package in th standard library](https://docs.python.org/2/library/decimal.html)\n",
      "- [The mpmath package](http://mpmath.org)\n",
      "- [The gmpy2 package](https://pypi.python.org/pypi/gmpy2)\n",
      "\n",
      "Both mpmath and gmpy2 can be installed via pip\n",
=======
      "- [The mpmath package](http://mpmath.org)\n",
      "- [The gmpy2 package](https://pypi.python.org/pypi/gmpy2)\n",
      "\n",
      "both of which can be installed via pip\n",
>>>>>>> 8ad8940c2da936619fc155ead5cff8ac90e265fa
      "```bash\n",
      "pip install gmpy2\n",
      "pip install mpmath\n",
      "```\n",
      "\n",
      "These packages allow you to set the precsion of numbers used in calculations. Refer to the documentation if you need to use these libraries."
     ]
    },
    {
     "cell_type": "markdown",
     "metadata": {},
     "source": [
<<<<<<< HEAD
      "From numbers to Functions: Stability and conditioning\n",
=======
      "Stability and conditioning\n",
>>>>>>> 8ad8940c2da936619fc155ead5cff8ac90e265fa
      "----\n",
      "\n",
      "Suppose we have a computer algorithm $g(x)$ that represents the mathematical function $f(x)$. $g(x)$ is stable if for some small perturbation $\\epsilon$, $g(x+\\epsilon) \\approx f(x)$\n",
      "\n",
<<<<<<< HEAD
      "A mathematical function $f(x)$ is well-conditioned if $f(x + \\epsilon) \\approx f(x)$ for all small perturbations $\\epsilon$.\n",
      "\n",
      "That is, the <font color=red>function</font>$f(x)$ is **well-conditioned** if the *solution varies gradually as problem varies*. For a well-conditinoed function, *all* small perutbations have small effects. However, a poorly-conditioned problem only needs *some* small perturbations to have large effects. For example, inverting a nearly singluar matrix is a poorly condiitioned problem. \n",
      "\n",
      "A numerical algorithm $g(x)$ is numerically-stable if $g(x) \\approx f(x')$ for some $x' \\approx x$. Note that stability is a property that relates the algorithm $g(x)$ to the problem $f(x)$.\n",
      "\n",
      "That is, the <font color=red>algorithm</font>$g(x)$ is **numerically stable** if it gives *nearly the right answer to nearly the right question*. Numerically unstable algorithms tend to amplify approximation errors due to computer arithmetic over time. If we used an infitinte precision numerical system, stable and unstable alorithms would have the same accuracy. However, as we have seen (e.g. variance calculation), when using floating point numbers, algebrically equivaelent algorithms can give different results.\n",
      "\n",
      "In general, we need both a well-conditinoed problem and nuerical stabilty of the algorihtm to reliably accurate answers. In this case, we can be sure that $g(x) \\approx f(x)$."
=======
      "That is, the <font color=red>algorithm</font>$g(x)$ is **numerically stable** if it gives *nearly the right answer to nearly the right problem*. For example, the Newton-Raphson method can be numerically unstable for particular initial conditions and diverge even if there is a nearby root.\n",
      "\n",
      "A mathematical function $f(x)$ is well-conditioned if $f(x + \\epsilon) \\approx f(x)$ for all small perturbations $\\epsilon$.\n",
      "\n",
      "That is, the <font color=red>function</font>$f(x)$ is **well-conditioned** if the *solution varies gradually as problem varies*. For example, inverting a nearly singluar matrix is a poorly condiitioned problem."
>>>>>>> 8ad8940c2da936619fc155ead5cff8ac90e265fa
     ]
    },
    {
     "cell_type": "markdown",
     "metadata": {},
     "source": [
      "**Unstable version**"
     ]
    },
    {
     "cell_type": "code",
     "collapsed": false,
     "input": [
      "# Catastrophic cancellation occurs when subtracitng \n",
      "# two numbers that are very close to one another\n",
      "# Here is another example\n",
      "\n",
      "def f(x):\n",
<<<<<<< HEAD
<<<<<<< HEAD
      "    return (1 - np.cos(x))"
=======
      "    return (1 - np.cos(x))/(x*x)"
>>>>>>> 8ad8940c2da936619fc155ead5cff8ac90e265fa
=======
      "    return (1 - np.cos(x))"
>>>>>>> 27983cf412684dda0ce9d17c39096def1604af24
     ],
     "language": "python",
     "metadata": {},
     "outputs": [],
<<<<<<< HEAD
<<<<<<< HEAD
     "prompt_number": 20
=======
     "prompt_number": 27
>>>>>>> 8ad8940c2da936619fc155ead5cff8ac90e265fa
=======
     "prompt_number": 20
>>>>>>> 27983cf412684dda0ce9d17c39096def1604af24
    },
    {
     "cell_type": "code",
     "collapsed": false,
     "input": [
      "x = np.linspace(-4e-8, 4e-8, 100)\n",
<<<<<<< HEAD
<<<<<<< HEAD
      "print x[:10]\n",
      "plt.plot(x,1-np.cos(x));\n",
      "# plt.axvline(1.1e-8, color='red')\n",
=======
      "plt.plot(x,f(x));\n",
      "plt.axvline(1.1e-8, color='red')\n",
>>>>>>> 8ad8940c2da936619fc155ead5cff8ac90e265fa
=======
      "print x[:10]\n",
      "plt.plot(x,1-np.cos(x));\n",
      "# plt.axvline(1.1e-8, color='red')\n",
>>>>>>> 27983cf412684dda0ce9d17c39096def1604af24
      "plt.xlim([-4e-8, 4e-8]);"
     ],
     "language": "python",
     "metadata": {},
     "outputs": [
      {
<<<<<<< HEAD
<<<<<<< HEAD
=======
>>>>>>> 27983cf412684dda0ce9d17c39096def1604af24
       "output_type": "stream",
       "stream": "stdout",
       "text": [
        "[ -4.0000e-08  -3.9192e-08  -3.8384e-08  -3.7576e-08  -3.6768e-08\n",
        "  -3.5960e-08  -3.5152e-08  -3.4343e-08  -3.3535e-08  -3.2727e-08]\n"
       ]
      },
      {
       "metadata": {},
       "output_type": "display_data",
       "png": "iVBORw0KGgoAAAANSUhEUgAAAW0AAAEXCAYAAABmuBWFAAAABHNCSVQICAgIfAhkiAAAAAlwSFlz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\nCIs2EZGJsGgTEZkIizYRkYn8f0LPpPfMGiFrAAAAAElFTkSuQmCC\n",
       "text": [
        "<matplotlib.figure.Figure at 0x7f168b535250>"
<<<<<<< HEAD
       ]
      }
     ],
     "prompt_number": 25
=======
       "metadata": {},
       "output_type": "display_data",
       "png": "iVBORw0KGgoAAAANSUhEUgAAAXIAAAENCAYAAAASUO4dAAAABHNCSVQICAgIfAhkiAAAAAlwSFlz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\n",
       "text": [
        "<matplotlib.figure.Figure at 0x1129b4650>"
       ]
      }
     ],
     "prompt_number": 28
>>>>>>> 8ad8940c2da936619fc155ead5cff8ac90e265fa
=======
       ]
      }
     ],
     "prompt_number": 25
>>>>>>> 27983cf412684dda0ce9d17c39096def1604af24
    },
    {
     "cell_type": "code",
     "collapsed": false,
     "input": [
      "# We know from L'Hopital's rule that the answer is 0.5 at 0\n",
      "# and should be very close to 0.5 throughout this tiny interval\n",
      "# but errors arisee due to catastrophic cancellation\n",
      "\n",
      "print '%.30f' % np.cos(1.1e-8)\n",
      "print '%.30f' % (1 - np.cos(1.1e-8)) # exact answer is 6.05e-17\n",
      "print '%2f' % ((1 - np.cos(1.1e-8))/(1.1e-8*1.1e-8))"
     ],
     "language": "python",
     "metadata": {},
     "outputs": [
      {
       "output_type": "stream",
       "stream": "stdout",
       "text": [
        "0.999999999999999888977697537484\n",
        "0.000000000000000111022302462516\n",
        "0.917540\n"
       ]
      }
     ],
<<<<<<< HEAD
<<<<<<< HEAD
     "prompt_number": 31
=======
     "prompt_number": 29
>>>>>>> 8ad8940c2da936619fc155ead5cff8ac90e265fa
=======
     "prompt_number": 31
>>>>>>> 27983cf412684dda0ce9d17c39096def1604af24
    },
    {
     "cell_type": "markdown",
     "metadata": {},
     "source": [
      "**Stable version**"
     ]
    },
    {
     "cell_type": "code",
     "collapsed": false,
     "input": [
      "# Numerically stable version of funtion\n",
      "# using long-forgotten half-angle formula from trignometry\n",
      "\n",
      "def f1(x):\n",
      "    return 2*np.sin(x/2)**2/(x*x)"
     ],
     "language": "python",
     "metadata": {},
     "outputs": [],
<<<<<<< HEAD
<<<<<<< HEAD
     "prompt_number": 33
=======
     "prompt_number": 30
>>>>>>> 8ad8940c2da936619fc155ead5cff8ac90e265fa
=======
     "prompt_number": 33
>>>>>>> 27983cf412684dda0ce9d17c39096def1604af24
    },
    {
     "cell_type": "code",
     "collapsed": false,
     "input": [
      "x = np.linspace(-4e-8, 4e-8, 100)\n",
      "plt.plot(x,f1(x));\n",
      "plt.axvline(1.1e-8, color='red')\n",
      "plt.xlim([-4e-8, 4e-8]);"
     ],
     "language": "python",
     "metadata": {},
     "outputs": [
      {
       "metadata": {},
       "output_type": "display_data",
<<<<<<< HEAD
       "png": "iVBORw0KGgoAAAANSUhEUgAAAXwAAAERCAYAAAB4jRxOAAAABHNCSVQICAgIfAhkiAAAAAlwSFlz\nAAALEgAACxIB0t1+/AAAGaZJREFUeJzt3W1sW+Xh/vHLsUn6ELfVCUqyxOoasm6jFl0qAukUQGpY\nKla0LVKRJyK2seyho6CFTZQ+QKdKaxZolK6V+rStYWEDtoVtTKDRF1G3aVWzDlKSrbhZgykMmizN\nsBvqCkLj+PxfVPj/M3Fst3XrePf388rn+D72dU7ly87t41OHbdu2AAD/8/KyHQAAcHVQ+ABgCAof\nAAxB4QOAISh8ADAEhQ8AhnClGtDf36/Ozk5Fo1HV1dWpoaEh7n6/369t27appKREklRTU6PVq1fr\n/Pnz2rJliyYmJhSJRHTTTTepsbHxyuwFACA1O4nJyUn7gQcesE+fPm1PTEzYDz30kP3222/HjXn1\n1Vftxx57LOH24+Pjtm3bdiQSsTdt2mQPDAwke7rY4+UCcmYWOTMnFzLaNjkzLZ2cSad0AoGASktL\nVVxcLJfLpdraWvX29iZ600i4fUFBgSQpEokoGo2qsLAw5RuQ3+9P530q68iZWeTMnFzIKJEz09LJ\nmXRKJxQKqaioKLZsWZYCgUDcGIfDocHBQa1bt06WZekrX/mKPB6PJCkajWr9+vU6ffq0Vq5cGVsP\nALj6LvtL24qKCu3du1dtbW2644471NbW9v8fPC9PbW1t2rdvnwYGBnLmnRIA/hc57OnmYyQNDg7q\n2Wef1SOPPCJJeu655+RwOKZ8cft/3X///Xr88cenTN/89re/VX5+vr74xS/Grff7/XFvBD6f75J2\nBABM19XVFbvt9Xrl9Xrj7k86pVNZWamRkRGNjo7Ksiz19PSoubk5bszY2Jjmz58vh8MRm+4pLCzU\n2bNn5XQ6NXfuXJ0/f17Hjh3TXXfdNeU5EoUaHh6+uL3MArfbrXA4nO0YKZEzs3IhZ6KMZeXlGh4a\nylKixHLhWEq5k7OsrCzlB+akhe90OtXU1KSWlpbYaZkej0fd3d2SpPr6eh05ckTd3d3Ky8tTQUFB\n7A1hbGxMu3fvVjQalW3buu2223TDDTdkaNcAABcr6ZROtvAJP3PImVm5kJNP+JmVKznLyspSjuGX\ntgBgCAofAAxB4QOAISh8ADAEhQ8AhqDwAcAQFD4AGILCBwBDUPgAYAgKHwAMQeEDgCEofAAwBIUP\nAIag8AHAEBQ+ABiCwgcAQ1D4AGAICh8ADEHhA4AhKHwAMASFDwCGoPABwBAUPgAYgsIHAENQ+ABg\nCAofAAxB4QOAISh8ADCEK9WA/v5+dXZ2KhqNqq6uTg0NDXH3+/1+bdu2TSUlJZKkmpoarV69Wu+8\n8452796td999Vw6HQ7fffrtWrVp1ZfYCAJBS0sKPRqPq6OjQ5s2bZVmWNm7cqOrqank8nrhxS5Ys\n0fr16+Mf2OXS1772NS1atEjj4+Nav369li5dOmVbAMDVkXRKJxAIqLS0VMXFxXK5XKqtrVVvb++U\ncbZtT1m3YMECLVq0SJI0a9YslZeX68yZM5lJDQC4aEkLPxQKqaioKLZsWZZCoVDcGIfDocHBQa1b\nt06tra06derUlMcZHR3Vm2++qcWLF2coNgDgYqWcw0+loqJCe/fuVUFBgfr6+tTW1qadO3fG7h8f\nH9f27dt17733atasWZf7dACAS5S08C3LUjAYjC0Hg0FZlhU3Zvbs2bHby5Yt0/79+3Xu3DkVFhYq\nEomovb1dt956q26++eaEz+H3++X3+2PLPp9Pbrf7knbmasrPzydnBpEzc6bLONNy58KxlHInpyR1\ndXXFbnu9Xnm93rj7kxZ+ZWWlRkZGNDo6Ksuy1NPTo+bm5rgxY2Njmj9/vhwOhwKBgCSpsLBQtm1r\n3759Ki8v15133jntcyQKFQ6H09u7LHK73eTMIHJmTqKMbs2811UuHEspt3L6fL6kY5IWvtPpVFNT\nk1paWmKnZXo8HnV3d0uS6uvrdeTIEXV3dysvL08FBQWxN4QTJ07o0KFDWrhwoR5++GFJUmNjo6qq\nqjKxbwCAi+SwE51ik2XDw8PZjpBSLr3rkzNzciFnooxl5eUaHhrKUqLEcuFYSrmTs6ysLOUYfmkL\nAIag8AHAEBQ+ABiCwgcAQ1D4AGAICh8ADEHhA4AhKHwAMASFDwCGoPABwBAUPgAYgsIHAENQ+ABg\nCAofAAxB4QOAISh8ADAEhQ8AhqDwAcAQFD4AGILCBwBDUPgAYAgKHwAMQeEDgCEofAAwBIUPAIag\n8AHAEBQ+ABiCwgcAQ1D4AGAIV6oB/f396uzsVDQaVV1dnRoaGuLu9/v92rZtm0pKSiRJNTU1Wr16\ntSRpz5496uvr07x589Te3n4F4gMA0pW08KPRqDo6OrR582ZZlqWNGzequrpaHo8nbtySJUu0fv36\nKduvWLFCn//857Vr167MpgYAXLSkUzqBQEClpaUqLi6Wy+VSbW2tent7p4yzbTvh9tdff73mzp2b\nmaQAgMuStPBDoZCKiopiy5ZlKRQKxY1xOBwaHBzUunXr1NraqlOnTl2ZpACAy5JyDj+ViooK7d27\nVwUFBerr61NbW5t27tyZ9vZ+v19+vz+27PP55Ha7LzfWFZefn0/ODCJn5kyXcablzoVjKeVOTknq\n6uqK3fZ6vfJ6vXH3Jy18y7IUDAZjy8FgUJZlxY2ZPXt27PayZcu0f/9+nTt3ToWFhWkFTBQqHA6n\ntW02ud1ucmYQOTMnUUa3Zt7rKheOpZRbOX0+X9IxSad0KisrNTIyotHRUUUiEfX09Ki6ujpuzNjY\nWGwOPxAISFLaZQ8AuHqSfsJ3Op1qampSS0tL7LRMj8ej7u5uSVJ9fb2OHDmi7u5u5eXlqaCgQM3N\nzbHtd+zYoYGBAYXDYd13333y+XxasWLFld0jAEBCDnu6U2yyaHh4ONsRUsqlP/PImTm5kDNRxrLy\ncg0PDWUpUWK5cCyl3MlZVlaWcgy/tAUAQ1D4AGAICh8ADEHhA4AhKHwAMASFDwCGoPABwBAUPgAY\ngsIHAENQ+ABgCAofAAxB4QOAISh8ADAEhQ8AhqDwAcAQFD4AGILCBwBDUPgAYAgKHwAMQeEDgCEo\nfAAwBIUPAIag8AHAEBQ+ABiCwgcAQ1D4AGAICh8ADEHhA4AhXKkG9Pf3q7OzU9FoVHV1dWpoaIi7\n3+/3a9u2bSopKZEk1dTUaPXq1WltCwC4epIWfjQaVUdHhzZv3izLsrRx40ZVV1fL4/HEjVuyZInW\nr19/SdsCAK6OpFM6gUBApaWlKi4ulsvlUm1trXp7e6eMs237krcFAFwdSQs/FAqpqKgotmxZlkKh\nUNwYh8OhwcFBrVu3Tq2trTp16lTa2wIArp6Uc/ipVFRUaO/evSooKFBfX5/a2tq0c+fOtLf3+/3y\n+/2xZZ/Pp8lvffFyY11xY9kOkCZyZlYu5Jwu40x7XeXCsZRyJ6f+2Kuurq7YotfrldfrjRuStPAt\ny1IwGIwtB4NBWZYVN2b27Nmx28uWLdP+/ft17ty5tLadLpTzZ88nizUjuN1uhcPhbMdIiZyZlQs5\nE2YsL59xr6tcOJZS7uSULnxgTibplE5lZaVGRkY0OjqqSCSinp4eVVdXx40ZGxuLzeEHAgFJUmFh\nYVrbAgCunqSf8J1Op5qamtTS0hI7tdLj8ai7u1uSVF9fryNHjqi7u1t5eXkqKChQc3Nz0m0BANnh\nsBOdYpNlw8PD2Y6QUq78mUfOzMqFnIkylpWXa3hoKEuJEsuFYynlTs6ysrKUY/ilLQAYgsIHAENQ\n+ABgCAofAAxB4QOAISh8ADAEhQ8AhqDwAcAQFD4AGILCBwBDUPgAYAgKHwAMQeEDgCEofAAwBIUP\nAIag8AHAEBQ+ABiCwgcAQ1D4AGAICh8ADEHhA4AhKHwAMASFDwCGoPABwBAUPgAYgsIHAENQ+ABg\nCAofAAzhSjWgv79fnZ2dikajqqurU0NDQ8JxgUBAjz76qB588EEtX75ckvTiiy/q4MGDkqTbb79d\nq1atymB0AMDFSPoJPxqNqqOjQ5s2bdL27dt1+PBhnTp1KuG4p59+WlVVVbF1b731lg4ePKjW1la1\ntbXp6NGjGhkZyfweAADSkrTwA4GASktLVVxcLJfLpdraWvX29k4Zd+DAAS1fvlzz5s2LrRsaGtLi\nxYuVn5+vvLw8LVmyRC+99FLm9wAAkJakhR8KhVRUVBRbtixLoVBoypje3l6tXLlSkuRwOCRJCxcu\n1MDAgM6dO6cPPvhAr7zyioLBYKbzAwDSlHIOP5XOzk41NjbK4XDItm3Zti1JKi8v15e+9CVt3bpV\nBQUFqqioiL0Z/F9+v19+vz+27PP55Ha7LzfWFZefn0/ODCJn5kyXcablzoVjKeVOTknq6uqK3fZ6\nvfJ6vXH3Jy18y7LiPpUHg0FZlhU35uTJk9qxY4ckKRwOq7+/Xy6XS9XV1aqrq1NdXZ0k6ZlnntG1\n11475TkShQqHw+nsW1a53W5yZhA5MydRRrdm3usqF46llFs5fT5f0jFJC7+yslIjIyMaHR2VZVnq\n6elRc3Nz3Jhdu3bFbu/Zs0c33nijqqurJUnvvvuu5s+fr3feeUcvv/yyWlpaLnVfAACXKWnhO51O\nNTU1qaWlJXZapsfjUXd3tySpvr4+6YNv375d4XBYTqdT3/jGNzRnzpzMJQcAXBSH/eGk+wwyPDyc\n7Qgp5dKfeeTMnFzImShjWXm5hoeGspQosVw4llLu5CwrK0s5hl/aAoAhKHwAMASFDwCGoPABwBAU\nPgAYgsIHAENQ+ABgCAofAAxB4QOAISh8ADAEhQ8AhqDwAcAQFD4AGILCBwBDUPgAYAgKHwAMQeED\ngCEofAAwBIUPAIag8AHAEBQ+ABiCwgcAQ1D4AGAICh8ADEHhA4AhKHwAMASFDwCGoPABwBCuVAP6\n+/vV2dmpaDSquro6NTQ0JBwXCAT06KOP6sEHH9Ty5cslSc8995wOHTokh8OhhQsXau3atbrmmmsy\nuwcAgLQk/YQfjUbV0dGhTZs2afv27Tp8+LBOnTqVcNzTTz+tqqqq2LrR0VEdPHhQjz/+uNrb2xWN\nRnX48OHM7wEAIC1JCz8QCKi0tFTFxcVyuVyqra1Vb2/vlHEHDhzQ8uXLNW/evNi6OXPmyOl06oMP\nPtDk5KQ++OADWZaV+T0AAKQlaeGHQiEVFRXFli3LUigUmjKmt7dXK1eulCQ5HA5JUmFhob7whS9o\n7dq1WrNmjebOnaulS5dmOj8AIE2X/aVtZ2enGhsb5XA4ZNu2bNuWJI2MjOiPf/yjdu/erZ/85Cca\nHx/XoUOHLjswAODSJP3S1rIsBYPB2HIwGJwyLXPy5Ent2LFDkhQOh9Xf3y+n06mJiQl96lOfktvt\nliTV1NToxIkTuvXWW+O29/v98vv9sWWfzxfbZibLz88nZwaRM3OmyzjTcufCsZRyJ6ckdXV1xW57\nvV55vd64+5MWfmVlpUZGRjQ6OirLstTT06Pm5ua4Mbt27Yrd3rNnj2688UbddNNNevPNN/W73/1O\n58+f1zXXXKN//vOf+sQnPjHlORKFCofD6e9hlrjdbnJmEDkzJ1FGt2be6yoXjqWUWzl9Pl/SMUkL\n3+l0qqmpSS0tLbHTMj0ej7q7uyVJ9fX10267aNEi3XbbbdqwYYMcDocqKir0uc997hJ2AwCQCQ77\nw0n3GWR4eDjbEVLKpXd9cmZOLuRMlLGsvFzDQ0NZSpRYLhxLKXdylpWVpRzDL20BwBAUPgAYgsIH\nAENQ+ABgCAofAAxB4QOAISh8ADAEhQ8AhqDwAcAQFD4AGILCBwBDUPgAYAgKHwAMQeEDgCEofAAw\nBIUPAIag8AHAEBQ+ABiCwgcAQ1D4AGAICh8ADEHhA4AhKHwAMASFDwCGoPABwBAUPgAYgsIHAENQ\n+ABgCFeqAf39/ers7FQ0GlVdXZ0aGhoSjgsEAnr00Uf1ve99TzU1NRoeHtaOHTti958+fVpf/vKX\ntWrVqsylBwCkLWnhR6NRdXR0aPPmzbIsSxs3blR1dbU8Hs+UcU8//bSqqqpk27YkqaysTNu2bYvd\n/53vfEc333zzFdoNAEAqSad0AoGASktLVVxcLJfLpdraWvX29k4Zd+DAAS1fvlzz5s1L+DjHjh1T\nSUmJrr322sykBgBctKSFHwqFVFRUFFu2LEuhUGjKmN7eXq1cuVKS5HA4pjzO4cOHdcstt2QiLwDg\nEl32l7adnZ1qbGyUw+GQbduxKZ0PRSIRHT16VJ/97Gcv96kAAJch6Ry+ZVkKBoOx5WAwKMuy4sac\nPHky9uVsOBxWf3+/XC6XqqurJUl9fX267rrrpp3u8fv98vv9sWWfz6eysrJL25urzO12ZztCWsiZ\nWbmQc0pG29ZMfFXlwrGUcidnV1dX7LbX65XX640fYCcRiUTsBx54wD59+rQ9MTFhP/TQQ/bbb789\n7fjdu3fbR44ciVv34x//2P7zn/+c7Gni/OY3v0l7bDaRM7PImTm5kNG2yZlp6eRM+gnf6XSqqalJ\nLS0tsdMyPR6Puru7JUn19fVJ323Gx8d17NgxrVmz5hLfrwAAmZLyPPxly5Zp2bJlceumK/q1a9fG\nLc+aNUsdHR2XEQ8AkCnOLVu2bMl2iI8qLi7OdoS0kDOzyJk5uZBRImempcrpsO2PnFYDAPifxLV0\nAMAQFD4AGCLll7bZ9MILL+ipp55SR0eHCgsLsx1nil//+tc6evSopAvn6a5du3ZGXj7il7/8pV55\n5RW5XC6VlJRo7dq1mjNnTrZjxfnb3/6mZ599VkNDQ2ptbdV1112X7Uhx0r2IYDbt2bNHfX19mjdv\nntrb27MdZ1rvvPOOdu/erXfffVcOh0O33377jLyo4vnz57VlyxZNTEwoEonopptuUmNjY7ZjJRSN\nRrVhwwZZlqUNGzZMP/CKnxx6if773//aW7dutdeuXWuHw+Fsx0novffei91+8cUX7b1792YxzfT+\n8Y9/2JOTk7Zt2/ZTTz1lP/XUU1lONNWpU6fsoaEhe8uWLfbrr7+e7ThxJicnL+r3KNly/Phx++TJ\nk/b3v//9bEdJ6syZM/Ybb7xh27Ztv//++/Z3v/vdGXk8bdu2x8fHbdu+8JukTZs22QMDA1lOlNgL\nL7xg79y5037ssceSjpuxUzq/+MUvdM8992Q7RlKzZ8+O3R4fH5+xv8ZbunSp8vIu/FMvXrw47tfT\nM0V5efmM/YV1uhcRzLbrr79ec+fOzXaMlBYsWKBFixZJunDqdnl5uc6cOZPdUNMoKCiQdOESMdFo\ndEbONASDQfX19amurm7KpW0+akZO6bz88suyLEsf//jHsx0lpV/96lf661//qoKCArW0tGQ7Tkp/\n+tOfuJDdRUp0EcFAIJDFRP87RkdH9eabb2rx4sXZjpJQNBrV+vXrdfr0aa1cuXLKpeFngieffFL3\n3HOP3n///ZRjs1b4P/zhDzU2NjZl/d13360//OEPeuSRR2LrUr1rXUnJclZXV+vuu++OZX7yySen\n/PjsakmVU5J+//vfy+VyZa3w08kIc4yPj2v79u269957NWvWrGzHSSgvL09tbW1677331NLSIr/f\nP/X6NFl09OhRzZs3TxUVFXHXJJtO1gp/8+bNCde/9dZbGh0d1bp16yRd+HS1YcMG/ehHP9L8+fOv\nZkRJ0+f8qFtuuUWtra1XOM30UuX8y1/+or6+vrT350rI5nNfjnQuIoiLE4lE1N7erltvvTUn/mOk\nOXPmaNmyZXr99ddnVOGfOHFCR48eVV9fnyYmJvT+++9r165deuCBBxKOn3FTOgsXLtTPfvaz2PL9\n99+vxx9/fEbOnf3nP//Rxz72MUkXpqE+nJecafr7+/X8889ry5Ytys/Pz3acnFNZWamRkRGNjo7K\nsiz19PSoubk527Fylm3b2rdvn8rLy3XnnXdmO860zp49K6fTqblz5+r8+fM6duyY7rrrrmzHitPY\n2Bg7c+j48eN6/vnnpy17aQYW/kcl+g9VZopnnnlGw8PDysvLU0lJib71rW9lO1JCTzzxhCKRiLZu\n3SpJ+uQnP6lvfvObWU4V76WXXtLPf/5znT17Vq2traqoqNCmTZuyHUvS9BcRnGl27NihgYEBhcNh\n3XffffL5fFqxYkW2Y01x4sQJHTp0SAsXLtTDDz8s6UJxVVVVZTlZvLGxMe3evVvRaFS2beu2227T\nDTfckO1YSaXqSy6tAACGmLGnZQIAMovCBwBDUPgAYAgKHwAMMePP0gGAXJfpC9s98cQTevXVV2Xb\ntpYuXaqvf/3raW3HJ3wAuMJWrFiRsdOM/X6/3njjDbW3t6u9vV2vv/66jh8/nta2fMIHgCvs+uuv\n1+joaNy6kZERPfHEEzp79qwKCgq0Zs2atC4gOH/+fEUiEU1MTCgajWpyclILFixIKweFDwBZ8NOf\n/lTf/va3VVpaqtdee0379+/XD37wg5TbeTwefeYzn9GaNWtk27buuOOOtK80S+EDwFU2Pj6uwcFB\nbd++PbYuEolIkv7+97+rq6tryjZFRUXatGmTjh8/Lr/fr3379sm2bW3dulX/+te/9OlPfzrl81L4\nAHCVRaNRzZ07V9u2bZtyX01NjWpqaqbd9rXXXlNVVVXsWv1VVVUaHBxMq/D50hYArrI5c+aouLhY\nR44ckXThgnL//ve/09q2vLxcx48fVzQaVSQS0cDAQNrXduJaOgBwhX14YbuzZ89qwYIF8vl88nq9\n2r9/v86cOaPJyUnV1tZq9erVaT1eZ2enjh07Jtu2VVVVpa9+9atpbUfhA4AhmNIBAENQ+ABgCAof\nAAxB4QOAISh8ADAEhQ8AhqDwAcAQFD4AGOL/AVafo/yL63ulAAAAAElFTkSuQmCC\n",
       "text": [
        "<matplotlib.figure.Figure at 0x7fafa2be4590>"
       ]
      }
     ],
     "prompt_number": 34
<<<<<<< HEAD
=======
       "png": "iVBORw0KGgoAAAANSUhEUgAAAXgAAAENCAYAAAAFcn7UAAAABHNCSVQICAgIfAhkiAAAAAlwSFlz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\napQBL0mNMuAlqVEGvCQ16v8BgRRSflFxeW4AAAAASUVORK5CYII=\n",
       "text": [
        "<matplotlib.figure.Figure at 0x1134e9fd0>"
       ]
      }
     ],
     "prompt_number": 31
>>>>>>> 8ad8940c2da936619fc155ead5cff8ac90e265fa
=======
>>>>>>> 27983cf412684dda0ce9d17c39096def1604af24
    },
    {
     "cell_type": "markdown",
     "metadata": {},
     "source": [
      "### Stable and unstable versions of variance"
     ]
    },
    {
     "cell_type": "markdown",
     "metadata": {},
     "source": [
      "$$s^2 = \\frac{1}{n-1}\\sum(x - \\bar{x})^2$$"
     ]
    },
    {
     "cell_type": "code",
     "collapsed": false,
     "input": [
      "# sum of squares method (vectorized version)\n",
      "def sum_of_squers_var(x):\n",
      "    n = len(x)\n",
      "    return (1.0/(n*(n-1))*(n*np.sum(x**2) - (np.sum(x))**2))"
     ],
     "language": "python",
     "metadata": {},
     "outputs": [],
<<<<<<< HEAD
<<<<<<< HEAD
     "prompt_number": 35
=======
     "prompt_number": 32
>>>>>>> 8ad8940c2da936619fc155ead5cff8ac90e265fa
=======
     "prompt_number": 35
>>>>>>> 27983cf412684dda0ce9d17c39096def1604af24
    },
    {
     "cell_type": "markdown",
     "metadata": {},
     "source": [
      "<font color=blue>This should set off warning bells - big number minus big number!</font>"
     ]
    },
    {
     "cell_type": "code",
     "collapsed": false,
     "input": [
      "# direct method\n",
      "def direct_var(x):\n",
      "    n = len(x)\n",
      "    xbar = np.mean(x)\n",
      "    return 1.0/(n-1)*np.sum((x - xbar)**2)"
     ],
     "language": "python",
     "metadata": {},
     "outputs": [],
<<<<<<< HEAD
<<<<<<< HEAD
     "prompt_number": 36
=======
     "prompt_number": 33
>>>>>>> 8ad8940c2da936619fc155ead5cff8ac90e265fa
=======
     "prompt_number": 36
>>>>>>> 27983cf412684dda0ce9d17c39096def1604af24
    },
    {
     "cell_type": "markdown",
     "metadata": {},
     "source": [
      "<font color=blue>Much better - at least the squaring occurs after the subtraction</font>"
     ]
    },
    {
     "cell_type": "code",
     "collapsed": false,
     "input": [
      "# Welford's method\n",
      "def welford_var(x):\n",
      "    s = 0\n",
      "    m = x[0]\n",
      "    for i in range(1, len(x)):\n",
      "        m += (x[i]-m)/i\n",
      "        s += (x[i]-m)**2\n",
      "    return s/(len(x) -1 )"
     ],
     "language": "python",
     "metadata": {},
     "outputs": [],
<<<<<<< HEAD
<<<<<<< HEAD
     "prompt_number": 37
=======
     "prompt_number": 34
>>>>>>> 8ad8940c2da936619fc155ead5cff8ac90e265fa
=======
     "prompt_number": 37
>>>>>>> 27983cf412684dda0ce9d17c39096def1604af24
    },
    {
     "cell_type": "markdown",
     "metadata": {},
     "source": [
      "<font color=blue>Classic algorithm from Knuth's Art of Computer Programming</font>"
     ]
    },
    {
     "cell_type": "code",
     "collapsed": false,
     "input": [
      "x_ = np.random.uniform(0,1,1e6)\n",
      "x = 1e12 + x_"
     ],
     "language": "python",
     "metadata": {},
     "outputs": [],
<<<<<<< HEAD
<<<<<<< HEAD
     "prompt_number": 38
=======
     "prompt_number": 35
>>>>>>> 8ad8940c2da936619fc155ead5cff8ac90e265fa
=======
     "prompt_number": 38
>>>>>>> 27983cf412684dda0ce9d17c39096def1604af24
    },
    {
     "cell_type": "code",
     "collapsed": false,
     "input": [
      "# correct answer\n",
      "np.var(x_)"
     ],
     "language": "python",
     "metadata": {},
     "outputs": [
      {
       "metadata": {},
       "output_type": "pyout",
<<<<<<< HEAD
<<<<<<< HEAD
       "prompt_number": 39,
=======
       "prompt_number": 36,
>>>>>>> 8ad8940c2da936619fc155ead5cff8ac90e265fa
=======
       "prompt_number": 39,
>>>>>>> 27983cf412684dda0ce9d17c39096def1604af24
       "text": [
        "0.0835"
       ]
      }
     ],
<<<<<<< HEAD
<<<<<<< HEAD
     "prompt_number": 39
=======
     "prompt_number": 36
>>>>>>> 8ad8940c2da936619fc155ead5cff8ac90e265fa
=======
     "prompt_number": 39
>>>>>>> 27983cf412684dda0ce9d17c39096def1604af24
    },
    {
     "cell_type": "code",
     "collapsed": false,
     "input": [
      "sum_of_squers_var(x)"
     ],
     "language": "python",
     "metadata": {},
     "outputs": [
      {
       "metadata": {},
       "output_type": "pyout",
<<<<<<< HEAD
<<<<<<< HEAD
       "prompt_number": 40,
=======
       "prompt_number": 37,
>>>>>>> 8ad8940c2da936619fc155ead5cff8ac90e265fa
=======
       "prompt_number": 40,
>>>>>>> 27983cf412684dda0ce9d17c39096def1604af24
       "text": [
        "737870500.8189"
       ]
      }
     ],
<<<<<<< HEAD
<<<<<<< HEAD
     "prompt_number": 40
=======
     "prompt_number": 37
>>>>>>> 8ad8940c2da936619fc155ead5cff8ac90e265fa
=======
     "prompt_number": 40
>>>>>>> 27983cf412684dda0ce9d17c39096def1604af24
    },
    {
     "cell_type": "code",
     "collapsed": false,
     "input": [
      "direct_var(x)"
     ],
     "language": "python",
     "metadata": {},
     "outputs": [
      {
       "metadata": {},
       "output_type": "pyout",
       "prompt_number": 38,
       "text": [
        "0.0835"
       ]
      }
     ],
     "prompt_number": 38
    },
    {
     "cell_type": "code",
     "collapsed": false,
     "input": [
      "welford_var(x)"
     ],
     "language": "python",
     "metadata": {},
     "outputs": [
      {
       "metadata": {},
       "output_type": "pyout",
       "prompt_number": 39,
       "text": [
        "0.0835"
       ]
      }
     ],
     "prompt_number": 39
    },
    {
     "cell_type": "markdown",
     "metadata": {},
     "source": [
      "<font color=blue>Lesson: Mathematical formulas may behave differently when directly translated into code!</font>\n",
      "\n",
<<<<<<< HEAD
      "This problem also appears in navie algorithms for finding simple regression coefficients and Pearson\u2019s correlation coefficient.\n",
      "\n",
      "See this series of blog posts for a clear explanation:\n",
      "\n",
      "* <http://www.johndcook.com/blog/2008/09/28/theoretical-explanation-for-numerical-results/>\n",
      "* <http://www.johndcook.com/blog/2008/09/26/comparing-three-methods-of-computing-standard-deviation/>\n",
      "* <http://www.johndcook.com/blog/2008/10/20/comparing-two-ways-to-fit-a-line-to-data/>\n",
      "* <http://www.johndcook.com/blog/2008/11/05/how-to-calculate-pearson-correlation-accurately/>"
     ]
    },
    {
     "cell_type": "markdown",
     "metadata": {},
     "source": [
      "### Avoiding catastrophic cancellation by formula rearrangement\n",
      "\n",
      "There are a copule of common tricks that may be useful if you are worried about catastrophic cancellation.\n",
      "\n",
      "#### Use library functions where possible\n",
      "\n",
      "Instead of \n",
      "\n",
      "```\n",
      "np.log(x + 1)\n",
      "```\n",
      "\n",
      "which can be inaccurate for $x$ near zero, use\n",
      "\n",
      "```\n",
      "np.log1p(x)\n",
      "```\n",
      "\n",
      "Similarly, instead of \n",
      "\n",
      "```\n",
      "np.sin(x)/x\n",
      "```\n",
      "\n",
      "use\n",
      "\n",
      "```\n",
      "np.sinc(x)\n",
      "```\n",
      "\n",
      "See if [Numpy base functions](http://docs.scipy.org/doc/numpy/reference/routines.math.html) has what you need.\n",
      "\n",
      "#### Rationalize the numerator to remove cancellation for the following problem\n",
      "\n",
      "$$\n",
      "\\sqrt{x + 1} - \\sqrt{x}\n",
      "$$\n",
      "\n",
      "#### Use basic algebra to remove canceellation for the following problem\n",
      "\n",
      "$$\n",
      "\\frac{1}{\\sqrt x} - \\frac{1}{\\sqrt{x + 1}}\n",
      "$$\n",
      "\n",
      "#### Use trignometric identities to remove cancellation for the following 3 problems\n",
      "\n",
      "$$\n",
      "\\sin (x+ \\epsilon) - \\sin x \n",
      "$$\n",
      "\n",
      "\n",
      "$$\n",
      "\\frac{1 - \\cos x}{\\sin x}\n",
      "$$\n",
      "\n",
      "\n",
      "$$ \n",
      "\\int_N^{N+1} \\frac{dx}{1 + x^2}\n",
      "$$  "
=======
      "This problem also appears in navie algorithms for finding simple regression coefficients and Pearson\u2019s correlation coefficient."
>>>>>>> 8ad8940c2da936619fc155ead5cff8ac90e265fa
     ]
    },
    {
     "cell_type": "markdown",
     "metadata": {},
     "source": [
      "### Poorly conditioned problems"
     ]
    },
    {
     "cell_type": "code",
     "collapsed": false,
     "input": [
      "# The tangent function is poorly conditioned\n",
      "\n",
      "x1 = 1.57078\n",
      "x2 = 1.57079\n",
      "t1 = np.tan(x1)\n",
      "t2 = np.tan(x2)"
     ],
     "language": "python",
     "metadata": {},
     "outputs": [],
<<<<<<< HEAD
<<<<<<< HEAD
     "prompt_number": 41
=======
     "prompt_number": 40
>>>>>>> 8ad8940c2da936619fc155ead5cff8ac90e265fa
=======
     "prompt_number": 41
>>>>>>> 27983cf412684dda0ce9d17c39096def1604af24
    },
    {
     "cell_type": "code",
     "collapsed": false,
     "input": [
      "print 't1 =', t1\n",
      "print 't2 =', t2\n",
      "print '% change in x =', 100.0*(x2-x1)/x1\n",
      "print '% change in tan(x) =', (100.0*(t2-t1)/t1)"
     ],
     "language": "python",
     "metadata": {},
     "outputs": [
      {
       "output_type": "stream",
       "stream": "stdout",
       "text": [
        "t1 = 61249.0085315\n",
        "t2 = 158057.913416\n",
        "% change in x = 0.000636626389427\n",
        "% change in tan(x) = 158.057913435\n"
       ]
      }
     ],
<<<<<<< HEAD
<<<<<<< HEAD
     "prompt_number": 43
=======
     "prompt_number": 41
>>>>>>> 8ad8940c2da936619fc155ead5cff8ac90e265fa
=======
     "prompt_number": 43
>>>>>>> 27983cf412684dda0ce9d17c39096def1604af24
    },
    {
     "cell_type": "markdown",
     "metadata": {},
     "source": [
      "**Ill-conditioned matrices**"
     ]
    },
    {
     "cell_type": "markdown",
     "metadata": {},
     "source": [
      "In this example, we want to solve a simple linear system Ax = b\n",
      "where A and b are given."
     ]
    },
    {
     "cell_type": "code",
     "collapsed": false,
     "input": [
      "A = 0.5*np.array([[1,1], [1+1e-10, 1-1e-10]])\n",
      "b1 = np.array([2,2])\n",
      "b2 = np.array([2.01, 2])"
     ],
     "language": "python",
     "metadata": {},
     "outputs": [],
<<<<<<< HEAD
<<<<<<< HEAD
     "prompt_number": 44
=======
     "prompt_number": 42
>>>>>>> 8ad8940c2da936619fc155ead5cff8ac90e265fa
=======
     "prompt_number": 44
>>>>>>> 27983cf412684dda0ce9d17c39096def1604af24
    },
    {
     "cell_type": "code",
     "collapsed": false,
     "input": [
      "np.linalg.solve(A, b1)"
     ],
     "language": "python",
     "metadata": {},
     "outputs": [
      {
       "metadata": {},
       "output_type": "pyout",
<<<<<<< HEAD
<<<<<<< HEAD
       "prompt_number": 45,
=======
       "prompt_number": 43,
>>>>>>> 8ad8940c2da936619fc155ead5cff8ac90e265fa
=======
       "prompt_number": 45,
>>>>>>> 27983cf412684dda0ce9d17c39096def1604af24
       "text": [
        "array([ 2.,  2.])"
       ]
      }
     ],
<<<<<<< HEAD
<<<<<<< HEAD
     "prompt_number": 45
=======
     "prompt_number": 43
>>>>>>> 8ad8940c2da936619fc155ead5cff8ac90e265fa
=======
     "prompt_number": 45
>>>>>>> 27983cf412684dda0ce9d17c39096def1604af24
    },
    {
     "cell_type": "code",
     "collapsed": false,
     "input": [
      "np.linalg.solve(A, b2)"
     ],
     "language": "python",
     "metadata": {},
     "outputs": [
      {
       "metadata": {},
       "output_type": "pyout",
<<<<<<< HEAD
<<<<<<< HEAD
       "prompt_number": 46,
=======
       "prompt_number": 44,
>>>>>>> 8ad8940c2da936619fc155ead5cff8ac90e265fa
=======
       "prompt_number": 46,
>>>>>>> 27983cf412684dda0ce9d17c39096def1604af24
       "text": [
        "array([-99999989.706,  99999993.726])"
       ]
      }
     ],
<<<<<<< HEAD
<<<<<<< HEAD
     "prompt_number": 46
=======
     "prompt_number": 44
>>>>>>> 8ad8940c2da936619fc155ead5cff8ac90e265fa
=======
     "prompt_number": 46
>>>>>>> 27983cf412684dda0ce9d17c39096def1604af24
    },
    {
     "cell_type": "markdown",
     "metadata": {},
     "source": [
      "The condition number of a matrix is a useful diagnostic - it is defined as the norm of A times the norm of the inverse of A. If this number is large, the matrix is ill-conditioned. Since there are many ways to calculuate a matrix norm, there are also many condition numbers, but they are roughly equivalent for our purpsoes."
     ]
    },
    {
     "cell_type": "code",
     "collapsed": false,
     "input": [
      "np.linalg.cond(A)"
     ],
     "language": "python",
     "metadata": {},
     "outputs": [
      {
       "metadata": {},
       "output_type": "pyout",
<<<<<<< HEAD
<<<<<<< HEAD
       "prompt_number": 47,
=======
       "prompt_number": 45,
>>>>>>> 8ad8940c2da936619fc155ead5cff8ac90e265fa
=======
       "prompt_number": 47,
>>>>>>> 27983cf412684dda0ce9d17c39096def1604af24
       "text": [
        "19999973849.2252"
       ]
      }
     ],
<<<<<<< HEAD
<<<<<<< HEAD
     "prompt_number": 47
=======
     "prompt_number": 45
>>>>>>> 8ad8940c2da936619fc155ead5cff8ac90e265fa
=======
     "prompt_number": 47
>>>>>>> 27983cf412684dda0ce9d17c39096def1604af24
    },
    {
     "cell_type": "code",
     "collapsed": false,
     "input": [
      "np.linalg.cond(A, 'fro')"
     ],
     "language": "python",
     "metadata": {},
     "outputs": [
      {
       "metadata": {},
       "output_type": "pyout",
<<<<<<< HEAD
<<<<<<< HEAD
       "prompt_number": 48,
=======
       "prompt_number": 46,
>>>>>>> 8ad8940c2da936619fc155ead5cff8ac90e265fa
=======
       "prompt_number": 48,
>>>>>>> 27983cf412684dda0ce9d17c39096def1604af24
       "text": [
        "19999998343.1927"
       ]
      }
     ],
<<<<<<< HEAD
<<<<<<< HEAD
     "prompt_number": 48
=======
     "prompt_number": 46
=======
     "prompt_number": 48
>>>>>>> 27983cf412684dda0ce9d17c39096def1604af24
    },
    {
     "cell_type": "markdown",
     "metadata": {},
     "source": [
      "<font color=blue>Lesson: Accuracy depends on both stability and conditioning.</font>"
     ]
>>>>>>> 8ad8940c2da936619fc155ead5cff8ac90e265fa
    },
    {
     "cell_type": "markdown",
     "metadata": {},
     "source": [
      "#### Simple things to try with ill-conditioned matrices\n",
      "\n",
      "- Can you remove dependent or collinear variables? If one variable is (almost) an exact muliple of another, it provides no additional information and can be removed from the matrix.\n",
      "- Can you normalize the data so that all vairables are on the same scale? For example, if columns represent featrue values, standardizign featurres to have zero mean and unit standard deviaiton can be helpful.\n",
      "- Can you use functions from linear algebra libraries instead of rolling your own. For example, the `lstsq` function from `scipy.linalg` will deal with collinear variables sensibly."
     ]
    },
    {
<<<<<<< HEAD
=======
     "cell_type": "code",
     "collapsed": false,
     "input": [
      "# Collinear variables\n",
      "\n",
      "n, p = 10, 6\n",
      "\n",
      "A = np.random.random((n,p))\n",
      "A[:, -1] = A[:, 0] # create dependent column\n",
      "x = np.random.random(p).reshape((p, 1))\n",
      "x[-1] = x[0]\n",
      "b = np.dot(A, x)\n",
      "\n",
      "import scipy.linalg as la\n",
      "\n",
      "xhat = la.lstsq(A, b)[0]\n",
      "print x.T\n",
      "print xhat.T\n",
      "\n",
      "# roll your own version using $A^TA x = A^Tb$\n",
      "# This may either fail becuas the matix is singular \n",
      "# or give erroneous results (matrix is not singular due \n",
      "# to floaing point inaccuracies)\n",
      "try:\n",
      "    xhat1 = la.solve(np.dot(A.T, A), np.dot(A.T, b))\n",
      "    print xhat1.T\n",
      "except la.LinAlgError:\n",
      "    print \"Singluar matrix\""
     ],
     "language": "python",
     "metadata": {},
     "outputs": [
      {
       "output_type": "stream",
       "stream": "stdout",
       "text": [
        "[[ 0.8464  0.8527  0.6134  0.3143  0.4506  0.8464]]\n",
        "[[ 0.8464  0.8527  0.6134  0.3143  0.4506  0.8464]]\n",
        "Singluar matrix\n"
       ]
      }
     ],
     "prompt_number": 52
    },
    {
>>>>>>> 8ad8940c2da936619fc155ead5cff8ac90e265fa
     "cell_type": "markdown",
     "metadata": {},
     "source": [
      "Exercises\n",
      "----"
     ]
    },
    {
     "cell_type": "markdown",
     "metadata": {},
     "source": [
      "The topic is rather specialized and the main goal is just to have you aware of the \"leaky abstraction\" of computer numbers as simulations of mathematical numbers, and common situations where this can casue problems. Once you are aware of these areas, you can either avoid them using simple rules, or look for an apprpriate numerical library fuctionn to use instead. So there will be no exericses on the topic of computer arithmetic, conditioning and stability given."
     ]
    },
    {
     "cell_type": "markdown",
     "metadata": {},
     "source": [
      "Instead, you need to get as comforatble with the use of arrays in numpy as much as possible for the rest of the course. For practice, see the entertaining examples and exercises at\n",
      "\n",
      "[Nicolas P. Rougier's  numpy tutorial](http://www.labri.fr/perso/nrougier/teaching/numpy/numpy.html)\n",
      "\n",
      "At the end, there are further links to yet more numpy tutorials!"
     ]
    }
   ],
   "metadata": {}
  }
 ]
}