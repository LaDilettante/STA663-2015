{
 "metadata": {
  "name": "",
<<<<<<< HEAD
  "signature": "sha256:68c872e154ff5a01bd3c052ab8011d62748c7c05a36a0c4f88f97bd377d92458"
=======
  "signature": "sha256:88fdac0f35440fc0c8e3adce5f23d79950b52bf71b3484a9e0aa71b5774c1863"
>>>>>>> 8ad8940c2da936619fc155ead5cff8ac90e265fa
 },
 "nbformat": 3,
 "nbformat_minor": 0,
 "worksheets": [
  {
   "cells": [
    {
     "cell_type": "code",
     "collapsed": false,
     "input": [
      "import os\n",
      "import sys\n",
      "import glob\n",
      "import matplotlib.pyplot as plt\n",
      "import numpy as np\n",
      "import pandas as pd\n",
      "%matplotlib inline\n",
      "%precision 4\n",
<<<<<<< HEAD
      "np.random.seed(1)\n",
      "plt.style.use('ggplot')"
=======
      "np.random.seed(1)"
>>>>>>> 8ad8940c2da936619fc155ead5cff8ac90e265fa
     ],
     "language": "python",
     "metadata": {},
     "outputs": [],
<<<<<<< HEAD
     "prompt_number": 29
=======
     "prompt_number": 1
>>>>>>> 8ad8940c2da936619fc155ead5cff8ac90e265fa
    },
    {
     "cell_type": "code",
     "collapsed": false,
     "input": [
      "import scipy.stats as st"
     ],
     "language": "python",
     "metadata": {},
     "outputs": [],
<<<<<<< HEAD
     "prompt_number": 30
    },
    {
     "cell_type": "markdown",
     "metadata": {},
     "source": [
      "Computational problems in statistics\n",
      "----\n",
      "\n",
      "Starting with some data (which may come from an experiment or a simulation), we often use statsitics to answer a few typcical questions:\n",
      "\n",
      "- How well does the data match some assumed (null) distribution [hypotehsis testing]?\n",
      "- If it doesn't match well but we think it is likely to belong to a known family of distributions, can we estiamte the parameters [point estimate]?\n",
      "- How accurate are the parameter estimates [interval estimates]?\n",
      "- Can we estimate the entire distribution [function estimation or approximation]?\n",
      "\n",
      "Most commonly, the computational approaches used to address these questions will involve\n",
      "\n",
      "- minimization off residuals (e.g. least squeares)\n",
      "    - Numerical optimization\n",
      "- maximum likelihood\n",
      "    - Numerical optimization\n",
      "    - Expectation maximization (EM)\n",
      "- Monte Carlo methods\n",
      "    - Simulation of null distribution (bootstrap, permutation)\n",
      "    - Estimation of posterior density (Monte Carlo integration, MCMC, EM) \n",
      "\n",
      "Rarely (i.e. textbook examples), we can find a closed form solution to these problems."
     ]
=======
     "prompt_number": 2
>>>>>>> 8ad8940c2da936619fc155ead5cff8ac90e265fa
    },
    {
     "cell_type": "markdown",
     "metadata": {},
     "source": [
      "Textbook example - is coin fair?\n",
<<<<<<< HEAD
      "----\n",
      "\n",
      "Data comes from simulation."
=======
      "----"
>>>>>>> 8ad8940c2da936619fc155ead5cff8ac90e265fa
     ]
    },
    {
     "cell_type": "code",
     "collapsed": false,
     "input": [
      "n = 100\n",
      "pcoin = 0.62 # actual value of p for coin\n",
<<<<<<< HEAD
      "results = st.bernoulli(pcoin).rvs(n)\n",
      "h = sum(results)\n",
=======
      "results = st.bernoulli(pcoin).rvs(100)\n",
      "h = sum(results)\n",
      "p = 0.5\n",
>>>>>>> 8ad8940c2da936619fc155ead5cff8ac90e265fa
      "print h"
     ],
     "language": "python",
     "metadata": {},
     "outputs": [
      {
       "output_type": "stream",
       "stream": "stdout",
       "text": [
        "62\n"
       ]
      }
     ],
<<<<<<< HEAD
     "prompt_number": 31
=======
     "prompt_number": 3
>>>>>>> 8ad8940c2da936619fc155ead5cff8ac90e265fa
    },
    {
     "cell_type": "code",
     "collapsed": false,
     "input": [
      "# Expected distribution for fair coin\n",
<<<<<<< HEAD
      "p = 0.5\n",
=======
>>>>>>> 8ad8940c2da936619fc155ead5cff8ac90e265fa
      "rv = st.binom(n, p)\n",
      "mu = rv.mean()\n",
      "sd = rv.std()\n",
      "mu, sd"
     ],
     "language": "python",
     "metadata": {},
     "outputs": [
      {
       "metadata": {},
       "output_type": "pyout",
<<<<<<< HEAD
       "prompt_number": 32,
=======
       "prompt_number": 4,
>>>>>>> 8ad8940c2da936619fc155ead5cff8ac90e265fa
       "text": [
        "(50.0000, 5.0000)"
       ]
      }
     ],
<<<<<<< HEAD
     "prompt_number": 32
=======
     "prompt_number": 4
>>>>>>> 8ad8940c2da936619fc155ead5cff8ac90e265fa
    },
    {
     "cell_type": "markdown",
     "metadata": {},
     "source": [
<<<<<<< HEAD
      "### Using binomial test\n",
      "\n",
      "Hypothesis testing framework."
=======
      "### Using binomial test"
>>>>>>> 8ad8940c2da936619fc155ead5cff8ac90e265fa
     ]
    },
    {
     "cell_type": "code",
     "collapsed": false,
     "input": [
      "st.binom_test(h, n, p)"
     ],
     "language": "python",
     "metadata": {},
     "outputs": [
      {
       "metadata": {},
       "output_type": "pyout",
<<<<<<< HEAD
       "prompt_number": 33,
=======
       "prompt_number": 5,
>>>>>>> 8ad8940c2da936619fc155ead5cff8ac90e265fa
       "text": [
        "0.0210"
       ]
      }
     ],
<<<<<<< HEAD
     "prompt_number": 33
=======
     "prompt_number": 5
>>>>>>> 8ad8940c2da936619fc155ead5cff8ac90e265fa
    },
    {
     "cell_type": "markdown",
     "metadata": {},
     "source": [
<<<<<<< HEAD
      "### Using z-test approximation with continuity correction\n",
      "\n",
      "Use of approximation when true solution is computatioanlly expensive."
=======
      "### Using z-test approximation with continuity correction"
>>>>>>> 8ad8940c2da936619fc155ead5cff8ac90e265fa
     ]
    },
    {
     "cell_type": "code",
     "collapsed": false,
     "input": [
      "z = (h-0.5-mu)/sd\n",
      "z"
     ],
     "language": "python",
     "metadata": {},
     "outputs": [
      {
       "metadata": {},
       "output_type": "pyout",
<<<<<<< HEAD
       "prompt_number": 34,
=======
       "prompt_number": 6,
>>>>>>> 8ad8940c2da936619fc155ead5cff8ac90e265fa
       "text": [
        "2.3000"
       ]
      }
     ],
<<<<<<< HEAD
     "prompt_number": 34
=======
     "prompt_number": 6
>>>>>>> 8ad8940c2da936619fc155ead5cff8ac90e265fa
    },
    {
     "cell_type": "code",
     "collapsed": false,
     "input": [
      "2*(1 - st.norm.cdf(z))"
     ],
     "language": "python",
     "metadata": {},
     "outputs": [
      {
       "metadata": {},
       "output_type": "pyout",
<<<<<<< HEAD
       "prompt_number": 35,
=======
       "prompt_number": 7,
>>>>>>> 8ad8940c2da936619fc155ead5cff8ac90e265fa
       "text": [
        "0.0214"
       ]
      }
     ],
<<<<<<< HEAD
     "prompt_number": 35
=======
     "prompt_number": 7
>>>>>>> 8ad8940c2da936619fc155ead5cff8ac90e265fa
    },
    {
     "cell_type": "markdown",
     "metadata": {},
     "source": [
<<<<<<< HEAD
      "### Using simulation to estimate null distribution\n",
      "\n",
      "Use simulaiton when we don't have any theory (e.g. data doesen't meet assumptions of test)"
=======
      "### Using simulation to estimate null distribution"
>>>>>>> 8ad8940c2da936619fc155ead5cff8ac90e265fa
     ]
    },
    {
     "cell_type": "code",
     "collapsed": false,
     "input": [
      "nsamples = 100000\n",
      "xs = np.random.binomial(n, p, nsamples)"
     ],
     "language": "python",
     "metadata": {},
     "outputs": [],
<<<<<<< HEAD
     "prompt_number": 36
=======
     "prompt_number": 8
>>>>>>> 8ad8940c2da936619fc155ead5cff8ac90e265fa
    },
    {
     "cell_type": "code",
     "collapsed": false,
     "input": [
      "2*np.sum(xs >= h)/(xs.size + 0.0)"
     ],
     "language": "python",
     "metadata": {},
     "outputs": [
      {
       "metadata": {},
       "output_type": "pyout",
<<<<<<< HEAD
       "prompt_number": 37,
=======
       "prompt_number": 9,
>>>>>>> 8ad8940c2da936619fc155ead5cff8ac90e265fa
       "text": [
        "0.0202"
       ]
      }
     ],
<<<<<<< HEAD
     "prompt_number": 37
=======
     "prompt_number": 9
>>>>>>> 8ad8940c2da936619fc155ead5cff8ac90e265fa
    },
    {
     "cell_type": "markdown",
     "metadata": {},
     "source": [
<<<<<<< HEAD
      "### Maximum likelihood estimate of pcoin\n",
      "\n",
      "Point estimate of parameter."
=======
      "### Maximum likelihood estimate of pcoin"
>>>>>>> 8ad8940c2da936619fc155ead5cff8ac90e265fa
     ]
    },
    {
     "cell_type": "code",
     "collapsed": false,
     "input": [
      "print \"Maximum likelihood\", np.sum(results)/float(len(results))"
     ],
     "language": "python",
     "metadata": {},
     "outputs": [
      {
       "output_type": "stream",
       "stream": "stdout",
       "text": [
        "Maximum likelihood 0.62\n"
       ]
      }
     ],
<<<<<<< HEAD
     "prompt_number": 38
=======
     "prompt_number": 10
>>>>>>> 8ad8940c2da936619fc155ead5cff8ac90e265fa
    },
    {
     "cell_type": "markdown",
     "metadata": {},
     "source": [
<<<<<<< HEAD
      "### Using bootstrap to esitmate confidenc intervals for pcoin\n",
      "\n",
      "Interval etsimate of parameter."
=======
      "### Using bootstrap to esitmate confidenc intervals for pcoin"
>>>>>>> 8ad8940c2da936619fc155ead5cff8ac90e265fa
     ]
    },
    {
     "cell_type": "code",
     "collapsed": false,
     "input": [
      "bs_samples = np.random.choice(results, (nsamples, len(results)), replace=True)\n",
      "bs_ps = np.mean(bs_samples, axis=1)\n",
      "bs_ps.sort()\n",
      "print \"Bootstrap CI: (%.4f, %.4f)\" % (bs_ps[int(0.025*nsamples)], bs_ps[int(0.975*nsamples)])"
     ],
     "language": "python",
     "metadata": {},
     "outputs": [
      {
       "output_type": "stream",
       "stream": "stdout",
       "text": [
        "Bootstrap CI: (0.5200, 0.7100)\n"
       ]
      }
     ],
<<<<<<< HEAD
     "prompt_number": 39
=======
     "prompt_number": 14
>>>>>>> 8ad8940c2da936619fc155ead5cff8ac90e265fa
    },
    {
     "cell_type": "markdown",
     "metadata": {},
     "source": [
      "Bayesian approach\n",
<<<<<<< HEAD
      "----\n",
      "\n",
      "The Bayesian approach directly estimates the posterior distribution, from which all other point/interval statistics can be estimated."
=======
      "----"
>>>>>>> 8ad8940c2da936619fc155ead5cff8ac90e265fa
     ]
    },
    {
     "cell_type": "code",
     "collapsed": false,
     "input": [
      "a, b = 10, 10\n",
      "prior = st.beta(a, b)\n",
      "post = st.beta(h+a, n-h+b)\n",
      "ci = post.interval(0.95)\n",
<<<<<<< HEAD
      "map_ =(h+a-1.0)/(n+a+b-2.0)\n",
      "\n",
      "xs = np.linspace(0, 1, 100)\n",
      "plt.plot(prior.pdf(xs), label='Prior')\n",
      "plt.plot(post.pdf(xs), label='Posterior')\n",
      "plt.axvline(mu, c='red', linestyle='dashed', alpha=0.4)\n",
      "plt.xlim([0, 100])\n",
      "plt.axhline(0.3, ci[0], ci[1], c='black', linewidth=2, label='95% CI');\n",
      "plt.axvline(n*map_, c='blue', linestyle='dashed', alpha=0.4)\n",
=======
      "\n",
      "xs = np.linspace(0, 1, 100)\n",
      "plt.style.use('ggplot')\n",
      "plt.plot(prior.pdf(xs), label='Prior')\n",
      "plt.plot(post.pdf(xs), label='Posterior')\n",
      "plt.axvline(mu, linestyle='dashed', alpha=0.4)\n",
      "plt.xlim([0, 100])\n",
      "plt.axhline(0.3, ci[0], ci[1], c='black', linewidth=2, label='95% CI');\n",
>>>>>>> 8ad8940c2da936619fc155ead5cff8ac90e265fa
      "plt.legend();"
     ],
     "language": "python",
     "metadata": {},
     "outputs": [
      {
       "metadata": {},
       "output_type": "display_data",
<<<<<<< HEAD
       "png": "iVBORw0KGgoAAAANSUhEUgAAAXMAAAEECAYAAADandTrAAAABHNCSVQICAgIfAhkiAAAAAlwSFlz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\nuRBCdAL/D2iaTUgmqYFjAAAAAElFTkSuQmCC\n",
       "text": [
        "<matplotlib.figure.Figure at 0x11e84de10>"
       ]
      }
     ],
     "prompt_number": 40
=======
       "png": "iVBORw0KGgoAAAANSUhEUgAAAXMAAAEECAYAAADandTrAAAABHNCSVQICAgIfAhkiAAAAAlwSFlz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\nyVwIIboASeZCCNEF/D+giMQ5FyM/9wAAAABJRU5ErkJggg==\n",
       "text": [
        "<matplotlib.figure.Figure at 0x11434a110>"
       ]
      }
     ],
     "prompt_number": 12
>>>>>>> 8ad8940c2da936619fc155ead5cff8ac90e265fa
    },
    {
     "cell_type": "markdown",
     "metadata": {},
     "source": [
      "Comment\n",
      "----\n",
      "\n",
<<<<<<< HEAD
      "All the above calculations have simple analytic solutions. For most real life problems reuqireing more complex statistical models, we will need to search for solutions using more advanced numerical methods and simulations. However, the types of problems that we will be addressing are largely similar to those asked of the toy coin toss problem. These include\n",
=======
      "All the above calculations have simple analytic solutions. In genreral, for most real life problems reuqireing more complex statistical models, we will need to search for solutions using more advanced numerical methods and simulations. However, the types of problems that we will be addressing are largely similar to those asked of the toy coin toss problem. These include\n",
>>>>>>> 8ad8940c2da936619fc155ead5cff8ac90e265fa
      "\n",
      "- point estimation (e.g. summary statistics)\n",
      "- interval estimation (e.g. confidence intervals or Bayesian credible intervals)\n",
      "- function estimation (e.g. density estimation, posteriro distributions)\n",
      "\n",
      "and most will require some knowledge of numerical methods for \n",
      "\n",
      "- optimization (e.g. least squares minimizaiton, maximum likelihood)\n",
<<<<<<< HEAD
      "- Monte Carlo simulations (e.g. Monte Carlo integration, MCMC, bootstrap, permutation-resampling)\n",
=======
      "- Monte Carlo simulations (e.g. Monte Carlo integration, MCMC, permutation-resampling)\n",
>>>>>>> 8ad8940c2da936619fc155ead5cff8ac90e265fa
      "\n",
      "The next section of the course will focus on the ideas behiind these numerical methods."
     ]
    },
    {
     "cell_type": "code",
     "collapsed": false,
     "input": [],
     "language": "python",
     "metadata": {},
<<<<<<< HEAD
     "outputs": [],
     "prompt_number": 40
=======
     "outputs": []
>>>>>>> 8ad8940c2da936619fc155ead5cff8ac90e265fa
    }
   ],
   "metadata": {}
  }
 ]
}