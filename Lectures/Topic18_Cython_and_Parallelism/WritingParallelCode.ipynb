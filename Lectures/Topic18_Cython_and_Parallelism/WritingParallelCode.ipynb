{
 "metadata": {
  "name": "",
  "signature": "sha256:7a96c9b72d1f23f2e57515eb25a24d5f02f18fe731f7ea26a8dc83e392e10f83"
 },
 "nbformat": 3,
 "nbformat_minor": 0,
 "worksheets": [
  {
   "cells": [
    {
     "cell_type": "code",
     "collapsed": false,
     "input": [
      "from __future__ import division\n",
      "import os\n",
      "import sys\n",
      "import glob\n",
      "import matplotlib.pyplot as plt\n",
      "import numpy as np\n",
      "import pandas as pd\n",
      "%matplotlib inline\n",
      "%precision 4\n",
      "plt.style.use('ggplot')\n"
     ],
     "language": "python",
     "metadata": {},
     "outputs": [],
     "prompt_number": 7
    },
    {
     "cell_type": "code",
     "collapsed": false,
     "input": [
      "%load_ext cythonmagic"
     ],
     "language": "python",
     "metadata": {},
     "outputs": [
      {
       "output_type": "stream",
       "stream": "stdout",
       "text": [
        "The cythonmagic extension is already loaded. To reload it, use:\n",
        "  %reload_ext cythonmagic\n"
       ]
      }
     ],
     "prompt_number": 8
    },
    {
     "cell_type": "code",
     "collapsed": false,
     "input": [
      "from numba import jit, typeof, int32, int64, float32, float64"
     ],
     "language": "python",
     "metadata": {},
     "outputs": [],
     "prompt_number": 9
    },
    {
     "cell_type": "code",
     "collapsed": false,
     "input": [
      "import random"
     ],
     "language": "python",
     "metadata": {},
     "outputs": [],
     "prompt_number": 10
    },
    {
     "cell_type": "markdown",
     "metadata": {},
     "source": [
      "Analysis of problems for parallelism\n",
      "----\n",
      "\n",
      "The goal is to desing parallel programs that are flexible, efficient and simple.\n",
      "\n",
      "**Step 0**: Start by profiling a serial program to identify bottlenecks\n",
      "\n",
      "**Step 1**: Are there for opportunities for parallism?\n",
      "\n",
      "- Can tasks be perforemd in parallel?\n",
      "    - Function calls\n",
      "    - Loops\n",
      "- Can data be split and operated on in parallel?\n",
      "    - Decomposition of arrays along rows, columns, blocks\n",
      "    - Decomposition of trees into sub-trees\n",
      "- Is there a pipeline with a sequence of stages?\n",
      "    - Data preprocesing and analysis\n",
      "    - Graphics rendering\n",
      "\n",
      "**Step 2**: What is the nature of the parallelism?\n",
      "\n",
      "- Linear\n",
      "    - Embarassingly parallel programs\n",
      "- Recursive\n",
      "    - Adaptive partitioning methods\n",
      "\n",
      "**Step 3**: What is the granularity?\n",
      "\n",
      "- 10s of jobs\n",
      "- 1000s of jobs\n",
      "\n",
      "**Step 4**: Choose an algorihtm\n",
      "\n",
      "- Organize by tasks\n",
      "    - Task parallelism\n",
      "    - Dvidie and conquer\n",
      "\n",
      "- Organize by data\n",
      "    - Geometric decomposition\n",
      "    - Recursvie decomposition\n",
      "\n",
      "- Organize by flow\n",
      "    - Pipeline\n",
      "    - Event-based processing\n",
      "\n",
      "**Step 5**: Map to program and data structures\n",
      "\n",
      "- Program structures\n",
      "    - Single program multiple data (SPMD)\n",
      "    - Master/worker\n",
      "    - Loop parallelism\n",
      "    - Fork/join\n",
      "- Data structures \n",
      "    - Shared data\n",
      "    - Shared queue\n",
      "    - Distributed array\n",
      "\n",
      "**Step 6**: Map to parallel environment\n",
      "\n",
      "- Multi-core shared memrory\n",
      "    - Cython with OpenMP\n",
      "    - multiprocessing\n",
      "    - IPython.cluster\n",
      "- Multi-computer\n",
      "    - IPython.cluster\n",
      "    - MPI\n",
      "    - Hadoop / Spark\n",
      "- GPU\n",
      "    - CUDA\n",
      "    - OpenCL\n",
      "\n",
      "**Step 7**: Execute, debug, tune in parallel environment"
     ]
    },
    {
     "cell_type": "markdown",
     "metadata": {},
     "source": [
      "Concepts\n",
      "----\n",
      "\n",
      "- A **task** is a chunk of work that a parallel Unit of Execution can do\n",
      "- A **Unit of Execution (UE)** is a process or thread\n",
      "- A **Processing Element (PE)** is a hardware computational unit - e.g. a hyperthreaded core\n",
      "- **Load balance** refers to how tasks are distributed to Processing Eleements\n",
      "- **Synchronization** occurs when execution must stop at the same point for all Units of Execution\n",
      "- **Race conditions** occur when different Units of Executions compete for the same resource and the output depends on who gets the resource first\n",
      "- **Dead locks** occur when A is waiting for B and B is waiting for A"
     ]
    },
    {
     "cell_type": "markdown",
     "metadata": {},
     "source": [
      "Embarassingly parallel programs\n",
      "----\n",
      "\n",
      "Many statistical problems are embarassingly parallel and cna be easily decomposed into independent tasks or data sets. Here are several examples:\n",
      "\n",
      "- Monte Carlo integration\n",
      "- Mulitiple chains of MCMC\n",
      "- Boostrap for condence intervals\n",
      "- Power calculations by simulation\n",
      "- Permuatation-resampling tests \n",
      "- Fitting same model on multiple data sets\n",
      "\n",
      "Other problems are serial at small scale, but can be parallelized at large scales. For example, EM and MCMC iterations are inherently serial since there is a dependence on the previous state, but within a single iteration, there can be many thousands of density calculations (one for each data poinnt to calculate the likelihood), and this is an embarassingly parallel problem within a single itneration. \n",
      "\n",
      "These \"low hanging fruits\" are great because they offer a path to easy parallelism with minimal complexity."
     ]
    },
    {
     "cell_type": "markdown",
     "metadata": {},
     "source": [
      "### Estimating $\\pi$ using Monte Carlo integration\n",
      "\n",
      "This is clearly a toy example, but the template cna be used for most embarassingly parallel problems. First we see how much we can speed-up the serial code by the use of compilation, then we apply parallel processing for a furhter linear speed-up in the number of processors. "
     ]
    },
    {
     "cell_type": "code",
     "collapsed": false,
     "input": [
      "def pi_python(n):\n",
      "    s = 0\n",
      "    for i in range(n):\n",
      "        x = random.uniform(-1, 1)\n",
      "        y = random.uniform(-1, 1)\n",
      "        if (x**2 + y**2) < 1:\n",
      "            s += 1\n",
      "    return s/n"
     ],
     "language": "python",
     "metadata": {},
     "outputs": [],
     "prompt_number": 11
    },
    {
     "cell_type": "code",
     "collapsed": false,
     "input": [
      "stats = %prun -r -q pi_python(1000000)"
     ],
     "language": "python",
     "metadata": {},
     "outputs": [
      {
       "output_type": "stream",
       "stream": "stdout",
       "text": [
        " "
       ]
      }
     ],
     "prompt_number": 12
    },
    {
     "cell_type": "code",
     "collapsed": false,
     "input": [
      "stats.sort_stats('time').print_stats(5);"
     ],
     "language": "python",
     "metadata": {},
     "outputs": [
      {
       "output_type": "stream",
       "stream": "stdout",
       "text": [
        "         4000004 function calls in 1.544 seconds\n",
        "\n",
        "   Ordered by: internal time\n",
        "   List reduced from 6 to 5 due to restriction <5>\n",
        "\n",
        "   ncalls  tottime  percall  cumtime  percall filename:lineno(function)\n",
        "        1    0.779    0.779    1.544    1.544 <ipython-input-11-fe39fab6b921>:1(pi_python)\n",
        "  2000000    0.643    0.000    0.748    0.000 random.py:358(uniform)\n",
        "  2000000    0.105    0.000    0.105    0.000 {method 'random' of '_random.Random' objects}\n",
        "        1    0.018    0.018    0.018    0.018 {range}\n",
        "        1    0.000    0.000    1.544    1.544 <string>:1(<module>)\n",
        "\n",
        "\n"
       ]
      }
     ],
     "prompt_number": 13
    },
    {
     "cell_type": "code",
     "collapsed": false,
     "input": [
      "def pi_numpy(n):\n",
      "    xs = np.random.uniform(-1, 1, (n,2))\n",
      "    return 4.0*((xs**2).sum(axis=1).sum() < 1)/n"
     ],
     "language": "python",
     "metadata": {},
     "outputs": [],
     "prompt_number": 14
    },
    {
     "cell_type": "code",
     "collapsed": false,
     "input": [
      "@jit\n",
      "def pi_numba(n):\n",
      "    s = 0\n",
      "    for i in range(n):\n",
      "        x = random.uniform(-1, 1)\n",
      "        y = random.uniform(-1, 1)\n",
      "        if x**2 + y**2 < 1:\n",
      "            s += 1\n",
      "    return s/n"
     ],
     "language": "python",
     "metadata": {},
     "outputs": [],
     "prompt_number": 15
    },
    {
     "cell_type": "code",
     "collapsed": false,
     "input": [
      "%%cython -a -lgsl\n",
      "import cython\n",
      "import numpy as np\n",
      "cimport numpy as np\n",
      "from cython_gsl cimport gsl_rng_mt19937, gsl_rng, gsl_rng_alloc, gsl_rng_uniform\n",
      "\n",
      "cdef gsl_rng *r = gsl_rng_alloc(gsl_rng_mt19937)\n",
      "\n",
      "@cython.cdivision\n",
      "@cython.boundscheck(False)\n",
      "@cython.wraparound(False)\n",
      "def pi_cython(int n):\n",
      "    cdef int[:] s = np.zeros(n, dtype=np.int32)\n",
      "    cdef int i = 0\n",
      "    cdef double x, y\n",
      "    for i in range(n):\n",
      "        x = gsl_rng_uniform(r)*2 - 1\n",
      "        y = gsl_rng_uniform(r)*2 - 1\n",
      "        s[i] = x**2 + y**2 < 1\n",
      "    cdef int hits = 0\n",
      "    for i in range(n):\n",
      "        hits += s[i]\n",
      "    return 4.0*hits/n"
     ],
     "language": "python",
     "metadata": {},
     "outputs": [
      {
       "output_type": "stream",
       "stream": "stderr",
       "text": [
        "\n",
        "Error compiling Cython file:\n",
        "------------------------------------------------------------\n",
        "...\n",
        "import cython\n",
        "import numpy as np\n",
        "cimport numpy as np\n",
        "from cython_gsl cimport gsl_rng_mt19937, gsl_rng, gsl_rng_alloc, gsl_rng_uniform\n",
        "^\n",
        "------------------------------------------------------------\n",
        "\n",
        "/home/anh/.cache/ipython/cython/_cython_magic_2bbfc222d0ca2fda51246947dbbe2a57.pyx:4:0: 'cython_gsl.pxd' not found\n",
        "\n",
        "Error compiling Cython file:\n",
        "------------------------------------------------------------\n",
        "...\n",
        "import cython\n",
        "import numpy as np\n",
        "cimport numpy as np\n",
        "from cython_gsl cimport gsl_rng_mt19937, gsl_rng, gsl_rng_alloc, gsl_rng_uniform\n",
        "^\n",
        "------------------------------------------------------------\n",
        "\n",
        "/home/anh/.cache/ipython/cython/_cython_magic_2bbfc222d0ca2fda51246947dbbe2a57.pyx:4:0: 'gsl_rng_mt19937.pxd' not found\n",
        "\n",
        "Error compiling Cython file:\n",
        "------------------------------------------------------------\n",
        "...\n",
        "import cython\n",
        "import numpy as np\n",
        "cimport numpy as np\n",
        "from cython_gsl cimport gsl_rng_mt19937, gsl_rng, gsl_rng_alloc, gsl_rng_uniform\n",
        "                       ^\n",
        "------------------------------------------------------------\n",
        "\n",
        "/home/anh/.cache/ipython/cython/_cython_magic_2bbfc222d0ca2fda51246947dbbe2a57.pyx:4:24: Name 'gsl_rng_mt19937' not declared in module 'cython_gsl'\n",
        "\n",
        "Error compiling Cython file:\n",
        "------------------------------------------------------------\n",
        "...\n",
        "import cython\n",
        "import numpy as np\n",
        "cimport numpy as np\n",
        "from cython_gsl cimport gsl_rng_mt19937, gsl_rng, gsl_rng_alloc, gsl_rng_uniform\n",
        "^\n",
        "------------------------------------------------------------\n",
        "\n",
        "/home/anh/.cache/ipython/cython/_cython_magic_2bbfc222d0ca2fda51246947dbbe2a57.pyx:4:0: 'gsl_rng.pxd' not found\n",
        "\n",
        "Error compiling Cython file:\n",
        "------------------------------------------------------------\n",
        "...\n",
        "import cython\n",
        "import numpy as np\n",
        "cimport numpy as np\n",
        "from cython_gsl cimport gsl_rng_mt19937, gsl_rng, gsl_rng_alloc, gsl_rng_uniform\n",
        "                                        ^\n",
        "------------------------------------------------------------\n",
        "\n",
        "/home/anh/.cache/ipython/cython/_cython_magic_2bbfc222d0ca2fda51246947dbbe2a57.pyx:4:41: Name 'gsl_rng' not declared in module 'cython_gsl'\n",
        "\n",
        "Error compiling Cython file:\n",
        "------------------------------------------------------------\n",
        "...\n",
        "import cython\n",
        "import numpy as np\n",
        "cimport numpy as np\n",
        "from cython_gsl cimport gsl_rng_mt19937, gsl_rng, gsl_rng_alloc, gsl_rng_uniform\n",
        "^\n",
        "------------------------------------------------------------\n",
        "\n",
        "/home/anh/.cache/ipython/cython/_cython_magic_2bbfc222d0ca2fda51246947dbbe2a57.pyx:4:0: 'gsl_rng_alloc.pxd' not found\n",
        "\n",
        "Error compiling Cython file:\n",
        "------------------------------------------------------------\n",
        "...\n",
        "import cython\n",
        "import numpy as np\n",
        "cimport numpy as np\n",
        "from cython_gsl cimport gsl_rng_mt19937, gsl_rng, gsl_rng_alloc, gsl_rng_uniform\n",
        "                                                 ^\n",
        "------------------------------------------------------------\n",
        "\n",
        "/home/anh/.cache/ipython/cython/_cython_magic_2bbfc222d0ca2fda51246947dbbe2a57.pyx:4:50: Name 'gsl_rng_alloc' not declared in module 'cython_gsl'\n",
        "\n",
        "Error compiling Cython file:\n",
        "------------------------------------------------------------\n",
        "...\n",
        "import cython\n",
        "import numpy as np\n",
        "cimport numpy as np\n",
        "from cython_gsl cimport gsl_rng_mt19937, gsl_rng, gsl_rng_alloc, gsl_rng_uniform\n",
        "^\n",
        "------------------------------------------------------------\n",
        "\n",
        "/home/anh/.cache/ipython/cython/_cython_magic_2bbfc222d0ca2fda51246947dbbe2a57.pyx:4:0: 'gsl_rng_uniform.pxd' not found\n",
        "\n",
        "Error compiling Cython file:\n",
        "------------------------------------------------------------\n",
        "...\n",
        "import cython\n",
        "import numpy as np\n",
        "cimport numpy as np\n",
        "from cython_gsl cimport gsl_rng_mt19937, gsl_rng, gsl_rng_alloc, gsl_rng_uniform\n",
        "                                                                ^\n",
        "------------------------------------------------------------\n",
        "\n",
        "/home/anh/.cache/ipython/cython/_cython_magic_2bbfc222d0ca2fda51246947dbbe2a57.pyx:4:65: Name 'gsl_rng_uniform' not declared in module 'cython_gsl'\n",
        "\n",
        "Error compiling Cython file:\n",
        "------------------------------------------------------------\n",
        "...\n",
        "import cython\n",
        "import numpy as np\n",
        "cimport numpy as np\n",
        "from cython_gsl cimport gsl_rng_mt19937, gsl_rng, gsl_rng_alloc, gsl_rng_uniform\n",
        "\n",
        "cdef gsl_rng *r = gsl_rng_alloc(gsl_rng_mt19937)\n",
        "    ^\n",
        "------------------------------------------------------------\n",
        "\n",
        "/home/anh/.cache/ipython/cython/_cython_magic_2bbfc222d0ca2fda51246947dbbe2a57.pyx:6:5: 'gsl_rng' is not a type identifier\n",
        "\n",
        "Error compiling Cython file:\n",
        "------------------------------------------------------------\n",
        "...\n",
        "import cython\n",
        "import numpy as np\n",
        "cimport numpy as np\n",
        "from cython_gsl cimport gsl_rng_mt19937, gsl_rng, gsl_rng_alloc, gsl_rng_uniform\n",
        "\n",
        "cdef gsl_rng *r = gsl_rng_alloc(gsl_rng_mt19937)\n",
        "                              ^\n",
        "------------------------------------------------------------\n",
        "\n",
        "/home/anh/.cache/ipython/cython/_cython_magic_2bbfc222d0ca2fda51246947dbbe2a57.pyx:6:31: undeclared name not builtin: gsl_rng_alloc\n"
       ]
      },
      {
       "output_type": "stream",
       "stream": "stderr",
       "text": [
        "\n",
        "Error compiling Cython file:\n",
        "------------------------------------------------------------\n",
        "...\n",
        "import cython\n",
        "import numpy as np\n",
        "cimport numpy as np\n",
        "from cython_gsl cimport gsl_rng_mt19937, gsl_rng, gsl_rng_alloc, gsl_rng_uniform\n",
        "\n",
        "cdef gsl_rng *r = gsl_rng_alloc(gsl_rng_mt19937)\n",
        "                                              ^\n",
        "------------------------------------------------------------\n",
        "\n",
        "/home/anh/.cache/ipython/cython/_cython_magic_2bbfc222d0ca2fda51246947dbbe2a57.pyx:6:47: undeclared name not builtin: gsl_rng_mt19937\n",
        "\n",
        "Error compiling Cython file:\n",
        "------------------------------------------------------------\n",
        "...\n",
        "def pi_cython(int n):\n",
        "    cdef int[:] s = np.zeros(n, dtype=np.int32)\n",
        "    cdef int i = 0\n",
        "    cdef double x, y\n",
        "    for i in range(n):\n",
        "        x = gsl_rng_uniform(r)*2 - 1\n",
        "                          ^\n",
        "------------------------------------------------------------\n",
        "\n",
        "/home/anh/.cache/ipython/cython/_cython_magic_2bbfc222d0ca2fda51246947dbbe2a57.pyx:16:27: undeclared name not builtin: gsl_rng_uniform\n"
       ]
      }
     ],
     "prompt_number": 22
    },
    {
     "cell_type": "code",
     "collapsed": false,
     "input": [
      "n = int(1e5)\n",
      "%timeit pi_python(n)\n",
      "%timeit pi_numba(n)\n",
      "%timeit pi_numpy(n)\n",
      "%timeit pi_cython(n)"
     ],
     "language": "python",
     "metadata": {},
     "outputs": [
      {
       "output_type": "stream",
       "stream": "stdout",
       "text": [
        "10 loops, best of 3: 163 ms per loop\n",
        "1 loops, best of 3: 180 ms per loop"
       ]
      },
      {
       "output_type": "stream",
       "stream": "stdout",
       "text": [
        "\n",
        "100 loops, best of 3: 6.91 ms per loop"
       ]
      },
      {
       "output_type": "stream",
       "stream": "stdout",
       "text": [
        "\n",
        "100 loops, best of 3: 2.69 ms per loop"
       ]
      },
      {
       "output_type": "stream",
       "stream": "stdout",
       "text": [
        "\n"
       ]
      }
     ],
     "prompt_number": 11
    },
    {
     "cell_type": "markdown",
     "metadata": {},
     "source": [
      "### Using parallel execution"
     ]
    },
    {
     "cell_type": "markdown",
     "metadata": {},
     "source": [
      "**The bigger the problem, the more scope there is for parallelism**\n",
      "\n",
      "**Amhdahls' law** says that the speedup from parallelization is bounded by the ratio of parallelizable to irreducibly serial code in the aloorithm. However, for big data analysis, **Gustafson's Law** is more relevant. This says that we are nearly always interested in increasing the size of the parallelizable bits, and the ratio of parallelizable to irreducibly serial code is not a static quantity but depends on data size. For example, Gibbs sampling has an irreducibly serial nature, but for large samples, each iteration may be able perform PDF evaluations in parallel for zillions of data points."
     ]
    },
    {
     "cell_type": "markdown",
     "metadata": {},
     "source": [
      "#### Using Multiprocessing\n",
      "\n",
      "- [Documentation](https://docs.python.org/2/library/multiprocessing.html)\n",
      "- [Tutorial - kerndel density esitmation with multiprocessing](http://sebastianraschka.com/Articles/2014_multiprocessing_intro.html)"
     ]
    },
    {
     "cell_type": "code",
     "collapsed": false,
     "input": [
      "import multiprocessing\n",
      "\n",
      "num_procs = multiprocessing.cpu_count()\n",
      "num_procs"
     ],
     "language": "python",
     "metadata": {},
     "outputs": [
      {
       "metadata": {},
       "output_type": "pyout",
       "prompt_number": 19,
       "text": [
        "4"
       ]
      }
     ],
     "prompt_number": 19
    },
    {
     "cell_type": "code",
     "collapsed": false,
     "input": [
      "def pi_multiprocessing(n):\n",
      "    \"\"\"Split a job of length n into num_procs pieces.\"\"\"\n",
      "    import multiprocessing\n",
      "    m = multiprocessing.cpu_count()\n",
      "    pool = multiprocessing.Pool(m)\n",
      "    results = pool.map(pi_cython, [n/m]*m)\n",
      "    pool.close()\n",
      "    return np.mean(results)"
     ],
     "language": "python",
     "metadata": {},
     "outputs": [],
     "prompt_number": 20
    },
    {
     "cell_type": "markdown",
     "metadata": {},
     "source": [
      "For small jobs, the cost of spawning processes dominates"
     ]
    },
    {
     "cell_type": "code",
     "collapsed": false,
     "input": [
      "n = int(1e5)\n",
      "%timeit pi_cython(n)\n",
      "%timeit pi_multiprocessing(n)"
     ],
     "language": "python",
     "metadata": {},
     "outputs": [
      {
       "ename": "NameError",
       "evalue": "global name 'pi_cython' is not defined",
       "output_type": "pyerr",
       "traceback": [
        "\u001b[1;31m---------------------------------------------------------------------------\u001b[0m\n\u001b[1;31mNameError\u001b[0m                                 Traceback (most recent call last)",
        "\u001b[1;32m<ipython-input-21-6e190c800300>\u001b[0m in \u001b[0;36m<module>\u001b[1;34m()\u001b[0m\n\u001b[0;32m      1\u001b[0m \u001b[0mn\u001b[0m \u001b[1;33m=\u001b[0m \u001b[0mint\u001b[0m\u001b[1;33m(\u001b[0m\u001b[1;36m1e5\u001b[0m\u001b[1;33m)\u001b[0m\u001b[1;33m\u001b[0m\u001b[0m\n\u001b[1;32m----> 2\u001b[1;33m \u001b[0mget_ipython\u001b[0m\u001b[1;33m(\u001b[0m\u001b[1;33m)\u001b[0m\u001b[1;33m.\u001b[0m\u001b[0mmagic\u001b[0m\u001b[1;33m(\u001b[0m\u001b[1;34mu'timeit pi_cython(n)'\u001b[0m\u001b[1;33m)\u001b[0m\u001b[1;33m\u001b[0m\u001b[0m\n\u001b[0m\u001b[0;32m      3\u001b[0m \u001b[0mget_ipython\u001b[0m\u001b[1;33m(\u001b[0m\u001b[1;33m)\u001b[0m\u001b[1;33m.\u001b[0m\u001b[0mmagic\u001b[0m\u001b[1;33m(\u001b[0m\u001b[1;34mu'timeit pi_multiprocessing(n)'\u001b[0m\u001b[1;33m)\u001b[0m\u001b[1;33m\u001b[0m\u001b[0m\n",
        "\u001b[1;32m/home/anh/anaconda/lib/python2.7/site-packages/IPython/core/interactiveshell.pyc\u001b[0m in \u001b[0;36mmagic\u001b[1;34m(self, arg_s)\u001b[0m\n\u001b[0;32m   2203\u001b[0m         \u001b[0mmagic_name\u001b[0m\u001b[1;33m,\u001b[0m \u001b[0m_\u001b[0m\u001b[1;33m,\u001b[0m \u001b[0mmagic_arg_s\u001b[0m \u001b[1;33m=\u001b[0m \u001b[0marg_s\u001b[0m\u001b[1;33m.\u001b[0m\u001b[0mpartition\u001b[0m\u001b[1;33m(\u001b[0m\u001b[1;34m' '\u001b[0m\u001b[1;33m)\u001b[0m\u001b[1;33m\u001b[0m\u001b[0m\n\u001b[0;32m   2204\u001b[0m         \u001b[0mmagic_name\u001b[0m \u001b[1;33m=\u001b[0m \u001b[0mmagic_name\u001b[0m\u001b[1;33m.\u001b[0m\u001b[0mlstrip\u001b[0m\u001b[1;33m(\u001b[0m\u001b[0mprefilter\u001b[0m\u001b[1;33m.\u001b[0m\u001b[0mESC_MAGIC\u001b[0m\u001b[1;33m)\u001b[0m\u001b[1;33m\u001b[0m\u001b[0m\n\u001b[1;32m-> 2205\u001b[1;33m         \u001b[1;32mreturn\u001b[0m \u001b[0mself\u001b[0m\u001b[1;33m.\u001b[0m\u001b[0mrun_line_magic\u001b[0m\u001b[1;33m(\u001b[0m\u001b[0mmagic_name\u001b[0m\u001b[1;33m,\u001b[0m \u001b[0mmagic_arg_s\u001b[0m\u001b[1;33m)\u001b[0m\u001b[1;33m\u001b[0m\u001b[0m\n\u001b[0m\u001b[0;32m   2206\u001b[0m \u001b[1;33m\u001b[0m\u001b[0m\n\u001b[0;32m   2207\u001b[0m     \u001b[1;31m#-------------------------------------------------------------------------\u001b[0m\u001b[1;33m\u001b[0m\u001b[1;33m\u001b[0m\u001b[0m\n",
        "\u001b[1;32m/home/anh/anaconda/lib/python2.7/site-packages/IPython/core/interactiveshell.pyc\u001b[0m in \u001b[0;36mrun_line_magic\u001b[1;34m(self, magic_name, line)\u001b[0m\n\u001b[0;32m   2124\u001b[0m                 \u001b[0mkwargs\u001b[0m\u001b[1;33m[\u001b[0m\u001b[1;34m'local_ns'\u001b[0m\u001b[1;33m]\u001b[0m \u001b[1;33m=\u001b[0m \u001b[0msys\u001b[0m\u001b[1;33m.\u001b[0m\u001b[0m_getframe\u001b[0m\u001b[1;33m(\u001b[0m\u001b[0mstack_depth\u001b[0m\u001b[1;33m)\u001b[0m\u001b[1;33m.\u001b[0m\u001b[0mf_locals\u001b[0m\u001b[1;33m\u001b[0m\u001b[0m\n\u001b[0;32m   2125\u001b[0m             \u001b[1;32mwith\u001b[0m \u001b[0mself\u001b[0m\u001b[1;33m.\u001b[0m\u001b[0mbuiltin_trap\u001b[0m\u001b[1;33m:\u001b[0m\u001b[1;33m\u001b[0m\u001b[0m\n\u001b[1;32m-> 2126\u001b[1;33m                 \u001b[0mresult\u001b[0m \u001b[1;33m=\u001b[0m \u001b[0mfn\u001b[0m\u001b[1;33m(\u001b[0m\u001b[1;33m*\u001b[0m\u001b[0margs\u001b[0m\u001b[1;33m,\u001b[0m\u001b[1;33m**\u001b[0m\u001b[0mkwargs\u001b[0m\u001b[1;33m)\u001b[0m\u001b[1;33m\u001b[0m\u001b[0m\n\u001b[0m\u001b[0;32m   2127\u001b[0m             \u001b[1;32mreturn\u001b[0m \u001b[0mresult\u001b[0m\u001b[1;33m\u001b[0m\u001b[0m\n\u001b[0;32m   2128\u001b[0m \u001b[1;33m\u001b[0m\u001b[0m\n",
        "\u001b[1;32m/home/anh/anaconda/lib/python2.7/site-packages/IPython/core/magics/execution.pyc\u001b[0m in \u001b[0;36mtimeit\u001b[1;34m(self, line, cell)\u001b[0m\n",
        "\u001b[1;32m/home/anh/anaconda/lib/python2.7/site-packages/IPython/core/magic.pyc\u001b[0m in \u001b[0;36m<lambda>\u001b[1;34m(f, *a, **k)\u001b[0m\n\u001b[0;32m    191\u001b[0m     \u001b[1;31m# but it's overkill for just that one bit of state.\u001b[0m\u001b[1;33m\u001b[0m\u001b[1;33m\u001b[0m\u001b[0m\n\u001b[0;32m    192\u001b[0m     \u001b[1;32mdef\u001b[0m \u001b[0mmagic_deco\u001b[0m\u001b[1;33m(\u001b[0m\u001b[0marg\u001b[0m\u001b[1;33m)\u001b[0m\u001b[1;33m:\u001b[0m\u001b[1;33m\u001b[0m\u001b[0m\n\u001b[1;32m--> 193\u001b[1;33m         \u001b[0mcall\u001b[0m \u001b[1;33m=\u001b[0m \u001b[1;32mlambda\u001b[0m \u001b[0mf\u001b[0m\u001b[1;33m,\u001b[0m \u001b[1;33m*\u001b[0m\u001b[0ma\u001b[0m\u001b[1;33m,\u001b[0m \u001b[1;33m**\u001b[0m\u001b[0mk\u001b[0m\u001b[1;33m:\u001b[0m \u001b[0mf\u001b[0m\u001b[1;33m(\u001b[0m\u001b[1;33m*\u001b[0m\u001b[0ma\u001b[0m\u001b[1;33m,\u001b[0m \u001b[1;33m**\u001b[0m\u001b[0mk\u001b[0m\u001b[1;33m)\u001b[0m\u001b[1;33m\u001b[0m\u001b[0m\n\u001b[0m\u001b[0;32m    194\u001b[0m \u001b[1;33m\u001b[0m\u001b[0m\n\u001b[0;32m    195\u001b[0m         \u001b[1;32mif\u001b[0m \u001b[0mcallable\u001b[0m\u001b[1;33m(\u001b[0m\u001b[0marg\u001b[0m\u001b[1;33m)\u001b[0m\u001b[1;33m:\u001b[0m\u001b[1;33m\u001b[0m\u001b[0m\n",
        "\u001b[1;32m/home/anh/anaconda/lib/python2.7/site-packages/IPython/core/magics/execution.pyc\u001b[0m in \u001b[0;36mtimeit\u001b[1;34m(self, line, cell)\u001b[0m\n\u001b[0;32m   1011\u001b[0m             \u001b[0mnumber\u001b[0m \u001b[1;33m=\u001b[0m \u001b[1;36m1\u001b[0m\u001b[1;33m\u001b[0m\u001b[0m\n\u001b[0;32m   1012\u001b[0m             \u001b[1;32mfor\u001b[0m \u001b[0m_\u001b[0m \u001b[1;32min\u001b[0m \u001b[0mrange\u001b[0m\u001b[1;33m(\u001b[0m\u001b[1;36m1\u001b[0m\u001b[1;33m,\u001b[0m \u001b[1;36m10\u001b[0m\u001b[1;33m)\u001b[0m\u001b[1;33m:\u001b[0m\u001b[1;33m\u001b[0m\u001b[0m\n\u001b[1;32m-> 1013\u001b[1;33m                 \u001b[1;32mif\u001b[0m \u001b[0mtimer\u001b[0m\u001b[1;33m.\u001b[0m\u001b[0mtimeit\u001b[0m\u001b[1;33m(\u001b[0m\u001b[0mnumber\u001b[0m\u001b[1;33m)\u001b[0m \u001b[1;33m>=\u001b[0m \u001b[1;36m0.2\u001b[0m\u001b[1;33m:\u001b[0m\u001b[1;33m\u001b[0m\u001b[0m\n\u001b[0m\u001b[0;32m   1014\u001b[0m                     \u001b[1;32mbreak\u001b[0m\u001b[1;33m\u001b[0m\u001b[0m\n\u001b[0;32m   1015\u001b[0m                 \u001b[0mnumber\u001b[0m \u001b[1;33m*=\u001b[0m \u001b[1;36m10\u001b[0m\u001b[1;33m\u001b[0m\u001b[0m\n",
        "\u001b[1;32m/home/anh/anaconda/lib/python2.7/timeit.pyc\u001b[0m in \u001b[0;36mtimeit\u001b[1;34m(self, number)\u001b[0m\n\u001b[0;32m    193\u001b[0m         \u001b[0mgc\u001b[0m\u001b[1;33m.\u001b[0m\u001b[0mdisable\u001b[0m\u001b[1;33m(\u001b[0m\u001b[1;33m)\u001b[0m\u001b[1;33m\u001b[0m\u001b[0m\n\u001b[0;32m    194\u001b[0m         \u001b[1;32mtry\u001b[0m\u001b[1;33m:\u001b[0m\u001b[1;33m\u001b[0m\u001b[0m\n\u001b[1;32m--> 195\u001b[1;33m             \u001b[0mtiming\u001b[0m \u001b[1;33m=\u001b[0m \u001b[0mself\u001b[0m\u001b[1;33m.\u001b[0m\u001b[0minner\u001b[0m\u001b[1;33m(\u001b[0m\u001b[0mit\u001b[0m\u001b[1;33m,\u001b[0m \u001b[0mself\u001b[0m\u001b[1;33m.\u001b[0m\u001b[0mtimer\u001b[0m\u001b[1;33m)\u001b[0m\u001b[1;33m\u001b[0m\u001b[0m\n\u001b[0m\u001b[0;32m    196\u001b[0m         \u001b[1;32mfinally\u001b[0m\u001b[1;33m:\u001b[0m\u001b[1;33m\u001b[0m\u001b[0m\n\u001b[0;32m    197\u001b[0m             \u001b[1;32mif\u001b[0m \u001b[0mgcold\u001b[0m\u001b[1;33m:\u001b[0m\u001b[1;33m\u001b[0m\u001b[0m\n",
        "\u001b[1;32m<magic-timeit>\u001b[0m in \u001b[0;36minner\u001b[1;34m(_it, _timer)\u001b[0m\n",
        "\u001b[1;31mNameError\u001b[0m: global name 'pi_cython' is not defined"
       ]
      }
     ],
     "prompt_number": 21
    },
    {
     "cell_type": "markdown",
     "metadata": {},
     "source": [
      "For larger jobs, we see the expected linear speedup"
     ]
    },
    {
     "cell_type": "code",
     "collapsed": false,
     "input": [
      "n = int(1e7)\n",
      "%timeit pi_numpy(n)\n",
      "%timeit pi_multiprocessing(n)"
     ],
     "language": "python",
     "metadata": {},
     "outputs": [
      {
       "output_type": "stream",
       "stream": "stdout",
       "text": [
        "1 loops, best of 3: 1.03 s per loop\n"
       ]
      },
      {
       "output_type": "stream",
       "stream": "stdout",
       "text": [
        "10 loops, best of 3: 124 ms per loop\n"
       ]
      }
     ],
     "prompt_number": 15
    },
    {
     "cell_type": "markdown",
     "metadata": {},
     "source": [
      "#### Communication across parallel workers\n",
      "\n",
      "Not all tasks are embarassingly parallel. In these problems, we need to communicate across parallel workers. There are two ways to do this - via shared memory (exemplar is OpenMP) and by explicit communication mechanisms (exemplar is MPI). Multiprocessing (and GPU computing) can use both mechanisms.\n",
      "\n",
      "See [MOTW](http://pymotw.com/2/multiprocessing/communication.html) for examples of communicating across processes with multiprocessing."
     ]
    },
    {
     "cell_type": "markdown",
     "metadata": {},
     "source": [
      "**Using shared memory can lead to race conditions**"
     ]
    },
    {
     "cell_type": "code",
     "collapsed": false,
     "input": [
      "from multiprocessing import Pool, Value, Array, Lock, current_process\n",
      "\n",
      "n = 4\n",
      "val = Value('i')\n",
      "arr = Array('i', n)\n",
      "\n",
      "val.value = 0\n",
      "for i in range(n):\n",
      "    arr[i] = 0\n",
      "\n",
      "def count1(i):\n",
      "    \"Everyone competes to write to val.\"\"\"\n",
      "    val.value += 1\n",
      "    \n",
      "def count2(i):\n",
      "    \"\"\"Each process has its own slot in arr to write to.\"\"\"\n",
      "    ix = current_process().pid % n\n",
      "    arr[ix] += 1\n",
      "    \n",
      "pool = Pool(n)\n",
      "pool.map(count1, range(1000))\n",
      "pool.map(count2, range(1000))\n",
      "\n",
      "pool.close()\n",
      "print val.value\n",
      "print sum(arr)"
     ],
     "language": "python",
     "metadata": {},
     "outputs": [
      {
       "output_type": "stream",
       "stream": "stdout",
       "text": [
        "788\n",
        "1000\n"
       ]
      }
     ],
     "prompt_number": 27
    },
    {
     "cell_type": "markdown",
     "metadata": {},
     "source": [
      "#### Using IPython parallel for interactive parallel computing\n",
      "\n",
      "Start a cluster of workers using IPython notebook interface. Alternatively, enter\n",
      "\n",
      "```ipcluster start -n 4```\n",
      "\n",
      "at the command line."
     ]
    },
    {
     "cell_type": "code",
     "collapsed": false,
     "input": [
      "from IPython.parallel import Client, interactive"
     ],
     "language": "python",
     "metadata": {},
     "outputs": [],
     "prompt_number": 28
    },
    {
     "cell_type": "markdown",
     "metadata": {},
     "source": [
      "**Direct view**"
     ]
    },
    {
     "cell_type": "code",
     "collapsed": false,
     "input": [
      "rc = Client()\n",
      "print rc.ids\n",
      "dv = rc[:]"
     ],
     "language": "python",
     "metadata": {},
     "outputs": [
      {
       "ename": "IOError",
       "evalue": "[Errno 2] No such file or directory: u'/home/anh/.ipython/profile_default/security/ipcontroller-client.json'",
       "output_type": "pyerr",
       "traceback": [
        "\u001b[1;31m---------------------------------------------------------------------------\u001b[0m\n\u001b[1;31mIOError\u001b[0m                                   Traceback (most recent call last)",
        "\u001b[1;32m<ipython-input-29-8b707b92f49c>\u001b[0m in \u001b[0;36m<module>\u001b[1;34m()\u001b[0m\n\u001b[1;32m----> 1\u001b[1;33m \u001b[0mrc\u001b[0m \u001b[1;33m=\u001b[0m \u001b[0mClient\u001b[0m\u001b[1;33m(\u001b[0m\u001b[1;33m)\u001b[0m\u001b[1;33m\u001b[0m\u001b[0m\n\u001b[0m\u001b[0;32m      2\u001b[0m \u001b[1;32mprint\u001b[0m \u001b[0mrc\u001b[0m\u001b[1;33m.\u001b[0m\u001b[0mids\u001b[0m\u001b[1;33m\u001b[0m\u001b[0m\n\u001b[0;32m      3\u001b[0m \u001b[0mdv\u001b[0m \u001b[1;33m=\u001b[0m \u001b[0mrc\u001b[0m\u001b[1;33m[\u001b[0m\u001b[1;33m:\u001b[0m\u001b[1;33m]\u001b[0m\u001b[1;33m\u001b[0m\u001b[0m\n",
        "\u001b[1;32m/home/anh/anaconda/lib/python2.7/site-packages/IPython/parallel/client/client.pyc\u001b[0m in \u001b[0;36m__init__\u001b[1;34m(self, url_file, profile, profile_dir, ipython_dir, context, debug, sshserver, sshkey, password, paramiko, timeout, cluster_id, **extra_args)\u001b[0m\n\u001b[0;32m    409\u001b[0m             )\n\u001b[0;32m    410\u001b[0m \u001b[1;33m\u001b[0m\u001b[0m\n\u001b[1;32m--> 411\u001b[1;33m         \u001b[1;32mwith\u001b[0m \u001b[0mopen\u001b[0m\u001b[1;33m(\u001b[0m\u001b[0murl_file\u001b[0m\u001b[1;33m)\u001b[0m \u001b[1;32mas\u001b[0m \u001b[0mf\u001b[0m\u001b[1;33m:\u001b[0m\u001b[1;33m\u001b[0m\u001b[0m\n\u001b[0m\u001b[0;32m    412\u001b[0m             \u001b[0mcfg\u001b[0m \u001b[1;33m=\u001b[0m \u001b[0mjson\u001b[0m\u001b[1;33m.\u001b[0m\u001b[0mload\u001b[0m\u001b[1;33m(\u001b[0m\u001b[0mf\u001b[0m\u001b[1;33m)\u001b[0m\u001b[1;33m\u001b[0m\u001b[0m\n\u001b[0;32m    413\u001b[0m \u001b[1;33m\u001b[0m\u001b[0m\n",
        "\u001b[1;31mIOError\u001b[0m: [Errno 2] No such file or directory: u'/home/anh/.ipython/profile_default/security/ipcontroller-client.json'"
       ]
      }
     ],
     "prompt_number": 29
    },
    {
     "cell_type": "markdown",
     "metadata": {},
     "source": [
      "#### The %%px (parallel execute) magic\n",
      "\n",
      "When a cell is marked with %%px, all commands in that cell get executed on all engines simultaneously. We'll use it to load `numpy` on all engines."
     ]
    },
    {
     "cell_type": "code",
     "collapsed": false,
     "input": [
      "%px import numpy as np"
     ],
     "language": "python",
     "metadata": {},
     "outputs": [
      {
       "output_type": "stream",
       "stream": "stderr",
       "text": [
        "ERROR: Line magic function `%px` not found.\n"
       ]
      }
     ],
     "prompt_number": 26
    },
    {
     "cell_type": "markdown",
     "metadata": {},
     "source": [
      "We can refer to indivudal engines using indexing and slice notation on the client - for example, to set random seeds."
     ]
    },
    {
     "cell_type": "code",
     "collapsed": false,
     "input": [
      "for i, r in enumerate(rc):\n",
      "    r.execute('np.random.seed(123)')"
     ],
     "language": "python",
     "metadata": {},
     "outputs": [],
     "prompt_number": 4
    },
    {
     "cell_type": "code",
     "collapsed": false,
     "input": [
      "%%px\n",
      "\n",
      "np.random.random(3)"
     ],
     "language": "python",
     "metadata": {},
     "outputs": [
      {
       "metadata": {},
       "output_type": "display_data",
       "text": [
        "\u001b[0;31mOut[0:46]: \u001b[0marray([ 0.69646919,  0.28613933,  0.22685145])"
       ]
      },
      {
       "metadata": {},
       "output_type": "display_data",
       "text": [
        "\u001b[0;31mOut[1:46]: \u001b[0marray([ 0.69646919,  0.28613933,  0.22685145])"
       ]
      },
      {
       "metadata": {},
       "output_type": "display_data",
       "text": [
        "\u001b[0;31mOut[2:46]: \u001b[0marray([ 0.69646919,  0.28613933,  0.22685145])"
       ]
      },
      {
       "metadata": {},
       "output_type": "display_data",
       "text": [
        "\u001b[0;31mOut[3:46]: \u001b[0marray([ 0.69646919,  0.28613933,  0.22685145])"
       ]
      }
     ],
     "prompt_number": 5
    },
    {
     "cell_type": "markdown",
     "metadata": {},
     "source": [
      "Another way to do this is via the `scatter` operation."
     ]
    },
    {
     "cell_type": "code",
     "collapsed": false,
     "input": [
      "dv.scatter('seed', [1,1,2,2], block=True)"
     ],
     "language": "python",
     "metadata": {},
     "outputs": [],
     "prompt_number": 45
    },
    {
     "cell_type": "code",
     "collapsed": false,
     "input": [
      "dv['seed']"
     ],
     "language": "python",
     "metadata": {},
     "outputs": [
      {
       "metadata": {},
       "output_type": "pyout",
       "prompt_number": 46,
       "text": [
        "[[1], [1], [2], [2]]"
       ]
      }
     ],
     "prompt_number": 46
    },
    {
     "cell_type": "code",
     "collapsed": false,
     "input": [
      "%%px \n",
      "\n",
      "np.random.seed(seed)\n",
      "np.random.random(3)"
     ],
     "language": "python",
     "metadata": {},
     "outputs": [
      {
       "metadata": {},
       "output_type": "display_data",
       "text": [
        "\u001b[0;31mOut[0:57]: \u001b[0marray([ 0.13436424,  0.84743374,  0.76377462])"
       ]
      },
      {
       "metadata": {},
       "output_type": "display_data",
       "text": [
        "\u001b[0;31mOut[1:57]: \u001b[0marray([ 0.13436424,  0.84743374,  0.76377462])"
       ]
      },
      {
       "metadata": {},
       "output_type": "display_data",
       "text": [
        "\u001b[0;31mOut[2:57]: \u001b[0marray([ 0.95603427,  0.94782749,  0.05655137])"
       ]
      },
      {
       "metadata": {},
       "output_type": "display_data",
       "text": [
        "\u001b[0;31mOut[3:57]: \u001b[0marray([ 0.95603427,  0.94782749,  0.05655137])"
       ]
      }
     ],
     "prompt_number": 47
    },
    {
     "cell_type": "markdown",
     "metadata": {},
     "source": [
      "We set them to differnet seeds again to do the Monte Carlo integration."
     ]
    },
    {
     "cell_type": "code",
     "collapsed": false,
     "input": [
      "for i, r in enumerate(rc):\n",
      "    r.execute('np.random.seed(%d)' % i)"
     ],
     "language": "python",
     "metadata": {},
     "outputs": [],
     "prompt_number": 48
    },
    {
     "cell_type": "code",
     "collapsed": false,
     "input": [
      "%%px \n",
      "\n",
      "np.random.random(3)"
     ],
     "language": "python",
     "metadata": {},
     "outputs": [
      {
       "metadata": {},
       "output_type": "display_data",
       "text": [
        "\u001b[0;31mOut[0:58]: \u001b[0marray([ 0.5488135 ,  0.71518937,  0.60276338])"
       ]
      },
      {
       "metadata": {},
       "output_type": "display_data",
       "text": [
        "\u001b[0;31mOut[1:58]: \u001b[0marray([  4.17022005e-01,   7.20324493e-01,   1.14374817e-04])"
       ]
      },
      {
       "metadata": {},
       "output_type": "display_data",
       "text": [
        "\u001b[0;31mOut[2:58]: \u001b[0marray([ 0.4359949 ,  0.02592623,  0.54966248])"
       ]
      },
      {
       "metadata": {},
       "output_type": "display_data",
       "text": [
        "\u001b[0;31mOut[3:58]: \u001b[0marray([ 0.5507979 ,  0.70814782,  0.29090474])"
       ]
      }
     ],
     "prompt_number": 49
    },
    {
     "cell_type": "markdown",
     "metadata": {},
     "source": [
      "We can collect the individual results of remote computation using a dictionary lookup syntax or use `gather` to concatenate the resutls."
     ]
    },
    {
     "cell_type": "code",
     "collapsed": false,
     "input": [
      "%%px\n",
      "\n",
      "x = np.random.random(3)"
     ],
     "language": "python",
     "metadata": {},
     "outputs": [],
     "prompt_number": 50
    },
    {
     "cell_type": "code",
     "collapsed": false,
     "input": [
      "dv['x']"
     ],
     "language": "python",
     "metadata": {},
     "outputs": [
      {
       "metadata": {},
       "output_type": "pyout",
       "prompt_number": 51,
       "text": [
        "[array([ 0.54488318,  0.4236548 ,  0.64589411]),\n",
        " array([ 0.30233257,  0.14675589,  0.09233859]),\n",
        " array([ 0.43532239,  0.4203678 ,  0.33033482]),\n",
        " array([ 0.51082761,  0.89294695,  0.89629309])]"
       ]
      }
     ],
     "prompt_number": 51
    },
    {
     "cell_type": "code",
     "collapsed": false,
     "input": [
      "dv.gather('x', block=True)"
     ],
     "language": "python",
     "metadata": {},
     "outputs": [
      {
       "metadata": {},
       "output_type": "pyout",
       "prompt_number": 53,
       "text": [
        "array([ 0.54488318,  0.4236548 ,  0.64589411,  0.30233257,  0.14675589,\n",
        "        0.09233859,  0.43532239,  0.4203678 ,  0.33033482,  0.51082761,\n",
        "        0.89294695,  0.89629309])"
       ]
      }
     ],
     "prompt_number": 53
    },
    {
     "cell_type": "markdown",
     "metadata": {},
     "source": [
      "Finding $\\pi$ simply involves generating random uniforms on each processor."
     ]
    },
    {
     "cell_type": "code",
     "collapsed": false,
     "input": [
      "%%px\n",
      "n = 1e7\n",
      "x = np.random.uniform(-1, 1, (n, 2))\n",
      "n = (x[:, 0]**2 + x[:,1]**2 < 1).sum()"
     ],
     "language": "python",
     "metadata": {},
     "outputs": [],
     "prompt_number": 28
    },
    {
     "cell_type": "code",
     "collapsed": false,
     "input": [
      "%precision 8\n",
      "ns = dv['n']\n",
      "4*np.sum(ns)/(1e7*len(rc))"
     ],
     "language": "python",
     "metadata": {},
     "outputs": [
      {
       "metadata": {},
       "output_type": "pyout",
       "prompt_number": 33,
       "text": [
        "3.14136400"
       ]
      }
     ],
     "prompt_number": 33
    },
    {
     "cell_type": "markdown",
     "metadata": {},
     "source": [
      "#### Blocking and non-blocking operations\n",
      "\n",
      "In blocking mode (the default), operations on remote engines do not return until all compuations are done. For long computations, this may be undesirable and we can ask the engine to return immeidately by using a non-blocking operation. In this case, what is returned is an Async type object, which we can query for whether the computation is complete and if so, retrieve data from it."
     ]
    },
    {
     "cell_type": "code",
     "collapsed": false,
     "input": [
      "dv.scatter('s', np.arange(16), block=False)"
     ],
     "language": "python",
     "metadata": {},
     "outputs": [
      {
       "metadata": {},
       "output_type": "pyout",
       "prompt_number": 72,
       "text": [
        "<AsyncResult: finished>"
       ]
      }
     ],
     "prompt_number": 72
    },
    {
     "cell_type": "code",
     "collapsed": false,
     "input": [
      "dv['s']"
     ],
     "language": "python",
     "metadata": {},
     "outputs": [
      {
       "metadata": {},
       "output_type": "pyout",
       "prompt_number": 73,
       "text": [
        "[array([0, 1, 2, 3]),\n",
        " array([4, 5, 6, 7]),\n",
        " array([ 8,  9, 10, 11]),\n",
        " array([12, 13, 14, 15])]"
       ]
      }
     ],
     "prompt_number": 73
    },
    {
     "cell_type": "code",
     "collapsed": false,
     "input": [
      "dv.gather('s')"
     ],
     "language": "python",
     "metadata": {},
     "outputs": [
      {
       "metadata": {},
       "output_type": "pyout",
       "prompt_number": 74,
       "text": [
        "<AsyncMapResult: finished>"
       ]
      }
     ],
     "prompt_number": 74
    },
    {
     "cell_type": "code",
     "collapsed": false,
     "input": [
      "dv.gather('s').get()"
     ],
     "language": "python",
     "metadata": {},
     "outputs": [
      {
       "metadata": {},
       "output_type": "pyout",
       "prompt_number": 76,
       "text": [
        "array([ 0,  1,  2,  3,  4,  5,  6,  7,  8,  9, 10, 11, 12, 13, 14, 15])"
       ]
      }
     ],
     "prompt_number": 76
    },
    {
     "cell_type": "code",
     "collapsed": false,
     "input": [
      "ar = dv.map_async(lambda x: x+1, range(10))\n",
      "ar.ready()"
     ],
     "language": "python",
     "metadata": {},
     "outputs": [
      {
       "metadata": {},
       "output_type": "pyout",
       "prompt_number": 84,
       "text": [
        "False"
       ]
      }
     ],
     "prompt_number": 84
    },
    {
     "cell_type": "code",
     "collapsed": false,
     "input": [
      "ar.ready()"
     ],
     "language": "python",
     "metadata": {},
     "outputs": [
      {
       "metadata": {},
       "output_type": "pyout",
       "prompt_number": 85,
       "text": [
        "True"
       ]
      }
     ],
     "prompt_number": 85
    },
    {
     "cell_type": "code",
     "collapsed": false,
     "input": [
      "ar.get()"
     ],
     "language": "python",
     "metadata": {},
     "outputs": [
      {
       "metadata": {},
       "output_type": "pyout",
       "prompt_number": 86,
       "text": [
        "[1, 2, 3, 4, 5, 6, 7, 8, 9, 10]"
       ]
      }
     ],
     "prompt_number": 86
    },
    {
     "cell_type": "markdown",
     "metadata": {},
     "source": [
      "#### Load-balanced view\n",
      "\n",
      "Sometimes the tasks are very unbalanced - some may complete in a short time, while others ay take a long time. In this case, using a load_balanced view is more efficient to avoid the risk that a single engine gets allocated all the long-running tasks."
     ]
    },
    {
     "cell_type": "code",
     "collapsed": false,
     "input": [
      "lv = rc.load_balanced_view()"
     ],
     "language": "python",
     "metadata": {},
     "outputs": [],
     "prompt_number": 87
    },
    {
     "cell_type": "code",
     "collapsed": false,
     "input": [
      "def wait(n):\n",
      "    import time\n",
      "    time.sleep(n)\n",
      "    return n\n",
      "\n",
      "dv['wait'] = wait"
     ],
     "language": "python",
     "metadata": {},
     "outputs": [],
     "prompt_number": 90
    },
    {
     "cell_type": "code",
     "collapsed": false,
     "input": [
      "intervals = [5,1,1,1,1,1,1,1,1,1,1,1,1,5,5,5]"
     ],
     "language": "python",
     "metadata": {},
     "outputs": [],
     "prompt_number": 123
    },
    {
     "cell_type": "code",
     "collapsed": false,
     "input": [
      "%%time\n",
      "\n",
      "ar = dv.map(wait, intervals)\n",
      "ar.get()"
     ],
     "language": "python",
     "metadata": {},
     "outputs": [
      {
       "output_type": "stream",
       "stream": "stdout",
       "text": [
        "CPU times: user 1.79 s, sys: 400 ms, total: 2.19 s\n",
        "Wall time: 16 s\n"
       ]
      }
     ],
     "prompt_number": 126
    },
    {
     "cell_type": "code",
     "collapsed": false,
     "input": [
      "%%time\n",
      "\n",
      "ar = lv.map(wait, intervals, balanced=True)\n",
      "ar.get()"
     ],
     "language": "python",
     "metadata": {},
     "outputs": [
      {
       "output_type": "stream",
       "stream": "stdout",
       "text": [
        "CPU times: user 1.05 s, sys: 235 ms, total: 1.29 s\n",
        "Wall time: 9.05 s\n"
       ]
      }
     ],
     "prompt_number": 127
    },
    {
     "cell_type": "markdown",
     "metadata": {},
     "source": [
      "#### Using Cython with IPython parallel\n",
      "\n",
      "We need to %load_ext cythonmagic in every engine, and compile the cython extension in every engine. the simplest way is to do all this in a %%px cell."
     ]
    },
    {
     "cell_type": "code",
     "collapsed": false,
     "input": [
      "%%px\n",
      "def python_loop(xs):\n",
      "    s = 0.0\n",
      "    for i in range(len(xs)):\n",
      "        s += xs[i]\n",
      "    return s"
     ],
     "language": "python",
     "metadata": {},
     "outputs": [],
     "prompt_number": 130
    },
    {
     "cell_type": "code",
     "collapsed": false,
     "input": [
      "%%px\n",
      "%load_ext cythonmagic"
     ],
     "language": "python",
     "metadata": {},
     "outputs": [
      {
       "output_type": "stream",
       "stream": "stdout",
       "text": [
        "[stdout:0] \n",
        "The cythonmagic extension is already loaded. To reload it, use:\n",
        "  %reload_ext cythonmagic\n",
        "[stdout:1] \n",
        "The cythonmagic extension is already loaded. To reload it, use:\n",
        "  %reload_ext cythonmagic\n",
        "[stdout:2] \n",
        "The cythonmagic extension is already loaded. To reload it, use:\n",
        "  %reload_ext cythonmagic\n",
        "[stdout:3] \n",
        "The cythonmagic extension is already loaded. To reload it, use:\n",
        "  %reload_ext cythonmagic\n"
       ]
      }
     ],
     "prompt_number": 131
    },
    {
     "cell_type": "code",
     "collapsed": false,
     "input": [
      "%%px\n",
      "%%cython\n",
      "\n",
      "def cython_loop(double[::1] xs):\n",
      "    n = xs.shape[0]\n",
      "    cdef int i\n",
      "    cdef double s = 0.0\n",
      "    for i in range(n):\n",
      "        s += xs[i]\n",
      "    return s"
     ],
     "language": "python",
     "metadata": {},
     "outputs": [],
     "prompt_number": 135
    },
    {
     "cell_type": "code",
     "collapsed": false,
     "input": [
      "%%time\n",
      "%%px\n",
      "xs = np.random.random(1e7)\n",
      "s = python_loop(xs)"
     ],
     "language": "python",
     "metadata": {},
     "outputs": [
      {
       "output_type": "stream",
       "stream": "stdout",
       "text": [
        "CPU times: user 615 ms, sys: 148 ms, total: 763 ms\n",
        "Wall time: 4.7 s\n"
       ]
      }
     ],
     "prompt_number": 141
    },
    {
     "cell_type": "code",
     "collapsed": false,
     "input": [
      "dv['s']"
     ],
     "language": "python",
     "metadata": {},
     "outputs": [
      {
       "metadata": {},
       "output_type": "pyout",
       "prompt_number": 142,
       "text": [
        "[4999255.51979800, 5001207.17286485, 5000816.40605527, 4999437.17107215]"
       ]
      }
     ],
     "prompt_number": 142
    },
    {
     "cell_type": "code",
     "collapsed": false,
     "input": [
      "%%time\n",
      "%%px\n",
      "xs = np.random.random(1e7)\n",
      "s = cython_loop(xs)"
     ],
     "language": "python",
     "metadata": {},
     "outputs": [
      {
       "output_type": "stream",
       "stream": "stdout",
       "text": [
        "CPU times: user 49.2 ms, sys: 13.2 ms, total: 62.4 ms\n",
        "Wall time: 309 ms\n"
       ]
      }
     ],
     "prompt_number": 139
    },
    {
     "cell_type": "code",
     "collapsed": false,
     "input": [
      "dv['s']"
     ],
     "language": "python",
     "metadata": {},
     "outputs": [
      {
       "metadata": {},
       "output_type": "pyout",
       "prompt_number": 140,
       "text": [
        "[4998448.22537863, 5001776.52089386, 5000582.33825566, 5000231.93044414]"
       ]
      }
     ],
     "prompt_number": 140
    },
    {
     "cell_type": "markdown",
     "metadata": {},
     "source": [
      "### Other parallel programmign approaches not covered"
     ]
    },
    {
     "cell_type": "markdown",
     "metadata": {},
     "source": [
      "- [MPI: Message Passing Interface](http://www-unix.mcs.anl.gov/mpi/)\n",
      "- [mpi4py:  MPI for Python](http://mpi4py.scipy.org/)\n",
      "- [OpenMPI: Open MPI](http://www.open-mpi.org/)"
     ]
    },
    {
     "cell_type": "markdown",
     "metadata": {},
     "source": [
      "References\n",
      "----\n",
      "\n",
      "- [Parallel Processing in Python](http://nbviewer.ipython.org/github/fonnesbeck/Bios366/blob/master/notebooks/Section7_2-Parallel-Processing.ipynb)\n",
      "- [Tools for high-performance computing applications](http://nbviewer.ipython.org/github/jrjohansson/scientific-python-lectures/blob/master/Lecture-6B-HPC.ipynb)\n",
      "- [Using IPython for Parallel Computing](Using IPython for parallel computing)"
     ]
    },
    {
     "cell_type": "code",
     "collapsed": false,
     "input": [
      "%load_ext version_information"
     ],
     "language": "python",
     "metadata": {},
     "outputs": [],
     "prompt_number": 31
    },
    {
     "cell_type": "code",
     "collapsed": false,
     "input": [
      "%version_information numba, multiprocessing, cython"
     ],
     "language": "python",
     "metadata": {},
     "outputs": [
      {
       "html": [
        "<table><tr><th>Software</th><th>Version</th></tr><tr><td>Python</td><td>2.7.9 64bit [GCC 4.2.1 (Apple Inc. build 5577)]</td></tr><tr><td>IPython</td><td>2.2.0</td></tr><tr><td>OS</td><td>Darwin 13.4.0 x86_64 i386 64bit</td></tr><tr><td>numba</td><td>0.17.0</td></tr><tr><td>multiprocessing</td><td>0.70a1</td></tr><tr><td>cython</td><td>0.22</td></tr><tr><td colspan='2'>Tue Mar 24 16:45:56 2015 EDT</td></tr></table>"
       ],
       "json": [
        "{\"Software versions\": [{\"version\": \"2.7.9 64bit [GCC 4.2.1 (Apple Inc. build 5577)]\", \"module\": \"Python\"}, {\"version\": \"2.2.0\", \"module\": \"IPython\"}, {\"version\": \"Darwin 13.4.0 x86_64 i386 64bit\", \"module\": \"OS\"}, {\"version\": \"0.17.0\", \"module\": \"numba\"}, {\"version\": \"0.70a1\", \"module\": \"multiprocessing\"}, {\"version\": \"0.22\", \"module\": \"cython\"}]}"
       ],
       "latex": [
        "\\begin{tabular}{|l|l|}\\hline\n",
        "{\\bf Software} & {\\bf Version} \\\\ \\hline\\hline\n",
        "Python & 2.7.9 64bit [GCC 4.2.1 (Apple Inc. build 5577)] \\\\ \\hline\n",
        "IPython & 2.2.0 \\\\ \\hline\n",
        "OS & Darwin 13.4.0 x86\\_64 i386 64bit \\\\ \\hline\n",
        "numba & 0.17.0 \\\\ \\hline\n",
        "multiprocessing & 0.70a1 \\\\ \\hline\n",
        "cython & 0.22 \\\\ \\hline\n",
        "\\hline \\multicolumn{2}{|l|}{Tue Mar 24 16:45:56 2015 EDT} \\\\ \\hline\n",
        "\\end{tabular}\n"
       ],
       "metadata": {},
       "output_type": "pyout",
       "prompt_number": 32,
       "text": [
        "Software versions\n",
        "Python 2.7.9 64bit [GCC 4.2.1 (Apple Inc. build 5577)]\n",
        "IPython 2.2.0\n",
        "OS Darwin 13.4.0 x86_64 i386 64bit\n",
        "numba 0.17.0\n",
        "multiprocessing 0.70a1\n",
        "cython 0.22\n",
        "Tue Mar 24 16:45:56 2015 EDT"
       ]
      }
     ],
     "prompt_number": 32
    },
    {
     "cell_type": "code",
     "collapsed": false,
     "input": [],
     "language": "python",
     "metadata": {},
     "outputs": []
    }
   ],
   "metadata": {}
  }
 ]
}