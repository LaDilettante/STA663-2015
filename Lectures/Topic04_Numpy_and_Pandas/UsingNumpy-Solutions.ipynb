{
 "metadata": {
  "name": "",
  "signature": "sha256:ee4214d0ec2999426b74c54d155989c42800cbf7412f91372299d733aca3634e"
 },
 "nbformat": 3,
 "nbformat_minor": 0,
 "worksheets": [
  {
   "cells": [
    {
     "cell_type": "code",
     "collapsed": false,
     "input": [
      "import os\n",
      "import sys\n",
      "import glob\n",
      "import matplotlib.pyplot as plt\n",
      "import numpy as np\n",
      "import pandas as pd\n",
      "%matplotlib inline\n",
      "%precision 4\n",
      "plt.style.use('ggplot')"
     ],
     "language": "python",
     "metadata": {},
     "outputs": [],
     "prompt_number": 1
    },
    {
     "cell_type": "code",
     "collapsed": false,
     "input": [
      "%install_ext http://raw.github.com/jrjohansson/version_information/master/version_information.py"
     ],
     "language": "python",
     "metadata": {},
     "outputs": [
      {
       "output_type": "stream",
       "stream": "stdout",
       "text": [
        "Installed version_information.py. To use it, type:\n",
        "  %load_ext version_information\n"
       ]
      }
     ],
     "prompt_number": 2
    },
    {
     "cell_type": "markdown",
     "metadata": {},
     "source": [
      "References\n",
      "----\n",
      "\n",
      "- [Basics of numpy](http://scipy-lectures.github.io/intro/numpy/index.html)\n",
      "- [Some numpy exercises](http://scipy-lectures.github.io/intro/numpy/exercises.html)\n",
      "- [Advanced numpy](http://scipy-lectures.github.io/advanced/advanced_numpy/)\n",
      "- [Numpy reference](http://docs.scipy.org/doc/numpy/reference/)\n",
      "- [Numpy for Matlab users](http://wiki.scipy.org/NumPy_for_Matlab_Users)\n",
      "- [Numpy for R users](http://mathesaurus.sourceforge.net/r-numpy.html)\n",
      "- [Tutorials on Pandas](http://pandas.pydata.org/pandas-docs/stable/tutorials.html)\n",
      "- [Blaze documentation](http://blaze.pydata.org/docs/dev/index.html)"
     ]
    },
    {
     "cell_type": "markdown",
     "metadata": {},
     "source": [
      "Example\n",
      "----\n",
      "\n",
      "From <http://scipy-lectures.github.io/intro/numpy/exercises.html#data-statistics>\n",
      "\n",
      "The data in [populations.txt](http://scipy-lectures.github.io/_downloads/populations.txt) describes the populations of hares and lynxes (and carrots) in northern Canada during 20 years:\n",
      "\n",
      "Computes and print, based on the data in populations.txt...\n",
      "\n",
      "- The mean and std of the populations of each species for the years in the period.\n",
      "- Which year each species had the largest population.\n",
      "- Which species has the largest population for each year. (Hint: argsort & fancy indexing of np.array(['H', 'L', 'C']))\n",
      "- Which years any of the populations is above 50000. (Hint: comparisons and np.any)\n",
      "- The top 2 years for each species when they had the lowest populations. (Hint: argsort, fancy indexing)\n",
      "- Compare (plot) the change in hare population (see help(np.gradient)) and the number of lynxes - Check correlation (see help(np.corrcoef)).\n",
      "\n",
      "... all without for-loops."
     ]
    },
    {
     "cell_type": "code",
     "collapsed": false,
     "input": [
      "# download the data locally\n",
      "if not os.path.exists('populations.txt'):\n",
      "    ! wget http://scipy-lectures.github.io/_downloads/populations.txt"
     ],
     "language": "python",
     "metadata": {},
     "outputs": [],
     "prompt_number": 3
    },
    {
     "cell_type": "code",
     "collapsed": false,
     "input": [
      "# peek at the file to see its structure\n",
      "! head -n 6 populations.txt"
     ],
     "language": "python",
     "metadata": {},
     "outputs": [
      {
       "output_type": "stream",
       "stream": "stdout",
       "text": [
        "# year\thare\tlynx\tcarrot\r\n",
        "1900\t30e3\t4e3\t48300\r\n",
        "1901\t47.2e3\t6.1e3\t48200\r\n",
        "1902\t70.2e3\t9.8e3\t41500\r\n",
        "1903\t77.4e3\t35.2e3\t38200\r\n",
        "1904\t36.3e3\t59.4e3\t40600\r\n"
       ]
      }
     ],
     "prompt_number": 4
    },
    {
     "cell_type": "code",
     "collapsed": false,
     "input": [
      "# load data into a numpy array\n",
      "data = np.loadtxt('populations.txt').astype('int')\n",
      "data[:5, :]"
     ],
     "language": "python",
     "metadata": {},
     "outputs": [
      {
       "metadata": {},
       "output_type": "pyout",
       "prompt_number": 5,
       "text": [
        "array([[ 1900, 30000,  4000, 48300],\n",
        "       [ 1901, 47200,  6100, 48200],\n",
        "       [ 1902, 70200,  9800, 41500],\n",
        "       [ 1903, 77400, 35200, 38200],\n",
        "       [ 1904, 36300, 59400, 40600]])"
       ]
      }
     ],
     "prompt_number": 5
    },
    {
     "cell_type": "code",
     "collapsed": false,
     "input": [
      "# provide convenient named variables\n",
      "populations = data[:, 1:]\n",
      "year, hare, lynx, carrot = data.T"
     ],
     "language": "python",
     "metadata": {},
     "outputs": [],
     "prompt_number": 6
    },
    {
     "cell_type": "code",
     "collapsed": false,
     "input": [
      "# The mean and std of the populations of each species for the years in the period\n",
      "print \"Mean (hare, lynx, carrot):\", populations.mean(axis=0)\n",
      "print \"Std (hare, lynx, carrot):\", populations.std(axis=0)"
     ],
     "language": "python",
     "metadata": {},
     "outputs": [
      {
       "output_type": "stream",
       "stream": "stdout",
       "text": [
        "Mean (hare, lynx, carrot): [ 34080.9524  20166.6667  42400.    ]\n",
        "Std (hare, lynx, carrot): [ 20897.9065  16254.5915   3322.5062]\n"
       ]
      }
     ],
     "prompt_number": 7
    },
    {
     "cell_type": "code",
     "collapsed": false,
     "input": [
      "# Which year each species had the largest population.\n",
      "print \"Year with largest population (hare, lynx, carrot)\", \n",
      "print year[np.argmax(populations, axis=0)]"
     ],
     "language": "python",
     "metadata": {},
     "outputs": [
      {
       "output_type": "stream",
       "stream": "stdout",
       "text": [
        "Year with largest population (hare, lynx, carrot) [1903 1904 1900]\n"
       ]
      }
     ],
     "prompt_number": 8
    },
    {
     "cell_type": "code",
     "collapsed": false,
     "input": [
      "# Which species has the largest population for each year.\n",
      "species = ['hare', 'lynx', 'carrot']\n",
      "zip(year, np.take(species, np.argmax(populations, axis=1)))"
     ],
     "language": "python",
     "metadata": {},
     "outputs": [
      {
       "metadata": {},
       "output_type": "pyout",
       "prompt_number": 9,
       "text": [
        "[(1900, 'carrot'),\n",
        " (1901, 'carrot'),\n",
        " (1902, 'hare'),\n",
        " (1903, 'hare'),\n",
        " (1904, 'lynx'),\n",
        " (1905, 'lynx'),\n",
        " (1906, 'carrot'),\n",
        " (1907, 'carrot'),\n",
        " (1908, 'carrot'),\n",
        " (1909, 'carrot'),\n",
        " (1910, 'carrot'),\n",
        " (1911, 'carrot'),\n",
        " (1912, 'hare'),\n",
        " (1913, 'hare'),\n",
        " (1914, 'hare'),\n",
        " (1915, 'lynx'),\n",
        " (1916, 'carrot'),\n",
        " (1917, 'carrot'),\n",
        " (1918, 'carrot'),\n",
        " (1919, 'carrot'),\n",
        " (1920, 'carrot')]"
       ]
      }
     ],
     "prompt_number": 9
    },
    {
     "cell_type": "code",
     "collapsed": false,
     "input": [
      "# Which years any of the populations is above 50000\n",
      "print year[np.any(populations > 50000, axis=1)]"
     ],
     "language": "python",
     "metadata": {},
     "outputs": [
      {
       "output_type": "stream",
       "stream": "stdout",
       "text": [
        "[1902 1903 1904 1912 1913 1914 1915]\n"
       ]
      }
     ],
     "prompt_number": 10
    },
    {
     "cell_type": "code",
     "collapsed": false,
     "input": [
      "# The top 2 years for each species when they had the lowest populations.\n",
      "print year[np.argsort(populations, axis=0)[:2]]"
     ],
     "language": "python",
     "metadata": {},
     "outputs": [
      {
       "output_type": "stream",
       "stream": "stdout",
       "text": [
        "[[1917 1900 1916]\n",
        " [1916 1901 1903]]\n"
       ]
      }
     ],
     "prompt_number": 11
    },
    {
     "cell_type": "code",
     "collapsed": false,
     "input": [
      "plt.plot(year, lynx, 'r-', year, np.gradient(hare), 'b--')\n",
      "plt.legend(['lynx', 'grad(hare)'], loc='best')\n",
      "print np.corrcoef(lynx, np.gradient(hare))"
     ],
     "language": "python",
     "metadata": {},
     "outputs": [
      {
       "output_type": "stream",
       "stream": "stdout",
       "text": [
        "[[ 1.     -0.9179]\n",
        " [-0.9179  1.    ]]\n"
       ]
      },
      {
       "metadata": {},
       "output_type": "display_data",
       "png": "iVBORw0KGgoAAAANSUhEUgAAAZcAAAEECAYAAADklHngAAAABHNCSVQICAgIfAhkiAAAAAlwSFlz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\n8g+WO8l0o3QAAAAASUVORK5CYII=\n",
       "text": [
<<<<<<< HEAD
        "<matplotlib.figure.Figure at 0x1130bc1d0>"
=======
        "<matplotlib.figure.Figure at 0x7fce98e8cfd0>"
>>>>>>> 8ad8940c2da936619fc155ead5cff8ac90e265fa
       ]
      }
     ],
     "prompt_number": 12
    },
    {
     "cell_type": "markdown",
     "metadata": {},
     "source": [
      "Numerical computing in Python \n",
      "===="
     ]
    },
    {
     "cell_type": "code",
     "collapsed": false,
     "input": [],
     "language": "python",
     "metadata": {},
     "outputs": [],
     "prompt_number": 12
    },
    {
     "cell_type": "markdown",
     "metadata": {},
     "source": [
      "### NDArray\n",
      "\n",
      "The base structure in `numpy` is `ndarray`, used to represent vectors, matrices and higher-dimensional arrays. Each `ndarray` has the following attributes:\n",
      "\n",
      "- dtype = correspond to data types in C\n",
      "- shape = dimensionns of array\n",
      "- strides = number of bytes to step in each direction when traversing the array"
     ]
    },
    {
     "cell_type": "code",
     "collapsed": false,
     "input": [
      "x = np.array([1,2,3,4,5,6])\n",
      "print x\n",
      "print 'dytpe', x.dtype\n",
      "print 'shape', x.shape\n",
      "print 'strides', x.strides"
     ],
     "language": "python",
     "metadata": {},
     "outputs": [
      {
       "output_type": "stream",
       "stream": "stdout",
       "text": [
        "[1 2 3 4 5 6]\n",
        "dytpe int64\n",
        "shape (6,)\n",
        "strides (8,)\n"
       ]
      }
     ],
     "prompt_number": 13
    },
    {
     "cell_type": "code",
     "collapsed": false,
     "input": [
      "x.shape = (2,3)\n",
      "print x\n",
      "print 'dytpe', x.dtype\n",
      "print 'shape', x.shape\n",
      "print 'strides', x.strides"
     ],
     "language": "python",
     "metadata": {},
     "outputs": [
      {
       "output_type": "stream",
       "stream": "stdout",
       "text": [
        "[[1 2 3]\n",
        " [4 5 6]]\n",
        "dytpe int64\n",
        "shape (2, 3)\n",
        "strides (24, 8)\n"
       ]
      }
     ],
     "prompt_number": 14
    },
    {
     "cell_type": "code",
     "collapsed": false,
     "input": [
      "x = x.astype('complex')\n",
      "print x\n",
      "print 'dytpe', x.dtype\n",
      "print 'shape', x.shape\n",
      "print 'strides', x.strides"
     ],
     "language": "python",
     "metadata": {},
     "outputs": [
      {
       "output_type": "stream",
       "stream": "stdout",
       "text": [
        "[[ 1.+0.j  2.+0.j  3.+0.j]\n",
        " [ 4.+0.j  5.+0.j  6.+0.j]]\n",
        "dytpe complex128\n",
        "shape (2, 3)\n",
        "strides (48, 16)\n"
       ]
      }
     ],
     "prompt_number": 15
    },
    {
     "cell_type": "markdown",
     "metadata": {},
     "source": [
      "### Creating arrays"
     ]
    },
    {
     "cell_type": "code",
     "collapsed": false,
     "input": [
      "# from lists\n",
      "x_list = [(i,j) for i in range(2) for j in range(3)]\n",
      "print x_list, '\\n'\n",
      "x_array = np.array(x_list)\n",
      "print x_array"
     ],
     "language": "python",
     "metadata": {},
     "outputs": [
      {
       "output_type": "stream",
       "stream": "stdout",
       "text": [
        "[(0, 0), (0, 1), (0, 2), (1, 0), (1, 1), (1, 2)] \n",
        "\n",
        "[[0 0]\n",
        " [0 1]\n",
        " [0 2]\n",
        " [1 0]\n",
        " [1 1]\n",
        " [1 2]]\n"
       ]
      }
     ],
     "prompt_number": 16
    },
    {
     "cell_type": "code",
     "collapsed": false,
     "input": [
      "# Using convenience functions\n",
      "\n",
      "print np.ones((3,2)), '\\n'\n",
      "print np.zeros((3,2)), '\\n'\n",
      "print np.eye(3), '\\n'\n",
      "print np.diag([1,2,3]), '\\n'\n",
      "print np.fromfunction(lambda i, j: (i-2)**2+(j-2)**2, (5,5))"
     ],
     "language": "python",
     "metadata": {},
     "outputs": [
      {
       "output_type": "stream",
       "stream": "stdout",
       "text": [
        "[[ 1.  1.]\n",
        " [ 1.  1.]\n",
        " [ 1.  1.]] \n",
        "\n",
        "[[ 0.  0.]\n",
        " [ 0.  0.]\n",
        " [ 0.  0.]] \n",
        "\n",
        "[[ 1.  0.  0.]\n",
        " [ 0.  1.  0.]\n",
        " [ 0.  0.  1.]] \n",
        "\n",
        "[[1 0 0]\n",
        " [0 2 0]\n",
        " [0 0 3]] \n",
        "\n",
        "[[ 8.  5.  4.  5.  8.]\n",
        " [ 5.  2.  1.  2.  5.]\n",
        " [ 4.  1.  0.  1.  4.]\n",
        " [ 5.  2.  1.  2.  5.]\n",
        " [ 8.  5.  4.  5.  8.]]\n"
       ]
      }
     ],
     "prompt_number": 17
    },
    {
     "cell_type": "markdown",
     "metadata": {},
     "source": [
      "### Array indexing"
     ]
    },
    {
     "cell_type": "code",
     "collapsed": false,
     "input": [
      "# Create a 10 by 6 array from normal deviates and convert to ints\n",
      "n, nrows, ncols = 100, 10, 6\n",
      "xs = np.random.normal(n, 15, size=(nrows, ncols)).astype('int')\n",
      "xs"
     ],
     "language": "python",
     "metadata": {},
     "outputs": [
      {
       "metadata": {},
       "output_type": "pyout",
       "prompt_number": 18,
       "text": [
<<<<<<< HEAD
        "array([[ 84, 108,  96,  93,  82, 115],\n",
        "       [ 87,  70,  96, 132, 111, 108],\n",
        "       [ 96,  85, 120,  72,  62,  66],\n",
        "       [112,  86,  98,  86,  74,  98],\n",
        "       [ 75,  91, 116, 105,  82, 122],\n",
        "       [ 95, 119,  84,  89,  93,  87],\n",
        "       [118, 113,  94,  89,  67, 107],\n",
        "       [120, 105,  85, 100, 131, 120],\n",
        "       [ 91, 137, 103,  94, 115,  92],\n",
        "       [ 73,  98,  81, 106, 128,  75]])"
=======
        "array([[115,  98,  70, 103, 140, 107],\n",
        "       [ 89, 103, 100,  93, 101, 106],\n",
        "       [119,  98,  66,  73, 102, 109],\n",
        "       [102,  82, 114,  99,  93,  92],\n",
        "       [ 82,  70,  87, 102, 107,  70],\n",
        "       [ 84, 119,  79, 109,  98, 114],\n",
        "       [101,  94,  97,  93, 120,  95],\n",
        "       [ 98,  73, 103, 116, 105, 107],\n",
        "       [ 87, 105,  87, 105,  96, 104],\n",
        "       [ 95,  98, 115,  97,  67,  94]])"
>>>>>>> 8ad8940c2da936619fc155ead5cff8ac90e265fa
       ]
      }
     ],
     "prompt_number": 18
    },
    {
     "cell_type": "code",
     "collapsed": false,
     "input": [
      "# Use slice notation\n",
      "print(xs[0,0])\n",
      "print(xs[-1,-1])\n",
      "print(xs[3,:])\n",
      "print(xs[:,0])\n",
      "print(xs[::2,::2])\n",
      "print(xs[2:5,2:5])"
     ],
     "language": "python",
     "metadata": {},
     "outputs": [
      {
       "output_type": "stream",
       "stream": "stdout",
       "text": [
<<<<<<< HEAD
        "84\n",
        "75\n",
        "[112  86  98  86  74  98]\n",
        "[ 84  87  96 112  75  95 118 120  91  73]\n",
        "[[ 84  96  82]\n",
        " [ 96 120  62]\n",
        " [ 75 116  82]\n",
        " [118  94  67]\n",
        " [ 91 103 115]]\n",
        "[[120  72  62]\n",
        " [ 98  86  74]\n",
        " [116 105  82]]\n"
=======
        "115\n",
        "94\n",
        "[102  82 114  99  93  92]\n",
        "[115  89 119 102  82  84 101  98  87  95]\n",
        "[[115  70 140]\n",
        " [119  66 102]\n",
        " [ 82  87 107]\n",
        " [101  97 120]\n",
        " [ 87  87  96]]\n",
        "[[ 66  73 102]\n",
        " [114  99  93]\n",
        " [ 87 102 107]]\n"
>>>>>>> 8ad8940c2da936619fc155ead5cff8ac90e265fa
       ]
      }
     ],
     "prompt_number": 19
    },
    {
     "cell_type": "code",
     "collapsed": false,
     "input": [
      "#  Indexing with list of integers\n",
      "print(xs[0, [1,2,4,5]])"
     ],
     "language": "python",
     "metadata": {},
     "outputs": [
      {
       "output_type": "stream",
       "stream": "stdout",
       "text": [
<<<<<<< HEAD
        "[108  96  82 115]\n"
=======
        "[ 98  70 140 107]\n"
>>>>>>> 8ad8940c2da936619fc155ead5cff8ac90e265fa
       ]
      }
     ],
     "prompt_number": 20
    },
    {
     "cell_type": "code",
     "collapsed": false,
     "input": [
      "# Boolean indexing\n",
      "print(xs[xs % 2 == 0])\n",
      "xs[xs % 2 == 0] = 0 # set even entries to zero\n",
      "print(xs)"
     ],
     "language": "python",
     "metadata": {},
     "outputs": [
      {
       "output_type": "stream",
       "stream": "stdout",
       "text": [
<<<<<<< HEAD
        "[ 84 108  96  82  70  96 132 108  96 120  72  62  66 112  86  98  86  74\n",
        "  98 116  82 122  84 118  94 120 100 120  94  92  98 106 128]\n",
        "[[  0   0   0  93   0 115]\n",
        " [ 87   0   0   0 111   0]\n",
        " [  0  85   0   0   0   0]\n",
        " [  0   0   0   0   0   0]\n",
        " [ 75  91   0 105   0   0]\n",
        " [ 95 119   0  89  93  87]\n",
        " [  0 113   0  89  67 107]\n",
        " [  0 105  85   0 131   0]\n",
        " [ 91 137 103   0 115   0]\n",
        " [ 73   0  81   0   0  75]]\n"
=======
        "[ 98  70 140 100 106  98  66 102 102  82 114  92  82  70 102  70  84  98\n",
        " 114  94 120  98 116  96 104  98  94]\n",
        "[[115   0   0 103   0 107]\n",
        " [ 89 103   0  93 101   0]\n",
        " [119   0   0  73   0 109]\n",
        " [  0   0   0  99  93   0]\n",
        " [  0   0  87   0 107   0]\n",
        " [  0 119  79 109   0   0]\n",
        " [101   0  97  93   0  95]\n",
        " [  0  73 103   0 105 107]\n",
        " [ 87 105  87 105   0   0]\n",
        " [ 95   0 115  97  67   0]]\n"
>>>>>>> 8ad8940c2da936619fc155ead5cff8ac90e265fa
       ]
      }
     ],
     "prompt_number": 21
    },
    {
     "cell_type": "code",
     "collapsed": false,
     "input": [
      "# Extracting lower triangular, diagonal and upper triangular matrices\n",
      "\n",
      "a = np.arange(16).reshape(4,4)\n",
      "print a, '\\n'\n",
      "print np.tril(a, -1), '\\n'\n",
      "print np.diag(np.diag(a)), '\\n'\n",
      "print np.triu(a, 1)"
     ],
     "language": "python",
     "metadata": {},
     "outputs": [
      {
       "output_type": "stream",
       "stream": "stdout",
       "text": [
        "[[ 0  1  2  3]\n",
        " [ 4  5  6  7]\n",
        " [ 8  9 10 11]\n",
        " [12 13 14 15]] \n",
        "\n",
        "[[ 0  0  0  0]\n",
        " [ 4  0  0  0]\n",
        " [ 8  9  0  0]\n",
        " [12 13 14  0]] \n",
        "\n",
        "[[ 0  0  0  0]\n",
        " [ 0  5  0  0]\n",
        " [ 0  0 10  0]\n",
        " [ 0  0  0 15]] \n",
        "\n",
        "[[ 0  1  2  3]\n",
        " [ 0  0  6  7]\n",
        " [ 0  0  0 11]\n",
        " [ 0  0  0  0]]\n"
       ]
      }
     ],
     "prompt_number": 22
    },
    {
     "cell_type": "markdown",
     "metadata": {},
     "source": [
      "### Broadcasting, row, column and matrix operations"
     ]
    },
    {
     "cell_type": "code",
     "collapsed": false,
     "input": [
      "# operations across rows, cols or entire matrix\n",
      "print(xs.max())\n",
      "print(xs.max(axis=0)) # max of each col\n",
      "print(xs.max(axis=1)) # max of each row"
     ],
     "language": "python",
     "metadata": {},
     "outputs": [
      {
       "output_type": "stream",
       "stream": "stdout",
       "text": [
<<<<<<< HEAD
        "137\n",
        "[ 95 137 103 105 131 115]\n",
        "[115 111  85   0 105 119 113 131 137  81]\n"
=======
        "119\n",
        "[119 119 115 109 107 109]\n",
        "[115 103 119  99 107 119 101 107 105 115]\n"
>>>>>>> 8ad8940c2da936619fc155ead5cff8ac90e265fa
       ]
      }
     ],
     "prompt_number": 23
    },
    {
     "cell_type": "code",
     "collapsed": false,
     "input": [
      "# A funcitonal rather than object-oriented approacha also wokrs\n",
      "print(np.max(xs, axis=0))\n",
      "print(np.max(xs, axis=1))"
     ],
     "language": "python",
     "metadata": {},
     "outputs": [
      {
       "output_type": "stream",
       "stream": "stdout",
       "text": [
<<<<<<< HEAD
        "[ 95 137 103 105 131 115]\n",
        "[115 111  85   0 105 119 113 131 137  81]\n"
=======
        "[119 119 115 109 107 109]\n",
        "[115 103 119  99 107 119 101 107 105 115]\n"
>>>>>>> 8ad8940c2da936619fc155ead5cff8ac90e265fa
       ]
      }
     ],
     "prompt_number": 24
    },
    {
     "cell_type": "code",
     "collapsed": false,
     "input": [
      "# broadcasting\n",
      "xs = np.arange(12).reshape(2,6)\n",
      "print(xs, '\\n')\n",
      "print(xs * 10, '\\n')\n",
      "\n",
      "# broadcasting just works when doing column-wise operations\n",
      "col_means = xs.mean(axis=0)\n",
      "print(col_means, '\\n')\n",
      "print(xs + col_means, '\\n')\n",
      "\n",
      "# but needs a little more work for row-wise operations\n",
      "row_means = xs.mean(axis=1)[:, np.newaxis]\n",
      "print(row_means)\n",
      "print(xs + row_means)"
     ],
     "language": "python",
     "metadata": {},
     "outputs": [
      {
       "output_type": "stream",
       "stream": "stdout",
       "text": [
        "(array([[ 0,  1,  2,  3,  4,  5],\n",
        "       [ 6,  7,  8,  9, 10, 11]]), '\\n')\n",
        "(array([[  0,  10,  20,  30,  40,  50],\n",
        "       [ 60,  70,  80,  90, 100, 110]]), '\\n')\n",
        "(array([ 3.,  4.,  5.,  6.,  7.,  8.]), '\\n')\n",
        "(array([[  3.,   5.,   7.,   9.,  11.,  13.],\n",
        "       [  9.,  11.,  13.,  15.,  17.,  19.]]), '\\n')\n",
        "[[ 2.5]\n",
        " [ 8.5]]\n",
        "[[  2.5   3.5   4.5   5.5   6.5   7.5]\n",
        " [ 14.5  15.5  16.5  17.5  18.5  19.5]]\n"
       ]
      }
     ],
     "prompt_number": 25
    },
    {
     "cell_type": "code",
     "collapsed": false,
     "input": [
      "# convert matrix to have zero mean and unit standard deviation using col summary statistics\n",
      "print((xs - xs.mean(axis=0))/xs.std(axis=0))"
     ],
     "language": "python",
     "metadata": {},
     "outputs": [
      {
       "output_type": "stream",
       "stream": "stdout",
       "text": [
        "[[-1. -1. -1. -1. -1. -1.]\n",
        " [ 1.  1.  1.  1.  1.  1.]]\n"
       ]
      }
     ],
     "prompt_number": 26
    },
    {
     "cell_type": "code",
     "collapsed": false,
     "input": [
      "# convert matrix to have zero mean and unit standard deviation using row summary statistics\n",
      "print((xs - xs.mean(axis=1)[:, np.newaxis])/xs.std(axis=1)[:, np.newaxis])"
     ],
     "language": "python",
     "metadata": {},
     "outputs": [
      {
       "output_type": "stream",
       "stream": "stdout",
       "text": [
        "[[-1.4639 -0.8783 -0.2928  0.2928  0.8783  1.4639]\n",
        " [-1.4639 -0.8783 -0.2928  0.2928  0.8783  1.4639]]\n"
       ]
      }
     ],
     "prompt_number": 27
    },
    {
     "cell_type": "code",
     "collapsed": false,
     "input": [
      "# broadcasting for outer product\n",
      "# e.g. create the 12x12 multiplication toable\n",
      "u = np.arange(1, 13)\n",
      "u[:,None] * u[None,:]"
     ],
     "language": "python",
     "metadata": {},
     "outputs": [
      {
       "metadata": {},
       "output_type": "pyout",
       "prompt_number": 28,
       "text": [
        "array([[  1,   2,   3,   4,   5,   6,   7,   8,   9,  10,  11,  12],\n",
        "       [  2,   4,   6,   8,  10,  12,  14,  16,  18,  20,  22,  24],\n",
        "       [  3,   6,   9,  12,  15,  18,  21,  24,  27,  30,  33,  36],\n",
        "       [  4,   8,  12,  16,  20,  24,  28,  32,  36,  40,  44,  48],\n",
        "       [  5,  10,  15,  20,  25,  30,  35,  40,  45,  50,  55,  60],\n",
        "       [  6,  12,  18,  24,  30,  36,  42,  48,  54,  60,  66,  72],\n",
        "       [  7,  14,  21,  28,  35,  42,  49,  56,  63,  70,  77,  84],\n",
        "       [  8,  16,  24,  32,  40,  48,  56,  64,  72,  80,  88,  96],\n",
        "       [  9,  18,  27,  36,  45,  54,  63,  72,  81,  90,  99, 108],\n",
        "       [ 10,  20,  30,  40,  50,  60,  70,  80,  90, 100, 110, 120],\n",
        "       [ 11,  22,  33,  44,  55,  66,  77,  88,  99, 110, 121, 132],\n",
        "       [ 12,  24,  36,  48,  60,  72,  84,  96, 108, 120, 132, 144]])"
       ]
      }
     ],
     "prompt_number": 28
    },
    {
     "cell_type": "markdown",
     "metadata": {},
     "source": [
      "#### Example: Calculating pairwise distance matrix using broadcasting and vectorization\n",
      "\n",
      "Calculate the pairwise distance matrix between the following points\n",
      "\n",
      "- (0,0)\n",
      "- (4,0)\n",
      "- (4,3)\n",
      "- (0,3)"
     ]
    },
    {
     "cell_type": "code",
     "collapsed": false,
     "input": [
      "def distance_matrix_py(pts):\n",
      "    \"\"\"Returns matrix of pairwise Euclidean distances. Pure Python version.\"\"\"\n",
      "    n = len(pts)\n",
      "    p = len(pts[0])\n",
      "    m = np.zeros((n, n))\n",
      "    for i in range(n):\n",
      "        for j in range(n):\n",
      "            s = 0\n",
      "            for k in range(p):\n",
      "                s += (pts[i,k] - pts[j,k])**2\n",
      "            m[i, j] = s**0.5\n",
      "    return m"
     ],
     "language": "python",
     "metadata": {},
     "outputs": [],
     "prompt_number": 29
    },
    {
     "cell_type": "code",
     "collapsed": false,
     "input": [
      "def distance_matrix_np(pts):\n",
      "    \"\"\"Returns matrix of pairwise Euclidean distances. Vectorized numpy version.\"\"\"\n",
      "    return np.sum((pts[None,:] - pts[:, None])**2, -1)**0.5"
     ],
     "language": "python",
     "metadata": {},
     "outputs": [],
     "prompt_number": 30
    },
    {
     "cell_type": "code",
     "collapsed": false,
     "input": [
      "pts = np.array([(0,0), (4,0), (4,3), (0,3)])"
     ],
     "language": "python",
     "metadata": {},
     "outputs": [],
     "prompt_number": 31
    },
    {
     "cell_type": "code",
     "collapsed": false,
     "input": [
      "distance_matrix_py(pts)"
     ],
     "language": "python",
     "metadata": {},
     "outputs": [
      {
       "metadata": {},
       "output_type": "pyout",
       "prompt_number": 32,
       "text": [
        "array([[ 0.,  4.,  5.,  3.],\n",
        "       [ 4.,  0.,  3.,  5.],\n",
        "       [ 5.,  3.,  0.,  4.],\n",
        "       [ 3.,  5.,  4.,  0.]])"
       ]
      }
     ],
     "prompt_number": 32
    },
    {
     "cell_type": "code",
     "collapsed": false,
     "input": [
      "distance_matrix_np(pts)"
     ],
     "language": "python",
     "metadata": {},
     "outputs": [
      {
       "metadata": {},
       "output_type": "pyout",
       "prompt_number": 33,
       "text": [
        "array([[ 0.,  4.,  5.,  3.],\n",
        "       [ 4.,  0.,  3.,  5.],\n",
        "       [ 5.,  3.,  0.,  4.],\n",
        "       [ 3.,  5.,  4.,  0.]])"
       ]
      }
     ],
     "prompt_number": 33
    },
    {
     "cell_type": "code",
     "collapsed": false,
     "input": [
      "# Broaccasting and vectorization is faster than looping\n",
      "%timeit distance_matrix_py(pts)\n",
      "%timeit distance_matrix_np(pts)"
     ],
     "language": "python",
     "metadata": {},
     "outputs": [
      {
       "output_type": "stream",
       "stream": "stdout",
       "text": [
<<<<<<< HEAD
        "1000 loops, best of 3: 203 \u00b5s per loop\n",
        "10000 loops, best of 3: 29.4 \u00b5s per loop"
=======
        "10000 loops, best of 3: 112 \u00b5s per loop\n",
        "10000 loops, best of 3: 20.2 \u00b5s per loop"
>>>>>>> 8ad8940c2da936619fc155ead5cff8ac90e265fa
       ]
      },
      {
       "output_type": "stream",
       "stream": "stdout",
       "text": [
        "\n"
       ]
      }
     ],
     "prompt_number": 34
    },
    {
     "cell_type": "markdown",
     "metadata": {},
     "source": [
      "### Universal functions (Ufuncs)\n",
      "\n",
      "Functions that work on both scalars and arrays are known as ufuncs. For arrays, ufuncs apply the function in an element-wise fashion. Use of ufuncs is an esssential aspect of vectorization and typically much more computtionally efficient than using an explicit loop over each element."
     ]
    },
    {
     "cell_type": "code",
     "collapsed": false,
     "input": [
      "xs = np.linspace(0, 2*np.pi, 100)\n",
      "ys = np.sin(xs) # np.sin is a universal function\n",
      "plt.plot(xs, ys);"
     ],
     "language": "python",
     "metadata": {},
     "outputs": [
      {
       "metadata": {},
       "output_type": "display_data",
       "png": "iVBORw0KGgoAAAANSUhEUgAAAX4AAAEECAYAAAAvY19bAAAABHNCSVQICAgIfAhkiAAAAAlwSFlz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\nFGA4+ImIAgwHPxFRgOHgJyIKMP8PDQfulhKL8EQAAAAASUVORK5CYII=\n",
       "text": [
<<<<<<< HEAD
        "<matplotlib.figure.Figure at 0x113099f50>"
=======
        "<matplotlib.figure.Figure at 0x7fce97f969d0>"
>>>>>>> 8ad8940c2da936619fc155ead5cff8ac90e265fa
       ]
      }
     ],
     "prompt_number": 35
    },
    {
     "cell_type": "code",
     "collapsed": false,
     "input": [
      "# operators also perform elementwise operations by default\n",
      "\n",
      "xs = np.arange(10)\n",
      "print xs\n",
      "print -xs\n",
      "print xs+xs\n",
      "print xs*xs\n",
      "print xs**3\n",
      "print xs < 5"
     ],
     "language": "python",
     "metadata": {},
     "outputs": [
      {
       "output_type": "stream",
       "stream": "stdout",
       "text": [
        "[0 1 2 3 4 5 6 7 8 9]\n",
        "[ 0 -1 -2 -3 -4 -5 -6 -7 -8 -9]\n",
        "[ 0  2  4  6  8 10 12 14 16 18]\n",
        "[ 0  1  4  9 16 25 36 49 64 81]\n",
        "[  0   1   8  27  64 125 216 343 512 729]\n",
        "[ True  True  True  True  True False False False False False]\n"
       ]
      }
     ],
     "prompt_number": 36
    },
    {
     "cell_type": "markdown",
     "metadata": {},
     "source": [
      "### Generalized ufucns\n",
      "\n",
      "A universal function performs vectorized looping over scalars. A generalized ufucn performs looping over vectors or arrays. Currently, numpy only ships with a single generalized ufunc. However, they play an important role for JIT compilation with `numba`, a topic we will cover in future lectures."
     ]
    },
    {
     "cell_type": "code",
     "collapsed": false,
     "input": [
      "from numpy.core.umath_tests import matrix_multiply\n",
      "\n",
      "print matrix_multiply.signature"
     ],
     "language": "python",
     "metadata": {},
     "outputs": [
      {
       "output_type": "stream",
       "stream": "stdout",
       "text": [
        "(m,n),(n,p)->(m,p)\n"
       ]
      }
     ],
     "prompt_number": 37
    },
    {
     "cell_type": "code",
     "collapsed": false,
     "input": [
      "us = np.random.random((5, 2, 3)) # 5 2x3 matrics\n",
      "vs = np.random.random((5, 3, 4)) # 5 3x4 matrices\n",
      "# perform matrix multiplication for each of the 5 sets of matrices\n",
      "ws = matrix_multiply(us, vs) \n",
      "print ws.shape\n",
      "print ws"
     ],
     "language": "python",
     "metadata": {},
     "outputs": [
      {
       "output_type": "stream",
       "stream": "stdout",
       "text": [
        "(5, 2, 4)\n",
<<<<<<< HEAD
        "[[[ 1.6525  0.7642  1.8964  0.831 ]\n",
        "  [ 1.1368  0.5137  1.0785  0.7104]]\n",
        "\n",
        " [[ 1.0613  1.1923  1.2143  1.0832]\n",
        "  [ 1.0266  0.8275  0.8543  0.6412]]\n",
        "\n",
        " [[ 0.8015  0.8953  0.358   0.4282]\n",
        "  [ 0.3202  0.3222  0.2113  0.1709]]\n",
        "\n",
        " [[ 0.7747  1.0522  1.1458  0.892 ]\n",
        "  [ 0.8178  1.1741  0.9486  1.0363]]\n",
        "\n",
        " [[ 1.5257  0.7962  1.3355  0.707 ]\n",
        "  [ 1.3522  0.6577  0.9845  0.6013]]]\n"
=======
        "[[[ 0.6867  1.1459  0.7265  0.9121]\n",
        "  [ 0.4539  0.7176  0.6996  0.743 ]]\n",
        "\n",
        " [[ 0.9344  1.0883  0.746   0.5471]\n",
        "  [ 0.7089  0.8978  0.7639  0.3914]]\n",
        "\n",
        " [[ 0.7487  0.2003  0.184   0.4265]\n",
        "  [ 0.9408  0.2397  0.6428  0.8042]]\n",
        "\n",
        " [[ 0.4612  0.6803  0.5883  0.7883]\n",
        "  [ 0.4066  0.7948  0.4376  0.8595]]\n",
        "\n",
        " [[ 1.3098  0.3441  0.4117  0.5182]\n",
        "  [ 0.8783  0.3099  0.3582  0.298 ]]]\n"
>>>>>>> 8ad8940c2da936619fc155ead5cff8ac90e265fa
       ]
      }
     ],
     "prompt_number": 38
    },
    {
     "cell_type": "markdown",
     "metadata": {},
     "source": [
      "### Random numbers\n",
      "\n",
      "There are two modules for (pseudo) random numbers that are commonly used. When all you need is to generate random numbers from some distribtuion, the `numpy.random` moodule is the simplest to use. When you need more information realted to a disttribution such as quantiles or the PDF, you can use the `scipy.stats` module."
     ]
    },
    {
     "cell_type": "markdown",
     "metadata": {},
     "source": [
      "#### Using `numpy.random`\n",
      "\n",
      "[Module Reference](http://docs.scipy.org/doc/numpy/reference/routines.random.html)"
     ]
    },
    {
     "cell_type": "code",
     "collapsed": false,
     "input": [
      "import numpy.random as npr\n",
      "npr.seed(123) # fix seed for reproducible results"
     ],
     "language": "python",
     "metadata": {},
     "outputs": [],
     "prompt_number": 39
    },
    {
     "cell_type": "code",
     "collapsed": false,
     "input": [
      "# 10 trials of rolling a fair 6-sided 100 times\n",
      "roll = 1.0/6\n",
      "x = npr.multinomial(100, [roll]*6, 10)\n",
      "x"
     ],
     "language": "python",
     "metadata": {},
     "outputs": [
      {
       "metadata": {},
       "output_type": "pyout",
       "prompt_number": 40,
       "text": [
        "array([[18, 14, 14, 18, 20, 16],\n",
        "       [16, 25, 16, 14, 14, 15],\n",
        "       [15, 19, 16, 12, 18, 20],\n",
        "       [19, 13, 14, 18, 18, 18],\n",
        "       [18, 20, 17, 16, 16, 13],\n",
        "       [15, 16, 15, 16, 20, 18],\n",
        "       [12, 17, 17, 18, 17, 19],\n",
        "       [15, 16, 22, 21, 13, 13],\n",
        "       [18, 12, 16, 17, 22, 15],\n",
        "       [14, 17, 25, 15, 15, 14]])"
       ]
      }
     ],
     "prompt_number": 40
    },
    {
     "cell_type": "code",
     "collapsed": false,
     "input": [
      "# uniformly distributed numbers in 2D\n",
      "x = npr.uniform(-1, 1, (100, 2))\n",
      "plt.scatter(x[:,0], x[:,1], s=50)\n",
      "plt.axis([-1.05, 1.05, -1.05, 1.05]);"
     ],
     "language": "python",
     "metadata": {},
     "outputs": [
      {
       "metadata": {},
       "output_type": "display_data",
       "png": "iVBORw0KGgoAAAANSUhEUgAAAXsAAAD/CAYAAAAQaHZxAAAABHNCSVQICAgIfAhkiAAAAAlwSFlz\nAAALEgAACxIB0t1+/AAAH89JREFUeJzt3VtMXNfZBuB3gM7YM4yBQTHIJ0yx2zhIjUAklupEdq34\npsKKqyhIaaVaopUlnFqto0StLVlNhRyqHOwkVWNFsl1b7X/jXtQSVKpEpSau4lYJHXCaaRw0rpLY\ncQCZYWwwPgH7v6BDwHPas9c+rLX2+1wZGDObj8W31+FbawcMwzBARERaK/P6AoiIyHlM9kREPqBs\nsk8kEl5fgrIYOzGMnxjGT4zV+DHZ+xBjJ4bxE8P4ifFdsiciIvOY7ImIfCDA0ksiIv1ViH6Dt956\nC4ODg1ixYgVee+21nK85efIkhoaGEAqFsHfvXjQ2Npr63levXs37tWg0isnJSUvX7HeMnRjGTwzj\nJ6ZY/FatWpXz88LTON/5zndw8ODBvF+Px+MYHR3Fm2++iT179uD48eOib0lEFqVSQcTjYcTjYaRS\nQdf/P3lHuGe/adMmjI2N5f36wMAAtm7dCgDYuHEjbt68iXQ6jerqasvvmUoFceECMDsbxvr1M4jF\n7lr+XqS+VCqITz+db8psD/ldvBhGZ2cUn31WDgBoaJjFyZOTePDBaVf+P3nL8QXaVCqF2trahY9r\na2uRSqUsf7+LF8Nob6/Bd78bxc6d1Whvr8HFi2E7LpUUlGkPO3dWsz0UkEoFlyRqAPjss3J0dkZN\n9dBF/78OVB/VCPfszTCzBpxIJJbUj3Z0dCAajS55zZdfGujsjORscP39ZaivD9h30RoLBoNZsTXD\nMAyMjACXLs3HuanJQH09EAh4E3ev2oPV+HnpwgUsiVPGZ5+V4/LlEBoaQo7+/8VUi59hGBgcDGD3\n7vCSUc3p09NoaTFcb/9m4nfmzJmFfzc3N6O5udn5ZB+LxTA+Pr7w8fj4OGKxWNbrMhe02P2LEMPD\n4bwN7pNP5hCJcDhphtUFMtmG8V61BxUXGGdn8492ZmdnMTlZOFai/38x1eKXSgWxe3dNVqdi9+4w\n+vomXJ82LBa/aDSKjo6OrM87Po3T1taGc+fOAQCGh4cRiUSE5uvJGxzGq239+hk0NMxmfb6hYRbr\n1884/v9V9umnFXk7FZm1IhUIX+nrr7+Ojz/+GDdu3EBXVxeefvppzM7ON4odO3agtbUVg4OD2Ldv\nH5YtW4auri7L75VpcPcH3g8NzmvFGrwXi6JsD+bFYndx8uRkzpGZmd+d6P8n70m9qSpXnb1sUwkq\nsjKMjsfD2Lkz94istzeN1lZv4u9Fe1BtGmIx0colOyqfVItfKhVEe3tNzk6FjNM4+ers1RmD/M+D\nD06jr28Gly+HMDs7y1I7l8jai860B5ZemhOL3RWKj+j/V5Euoxrlkj0wH/yGhlBJi0IkRuYG78cE\nRO7SoVOhZLInb+jQ4ImsUr1TwWRPJVG9wRP5FY84JiLyASZ7IiIf4DQOOYYHlBHJg8meHMH9EERy\n4TQO2Y5HKxDJhz17jXk1jSLj0QpEfsdkrylOoxDRYpzG0ZDX0yh+PiGRSFZM9hry+kjWzNEKixO+\nLEcrEPkVp3HIETxagUguTPYaKn5CZXav3wk8WoFIHpzGMUmlhw1zGoXMUqldkxj27E1QsbKF0yhU\njIrtmqxjz74IrytbRMRid9HaOo3W1mkmelpC5XZN1jDZF+F1ZQuRE9iu/Ye/VSJF8GA5EsGefRHc\nIEQyuHgxjPb2GuzcWY2dO6vR3l6DixfDlr8f27X/MNkXwcoW8poT8+ts1/7DaRwTWNlCXnLqYDm2\na39hsjeJG4RIR2zX/sFpHCLJcX6d7MBkTyQ5GefXufM2m+wx4TQOkQJkml/nzttsKsSEPXtJyN4r\nIO/JsCOaO2+zqRIT9uxtIrLhRYVeARHAR07mokpMmOxtIJKsC/UK+vpYCkfkBD/uRuY0jiDRIRzP\nKKH7yTylp0NlkF93IzPZC3I7WcucCEic3YnIbjJWBpXCz7uR2XX0WPGnSn3FynSRH4erpZIlRqpM\n6clUGVQqP+9GZrIXVEqyziXTK8iVxBc3FiuJIN/Noa3NsPSz6kimxXFVFvoA7rzNRfaYcBpHkB1D\nuPlewQR6e9Po7U2jr28iK9mUOl1U6OYwOmr2p9ObKiVzZN/0pSrz605gz94Gdgzh7O4VFLo5JJMB\nPPywbW+lLNl60qKjRF3ZOfoyO5LWEZO9TZwewjERFCfL3LtVfk5E+TixjqHC/LoTmOwlYCZJlZoI\nCt0cNmzQb87eSu9PxhuoXxNRPk6NvmSfX3cCk73HSklSpSSCQjeHuroyTE059AN5wGrvT9aetB8T\nETmPyd5DVpJUKYkg380hEIja8wNIQqT3x5603GQcfamKyd5DbiwQspdYHGMkL1lHXypisifX2b2Q\nWqj3FwoB8XiYPXaFcfRlDyZ7D/lxiOrEJqZ8vb/nnruNJ5+swq1bAZ4kqjiOvsQFDMOQtjTj6tWr\neb8WjUYxOTnp4tU4w4sdnF7FLpUKor29JufNra9vQviPOTNimJkJ4O9/D+LYsWW4dSuQ831ERhe6\ntD2vMH5iisVv1apVOT8v3LMfGhrCqVOnMDc3h+3bt2PXrl1Lvp5IJPDyyy+jrq4OALB582Y89dRT\nom+rDT8NUZ1eo8j0/uLxMI4cWZ73fcbGKqQ5IoHILULJfm5uDidOnMChQ4cQi8Vw4MABtLW1Yc2a\nNUte99BDD+HnP/+50IWWSqUNNhyiumdmJoDOzkrpDxsjspvQ2TjJZBL19fVYuXIlKioqsGXLFgwM\nDGS9zu2ZItmPifUrt84lKfQ+kYjB5weQLwkl+1Qqhdra2oWPY7EYUqnUktcEAgEMDw/jhRdeQE9P\nD65cuSLyliauiYdbycqtc78Lvc+9e9IuURE5yvGuTGNjI44dO4ZQKITBwUG88soreOONN7Jel0gk\nkEgkFj7u6OhANJp/808wGMz59QsXkLfndvlyCA0NIYs/iT7yxc4NbW0G+vtvIpmcXzjdsMFAXV2Z\n7Ru98r3PyAjyVkB985tlpuLiZfx0wPiJMRO/M2fOLPy7ubkZzc3NYsk+FothfHx84ePx8XHEYrEl\nr1m+/KuFspaWFhw/fhxTU1OorKxc8rrMBS1WaMU534r07Gz+6ZrZ2VlMTnIRzutqiEgES07ddOro\nhlzvU1kJnDw5l3OBNhKZhpmweB0/1TF+YorFLxqNoqOjI+vzQsm+qakJIyMjGBsbQywWw/nz5/HT\nn/50yWvS6TSqqqoQCASQTCYBICvR28mPtetUGp0roFQqTCB3CSX78vJydHZ24vDhwwull2vWrEF/\nfz8AYMeOHfjnP/+J/v5+lJWVIRQKZd0M7OaH7dX8gxanYwWUTE/dIvlou6lK14Roxx80h9FiZIyf\n0xvW7CRj/FTi2aYqWenYc1PlgdTkPtmeukXy4TNoFVLqc2iJiDKYIUqk6/QQqY2FCVQMk30J7Jgv\nF7lZyPoHzRugs5x4bCX5j7YLtHazYwHMjpuFbAu0fqwAcbPtlRpfFW68XKAVY3WBlsnepHg8jJ07\nq3N+rbc3jdbWwsnNzmoJ0T9ou2KnUgWIndxqe7rGl8leDKtxJGdntYQslUayVICo0Ju1Qpb4kh6Y\n7E2Sdb7c7/w4jZSPrjc9sgdLL00SPbHRreN93eTUz5RKBRGPhxGPhwueVKr7CaelxJfHelMxTPYl\nmD9TZQK9vWn09qbR1zdhugfp1vG+bnLiZyolaXm978DsTckqs/HV/aZH9uA0TolE5st1PIDrwQen\n8ec/z+DLLytw7VoZli0zsHKltV69KjuEDcNwbfrITJvh3D6ZwWTvMlkWV+00OlqBH/9YPPGVmrS8\nWkcZGYGrNyUd2wy5j9M4JMTLKQSvpsYuXQpIdWyFjutBZD/27EmInVMIVnrqOk6NlYq7Z8kMJnuS\nhtWk5fY0R1OTIV0ZLm96VIyWyZ71xu6xe95chaRVXw8pe9Kc26dCtEv23GTjLiemEGRPWoFAQImb\nEtFiWiV7VUr3dOPXxGfmpsRRJslCq2TPemPvyN4b9wJHmSQTll4SOYC7Wkk2WiV71huTLLw+yoHo\nflolex3PnyEisoN2XQy/LhaSXHgkNslGu2QPcLGQvMddrSQbLZI9y9tIRhxlkkyUT/YsbyOZcZRJ\nslB6gZblbUTinH4IC8lB6Z49N1ERieHI2H6yTisrneyJyDq3jxfJJMHycmDt2qA0SdBOMt88lU72\nfipvk7W3QOpyc2ScnQTDC0lQl7Yt+9lcSs/Z+2UTVSkP4SaSTb4kuHdvJT76KKJN204mvyb1rmnv\nr0CQ7uVtTvQWDMPQpjdF1rk1Ms43gnj88Rns2VMpbU+4FBcvhvHvf3/N68soSOmefUYsdhetrdNo\nbZ1WqoGY4cQZK4ODAW16U2Sd1yPjlSsNqXvCZmU6ZJ9/Xib12VzqRPQ+X35pYHh4PkGxZ2peKhXE\n7t1h1xflAP6eZOTGyDjfCGLZMsPW9ynEyXaY6ZD93/+V4Ve/uoXf/jYk5a5pJZP9/GJPRMoVb7vZ\nPdT2dlHO298Tbzy5Ob3xK9/REY8/fhcNDSHHp5Hcaoe3bgXwy18ux/e/fwd1dfPx3LbtjjR5KWAY\nhnu31xJdvXo163OpVBDt7TU5G0hf34SWf8B2NtZ4PIydO6tzfq23N43WVnsapmy/JztjGI1GMTk5\nafclmqLyDeur0styrF17B7HYXccTsRvt0O22Xqz9rVq1KufnlevZ+3EjlZ1Dba8X5bz4PcleEmeW\nbCOlUmVGEPPJaj7mTk8judEOVTn0Trlk71d2DbVjsbs4fXp6yby9jA3TTjLdeKzS5YaViw7nB6lQ\nFahcsvfTRiqntLQY6Oub8GRRjr8na3S4YXnBzXYo+01LudJLr8vFdBAIBBwvV5Xp98THVfqXTO3Q\na8ot0GbcvFmJTz6ZAyDnkElmpS4wiiwKyrKgqMoCbb54ybbgLaKU+NnVfmRph3awukCrbLL3siJC\ndaXETvVFwcXs+oN3qu0Vi7Uuvwuz8dPl57Ubkz2ZZjZ2OvUm7eRE2zMbax16qGbi50XbUyW2vim9\nJPdwUdA9ZmMt+yKgXdxue34YRQgn+6GhIZw6dQpzc3PYvn07du3alfWakydPYmhoCKFQCHv37kVj\nY6Po2xLZQpXeHDlH57LWxYSqcebm5nDixAkcPHgQR44cwXvvvYcrV64seU08Hsfo6CjefPNN7Nmz\nB8ePHxe6YHKP7lUsMh0drXusS+VmPJw4bFBGQsk+mUyivr4eK1euREVFBbZs2YKBgYElrxkYGMDW\nrVsBABs3bsTNmzeRTqdF3pZconPZmmzPL9Y51lYwHvYTum2lUinU1tYufByLxZBMJgu+pra2FqlU\nCtXVuc9nMfe+QVy4AMzOhjn0dpgKOwOtkHE9QtdYW+VWPPyyAdCVMYqZgp9EIoFEIrHwcUdHB6LR\naNb3GRwMZG31P316Gi0tBgKBgL0XrqlgMJgV20KiUaChIfNROYCQE5dVEsMwMDICXLo0/ztvajJQ\nXw/TbaA8O88v+lp5wfiUGr9SyBhru5USPzfiUVlp5DxC5PTpaaxbF0QgINfvwEz8zpw5s/Dv5uZm\nNDc3iyX7WCyG8fHxhY/Hx8cRi8VKfs3iC1rs/vKi+bPYa7KG3rt3h31dClgqHcpWRasn1q4NoqEh\nnLM3t3btnYWDunLRIX5ekjF+GzcCfX13skYRU1MeX1gOxeIXjUbR0dGR9XmhOfumpiaMjIxgbGwM\nMzMzOH/+PNra2pa8pq2tDefOnQMADA8PIxKJWJ7C8ctCChVmx3w754Tpfjo/8Q4QnMYpLy9HZ2cn\nDh8+vFB6uWbNGvT39wMAduzYgdbWVgwODmLfvn1YtmwZurq6bLlw8i+75ts5R05+ItwdbmlpQUtL\ny5LP7dixY8nHP/rRj0TfBoD3CymsydaPXzYpESl16qWXQ2+ZarL9jjXpRKVT8mycVCqIy5dDmJ2d\ndaWHrdsZMTIukJXKy+3tOsTPS4yfGF+djROLzT+oeHLSnXMrZKzJ9jvOtxOVRslkTwRwvp2oFEz2\nJni9MEzkNRYnqE+pBVqvsCab/IzFCXpgz94kzhGTH/nl+F8/YLIvAeeIvcWpBPexOEEfTPakBD88\nSYjISZyzJ+nJdva8n3ADmz6Y7El6PADPOyxO0Af/UoioIBYn6IHJnqTHfQ7eY3GC+jiN47JUKoh4\nPIx4PKzsfLPbPwOnEojEsWfvIh0qSrz6GTiVQBkswbVGyVMvAfVOzpPp5EyrsZPpZ/CSSNtjohKL\nnw4dJlFWT73kNI5LdKgo0eFn8BKPHRBjRwmuDtOoVjHZE7mAewXEiXY2/H6zZbJ3iQ6bU3T4GbzC\nUZG3VLzZ2j0KYbJ3iQ4VJTr8DKQukc6GajdbJ0Yh8v2UGtOhokSHn8EL3CsgLtPZyLVAq1MbLHbS\naDRq7fsy2btMh80pOvwMbvNLonKa1c6GSjfbYqOQhgZr35fJnoSxnNAcjorsYaWzwZstkz0JYt1z\naTgq8o4qN9vio5DsXr8ZXKDVnJN1xSpWOJC/xWJ30do6jdbWaSkTPeBcIQR79hrL1+tua7Nn0zSf\nYkRkXaHpTydGIUz2mirU6+7vv4lIxMOLI/I5M9Ofdk/5cRpHU4V63clkwJb34CYrotJ5Nf3JZE+W\ncZMVUem82uDFaRxJiZYzFlrR37DBvoNOValwIPI7JnsJ2VHOWKiuuK6uDFNT9l0vywmJzPNqgxfP\ns5eM3WfG5xoh6Bo7tzB+Yhg/sQ6d1fPs2bOXjN3ljCK9bu6MJXKGF9OfTPaUk507Y3nTIMrm9vQn\nq3FMcPPpNjKUM9pZGub3B0YQyYLJvgi3k5UM5Yx2lYbxOAUieXAap4Bi50o7lXx1KWfkcQpE8mCy\nL8DLZOVlOaNKZ38TkTmcxqEsdk0lybD+QETz2LMvwM89XDumkvjACCJ5MNkX4PdkZcdUki7rD0Sq\nY7IvgslKHI9TIPIek70JTFZEpDou0BIR+YDlnv3U1BSOHj2Ka9eu4YEHHsD+/fsRyfH4o2effRbL\nly9HWVkZysvL0dPTI3TBRERUOsvJ/uzZs/jWt76FJ598EmfPnsXZs2fxgx/8IOdrX3zxRVRWVlq+\nSCIiEmN5GmdgYABbt24FAGzbtg0ffPBB3tdKfIoyEXnEzTOnSKBnf/36dVRXVwMAqqqqcP369Zyv\nCwQC6O7uRllZGZ544gk88cQTVt+SiDRgGIatp6qSOQWTfXd3N9LpdNbnn3nmmSUfBwL5H2Dd3d2N\nmpoa3LhxA93d3Vi9ejU2bdqU9bpEIoFEIrHwcUdHB6LRaN7vGwwGC36d8mPsxDB+YsbGytDZGcl5\n5lR/fxnq6/PnEzLX/s6cObPw7+bmZjQ3NxdO9ocOHcr7taqqKqTTaVRXV2NiYgJVVVU5X1dTUwMA\nWLFiBR599FEkk8mcyT5zQYsVehoLn3ZjHWMnhvETMzwczXvm1CefzCESYe++kGLtLxqNoqOjI+vz\nlufs29ra8M477wAA3n33XTzyyCNZr7lz5w5u3boFALh9+zY+/PBDrFu3zupbEhGRRZbn7Hft2oWj\nR4/ib3/720LpJQCkUim8/fbbOHDgANLpNF599VUAwNzcHB577DE8/PDD9lw5ESmpqcnw7ZlTXuID\nx32IsRPD+ImprKzEwMAcF2gt4gPHiUgJgUBA2TOnVH6eMpM9aUXlP0a/Ue3MKdXLRXk2DmmDDzcn\np+jwPGUme9KCDn+MJK9ijyhVAZM9aUGHP0YiJ/GvgIi0Zsc6jg6PKGXPnrTAh5tTLnat42QeUbq4\njan2iFLW2fuQrrFzq1pC1/i5xa34pVJBtLfX5OyN9/VNWErSMlR7sc6efE/V2m1yRrF1HCttQ7Vy\n0cWY7EkrKv8xEjmJyZ6IbCXDVEfmvVVfVLUTkz2Ry2RJhk6QaZdpZlE11/XoFHOzmOyJXCRTMrRb\noY1tfX3e3NS4jvMVJnsil8iYDO3kxIKoHbiOM4919kQu4S5f8hJbWB46z6sSOYELonJjzz4Hnp5I\nTtB9l68Ou0x1xh209zGz6071Xj93gIoRiZ/OC7QZxf4+dGh/XuYA7qC1SbF51bGxCu3/WMk5fqgO\n0X1BVNUbNqdxSjAzE+CZ6ZpKpYKIx8OIx8OO/y5jsbtobZ3G+vXzSd+N9yR7qPzcBPbs71NokSkS\nMaQsLSMxXvTUVO0d+p2s5aVmsGd/n0KLTPfuSbu8QRZ50VOTqXfo5oiGvMWefQ755lVTqSBLyzTj\nRU9Nlt4hRxelU7m8lD37PDLzqq2t0wt/fCwtI13INLpQico5gD37EqlYTXF/mVhlJaejMrzoqcnQ\nO5RldKEiFXMAwGRviUqlZbmG6qdPT2PjRo8vTBJenIzI0xjVtzgHZNY9ALkTP5O9xvIN1XfvDqOv\n7460jdJtXvTUMu+ZTH4Nt28HUFs7h7o69+Z8ZRhd6ECldQ8me41xqG6eF6O1sbEK/OxnlZ4kCr+M\nLpzc6araKaZM9kQekCFRuD2iySTe8nJg7dqg4z+j071upzpTTt2gmOw1xqG6vGQZdbk1oslOvGFH\nRzEy3EytcPIGxdJLjeUrEzt9elraxq4jv29c8qLM041nB9h9iqnTcWLPXnO5hurr1gUxNeXxhflE\nvp5aY6N/Rl2yjGLsZve6h9NxYrL3gfuH6oFAyMOr8Y/CUwkTvlgg9YpbU5gq1dwz2RM5pFhPrbVV\nnUQhwou1Izerjexa93A6Tkz2JET1B7l4zcsNem787lKpID7/vBy/+c1N7NsXcXUUo1KvG3D+BsVk\nT5aJVA744SYhczWUG5uBFr/H8uUGurpuY/Pme4hGA1i71p1NfXbcTN1sq07eoPhYQh+yI3ZmHt+Y\nj0q7DnMpJX4y/qwivzs73qO//yYiETUqBGT8/Vl9LCFLL8kSq6Vtfjttcb6nNoHe3jR6e9Po65vw\n/KbmRlliofdIJgO2vIfTdGurnMYhV+lahleISgfn0Vd0a6vs2ZMldm8oIfe48bsr9B4bNkg7c6w1\nJnuyxOpDHHiT8J4bD+Ao9B51dba8heN0a6tcoPUhO2NnpVJBxkWvUujS9twqvbz/PVSKn4xt1eoC\nLZO9D8kQO5VLL2WIn8pUi59sbdVqsucCLXmCi5akCl3aquVk/49//AN//OMf8cUXX6Cnpwdf//rX\nc75uaGgIp06dwtzcHLZv345du3ZZvlgiIrLG8gLtunXr8Pzzz+Ohhx7K+5q5uTmcOHECBw8exJEj\nR/Dee+/hypUrVt+SiIgsstyzX716ddHXJJNJ1NfXY+XKlQCALVu2YGBgAGvWrLH6tkREZIGjpZep\nVAq1tbULH8diMaRSKSffkoiIcijYs+/u7kY6nc76/DPPPIO2tjZbLySRSCCRSCx83NHRgWg0mvf1\nwWCw4NcpP8ZODOMnhvETYyZ+Z86cWfh3c3MzmpubCyf7Q4cOCV1ULBbD+Pj4wsfj4+OIxWI5X5u5\noMUKlRepVr4lE8ZODOMnhvETUyx+0WgUHR0dWZ93dBqnqakJIyMjGBsbw8zMDM6fP2/7iICIiIqz\nnOzff/99dHV1YXh4GD09PXjppZcAzM/T9/T0AADKy8vR2dmJw4cPY//+/fj2t7/NxVkiIg9wB60P\nMXZiGD8xjJ8YnmdPRER5Sd2zJyIieyjbs19cWkSlYezEMH5iGD8xVuOnbLInIiLzmOyJiHxA2WR/\n/wYsMo+xE8P4iWH8xFiNHxdoiYh8QNmePRERmcdkT0TkA0o8lpBPxRIzNTWFo0eP4tq1a3jggQew\nf/9+RCKRrNc9++yzWL58OcrKylBeXr5w7IVfmWlPJ0+exNDQEEKhEPbu3YvGxkYPrlROxeKXSCTw\n8ssvo66uDgCwefNmPPXUU15cqlTeeustDA4OYsWKFXjttddyvsZSuzMUcOXKFeOLL74wXnzxRePS\npUs5XzM7O2v85Cc/MUZHR4179+4Zzz//vHH58mWXr1ROv//9742zZ88ahmEYf/rTn4w//OEPOV+3\nd+9eY3Jy0s1Lk5aZ9vSvf/3LeOmllwzDMIzh4WHj4MGDXlyqlMzE76OPPjJ+/etfe3SF8vrPf/5j\n/Pe//zWee+65nF+32u6UmMZZvXp13vMeMhY/FauiomLhqVgEDAwMYOvWrQCAbdu24YMPPsj7WoPr\n9QDMtafFcd24cSNu3ryZ8/kPfmT275HtLdumTZtyjrwzrLY7JZK9GXwqVn7Xr19HdXU1AKCqqgrX\nr1/P+bpAIIDu7m784he/wF//+lc3L1E6ZtrT/a+pra1lm/sfM/ELBAIYHh7GCy+8gJ6eHj6f2iSr\n7U6aOXs3n4qlo0LxWywQCBT8HjU1Nbhx4wa6u7uxevVqbNq0yfZr1Ql7ptY1Njbi2LFjCIVCGBwc\nxCuvvII33njD68tSgpV2J02yd/OpWDoqFL+qqiqk02lUV1djYmICVVVVOV9XU1MDAFixYgUeffRR\nJJNJ3yZ7M+3J722uEDOxWb58+cK/W1pacPz4cUxNTaGystK161SR1XanzTQOn4qVX1tbG9555x0A\nwLvvvotHHnkk6zV37tzBrVu3AAC3b9/Ghx9+iHXr1rl5mVIx057a2tpw7tw5AMDw8DAikcjCdJnf\nmYlfOp1e6KEmk0kAYKI3wWq7U2IH7fvvv4/f/e53uHHjBsLhMBobG3Hw4EGkUim8/fbbOHDgAABg\ncHBwSanX9773PY+vXA75Si8Xx290dBSvvvoqAGBubg6PPfaY7+OXqz319/cDAHbs2AEAOHHiBIaG\nhrBs2TJ0dXXlLQv2o2Lx+8tf/oL+/n6UlZUhFArhhz/8Ib7xjW94fNXee/311/Hxxx/jxo0bqK6u\nxtNPP43Z2VkAYu1OiWRPRERitJnGISKi/JjsiYh8gMmeiMgHmOyJiHyAyZ6IyAeY7ImIfIDJnojI\nB5jsiYh84P8BxNMci3BfalYAAAAASUVORK5CYII=\n",
       "text": [
<<<<<<< HEAD
        "<matplotlib.figure.Figure at 0x1146008d0>"
=======
        "<matplotlib.figure.Figure at 0x7fce97f24bd0>"
>>>>>>> 8ad8940c2da936619fc155ead5cff8ac90e265fa
       ]
      }
     ],
     "prompt_number": 41
    },
    {
     "cell_type": "code",
     "collapsed": false,
     "input": [
      "# ranodmly shuffling a vector\n",
      "x = np.arange(10)\n",
      "npr.shuffle(x)\n",
      "x"
     ],
     "language": "python",
     "metadata": {},
     "outputs": [
      {
       "metadata": {},
       "output_type": "pyout",
       "prompt_number": 42,
       "text": [
        "array([5, 8, 6, 4, 3, 9, 1, 7, 2, 0])"
       ]
      }
     ],
     "prompt_number": 42
    },
    {
     "cell_type": "code",
     "collapsed": false,
     "input": [
      "# radnom permutations\n",
      "npr.permutation(10)"
     ],
     "language": "python",
     "metadata": {},
     "outputs": [
      {
       "metadata": {},
       "output_type": "pyout",
       "prompt_number": 43,
       "text": [
        "array([1, 4, 9, 8, 6, 5, 3, 2, 0, 7])"
       ]
      }
     ],
     "prompt_number": 43
    },
    {
     "cell_type": "code",
     "collapsed": false,
     "input": [
      "# radnom selection without replacement\n",
      "x = np.arange(10,20)\n",
      "npr.choice(x, 10, replace=False)"
     ],
     "language": "python",
     "metadata": {},
     "outputs": [
      {
       "metadata": {},
       "output_type": "pyout",
       "prompt_number": 44,
       "text": [
        "array([14, 16, 15, 12, 19, 11, 13, 10, 18, 17])"
       ]
      }
     ],
     "prompt_number": 44
    },
    {
     "cell_type": "code",
     "collapsed": false,
     "input": [
      "# radnom selection with replacement\n",
      "npr.choice(x, (5, 10), replace=True) # this is default"
     ],
     "language": "python",
     "metadata": {},
     "outputs": [
      {
       "metadata": {},
       "output_type": "pyout",
       "prompt_number": 45,
       "text": [
        "array([[15, 13, 10, 14, 18, 14, 19, 13, 15, 11],\n",
        "       [18, 10, 19, 11, 15, 18, 18, 14, 16, 18],\n",
        "       [17, 19, 12, 10, 10, 19, 19, 15, 13, 15],\n",
        "       [15, 12, 12, 17, 13, 11, 13, 19, 13, 16],\n",
        "       [12, 13, 11, 19, 18, 10, 12, 13, 17, 19]])"
       ]
      }
     ],
     "prompt_number": 45
    },
    {
     "cell_type": "code",
     "collapsed": false,
     "input": [
      "# toy example - estimating pi inefficiently\n",
      "n = 1e6\n",
      "x = npr.uniform(-1,1,(n,2))\n",
      "4.0*np.sum(x[:,0]**2 + x[:,1]**2 < 1)/n"
     ],
     "language": "python",
     "metadata": {},
     "outputs": [
      {
       "metadata": {},
       "output_type": "pyout",
       "prompt_number": 46,
       "text": [
        "3.1416"
       ]
      }
     ],
     "prompt_number": 46
    },
    {
     "cell_type": "markdown",
     "metadata": {},
     "source": [
      "#### Using scipy.stats\n",
      "\n",
      "[Module refernce](http://docs.scipy.org/doc/scipy-0.14.0/reference/stats.html)"
     ]
    },
    {
     "cell_type": "code",
     "collapsed": false,
     "input": [
      "import scipy.stats as stats"
     ],
     "language": "python",
     "metadata": {},
     "outputs": [],
     "prompt_number": 47
    },
    {
     "cell_type": "code",
     "collapsed": false,
     "input": [
      "# Create a \"frozen\" distribution - i.e. a partially applied function\n",
      "dist = stats.norm(10, 2)"
     ],
     "language": "python",
     "metadata": {},
     "outputs": [],
     "prompt_number": 48
    },
    {
     "cell_type": "code",
     "collapsed": false,
     "input": [
      "#  same a rnorm\n",
      "dist.rvs(10)"
     ],
     "language": "python",
     "metadata": {},
     "outputs": [
      {
       "metadata": {},
       "output_type": "pyout",
       "prompt_number": 49,
       "text": [
        "array([ 11.629 ,   9.5777,   8.5607,   8.5777,   8.6464,  11.5398,\n",
        "        10.8751,  11.8244,  10.1772,   9.3056])"
       ]
      }
     ],
     "prompt_number": 49
    },
    {
     "cell_type": "code",
     "collapsed": false,
     "input": [
      "# same as pnorm\n",
      "dist.pdf(np.linspace(5, 15, 10))"
     ],
     "language": "python",
     "metadata": {},
     "outputs": [
      {
       "metadata": {},
       "output_type": "pyout",
       "prompt_number": 50,
       "text": [
        "array([ 0.0088,  0.0301,  0.076 ,  0.141 ,  0.1919,  0.1919,  0.141 ,\n",
        "        0.076 ,  0.0301,  0.0088])"
       ]
      }
     ],
     "prompt_number": 50
    },
    {
     "cell_type": "code",
     "collapsed": false,
     "input": [
      "# same as dnorm\n",
      "dist.cdf(np.linspace(5, 15, 11))"
     ],
     "language": "python",
     "metadata": {},
     "outputs": [
      {
       "metadata": {},
       "output_type": "pyout",
       "prompt_number": 51,
       "text": [
        "array([ 0.0062,  0.0228,  0.0668,  0.1587,  0.3085,  0.5   ,  0.6915,\n",
        "        0.8413,  0.9332,  0.9772,  0.9938])"
       ]
      }
     ],
     "prompt_number": 51
    },
    {
     "cell_type": "code",
     "collapsed": false,
     "input": [
      "# same as qnorm\n",
      "dist.ppf(dist.cdf(np.linspace(5, 15, 11)))"
     ],
     "language": "python",
     "metadata": {},
     "outputs": [
      {
       "metadata": {},
       "output_type": "pyout",
       "prompt_number": 52,
       "text": [
        "array([  5.,   6.,   7.,   8.,   9.,  10.,  11.,  12.,  13.,  14.,  15.])"
       ]
      }
     ],
     "prompt_number": 52
    },
    {
     "cell_type": "markdown",
     "metadata": {},
     "source": [
      "### Linear algebra\n",
      "\n",
      "In general, the linear algebra functions can be found in scipy.linalg. You can also get access to BLAS and LAPACK function via scipy.linagl.blas and scipy.linalg.lapack."
     ]
    },
    {
     "cell_type": "code",
     "collapsed": false,
     "input": [
      "import scipy.linalg as la"
     ],
     "language": "python",
     "metadata": {},
     "outputs": [],
     "prompt_number": 53
    },
    {
     "cell_type": "code",
     "collapsed": false,
     "input": [
      "A = np.array([[1,2],[3,4]])\n",
      "b = np.array([1,4])\n",
      "print(A)\n",
      "print(b)"
     ],
     "language": "python",
     "metadata": {},
     "outputs": [
      {
       "output_type": "stream",
       "stream": "stdout",
       "text": [
        "[[1 2]\n",
        " [3 4]]\n",
        "[1 4]\n"
       ]
      }
     ],
     "prompt_number": 54
    },
    {
     "cell_type": "code",
     "collapsed": false,
     "input": [
      "# Matrix operations\n",
      "import numpy as np\n",
      "import scipy.linalg as la\n",
      "from functools import reduce\n",
      "\n",
      "A = np.array([[1,2],[3,4]])\n",
      "print(np.dot(A, A))\n",
      "print(A)\n",
      "print(la.inv(A))\n",
      "print(A.T)"
     ],
     "language": "python",
     "metadata": {},
     "outputs": [
      {
       "output_type": "stream",
       "stream": "stdout",
       "text": [
        "[[ 7 10]\n",
        " [15 22]]\n",
        "[[1 2]\n",
        " [3 4]]\n",
        "[[-2.   1. ]\n",
        " [ 1.5 -0.5]]\n",
        "[[1 3]\n",
        " [2 4]]\n"
       ]
      }
     ],
     "prompt_number": 55
    },
    {
     "cell_type": "code",
     "collapsed": false,
     "input": [
      "x = la.solve(A, b) # do not use x = dot(inv(A), b) as it is inefficient and numerically unstable\n",
      "print(x)\n",
      "print(np.dot(A, x) - b)"
     ],
     "language": "python",
     "metadata": {},
     "outputs": [
      {
       "output_type": "stream",
       "stream": "stdout",
       "text": [
        "[ 2.  -0.5]\n",
        "[ 0.  0.]\n"
       ]
      }
     ],
     "prompt_number": 56
    },
    {
     "cell_type": "markdown",
     "metadata": {},
     "source": [
      "### Matrix decompositions"
     ]
    },
    {
     "cell_type": "code",
     "collapsed": false,
     "input": [
      "A = np.floor(npr.normal(100, 15, (6, 10)))\n",
      "print(A)"
     ],
     "language": "python",
     "metadata": {},
     "outputs": [
      {
       "output_type": "stream",
       "stream": "stdout",
       "text": [
        "[[  94.   82.  125.  108.  105.   88.   99.   82.   97.  112.]\n",
        " [  83.  124.   67.  103.   73.  111.  125.   81.  122.   62.]\n",
        " [  93.   84.  107.  107.   80.   85.   96.   89.   85.  102.]\n",
        " [ 116.  116.   64.   98.   82.   98.  121.   70.  122.   98.]\n",
        " [ 118.  108.  103.  102.   68.   98.   88.   78.  103.   95.]\n",
        " [ 112.  115.   74.   80.  106.  104.  114.  105.   80.   99.]]\n"
       ]
      }
     ],
     "prompt_number": 57
    },
    {
     "cell_type": "code",
     "collapsed": false,
     "input": [
      "P, L, U = la.lu(A)\n",
      "print(np.dot(P.T, A))\n",
      "print\n",
      "print(np.dot(L, U))"
     ],
     "language": "python",
     "metadata": {},
     "outputs": [
      {
       "output_type": "stream",
       "stream": "stdout",
       "text": [
        "[[ 118.  108.  103.  102.   68.   98.   88.   78.  103.   95.]\n",
        " [  83.  124.   67.  103.   73.  111.  125.   81.  122.   62.]\n",
        " [  94.   82.  125.  108.  105.   88.   99.   82.   97.  112.]\n",
        " [ 116.  116.   64.   98.   82.   98.  121.   70.  122.   98.]\n",
        " [ 112.  115.   74.   80.  106.  104.  114.  105.   80.   99.]\n",
        " [  93.   84.  107.  107.   80.   85.   96.   89.   85.  102.]]\n",
        "\n",
        "[[ 118.  108.  103.  102.   68.   98.   88.   78.  103.   95.]\n",
        " [  83.  124.   67.  103.   73.  111.  125.   81.  122.   62.]\n",
        " [  94.   82.  125.  108.  105.   88.   99.   82.   97.  112.]\n",
        " [ 116.  116.   64.   98.   82.   98.  121.   70.  122.   98.]\n",
        " [ 112.  115.   74.   80.  106.  104.  114.  105.   80.   99.]\n",
        " [  93.   84.  107.  107.   80.   85.   96.   89.   85.  102.]]\n"
       ]
      }
     ],
     "prompt_number": 58
    },
    {
     "cell_type": "code",
     "collapsed": false,
     "input": [
      "Q, R = la.qr(A)\n",
      "print(A)\n",
      "print\n",
      "print(np.dot(Q, R))"
     ],
     "language": "python",
     "metadata": {},
     "outputs": [
      {
       "output_type": "stream",
       "stream": "stdout",
       "text": [
        "[[  94.   82.  125.  108.  105.   88.   99.   82.   97.  112.]\n",
        " [  83.  124.   67.  103.   73.  111.  125.   81.  122.   62.]\n",
        " [  93.   84.  107.  107.   80.   85.   96.   89.   85.  102.]\n",
        " [ 116.  116.   64.   98.   82.   98.  121.   70.  122.   98.]\n",
        " [ 118.  108.  103.  102.   68.   98.   88.   78.  103.   95.]\n",
        " [ 112.  115.   74.   80.  106.  104.  114.  105.   80.   99.]]\n",
        "\n",
        "[[  94.   82.  125.  108.  105.   88.   99.   82.   97.  112.]\n",
        " [  83.  124.   67.  103.   73.  111.  125.   81.  122.   62.]\n",
        " [  93.   84.  107.  107.   80.   85.   96.   89.   85.  102.]\n",
        " [ 116.  116.   64.   98.   82.   98.  121.   70.  122.   98.]\n",
        " [ 118.  108.  103.  102.   68.   98.   88.   78.  103.   95.]\n",
        " [ 112.  115.   74.   80.  106.  104.  114.  105.   80.   99.]]\n"
       ]
      }
     ],
     "prompt_number": 59
    },
    {
     "cell_type": "code",
     "collapsed": false,
     "input": [
      "U, s, V = la.svd(A)\n",
      "m, n = A.shape\n",
      "S =  np.zeros((m, n))\n",
      "for i, _s in enumerate(s):\n",
      "    S[i,i] = _s\n",
      "print(reduce(np.dot, [U, S, V]))"
     ],
     "language": "python",
     "metadata": {},
     "outputs": [
      {
       "output_type": "stream",
       "stream": "stdout",
       "text": [
        "[[  94.   82.  125.  108.  105.   88.   99.   82.   97.  112.]\n",
        " [  83.  124.   67.  103.   73.  111.  125.   81.  122.   62.]\n",
        " [  93.   84.  107.  107.   80.   85.   96.   89.   85.  102.]\n",
        " [ 116.  116.   64.   98.   82.   98.  121.   70.  122.   98.]\n",
        " [ 118.  108.  103.  102.   68.   98.   88.   78.  103.   95.]\n",
        " [ 112.  115.   74.   80.  106.  104.  114.  105.   80.   99.]]\n"
       ]
      }
     ],
     "prompt_number": 60
    },
    {
     "cell_type": "code",
     "collapsed": false,
     "input": [
      "B = np.cov(A)\n",
      "print(B)"
     ],
     "language": "python",
     "metadata": {},
     "outputs": [
      {
       "output_type": "stream",
       "stream": "stdout",
       "text": [
        "[[ 187.7333 -182.4667   94.9333 -105.4444    1.2    -137.2   ]\n",
        " [-182.4667  609.6556  -83.3111  371.0556   90.8778   70.5667]\n",
        " [  94.9333  -83.3111   97.2889  -48.8889   45.0222  -79.8   ]\n",
        " [-105.4444  371.0556  -48.8889  438.5     145.5     109.0556]\n",
        " [   1.2      90.8778   45.0222  145.5     215.4333  -39.7667]\n",
        " [-137.2      70.5667  -79.8     109.0556  -39.7667  234.1   ]]\n"
       ]
      }
     ],
     "prompt_number": 61
    },
    {
     "cell_type": "code",
     "collapsed": false,
     "input": [
      "u, V = la.eig(B)\n",
      "print(np.dot(B, V))\n",
      "print\n",
      "print(np.real(np.dot(V, np.diag(u))))"
     ],
     "language": "python",
     "metadata": {},
     "outputs": [
      {
       "output_type": "stream",
       "stream": "stdout",
       "text": [
        "[[-280.8911  157.1032   12.1003  -60.7161    8.8142   -1.5134]\n",
        " [ 739.1179   34.4268    3.8974    4.3778   14.9092 -122.8749]\n",
        " [-134.1449  128.3162  -11.0569   -6.6382   37.3675   13.4467]\n",
        " [ 598.7992   77.4348   -5.3372  -52.7843  -14.996    94.553 ]\n",
        " [ 170.8339  193.7335    5.8732   67.6135    1.1042   90.1451]\n",
        " [ 199.7105 -218.1547    6.1467   -5.6295   26.3372  101.0444]]\n",
        "\n",
        "[[-280.8911  157.1032   12.1003  -60.7161    8.8142   -1.5134]\n",
        " [ 739.1179   34.4268    3.8974    4.3778   14.9092 -122.8749]\n",
        " [-134.1449  128.3162  -11.0569   -6.6382   37.3675   13.4467]\n",
        " [ 598.7992   77.4348   -5.3372  -52.7843  -14.996    94.553 ]\n",
        " [ 170.8339  193.7335    5.8732   67.6135    1.1042   90.1451]\n",
        " [ 199.7105 -218.1547    6.1467   -5.6295   26.3372  101.0444]]\n"
       ]
      }
     ],
     "prompt_number": 62
    },
    {
     "cell_type": "code",
     "collapsed": false,
     "input": [
      "C = la.cholesky(B)\n",
      "print(np.dot(C.T, C))\n",
      "print\n",
      "print(B)"
     ],
     "language": "python",
     "metadata": {},
     "outputs": [
      {
       "output_type": "stream",
       "stream": "stdout",
       "text": [
        "[[ 187.7333 -182.4667   94.9333 -105.4444    1.2    -137.2   ]\n",
        " [-182.4667  609.6556  -83.3111  371.0556   90.8778   70.5667]\n",
        " [  94.9333  -83.3111   97.2889  -48.8889   45.0222  -79.8   ]\n",
        " [-105.4444  371.0556  -48.8889  438.5     145.5     109.0556]\n",
        " [   1.2      90.8778   45.0222  145.5     215.4333  -39.7667]\n",
        " [-137.2      70.5667  -79.8     109.0556  -39.7667  234.1   ]]\n",
        "\n",
        "[[ 187.7333 -182.4667   94.9333 -105.4444    1.2    -137.2   ]\n",
        " [-182.4667  609.6556  -83.3111  371.0556   90.8778   70.5667]\n",
        " [  94.9333  -83.3111   97.2889  -48.8889   45.0222  -79.8   ]\n",
        " [-105.4444  371.0556  -48.8889  438.5     145.5     109.0556]\n",
        " [   1.2      90.8778   45.0222  145.5     215.4333  -39.7667]\n",
        " [-137.2      70.5667  -79.8     109.0556  -39.7667  234.1   ]]\n"
       ]
      }
     ],
     "prompt_number": 63
    },
    {
     "cell_type": "markdown",
     "metadata": {},
     "source": [
      "### Finding the covariance matrix"
     ]
    },
    {
     "cell_type": "code",
     "collapsed": false,
     "input": [
      "np.random.seed(123)\n",
      "x = np.random.multivariate_normal([10,10], np.array([[3,1],[1,5]]), 10)\n",
      "# create a zero mean array\n",
      "u = x - x.mean(0)\n",
      "cov = np.dot(u.T, u)/(10-1)\n",
      "print cov, '\\n'\n",
      "print np.cov(x.T)"
     ],
     "language": "python",
     "metadata": {},
     "outputs": [
      {
       "output_type": "stream",
       "stream": "stdout",
       "text": [
        "[[ 5.1286  3.0701]\n",
        " [ 3.0701  9.0755]] \n",
        "\n",
        "[[ 5.1286  3.0701]\n",
        " [ 3.0701  9.0755]]\n"
       ]
      }
     ],
     "prompt_number": 64
    },
    {
     "cell_type": "markdown",
     "metadata": {},
     "source": [
      "### Least squares solution"
     ]
    },
    {
     "cell_type": "markdown",
     "metadata": {},
     "source": [
      "Suppose we want to solve a system of noisy linear equations\n",
      "\n",
      "$$\n",
      "y_1 = b_0 x_1 + b_1 \\\\\n",
      "y_2 = b_0 x_2 + b_1 \\\\\n",
      "y_3 = b_0 x_2 + b_1 \\\\\n",
      "y_4 = b_0 x_4 + b_1 \\\\\n",
      "$$\n",
      "\n",
      "Since the system is noisy (implies full rank) and overdetermined, we cannot find an exact solution. Instead, we will look for the least squares solution. First we can rewrrite in matrix notation $Y = AB$, treating $b_1$ as the coefficient of $x^0 = 1$:\n",
      "\n",
      "$$\n",
      "\\left(\n",
      "\\begin{array}{c}\n",
      "y_1 \\\\\n",
      "y_2 \\\\\n",
      "y_3 \\\\\n",
      "y_4 \n",
      "\\end{array} \n",
      "\\right) = \\left( \\begin{array}{cc}\n",
      "x_1 & 1 \\\\\n",
      "x_2 & 1 \\\\\n",
      "x_3 & 1 \\\\\n",
      "x_4 & 1 \\end{array} \\right)\n",
      "\\left( \n",
      "\\begin{array}{cc}\n",
      "b_0 & b_1 \n",
      "\\end{array}\n",
      "\\right)\n",
      "$$\n",
      "\n",
      "The solution of this (i.e. the $B$ matrix) is solved by multipling the psudoinverse of $A$ (the Vandermonde matrix) with $Y$\n",
      "\n",
      "$$\n",
      "(A^\\text{T}A)^{-1}A^\\text{T} Y\n",
      "$$\n",
      "\n",
      "Note that higher order polynomials have the same structure and can be solved in the same way\n",
      "\n",
      "$$\n",
      "\\left(\n",
      "\\begin{array}{c}\n",
      "y_1 \\\\\n",
      "y_2 \\\\\n",
      "y_3 \\\\\n",
      "y_4 \n",
      "\\end{array} \n",
      "\\right) = \\left( \\begin{array}{ccc}\n",
      "x_1^2 & x_1 & 1 \\\\\n",
      "x_2^2 & x_2 & 1 \\\\\n",
      "x_3^2 & x_3 & 1 \\\\\n",
      "x_4^2 & x_4 & 1 \\end{array} \\right)\n",
      "\\left( \n",
      "\\begin{array}{ccc}\n",
      "b_0 & b_1 & b_2\n",
      "\\end{array}\n",
      "\\right)\n",
      "$$"
     ]
    },
    {
     "cell_type": "code",
     "collapsed": false,
     "input": [
      "# Set up a system of 11 linear equations\n",
      "x = np.linspace(1,2,11)\n",
      "y = 6*x - 2 + npr.normal(0, 0.3, len(x))\n",
      "\n",
      "# Form the VanderMonde matrix\n",
      "A = np.vstack([x, np.ones(len(x))]).T\n",
      "\n",
      "# The linear algebra librayr has a lstsq() function \n",
      "# that will do the above calculaitons for us\n",
      "\n",
      "b, resids, rank, sv = la.lstsq(A, y)\n",
      "\n",
      "# Check against pseudoinverse and the normal equation\n",
      "print(\"lstsq solution\".ljust(30), b)\n",
      "print(\"pseudoinverse solution\".ljust(30), np.dot(la.pinv(A), y))\n",
      "print(\"normal euqation solution\".ljust(30), np.dot(np.dot(la.inv(np.dot(A.T, A)), A.T), y))\n",
      "\n",
      "# Now plot the solution\n",
      "xi = np.linspace(1,2,11)\n",
      "yi = b[0]*xi + b[1]\n",
      "\n",
      "plt.plot(x, y, 'o')\n",
      "plt.plot(xi, yi, 'r-');"
     ],
     "language": "python",
     "metadata": {},
     "outputs": [
      {
       "output_type": "stream",
       "stream": "stdout",
       "text": [
        "('lstsq solution                ', array([ 5.5899, -1.4177]))\n",
        "('pseudoinverse solution        ', array([ 5.5899, -1.4177]))\n",
        "('normal euqation solution      ', array([ 5.5899, -1.4177]))\n"
       ]
      },
      {
       "metadata": {},
       "output_type": "display_data",
<<<<<<< HEAD
       "png": "iVBORw0KGgoAAAANSUhEUgAAAXcAAAEECAYAAADTdnSRAAAABHNCSVQICAgIfAhkiAAAAAlwSFlz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\nExEpEMudiEiBWO5ERAr0/wFk7v04s0kuhgAAAABJRU5ErkJggg==\n",
       "text": [
        "<matplotlib.figure.Figure at 0x11891fc10>"
=======
       "png": "iVBORw0KGgoAAAANSUhEUgAAAXcAAAEECAYAAADTdnSRAAAABHNCSVQICAgIfAhkiAAAAAlwSFlz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\niEiGWO5ERDLEcicikiGWOxGRDP0/QcT9P2ploCsAAAAASUVORK5CYII=\n",
       "text": [
        "<matplotlib.figure.Figure at 0x7fce91553f90>"
>>>>>>> 8ad8940c2da936619fc155ead5cff8ac90e265fa
       ]
      }
     ],
     "prompt_number": 65
    },
    {
     "cell_type": "code",
     "collapsed": false,
     "input": [
      "# As advertised, this works for finding coeefficeints of a polynomial too\n",
      "\n",
      "x = np.linspace(0,2,11)\n",
      "y = 6*x*x + .5*x + 2 + npr.normal(0, 0.6, len(x))\n",
      "plt.plot(x, y, 'o')\n",
      "A = np.vstack([x*x, x, np.ones(len(x))]).T\n",
      "b = la.lstsq(A, y)[0]\n",
      "\n",
      "xi = np.linspace(0,2,11)\n",
      "yi = b[0]*xi*xi + b[1]*xi + b[2]\n",
      "plt.plot(xi, yi, 'r-');"
     ],
     "language": "python",
     "metadata": {},
     "outputs": [
      {
       "metadata": {},
       "output_type": "display_data",
       "png": "iVBORw0KGgoAAAANSUhEUgAAAXcAAAEECAYAAADTdnSRAAAABHNCSVQICAgIfAhkiAAAAAlwSFlz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\npHAXEYlA/wc8qUzTD0vxywAAAABJRU5ErkJggg==\n",
       "text": [
<<<<<<< HEAD
        "<matplotlib.figure.Figure at 0x115189a10>"
=======
        "<matplotlib.figure.Figure at 0x7fce91553950>"
>>>>>>> 8ad8940c2da936619fc155ead5cff8ac90e265fa
       ]
      }
     ],
     "prompt_number": 66
    },
    {
     "cell_type": "code",
     "collapsed": false,
     "input": [
      "# It is important to understand what is going on,\n",
      "# but we don't have to work so hard to fit a polynomial\n",
      "\n",
      "b = np.random.randint(0, 10, 6)\n",
      "x = np.linspace(0, 1, 25)\n",
      "y = np.poly1d(b)(x) \n",
      "y += np.random.normal(0, 5, y.shape)\n",
      "\n",
      "p = np.poly1d(np.polyfit(x, y, len(b)-1))\n",
      "plt.plot(x, y, 'bo')\n",
      "plt.plot(x, p(x), 'r-')\n",
      "list(zip(b, p.coeffs))"
     ],
     "language": "python",
     "metadata": {},
     "outputs": [
      {
       "metadata": {},
       "output_type": "pyout",
       "prompt_number": 67,
       "text": [
        "[(6, -250.9964),\n",
        " (7, 819.7606),\n",
        " (1, -909.5724),\n",
        " (5, 449.7862),\n",
        " (7, -91.2660),\n",
        " (9, 15.5274)]"
       ]
      },
      {
       "metadata": {},
       "output_type": "display_data",
       "png": "iVBORw0KGgoAAAANSUhEUgAAAXcAAAEECAYAAADTdnSRAAAABHNCSVQICAgIfAhkiAAAAAlwSFlz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\nNZ+Pe8CUAAAAAElFTkSuQmCC\n",
       "text": [
<<<<<<< HEAD
        "<matplotlib.figure.Figure at 0x1133a9910>"
=======
        "<matplotlib.figure.Figure at 0x7fce97f54dd0>"
>>>>>>> 8ad8940c2da936619fc155ead5cff8ac90e265fa
       ]
      }
     ],
     "prompt_number": 67
    },
    {
     "cell_type": "markdown",
     "metadata": {},
     "source": [
      "<font color=red>Exercises</font>\n",
      "----"
     ]
    },
    {
     "cell_type": "markdown",
     "metadata": {},
     "source": [
      "**1**. Find the row, column and overall means for the following matrix:\n",
      "\n",
      "```python\n",
      "m = np.arange(12).reshape((3,4))\n",
      "```"
     ]
    },
    {
     "cell_type": "code",
     "collapsed": false,
     "input": [
      "# YOUR CODE HERE\n",
      "\n",
      "m = np.arange(12).reshape((3,4))\n",
      "print m\n",
      "print\n",
      "\n",
      "print \"OVerall\", m.mean()\n",
      "print \"Row\", m.mean(1)\n",
      "print \"Columne\", m.mean(0)"
     ],
     "language": "python",
     "metadata": {},
     "outputs": [
      {
       "output_type": "stream",
       "stream": "stdout",
       "text": [
        "[[ 0  1  2  3]\n",
        " [ 4  5  6  7]\n",
        " [ 8  9 10 11]]\n",
        "\n",
        "OVerall 5.5\n",
        "Row [ 1.5  5.5  9.5]\n",
        "Columne [ 4.  5.  6.  7.]\n"
       ]
      }
     ],
     "prompt_number": 68
    },
    {
     "cell_type": "markdown",
     "metadata": {},
     "source": [
      "**2**. Find the outer product of the following two vecotrs\n",
      "\n",
      "```python\n",
      "u = np.array([1,3,5,7])\n",
      "v = np.array([2,4,6,8])\n",
      "```\n",
      "\n",
      "Do this in the following ways:\n",
      "\n",
      "- Using the function `outer` in numpy\n",
      "- Using a nested for loop or list comprehension\n",
      "- Using numpy broadcasting operatoins"
     ]
    },
    {
     "cell_type": "code",
     "collapsed": false,
     "input": [
      "# YOUR CODE HERE\n",
      "\n",
      "u = np.array([1,3,5,7])\n",
      "v = np.array([2,4,6,8])\n",
      "\n",
      "print np.outer(u, v)\n",
      "print\n",
      "print np.array([[u_ * v_ for v_ in v] for u_ in u])\n",
      "print\n",
      "print u[:,None] * v[None,:]"
     ],
     "language": "python",
     "metadata": {},
     "outputs": [
      {
       "output_type": "stream",
       "stream": "stdout",
       "text": [
        "[[ 2  4  6  8]\n",
        " [ 6 12 18 24]\n",
        " [10 20 30 40]\n",
        " [14 28 42 56]]\n",
        "\n",
        "[[ 2  4  6  8]\n",
        " [ 6 12 18 24]\n",
        " [10 20 30 40]\n",
        " [14 28 42 56]]\n",
        "\n",
        "[[ 2  4  6  8]\n",
        " [ 6 12 18 24]\n",
        " [10 20 30 40]\n",
        " [14 28 42 56]]\n"
       ]
      }
     ],
     "prompt_number": 69
    },
    {
     "cell_type": "markdown",
     "metadata": {},
     "source": [
      "**3**. Create a 10 by 6 matrix of random uniform numbers. Set all rows with *any* entry less than 0.1 to be zero. For example, here is a 4 by 10 version:\n",
      "\n",
      "```python\n",
      "array([[ 0.49722235,  0.88833973,  0.07289358,  0.12375223,  0.39659254,\n",
      "         0.70267114],\n",
      "       [ 0.3954172 ,  0.889077  ,  0.71286225,  0.06353112,  0.68107965,\n",
      "         0.17186995],\n",
      "       [ 0.74821206,  0.92692111,  0.24871227,  0.26904958,  0.80410194,\n",
      "         0.22304055],\n",
      "       [ 0.22582605,  0.37671244,  0.96510957,  0.88819053,  0.14654176,\n",
      "         0.33987323]])\n",
      "```\n",
      "\n",
      "becomes\n",
      "\n",
      "```python\n",
      "array([[ 0.        ,  0.        ,  0.        ,  0.        ,  0.        ,\n",
      "         0.        ],\n",
      "       [ 0.        ,  0.        ,  0.        ,  0.        ,  0.        ,\n",
      "         0.        ],\n",
      "       [ 0.74821206,  0.92692111,  0.24871227,  0.26904958,  0.80410194,\n",
      "         0.22304055],\n",
      "       [ 0.22582605,  0.37671244,  0.96510957,  0.88819053,  0.14654176,\n",
      "         0.33987323]])\n",
      "```\n",
      "\n",
      "Hint: Use the following numpy functions - `np.random.random`, `np.any` as well as Boolean indexing and the axis argument."
     ]
    },
    {
     "cell_type": "code",
     "collapsed": false,
     "input": [
      "# YOUR CODE HERE\n",
      "\n",
      "xs = np.random.random((10,6))\n",
      "print xs\n",
      "print\n",
      "xs[(xs < 0.1).any(axis=1), :] = 0\n",
      "print xs"
     ],
     "language": "python",
     "metadata": {},
     "outputs": [
      {
       "output_type": "stream",
       "stream": "stdout",
       "text": [
        "[[ 0.5117  0.9098  0.2184  0.3631  0.855   0.7114]\n",
        " [ 0.3929  0.2313  0.3802  0.5492  0.5567  0.0041]\n",
        " [ 0.638   0.0576  0.043   0.8751  0.2926  0.7628]\n",
        " [ 0.3679  0.8735  0.0294  0.552   0.2402  0.8848]\n",
        " [ 0.4602  0.1932  0.2937  0.8179  0.5595  0.6779]\n",
        " [ 0.8091  0.8686  0.418   0.0589  0.4785  0.5212]\n",
        " [ 0.5806  0.3092  0.9199  0.6553  0.3492  0.5411]\n",
        " [ 0.4491  0.2823  0.2959  0.5635  0.7152  0.5176]\n",
        " [ 0.352   0.6328  0.8731  0.1679  0.9875  0.3494]\n",
        " [ 0.8262  0.0655  0.0054  0.8869  0.9113  0.1994]]\n",
        "\n",
        "[[ 0.5117  0.9098  0.2184  0.3631  0.855   0.7114]\n",
        " [ 0.      0.      0.      0.      0.      0.    ]\n",
        " [ 0.      0.      0.      0.      0.      0.    ]\n",
        " [ 0.      0.      0.      0.      0.      0.    ]\n",
        " [ 0.4602  0.1932  0.2937  0.8179  0.5595  0.6779]\n",
        " [ 0.      0.      0.      0.      0.      0.    ]\n",
        " [ 0.5806  0.3092  0.9199  0.6553  0.3492  0.5411]\n",
        " [ 0.4491  0.2823  0.2959  0.5635  0.7152  0.5176]\n",
        " [ 0.352   0.6328  0.8731  0.1679  0.9875  0.3494]\n",
        " [ 0.      0.      0.      0.      0.      0.    ]]\n"
       ]
      }
     ],
     "prompt_number": 70
    },
    {
     "cell_type": "markdown",
     "metadata": {},
     "source": [
      "**4**. Use `np.linspace` to create an array of 100 numbers between 0 and $2\\pi$ (includsive). \n",
      "\n",
      "- Extract every 10th element using slice notation\n",
      "- Reverse the array using slice notation\n",
      "- Extract elements where the absolute difference between the sine and cosine functions evaluated at that element is less than 0.1\n",
      "- Make a plot showing the sin and cos functions and indicate where they are close"
     ]
    },
    {
     "cell_type": "code",
     "collapsed": false,
     "input": [
      "# YOUR CODE HERE\n",
      "\n",
      "xs = np.linspace(0, 2*np.pi, 100)\n",
      "print xs[::10]\n",
      "print\n",
      "print xs[::-1]\n",
      "print\n",
      "idx = np.abs(np.sin(xs)-np.cos(xs)) < 0.1\n",
      "print xs[idx]\n",
      "print \n",
      "plt.scatter(xs[idx], np.sin(xs[idx]))\n",
      "plt.plot(xs, np.sin(xs), xs, np.cos(xs));"
     ],
     "language": "python",
     "metadata": {},
     "outputs": [
      {
       "output_type": "stream",
       "stream": "stdout",
       "text": [
        "[ 0.      0.6347  1.2693  1.904   2.5387  3.1733  3.808   4.4427  5.0773\n",
        "  5.712 ]\n",
        "\n",
        "[ 6.2832  6.2197  6.1563  6.0928  6.0293  5.9659  5.9024  5.8389  5.7755\n",
        "  5.712   5.6485  5.5851  5.5216  5.4581  5.3947  5.3312  5.2677  5.2043\n",
        "  5.1408  5.0773  5.0139  4.9504  4.8869  4.8235  4.76    4.6965  4.6331\n",
        "  4.5696  4.5061  4.4427  4.3792  4.3157  4.2523  4.1888  4.1253  4.0619\n",
        "  3.9984  3.9349  3.8715  3.808   3.7445  3.6811  3.6176  3.5541  3.4907\n",
        "  3.4272  3.3637  3.3003  3.2368  3.1733  3.1099  3.0464  2.9829  2.9195\n",
        "  2.856   2.7925  2.7291  2.6656  2.6021  2.5387  2.4752  2.4117  2.3483\n",
        "  2.2848  2.2213  2.1579  2.0944  2.0309  1.9675  1.904   1.8405  1.7771\n",
        "  1.7136  1.6501  1.5867  1.5232  1.4597  1.3963  1.3328  1.2693  1.2059\n",
        "  1.1424  1.0789  1.0155  0.952   0.8885  0.8251  0.7616  0.6981  0.6347\n",
        "  0.5712  0.5077  0.4443  0.3808  0.3173  0.2539  0.1904  0.1269  0.0635\n",
        "  0.    ]\n",
        "\n",
        "[ 0.7616  0.8251  3.8715  3.9349]\n",
        "\n"
       ]
      },
      {
       "metadata": {},
       "output_type": "display_data",
       "png": "iVBORw0KGgoAAAANSUhEUgAAAX4AAAEECAYAAAAvY19bAAAABHNCSVQICAgIfAhkiAAAAAlwSFlz\nAAALEgAACxIB0t1+/AAAIABJREFUeJzt3Xd4VFX+x/H3uellUiaQhCQEAqJCQFooioKAqKvuCipB\nsSFYFruuFX/u4rKKirrYcQXEsq4GdLGvYhcQMRAEIsUoSElIQkJIL5N7fn9kxUVKIFPuTO739Tw8\nDyE3cz8MyYeZc889R2mtNUIIIWzDsDqAEEII35LiF0IIm5HiF0IIm5HiF0IIm5HiF0IIm5HiF0II\nmwl29wGeeeYZ8vLyiImJ4dFHHz3g8/n5+Tz88MMkJSUBMGTIEM4//3x3TyuEEKKN3H7FP3LkSKZN\nm3bYY3r16sXDDz/Mww8/fMSln5+f7240nwiEnIGQESSnp0lOz2pPOd0u/p49exIVFXXYY9pyj1h7\nepKtFggZQXJ6muT0rPaU0+2hntYopdi8eTO33347TqeTSy+9lLS0NG+fVgghxCF4vfgzMjJ49tln\nCQsLIy8vj1mzZvH44497+7RCCCEOQXlirZ6SkhIeeuihg17c/a3rrruOhx56iOjo6P3+PD8/f7+3\nKNnZ2e7GEkIIW8rJydn3+8zMTDIzM/f7vNdf8VdUVBAbG4tSioKCAoADSv9Q4QoLC70dz20Oh4Oq\nqiqrYxxWIGQEyelpktOzAiVnSkpKqy+c3S7+2bNns2HDBiorK5k6dSrjx4+nubkZgDFjxrBixQqW\nLFmCYRiEhYVx0003uXtKIYQQbvDIUI+3yCt+zwiEjCA5PU1yelag5ExJSWn1GLlzVwghbEaKXwgh\nbEaKXwghbEaKXwghbEaKXwghbEaKXwghbEaKXwghbEaKXwghbEaKXwghbEaKXwghbEaKXwghbEaK\nXwghbEaKXwghbEaKXwghbEaKXwghbEaKXwghbEaKXwghbEaKXwghbEaKXwghbEaKXwghbEaKXwgh\nbEaKXwghbEaKXwghbEaKXwghbEaKXwghbEaKXwghbEaKXwghbEaKXwghbCbY3Qd45plnyMvLIyYm\nhkcfffSgx8yfP581a9YQFhbGtddeS0ZGhrunFUII0UZuv+IfOXIk06ZNO+TnV69eTXFxMU888QRX\nX301c+fOdfeUQggh3OB28ffs2ZOoqKhDfj43N5cRI0YA0KNHD2pqaqioqHD3tEIIIdrI62P85eXl\nJCQk7Ps4ISGB8vJyb59WCCHEIbg9xn8ktNa+OI3PzVq6k5CQEEIxiQ0PonNsGOmxoXSODSPIUFbH\n8zjtcsH2n9BFO6C0CMp3Q1MjuqkJFRoKjlhwxKJSu0B6d4hPQKn29zwI8QtTa3ZWNrKtooHtexvZ\nU++itsmkrqmZaSPSMPz0+9/rxe90OikrK9v3cVlZGU6n84Dj8vPzyc/P3/dxdnY2DofD2/HccnZm\nMnXNir21DZTXNvFtUR05+eVU1DUxIDWGwemxnJIRT3SYT/5/PaTQ0NA2P5dmZQVNyz+jKW8FzZvX\nY3RMJji9G0ZSKkbv/qiwcAgJgcYGzMq96D27aV66hOYtT0NwMMEDTiRk4DCC+wxABYd4LacvSU7P\nCrScdU3NLNtSwTfbKsjdUUlkaBDdnBF0jY/guKQoIkMNokKDiY52WPYCMCcnZ9/vMzMzyczM3O/z\nXm+krKwsPvzwQ4YNG8bmzZuJiooiLi7ugOMOFq6qqsrb8dzSKz4Ih8Px35wRQAwA5XUu1hTV8NWP\nu3lm2TaGdI7mzB7xHNchwpKcv2Y8Mlpr2LgW85N3YHM+qk8W6qRRGJNuREXHYAJmK4+htIbinTR9\nt5LGRQvg2QdRJ5+OGnEGytnRIzmtIjk9K1ByljQGsShvJ8u2VXJchwiGdnZwUe8udIw6+Aua2ppq\nHyds4XA4yM7OPuwxSrs5DjN79mw2bNhAZWUlcXFxjB8/nubmZgDGjBkDwLx581izZg3h4eFMnTqV\nbt26HdFjFxYWuhPNJ1r7pq2od/HZT3t5f/MeUmPCuLBPB47v6Nv/AI70B0trDd+txHwvB+rrUKeP\nRQ06GRUe6XYGXbQd/dn76JVfogaehDrnQlR8wn7HBEoBSE7P8vecW/bU89q63fxQ1sCZx8Qyunss\nCZGHf/dqpZSUlFaPcbv4vak9FP8vmpo1n/60l4Xrd3NMQjhTBiYd8pWCpx1JRr1jK+brc6GyAuPc\nidBvKMrw/LV/XVOF/uAN9NIlqOGno86+EBUWdsQ5/YHk9Cx/zVlR7+LFvBLyCmsY1yuBC/qn0VRf\na3WsVknx+8DRftM2Npu8mV/Ou5v3cF4vJ+ce7/T6OODhMuqmRvTif6K//hR1zgTUiN+hgoK8mgdA\nV5ShFy5A/7QR45JrUZn9/bYAfktyepa/5dRa858fKvjX2t2M7BbLhD4JRIYE+V3OQzmS4rf2qqMN\nhQYZXHhCB0ZkxPDMN7v4dkc1N5/UiaToUJ9n0T//iDnvMUjpjHHfUyhHrM/OreISUFf9Cb1+FebL\nT6N69UNfeYvPzi/Eweypc/HE10VUNTbz19Gd6RofbnUkr5C1eizSyRHKfaM7Mygtmtv/8zNLf670\n2bm11pifvIv5+HTUWeMxrrnTp6X/v1TvgRjTn4DGBqrumYreuc2SHEKsLqzmlve3cExCOA+e3qXd\nlj7IK35LGUpxXq8E+iZH8dBXO/mpvJ6L+3b06tCPbmhAv/IMesdWjLtnoTome+1cR0qFR8KUWwlb\nvZy6R6ahJv4RY9DJVscSNqG15s3vy3l30x5uPzmVzCT3JzP4O3nF7we6O8N55IwubCqr5/4vdlDT\n2OyV8+iKcsyH7wJtYtz1sF+U/i+UUoSdeibGLX9FL5qP+e7r7fbGP+E/Glwmjy0rYvm2Kmad2cUW\npQ9S/H4jJjyY+0Z1JjEqhHs+3saeOpdHH18X7cB88A7UgBNRU27dN5PG36j0bhh3P4Je+y16/uyW\nu4WF8ILqxmamf7odjeaBMel08OMpmp4mxe9Hgg3FNYOSOLGzg7s++pmiqkaPPK7rh+8xH5mG+v1F\nGGdn+/0yCirOiXHb/eiaKsw5D6IbG6yOJNqZ8joX05Zso7sznFuHpRAWbK8qtNffNgAopZjQpwNj\nezqZtmQb2/e6V3r6h++pmXUPxqQbMYaN9lBK71OhYRjXTkOFhWM+fh+6zv/nT4vAUFrTxN0f/czw\nLjFMGZjot+vpeJMUv5/63bHxXNavI3/+ZDs72lj+etN6zGceIPL6e1B9sjyc0PtUcDBqyi2o5FTM\nJ+5D19dZHUkEuNKaJv7v422cfVw8F/S27yKCUvx+bGS3WC79pfwrj6789Q/fY855EOPq2wk5IfBK\n/xfKCEJdPBWVlIL51N9k2Ee02e7altI/69h4/nD8gQtF2okUv58b1S2WiX07MP2T7ZTWNB3R1+jt\nWzCfnYkx5VZUz75eTuh9yjBQl12PinViPvMA2nVkz4MQv6isd/GXT7ZzRo84zu1p79IHKf6AcFr3\nOM45Pp7pn26nsuHwUz11cSHm4/dhTLwG1XuAjxJ6nzKCUJNvhpBQ9AtPoM3W1gcVokVdk8mMz3cw\nOC2a83oltP4FNiDFHyDG9kxgUGo0f/t8O/Wug5eerqxouRv3DxeistrfDVAqKAjjqtvQZcXoN1+0\nOo4IAC5T89BXO0mPC+OyfgdfDtyOpPgDyOX9O9LJEcrflxdi/s/NTeXloZQXa8yn70cNHo4x/EwL\nU3qXCg3DuOFe9HfftuwXIMQhaK2Zs3IXQQquHZxs2wu5ByPFH0CUUlw/JJnK+mZeWVMKQG5uFKeP\niePb656g3EhFnXuxxSm9T0U5MG6e3rK887pVVscRfurtjXsoKK/ntpNT2+VWqO6Q4g8wIUEGdw9P\nZdm2Kt5eW8011zi4yDGXWL2bPyy8jz17/POOXE9TCYkYf7wT84XZ6KLtVscRfmbljioWbyjnnhFp\nRIRIzf2WPCMBKCY8mBv6Z/D6xl0M7fEZ49Pe4erVs2jU9ij9X6hjeqLOn4T55Ax0te9WNxX+bdve\nBp5csYu7hqf6bLOjQCPFH4Byc6O4fFwK6qNY6k6v4q6SmYQ443juuSqcTs8s8xAojGGjUf2GYM59\nFG16Z3E7EThqGpuZ+cVOJvXvaNke14FAij/AlJeHcs01Dmp21zK9djrhBeF0urGeDz4sIyurxup4\nllDnT4KmRvQ7r1sdRVjI1JrHvy6ib3Iko7vHWR3Hr0nxByTNrBPu44vSoXzz0RgiQhXv/LzD6lCW\nUUFBGFffgV66BL0u1+o4wiJv5pdTUe9iysAkq6P4PSn+AON0NvLm9S+R4Sji+T038dycau4ckcyK\n7VV8s8P/9wP1FhUbj3H17ZgvPI4uK7E6jvCx/JJa3tlUzh2npBISJDN4WiPFH2D0ls2krXuF1Pvu\n5P2PqsnKqsERFsSfhqXy9De7jnhZh/ZI9eiFOn0s5vOPoJtlvN8uKutdPLqskBuGdrLVmvrukOIP\nILq2BvMfszAuuZb4Hgn7Xcg9vmMEY493MmtpIS7TvjtXqdPHQVgE+u1/WR1F+ICpNbO/LuKULjFk\npUZbHSdgSPEHEP3qHFRmf9SAEw/6+bG9nESFGLy2drePk/kPZRgYU25GL/sYveE7q+MIL3t30x4q\nG5q5VJZjOCpS/AHCXPEZettPqPFTDnmMoRQ3ntiJj3+s4PsS+25comLiMSbfhDl/NrrGvtc92rut\ne+pZuL6MPw1LIVjuzD0qUvwBQJfuQr8+D+PKP7W6V258RDDXDknm78uLvLZpeyBQvfqjsoahX35G\nNm1vhxqbTR5bXrRv/SpxdKT4/Zw2mzFfmI0683xUercj+prBaQ76d4riH7nFXk7n39R5l6ELt6FX\nfG51FOFhL68pJcURyuhusVZHCUhS/H5Of/w2AGrMH47q6yYPTGTz7jq+3m7foQ4VEopx5Z/QOfNk\nimc7sr64lqU/V3HtEFlxs62k+P2YLtyG/mARxhU3o4ygo/ra8GCDG0/sxHMrd1FRZ+MpnundWqZ4\nvvikDPm0A3VNJk+sKOK6IcnEhB3dz4T4VbC7D7BmzRoWLFiAaZqMGjWKsWPH7vf5/Px8Hn74YZKS\nWu6mGzJkCOeff767p233tMuFOX82auylqI7JbXqMnh0jOTUjltlf/cytQxNt++pInT4OnbcC/cV/\nUKf+zuo4wg0L8kronRgpUzfd5Fbxm6bJvHnzuPfee3E6ndx9991kZWWRlpa233G9evXizjvvdCuo\n3eiP/g1RDtTwM9x6nIl9O3Dbh9v46ucqhneN8VC6wKKCgjAm3Yg5axq69wBUB7mlPxCtKaohd2c1\nT5ydYXWUgOfWUE9BQQHJyckkJiYSHBzMsGHDyM09cK0UeYt9dHTRdvSStzAuu87tV+mhQQZ3nJrB\nvFXF7K13eShh4FEp6ajTx7UM+ch+vQGntqmZp79pGeKJCpUhHne5Vfzl5eUkJPy6ebHT6aS8vHy/\nY5RSbN68mdtvv52ZM2eyY4d9FxM7EtpsxlzwBOrciaiERI88Zs+kaE7NiGVurr0vcKrTx0J9HXrp\nEqujiKP0yne76Z0UyYAUGeLxBLfH+FuTkZHBs88+S1hYGHl5ecyaNYvHH3/8gOPy8/PJz8/f93F2\ndjYOh8Pb8dwWGhrq0Zz17y+iKSyc6LPHowzPXHsPDQ3l6pO6cuXCfNaVNXNSV/9cstbTz+XBNE+9\nk+q//YmoE0/FcHZo02P4IqcntJec64uqWLG9mnnZvXGEe72yDilQnk+AnJycfb/PzMwkMzNzv8+7\n9Sw6nU7Kysr2fVxWVobT6dzvmIiIXzdD6N+/P3PnzqW6upro6P3/5z5YuKoq/5+K6HA4PJZT7y7G\nfPMljLtmUV3jubX1HQ4HTfW1TB2UyN+/2EI3R4Zfvl325HN5SM5EGH4Glc8/StC109r0ED7J6QHt\nIWdjs8lDn23lyoEdUU11VFk4QS2Qns/s7OzDHuPWS8ru3buza9cuSkpKcLlcLF++nKysrP2Oqaio\n2DfGX1BQAHBA6YuW6yDmP59FjRmLSkrxyjlOSI5iYGoUL/93o3a7UmdPgKId6FXLrY4iWrEov4y0\nmFBOSrfnxARvcesVf1BQEJMnT+b+++/fN50zLS2NJUtaxlDHjBnDihUrWLJkCYZhEBYWxk033eSR\n4O2N/vYr2FPWsrqkF13eL5Hr39vCqRl1HN/RnlvTqZAQjMuux/zHwxg9+6Iio6yOJA5i+94GPthc\nweyzulodpd1R2o+n3BQWFlodoVWeePuna6ow/3I9xtS7Ud2P91CyX/0245dbK1m0vozHzurqV4tb\n+fqttPnSUxAcjDHxj0f1dYH0lj9Qc5pac8+SbZzcJYazj4u3KNn+AuX5TElpfcRA7tz1A/qNF1ED\nTvRK6R/MKV0cJEQG89aG8tYPbsfU+ZejV3+N3rLZ6ijiNz75cS9NpubMHv45ESHQSfFbTBdsQK/L\nRY291GfnVErxx8FJ/HtDOcXVja1/QTulohyoC67AfPlp2bHLj+ytd/HymlKuHZxMkB+9I21PpPgt\npJubWy7oXnCFz8eZk6JDOff4eJ63+9z+ISMgOgb96btWRxH/9WJeKSMyYujmDLc6SrslxW8h/ck7\n4IhFDR5uyfnH9nRSWNVo703alcKYeA36/Rx0RVnrXyC86vuSWtYU1XDRCW27x0IcGSl+i+g9ZegP\nFmJM/KNli6eFBBlcMyiJubnF1Lvsu4yBSk5DDT8TnTPf6ii25jI1c1YWM3lgIpEh/nefSXsixW8R\nvXA+avjvUMmplubomxzF8R0iWbje3q921VnZ6J82yT69Fnpv0x7iI4IYlh4Yd8cGMil+C+iNa9E/\nbkSdNd7qKABMGtCRDwsq2Flp4wu9YWEYF16J+eoctMu++xdYpbzOxaL8Mq4alGTb5cN9SYrfx7TL\nhfnqcxgTrmx1/1xfSYgM4fxeTp7PLbb3Sqp9h0CH5JZrL8KnXswr4bTusaTF+MfPRHsnxe9j+tN3\nwNkB+g+1Osp+fn+8k9KaJlbuqLY6imWUUhgXXoX+zxtyodeH1hVVsa64luzeckHXV6T4fUhXlLds\npXjh1X73djbYUFw9KIm5q0posPOF3qQU1CmnoxctsDqKLTSbmseX/swV/ROJCJE68hV5pn1Iv/kS\natgYyy/oHkrf5Ch6JITzb7vf0XtWNnpzPnpzfusHC7d8WFBBTFgwJ3eRC7q+JMXvI/rHjegNa1Dn\nHH65VKtN6p/IuxvLKa2x7wVOFR6BumAS5r/+gTbljl5vqWxo5rW1u7luWLrfvQNu76T4fUCbJua/\n/oE673JUeKTVcQ4rMTqEs4+L54XVNr+jd9ApEBGB/kp26/KWV78rZVgXB90T/Ptnoj2S4vcBvfwT\nCA5GDT3V6ihH5LxeCWzeXce6Ys9tBhNo9l3ofeuf6Br7XvD2lq176lm+vYqJJ3S0OootSfF7ma6r\nRS/+J8aFVwXM29mwYIMrBiQyN7eEZtO+0ztVendU/6Hod/5ldZR2RWvN3FUlXNinA44wuUPXClL8\nXqbfy0Fl9kd17WF1lKNyUrqDqFCDJT9WWB3FUmrsJehvvkAXbrM6SruxYns1lQ3NnHGMLLlsFSl+\nL9IlhehlS1DjfLfksqcopbhyYBL/Wrub6kb7XuBUjljU2eMxc+bZ++Y2D2lsNnkhr4QrBybKkssW\nkuL3InPhC6jTx6HinK0f7Ie6OcMZnBbN6+t2Wx3FUurUs2B3CazLtTpKwHt7wx4y4sM4IVm2u7SS\nFL+X6A3fwY6tqNP+YHUUt1zctyOfbalkR2WD1VEso4JDMLInY+bMR7tcVscJWGW1TSzeWM4V/ROt\njmJ7UvxeoM1mzNfnYoy/AhUSanUct8SFB3N+LycLbD69kz5Z0CER/fl7VicJWK98t5sx3WNJdgT2\nz0R7IMXvBXrpEohyQP8TrY7iEeccF8/2vY2sKbL59M7sKej3FmJW7rU6TsApKKsnr7Ca8b0TrI4i\nkOL3OF1bg37rVYwJUwJm+mZrQoIMJg1IZP4qm0/vTElHZZ1M/RsvWh0loGitmbeqmIl9O8oGK35C\nit/D9Ps5qBMGodK7Wx3Fo4amReMIk+md6g8TaVr+Kbpou9VRAsbX26uobTIZ3S3W6ijiv6T4PUiX\nFKGXfow692Kro3icUoop/53eWWPr6Z0xhI2diLnwBaujBISmZpMFeaVMkembfkWK34PMN15EjTk3\nYKdvtqabM5ys1GgW5dt7rfqwM8ZB8U70+tVWR/F772zaQ3qsTN/0N1L8HqI3r4etP6DGnGt1FK+6\nuG9HlhRUsKvKxts0BodgXHAF5sL56Gb7vvtpTUW9ize/L+eKATJ9099I8XuANk3MnPmo8y5Dhbbv\nreOcEcH84XgnL60ptTqKtfoNAUdsywwucVCvrd3NqV1jSI2R6Zv+RorfA/SKz8EwUIOHWx3FJ87t\n6WTT7jq+L6m1OopllFIY4yej334VXWff5+FQtlU0sHxbFRP6yHaK/sjt4l+zZg0333wzN954I4sX\nLz7oMfPnz+fGG2/k9ttvZ8uWLe6e0q/o+jr04ldaNk9vJ9M3WxMWbHBpv47MX12CaeP1a1SX7qje\nA9HvL7Q6it95YXUJF/ROkNU3/ZRbxW+aJvPmzWPatGk89thjLFu2jB07dux3zOrVqykuLuaJJ57g\n6quvZu7cuW4F9jcN7+WgjumJ6n681VF8anjXGAC+3FppcRJrqXGXoL/6CF26y+oofmN1YTW7qhv5\nXY94q6OIQ3Cr+AsKCkhOTiYxMZHg4GCGDRtGbu7+C1nl5uYyYsQIAHr06EFNTQ0VFe1jLriuKKPh\ngzdR511mdRSfM5Ri8oBEXl5Tau/N2eMSUKN/j/73y1ZH8QvNpuaF1SVM6p9ISJA93gEHIreKv7y8\nnISEX2/BdjqdlJeXH/aYhISEA44JVHrxK4SOPAvVIcnqKJbolRjJsR0ieGtj+/j3bCt1+lh0wQb0\njxutjmK5JT9WEBMezOC0aKujWEp/v8av92sO9sVJjmQd8/z8fPLz8/d9nJ2djcPh8GYst2iXi9rm\nZhzZV+Dy84XYQkNDvfZcTh3Wleve/J5xfdNwRoa49VjezOlJB+R0OGi86EoaFr1A9Iyn/eZaj6+f\nz5rGZl5bV8DMs44lJubI5+0H7L/7Ibg2raPmpaeIeexFVFi4D5IdKCcnZ9/vMzMzyczM3O/zbhW/\n0+mkrOzXm3nKyspwOp1HfcyhwlVVVbkTz/um3IorJNTvczocDq9ljDFgVLdY5izbwg1DO7n1WN7M\n6UkHy6n7DsV8bxGVn76P4Sezu3z9fL6UV0L/TlF0CjeP6ryB/O/+W9o0MRc8hRp7MdWNTdDY5KN0\nv3I4HGRnZx/2GLeGerp3786uXbsoKSnB5XKxfPlysrKy9jsmKyuLL7/8EoDNmzcTFRVFXJxsudae\njO+dQO7Oarbsqbc6imWUYWBkT0a/+RK60X57FxRXN/LRj3u5pK+9p2/qb78CrVGDR1gd5bDcesUf\nFBTE5MmTuf/++zFNk1GjRpGWlsaSJS03tYwZM4YBAwaQl5fHDTfcQHh4OFOnTvVIcOE/okODmNCn\nA/NXl/DXUZ39ZqjD19SxvaFLd/THb6POGm91HJ96eU0p5xwXT4Kbw32BTDc0oN98EePK21CGf98i\n5fYYf//+/enfv/9+fzZmzJj9Pp4yZYq7pxF+7oxj4nhv0x5yd9YwyMYX9ozzL8eceTv65NNQMfaY\nzrixtI7vS+u43s2hvkCnP34LMo5F9ehldZRW+fd/SyJgBBmKKwYk8kJeCS47r9mfmII6cRT6rVet\njuITWmvmry7mkr4dCQ+2b53oinL0krcwzrvc6ihHxL7/UsLjBqZE0TEymP/8sMfqKJZSZ09A561A\n79hqdRSv++rnKlym5tSMGKujWEq/9U/UsNNQiYHxrkeKX3iMUorJA5PIWVdGdYP/zmH2NhUVjTpn\nAmbOvCOayhyoGlwmL+WVMGVgEoZNr+sA6G0/odd+izr78DNp/IkUv/CoLnFhDO3s4LX1u62OYik1\n/EzYUwZrc1s/OEC9tbGcYxIiyEyMtDqKZbTWmDnzUL+/EBUZOHsOSPELj5vYtwOfb6lkZ6Wd1+wP\nxsiejLloPtrlsjqOx5XXuXh7QzmX9+9odRRrffcNVFagTjnD6iRHRYpfeFxceDDjejpZkFdidRRr\n9R4IzkT0Fx9YncTj/vldKaO7x9HJ4d93rXuTdjVhLnwBI3sKKiiwViGV4hde8Yfj49lW0cB3u2qs\njmIZpVTLTV3v5aCr288qpj+V15O7s5rs3gmtH9yO6U/fg6RUVO8BVkc5alL8witCggwm9U9kXm4J\nzXae3pnaBTXwJPQ7r1kdxSO01sxdVczEEzoSFRpYr3I9SVftRX+wCGP8ZKujtIkUv/CaoZ2jcYQZ\nLPmxfSzD3VbqDxejV36JLtxmdRS3fb29ippGk9O6x1odxVL67VdRQ0agOqVZHaVNpPiF1yilmDIw\niX+t3U1No42ndzpiUGeNx1w43+oobmlsNlmQV8qUgYkEGTaevrljK3rVctTvL7Q6SptJ8Quv6uYM\nZ1BqNK+vs/n0zpFnQWkxel3gTu98e+MeusSFcUJy4Exb9DStNebrc1HnTEBF+f9S0ocixS+87pK+\nHflsSyU7Ku23auUvVHBIy/TOnHlol++X6nVXWW0TizeUM3lAotVRrLXmv9M3R/zO6iRukeIXXhcX\nEcz5mU7mr7L59M4+WdAhqWU2SIB5eU0pY7rH2nv6ZlMj5sL5GBOuDLjpm78lxS984uxjnRRVNZK7\ns9rqKJZpmd55JfqDRejKwFnPaNPuOr7bVct4m0/fbHj/DUhJR/XqZ3UUt0nxC58ICWq50DtvVQlN\nzTae3tkpDXXiSPS/X7E6yhExtWZubjGX9utIZEhgv8p1h64oo+Hd1zCyA3P65m9J8QufGZgSRSdH\nCO9ttvnm7OdMQK/9Fv1zgdVRWvX5lko0yOqbb7xI6KhzUIkpVkfxCCl+4TO/TO9clF9OeV37W7/m\nSKnIaNQwoAAdAAAZHElEQVTYSzD/9Q+0aVod55BqGpt5aU0pV2fZfPXNgu/RG9cRPu4Sq6N4jBS/\n8KnUmFDGdI/lJZuv46OGnQbNzegVn1sd5ZBeX7ebgSlRHNshwuooltFmM+a/nkddMAkV3n6eByl+\n4XPjeyewdlctG0prrY5iGWUYGBOvadmcvdb/1jPavreBz7ZUcmk/e6++qb9aAqGhqMHDrY7iUVL8\nwuciQ4K4rH9Hns8ttvc6PhnHovoMRL/rX+v4aK15PreY8b0TiAt3e1vugKWrK9Fv/RNj4h9R7Wyo\nS4pfWGJE1xjCggw+KrD5Oj7nXYZe8Tl6p/+s47N8WxUV9c2cfaw9Nos/FP3vl1GDTkF1zrA6isdJ\n8QtLKKW4ZlDLOj4V9Ta+0OuIRf3+QsxX5/jFNo21Tc3MW13CNYOS7L0ez5Yf0N+tRJ070eooXiHF\nLyzTNT6cUzNieCmv1OoollIjzoT6OvQ3X1gdhZx1ZZyQFGnv7RTNZsxX56DOuwwVGW11HK+Q4heW\nuvCEDuQV1bChxM4XeoMwLv4jetECSy/0btvbwCc/7WVSf3uvx6O//AiCQ1BDR1odxWuk+IWlIkOC\nuGJAIs9+W4yr2X/ntHub6nYc6oQs9Fv/tOT8Wmue/WYXF/bpQFyEjS/oVu5Bv/0qxiVTUUb7rcf2\n+zcTAeOULg7iI4J5Y12x1VEspc67DJ271JI7ej/9aS+NzZoze8T5/Nz+RC98AXXSKFRqF6ujeJUU\nv7CcUoo/DkriX2t2UVIdeEsWe4qKjkGdfznmS0+jm323cU1lvYsX15QydXCyvS/oblyL3pyPOidw\nN1g5UlL8wi90coRyfp8k/pFr81f9J46CiEj0Z75buvnFNaWc0iWGYxLCfXZOf6ObGjFfeRbjoqva\n1R26h9Lmwbzq6mr+/ve/s3v3bjp27Mgtt9xCVNSBO/Ncd911REREYBgGQUFBzJw5063Aov2a0C+Z\nJZtK+XpbFSemB+7uRu5QSmFcMhXzoTvRA05COTt49Xzri2vJK6rhqXPa31z1o6HfXwip6ah+Q62O\n4hNtLv7FixdzwgkncO6557J48WIWL17MxRdffNBjp0+fTnR0+5wWJTwnNMjguiHJPLK0kD7JkUSH\n2nMZYJWchhp5NuarczCuu8drd402Nps8/c0urslKsveSyzu3oT//AOPPj1sdxWfaPNSTm5vLiBEj\nADj11FP59ttvD3msP9yYIgJDr8RIslKjZW7/78ZDSRGsWua1c+SsK6NLXBhDOtvz3RWANk3Ml59C\nnTsRFW+fjWbaXPx79+4lLq5lBkBsbCx79+496HFKKWbMmMFdd93Fxx9/3NbTCRu5vH9HcndWk19s\n47n9ISEYl9+A+dpcdE2Vxx9/6556Piqo4OpBSR5/7ECiv/gAADX8TIuT+NZhh3pmzJhBRcWBa6lc\ndNFF+318uLeiM2bMID4+nsrKSmbMmEFqaio9e/Y84Lj8/Hzy8/P3fZydnY3D4f+vREJDQ/0+ZyBk\nhF9zOoCbhnflmRU7eH58JmHB/jUHwWfPZ79B1J44Av79MpFT7zzqLz9UzmZT8+yS7UwZ0pkuidav\nx2PV92dzyS6q33kNx/QnCIqNbfX4QPk5AsjJydn3+8zMTDIzM/f7/GGL/9577z3k52JjY6moqCAu\nLo49e/YQe4gnLj6+5RsrJiaGwYMHU1BQcNDiP1i4qirPv9LxNIfD4fc5AyEj7J+zb4dgusaF8Nyy\nLVwxwL/uJPXl86nPvhBz+g24vv4C1XvAUX3toXK+mV9GmKEZnhbmF98XVnx/aq0x5zyEGnMutTHx\ncATnD6Sfo+zs7MMe0+aXUllZWXz++ecAfPHFFwwaNOiAYxoaGqirqwOgvr6etWvXkp6e3tZTCpu5\nOiuJL7bsZdPuOqujWEaFR2Bcdh3my095ZDmHHXsb+PeGcq4bktzulho+GnrZx1BTjTp9nNVRLNHm\n4h87dizr1q3jpptuYv369YwdOxaA8vLyfVM2Kyoq+POf/8ztt9/OPffcw4ABA+jbt69nkot2LzY8\nmCuzknji6yIa7bycQ6/+qN4D0Tnz3HqcZlPzxIoiLjqhA0nRoR5KF3h0eSn6jRcxLr8BFWTP2UxK\n+/GUm8LCQqsjtCoQ3v4FQkY4eE6tNQ99VUhydAiT/GTIx5KhifpazOk3Ylw8FdVn4BF9zW9zvplf\nxqqiGmaM7uxXe+j6dOhMa8y//xl1bG+McyYc1dcGys9RSkrrG8L711UzIX5DKcXUwUl8vrXS3rN8\nwiNbZvm89FSbZvls3VPPvzeUc9PQTn5V+r6mP/8A6utQv7vA6iiWkuIXfi82PJjrBicz++siapt8\nt4aNv1E9+6IGnoR+5dmjujemqdnkseVFTOrfkcToEC8m9G+6pBD99j8xrrjZtkM8v5DiFwFhUFo0\nfZMjmbeqxOoollLnXYbe+TP6m8+P+GteXbub5OgQRnVrfcpie6VdLsy5j6HOnoDqlGZ1HMtJ8YuA\nMXlgIuuLa1m+rdLqKJZRoWEYV96Kfn0euqz1/wTX7qrhsy2VMovn3dcgMgo16hyro/gFKX4RMCJD\ngvjTsBTmrCymtMbGyzend0edMQ5z7qOHXb55b10Ts78u4qYTOxEbbuPNVTbno5cuaRniacebqxwN\neRZEQDm2QwTn9nTy2LJCmk2/nZDmder0cRAahn73NcrLQykv3396ptaahz/fyildYujf6cBVc+1C\n11Rjzv87xmXXo2Ktv0vZX0jxi4AzrpeTkCBFzvrdVkexjDIMjCm30Pjpx9w17ifGjHGSm/trwb+/\nuYKy2kYu6dvRwpTW0lpjLngc1W8I6oQDbzC1Myl+EXAMpbj5pBQ+KtjLmiLrNie32h5XErd8N50/\nd56Oq3wP11zjoLw8lM2763ht3W7+b3R3QoJsPK6/5C2oKEddMMnqKH5Hil8EJGdEMLcO68Ts5YXs\nrrXveP/KqiHk7Pg9zw2axkUTathdqZm1dCfXDk4mLc7GO2r9uBH9nzcwrrkDFWzfKayHIsUvAlaf\npCjOOc7Jw18V4rLheL/T2chzz1XxQdBk0jMUzq/mc/3LO+kW6rTtDmYAurIC8x+zWsb1O9h72elD\nkeIXAe28TCcxYQbzVtlzr96srBoWvFTLJZ89QOPAKhxh5Sz6y/EHXOy1C+1yYT73EGroSFS/IVbH\n8VtS/CKgGUpxy0kpfLerlo8KDtw7wg4iIpppyGji/cSTeXDz43QP/cnqSJbRC+dDWATq3ItaP9jG\npPhFwIsKDWLaiFReWVPK9yX2W8+nUlWSPm4TJe/244Wt17BgyK3Eh9hv60pz6RL0+tUYV96KMuy9\nJENrpPhFu5AWE8ZNJ3bi4aWFFFc3Wh3HZyrqXDzw5U6uGdKR919xcVvOYMJPPhnz2Zlol30ueusN\n36HffAnj+v9DRUZbHcfvSfGLdmNgajQXZDr562c7qGpo/4u51btM/vbFDk7NiOHUjFiczkaczkbU\n2EsgKoba52Yd1WJugUoXbcd8/pGWGTyyDs8RkeIX7co5xzkZmBLFzC930NSON29pNjWPLC0kLSaU\ni/p02O9zyjAwrvwTZtEO9L9fsiihb+jKPZhPzkBdMAl1XB+r4wQMKX7R7kwakEhMWDCPLS9ql8s6\naK157ttiGppNrhvS6aCLr6mwMKLumIlevQLz03ctSOl9urYac/Z01NCRGCeNtjpOQJHiF+2OoRS3\nDutEdWMzT3+zC7MdDXdorVmQV8pPe+q5e3jqYe/MNWJiMW76C/qDRZgrPvNhSu/TDQ2YT/4NdWxv\n1O8vtDpOwJHiF+1SaJDBtOFp7KhsZN6qknYz1p2zvoy8whr+PLIzkSGtz1xRHZMxbv4retECdO5S\nHyT0Pt3UiDnnQVSHRFT2FFsvN91WUvyi3YoIMfjzyDS+L6nlhdWBX/6L1pfx+Za93De6MzFhRz5d\nUaWmY9w0HfPV59B5K7yY0Pt0UyPmMw+gwsJRl98oyyy3kTxrol2LDg3ir6PT+b60jue+LQ7IYR+t\nNf/8rpTPtuzlb6elEx9x9Gvrq84ZGDf+GfPlpzG/+cILKb1PNzZgPvU3VEQU6qrbUMH23WPAXVL8\not1zhAXx19Gd+bmigSdX7AqoC76m1sxfXcK3O6t5YEw6CZFtX3BMde2BcesM9KIXML/4j+dC+oCu\nqcKc/RdUTBxqyq223zPXXVL8whYiQ4L4y6jO7K13MePzHQGxaXtjs8kjSwv5oayev41O98guWiqt\nK8btD7Rc8H3ntYAY/tJlpZgP3YXq2gMlG6V7hBS/sI3wYIN7RqSRFB3C3R9t8+vtGyvrXdz78XYM\nBX8d3ZnooxjTb41KTMG4exZ6XS567qPoxgaPPban6S0/YD50J2r46RjZU2RM30PkWRS2EmQo/jgo\niREZMdz+4c98t8v/NnLZtLuOP/1nK72TIrl1WAqhQZ7/MVWx8Ri33Q9aYz5yD7rc/9b2Mb/6CPOJ\n+zAuuhrjtHOtjtOuyNURYTtKKc7rlUB3Zzh/X17EWT3iuKB3AobF0wK11ry/uYLX1+3m2iHJDO3s\n3TX1VWgYXHUb/OdNzL/d2rJ+vR8sZazr69Cvz0UXbMC440FZhsELpPiFbfVNjuLRM7vw6LJC8opq\nuGFoJ1JirFnHvrSmiWdX7qKi3sVDZ3Shk8M3OZRSqN+dj+7RC3Puo6jv81DnXYYKj/TJ+X9LF3yP\nOX826pheGNMeQUVYk6O9k6EeYWsJkSHMGJ3OSekO7vjoZxZvKPPpbl7NpubDHyq49YOtHNchgofP\n6Oqz0v9f6pieGPfOhoYGzL9cj/5upU/Pr2urMV97HnPOQxgXXIEx+WYpfS9Suo2X9b/++msWLlzI\nzp07mTlzJt26dTvocWvWrGHBggWYpsmoUaMYO3bsEZ+jsLCwLdF8yuFwUFVVZXWMwwqEjGB9zqKq\nRuZ8W0xJdSOX9U9kaFr0Qe8K9VTONUU1vLC6hIgQgz8OSqJrvGf3yG1rTr3hO8xXnoHEFIxxl6LS\nD/6z7Qna5SJs1VLqcuaj+g5GjbsU5Yj12vncYfX355FKSUlp9Zg2D/Wkp6dz22238fzzzx/yGNM0\nmTdvHvfeey9Op5O7776brKws0tJkzE74n06OUO4b1ZnVhdUsWF3KG/lljO3p5MTODoIMz4z/m1qT\nu7OatzaUU1bn4vJ+iQztfPD/YKyievbFmP4U+ssPMZ+4r2U9nDHnojKO9dg5dGMDetkn6A/fpCk5\nFeOmv6DSu3vs8cXhtbn4U1NTWz2moKCA5ORkEhMTARg2bBi5ublS/MKvDUiJpm9yFCv/W9Av5pUw\nslssJ6fHkB4X1qbHLKpqZOnPlXz6UyXhwYpzezo5uUsMwR76D8XTVEgIavQ56GGj0V/8B/MfsyDK\ngRp+OqrvEFRs/FE/ptYatmxGf/1Zy7pB3Y/HuOo2ovsNCohX0u2JVy/ulpeXk5CQsO9jp9NJQUGB\nN08phEcEGYoTOzs4sbODH8rq+GprJdM/2054sEG/1Fi6xQaRER9Oh8hgYsKC9r1i11pT3Wiyu7aJ\nnysa2Fhax/eldeytd3FSuoMbhibTs2OEX73CPxwVHoE6Yxx6zB9g3Wr0N59jvvEiJKehemRCl2NQ\nnTMgLr5lr9v/eR6orIDiQnTRdti8Hr1pPYRHoIae2nLhtmOyxX87+zps8c+YMYOKigM3sL7ooovI\nysryWigh/EmPhAh6JEQwaUAiW/Y0sKXK5LvtFbyzcQ+7a5tocGlC/7s8cpOpCTEUHSJDSI0N5fgO\nEYzsFssxznCPDRdZQRlB0HcQqu+gli0dN+ejf9qIXvlly2YvlRVgmhAaBq6mll8RUZDYCZWUCj37\nYoy9BDokBcx/eu3ZYYv/3nvvdevBnU4nZWVl+z4uKyvD6XQe9Nj8/Hzy8/P3fZydnY3D4d15zJ4Q\nGhrq9zkDISMERs5+MTA4NJRxvZP2/Vl9U/O+mUBBhiLiCJZL9gWvPp9DTmn59T90fR26sREVEgIh\nIajgI1tXKBD+3SFwcgLk5OTs+31mZiaZmZn7fd6rQz3du3dn165dlJSU4HQ6Wb58OTfddNNBjz1Y\nuEAY9wuEK/2BkBHaR04XUFXv2zyHYsnzqQxwNbf84sieiPbw7+5PHA4H2dnZhz2mzfP4V65cydSp\nU9m8eTMzZ87kgQceAFrG9WfOnAlAUFAQkydP5v777+eWW27hpJNOkgu7QghhsTbP4/cFmcfvGYGQ\nESSnp0lOzwqUnEcyj1/u3BVCCJuR4hdCCJuR4hdCCJuR4hdCCJuR4hdCCJuR4hdCCJuR4hdCCJuR\n4hdCCJuR4hdCCJuR4hdCCJuR4hdCCJuR4hdCCJuR4hdCCJuR4hdCCJuR4hdCCJuR4hdCCJuR4hdC\nCJuR4hdCCJuR4hdCCJuR4hdCCJuR4hdCCJuR4hdCCJuR4hdCCJuR4hdCCJuR4hdCCJuR4hdCCJuR\n4hdCCJuR4hdCCJsJbusXfv311yxcuJCdO3cyc+ZMunXrdtDjrrvuOiIiIjAMg6CgIGbOnNnmsEII\nIdzX5uJPT0/ntttu4/nnn2/12OnTpxMdHd3WUwkhhPCgNhd/amrqER+rtW7raYQQQnhYm4v/SCml\nmDFjBoZhcNppp3Haaad5+5RCCCEO47DFP2PGDCoqKg7484suuoisrKwjOsGMGTOIj4+nsrKSGTNm\nkJqaSs+ePduWVgghhNsOW/z33nuv2yeIj48HICYmhsGDB1NQUHDQ4s/Pzyc/P3/fx9nZ2aSkpLh9\nfl9wOBxWR2hVIGQEyelpktOzAiVnTk7Ovt9nZmaSmZm53+e9Op2zoaGBuro6AOrr61m7di3p6ekH\nPTYzM5Ps7Ox9v/43uD8LhJyBkBEkp6dJTs8KpJz/26W/LX1wY4x/5cqVvPDCC1RWVjJz5kwyMjKY\nNm0a5eXlPPfcc9x9991UVFTwyCOPAGCaJieffDJ9+/Zt+99ICCGE29pc/IMHD2bw4MEH/LnT6eTu\nu+8GICkpiVmzZrU9nRBCCI8Lmj59+nSrQxxKYmKi1RGOSCDkDISMIDk9TXJ6VnvJqbRMshdCCFuR\ntXqEEMJmpPiFEMJmvH7nblsd6SJwVlmzZg0LFizANE1GjRrF2LFjrY50gGeeeYa8vDxiYmJ49NFH\nrY5zSLt37+bpp59m7969KKUYPXo0Z511ltWxDtDY2Mj06dNpamrC5XIxaNAgJk6caHWsgzJNk7vu\nugun08ldd91ldZyDCpQFHGtqapgzZw47duwAYOrUqRx77LEWp9pfYWEhs2fP3vdxcXExEyZMOPTP\nkfZTO3bs0Dt37tTTp0/XP/74o9Vx9tPc3Kyvv/56XVxcrJuamvRtt92mt2/fbnWsA3z//ff6p59+\n0rfeeqvVUQ5rz549esuWLVprrevq6vSNN97ol8+n1lrX19drrbV2uVx62rRpesOGDRYnOrh33nlH\nP/744/rBBx+0OsohXXvttbqqqsrqGK168skn9SeffKK1bvl3r6mpsTjR4TU3N+urrrpKl5aWHvIY\nvx3qSU1N9ds7dwsKCkhOTiYxMZHg4GCGDRtGbm6u1bEO0LNnT6KioqyO0aq4uDi6du0KQHh4OKmp\nqezZs8faUIcQFhYGgMvlwjRNv1x1tqysjLy8PEaNGuX3CyT6e77a2lo2btzIqFGjAAgKCiIyMtLi\nVIe3bt06kpKS6NChwyGP8duhHn9WXl5OQkLCvo+dTicFBQUWJmo/SkpK2Lp1Kz169LA6ykGZpsmd\nd95JcXExp59+OmlpaVZHOsCLL77IJZdcsu+ueX8VCAs4lpSUEBMTwzPPPMPPP/9MRkYGV1xxxb4X\nAP5o2bJlnHzyyYc9xtLi98QicKL9qK+v57HHHmPSpEmEh4dbHeegDMNg1qxZ1NbWcv/995Ofn3/Q\nW+KtsmrVKmJiYsjIyNhv7St/FAgLODY3N7NlyxYmT57MMcccw4IFC1i8eDETJkywOtpBuVwuVq1a\nxSWXXHLY4ywtfk8sAmcFp9NJWVnZvo/LyspwOp0WJgp8LpeLRx99lFNOOeWgd4T7m8jISPr378+P\nP/7oV8W/adMmVq1aRV5eHk1NTdTV1fHUU09x/fXXWx3tAEe6gKOVEhIScDqdHHPMMQAMHTqUxYsX\nW5zq0PLy8ujWrRsxMTGHPc5vx/j9Wffu3dm1axclJSW4XC6WL18u71DcoLVmzpw5pKamcvbZZ1sd\n55AqKyupqakBWmb4rFu3joyMDItT7W/ixIk8++yzPP3009x8881kZmb6ZekfzQKOVoqLi6NDhw4U\nFhYCsHbtWr8c3vvFsmXLGDZsWKvH+e0Y/6EWgfMHQUFBTJ48mfvvv3/fdE5//GaYPXs2GzZsoKqq\niqlTp5Kdnc3IkSOtjnWATZs28dVXX5Gens4dd9wBtBRYv379LE62v4qKCp5++mlM00RrzfDhw+nT\np4/VsQ5LKWV1hIPau3fvvnW8/H0BxyuuuIInn3wSl8tFUlIS1157rdWRDqq+vp5169ZxzTXXtHqs\nLNkghBA2I0M9QghhM1L8QghhM1L8QghhM1L8QghhM1L8QghhM1L8QghhM1L8QghhM1L8QghhM/8P\nHajB+Q5rPPwAAAAASUVORK5CYII=\n",
       "text": [
<<<<<<< HEAD
        "<matplotlib.figure.Figure at 0x102be2cd0>"
=======
        "<matplotlib.figure.Figure at 0x7fce9763b550>"
>>>>>>> 8ad8940c2da936619fc155ead5cff8ac90e265fa
       ]
      }
     ],
     "prompt_number": 71
    },
    {
     "cell_type": "markdown",
     "metadata": {},
     "source": [
      "**5**. Create a matrix that shows the 10 by 10 multiplication table.\n",
      "\n",
      "- Find the trace of the matrix\n",
      "- Extract the anto-diagonal (this should be `array([10, 18, 24, 28, 30, 30, 28, 24, 18, 10])`)\n",
      "- Extract the diagnoal offset by 1 upwards (this should be `array([ 2,  6, 12, 20, 30, 42, 56, 72, 90])`)"
     ]
    },
    {
     "cell_type": "code",
     "collapsed": false,
     "input": [
      "# YOUR CODE HERE\n",
      "\n",
      "ns = np.arange(1, 11)\n",
      "m = ns[:, None] * ns[None, :]\n",
      "print m\n",
      "print \n",
      "print m.trace()\n",
      "print \n",
      "print np.flipud(m).diagonal()\n",
      "print\n",
      "print m.diagonal(offset=1)"
     ],
     "language": "python",
     "metadata": {},
     "outputs": [
      {
       "output_type": "stream",
       "stream": "stdout",
       "text": [
        "[[  1   2   3   4   5   6   7   8   9  10]\n",
        " [  2   4   6   8  10  12  14  16  18  20]\n",
        " [  3   6   9  12  15  18  21  24  27  30]\n",
        " [  4   8  12  16  20  24  28  32  36  40]\n",
        " [  5  10  15  20  25  30  35  40  45  50]\n",
        " [  6  12  18  24  30  36  42  48  54  60]\n",
        " [  7  14  21  28  35  42  49  56  63  70]\n",
        " [  8  16  24  32  40  48  56  64  72  80]\n",
        " [  9  18  27  36  45  54  63  72  81  90]\n",
        " [ 10  20  30  40  50  60  70  80  90 100]]\n",
        "\n",
        "385\n",
        "\n",
        "[10 18 24 28 30 30 28 24 18 10]\n",
        "\n",
        "[ 2  6 12 20 30 42 56 72 90]\n"
       ]
      }
     ],
     "prompt_number": 72
    },
    {
     "cell_type": "markdown",
     "metadata": {},
     "source": [
      "**6**. Diagonalize the follwoing matrix\n",
      "```python\n",
      "A = np.array([\n",
      "    [1,  2, 1],\n",
      "    [6, -1, 0],\n",
      "    [-1,-2,-1]\n",
      "])\n",
      "```\n",
      "In other words, find the invertible matrix $P$ and the diagonal matrix $D$ such that $A = PDP^{-1} $. Confirm by calculating the value of $PDP^{-1} $.\n",
      "\n",
      "- Do this mnaully\n",
      "- Then use numpy.linalg functions to do the same"
     ]
    },
    {
     "cell_type": "code",
     "collapsed": false,
     "input": [
      "# YOUR CODE HERE\n",
      "\n",
      "A = np.array([\n",
      "    [1,  2, 1],\n",
      "    [6, -1, 0],\n",
      "    [-1,-2,-1]\n",
      "])\n",
      "\n",
      "dotm = lambda *args: reduce(np.dot, args)\n",
      "\n",
      "u, V = la.eig(A)\n",
      "P = V\n",
      "D = np.diag(u)\n",
      "print P\n",
      "print \n",
      "print np.real_if_close(np.round(u))\n",
      "print\n",
      "\n",
      "np.real_if_close(np.round(dotm(P, D, la.inv(P)), 6))"
     ],
     "language": "python",
     "metadata": {},
     "outputs": [
      {
       "output_type": "stream",
       "stream": "stdout",
       "text": [
        "[[ 0.4082 -0.4851 -0.0697]\n",
        " [-0.8165 -0.7276 -0.418 ]\n",
        " [-0.4082  0.4851  0.9058]]\n",
        "\n",
        "[-4.  3.  0.]\n",
        "\n"
       ]
      },
      {
       "metadata": {},
       "output_type": "pyout",
<<<<<<< HEAD
       "prompt_number": 108,
=======
       "prompt_number": 73,
>>>>>>> 8ad8940c2da936619fc155ead5cff8ac90e265fa
       "text": [
        "array([[ 1.,  2.,  1.],\n",
        "       [ 6., -1., -0.],\n",
        "       [-1., -2., -1.]])"
       ]
      }
     ],
<<<<<<< HEAD
     "prompt_number": 108
=======
     "prompt_number": 73
>>>>>>> 8ad8940c2da936619fc155ead5cff8ac90e265fa
    },
    {
     "cell_type": "markdown",
     "metadata": {},
     "source": [
      "#### Manual solution involves finding roots of characteristic polynomial and solving the resulting linear systems for each equation\n",
      "\n",
      "The code below just intorduces some of the symbolic algebra capabilities of Python ..."
     ]
    },
    {
     "cell_type": "code",
     "collapsed": false,
     "input": [
      "from sympy import symbols, init_printing, roots, solve, eye\n",
      "from sympy.matrices import Matrix\n",
      "\n",
      "init_printing()\n",
      "\n",
      "x = symbols('x')"
     ],
     "language": "python",
     "metadata": {},
     "outputs": [],
     "prompt_number": 110
    },
    {
     "cell_type": "code",
     "collapsed": false,
     "input": [
      "M = Matrix([\n",
      "    [1,  2, 1],\n",
      "    [6, -1, 0],\n",
      "    [-1,-2,-1]\n",
      "])"
     ],
     "language": "python",
     "metadata": {},
     "outputs": [],
     "prompt_number": 119
    },
    {
     "cell_type": "code",
     "collapsed": false,
     "input": [
      "M"
     ],
     "language": "python",
     "metadata": {},
     "outputs": [
      {
       "latex": [
        "$$\\left[\\begin{matrix}1 & 2 & 1\\\\6 & -1 & 0\\\\-1 & -2 & -1\\end{matrix}\\right]$$"
       ],
       "metadata": {},
       "output_type": "pyout",
       "png": "iVBORw0KGgoAAAANSUhEUgAAAIkAAABLCAMAAABz2lREAAAAPFBMVEX///8AAAAAAAAAAAAAAAAA\nAAAAAAAAAAAAAAAAAAAAAAAAAAAAAAAAAAAAAAAAAAAAAAAAAAAAAAAAAAAo1xBWAAAAE3RSTlMA\nMquZdlQQQOkwRM0iu+/dZolsKH0JNQAAAAlwSFlzAAAOxAAADsQBlSsOGwAAAsFJREFUaAXtmtuS\ngyAMhlEou1s8sbz/uy4HtyoJNenItBd40VoGwudPoIQoOhevXrzrmhOAEJ2Tyl+3d4GIJXTfu0DS\nvQ1i63gpkRi9VTq9G6QcR9bjQPMFkmF0DBIdXMy6+ynxfwXMPEqiR9lzSPpIPU3/HZ184+ZREm9J\ncUimOfTdM9wNMX8JiYnYn0CSRmNmyFhLk0hydzYRUT6rkswjBWGtU5NEckCwCXGJx/oHVbx/rXqa\n3KSnGQby+FQj6QKIUO8nGWZrrezj+kaThayJ7Cc39wvNqhAm7S/IJKj5ksdSIa6r10iglk2TpglU\nAJY0P2maQAVgSclPrFWWFUqtpmFEBfsUWlolc+s4iTY+ipIGMfK8CIuokBbGh+B6zvYQOIkJm+OR\ntR/0DfCICpIsMUSz2YOiJIvLeKG1Qgmy74A1x7jTvGVBCUoyUuNK0AuJxEWSuzsek6AkznTepegB\n9wZEIdEu7jXvTm3t/B1Gop0J27XpyHxoVvpBIRlSiNZlkRpOEodQToyDixXtYhLh4o50OTsQ0WZ+\nXCYtDxQSncTARufr++eo9hQn2OLIW+pHcwqJSH5yyzz29xs5Z0tz51STR//bDYkkRdALZRanqS5f\nmMskEhUN50s45rF+efVrrK41d4SYw2o/ZX88OImwUvZZzW0IindoRIXU1tYfv+bmCyRI89pFjQQq\n3DRpmkAFYEnzk6YJVACWnPoJKZRa7fJTX2Izf0JCDKUSCTv1Jfbmn5JQQ6lVEmbqK4vUnpL4Hkhb\nn5WEn/ram7+ShJ/6qkWSpOGkvqqSsFJfVUlYqa8iCTOUQqqLZ6kvpP5uQlzpsWGq8VJfRU3W2bj/\n2kHviwv33NRXNRJ26qsWCT/1RSehhlJpsLipL3Ewf+axBYeoUNxIoKhNk8/X5FPerNPhxTalXjkJ\nhiK/UhLfrFNK/AFiICmU6sZXrwAAAABJRU5ErkJggg==\n",
       "prompt_number": 120,
       "text": [
        "\u23a11   2   1 \u23a4\n",
        "\u23a2          \u23a5\n",
        "\u23a26   -1  0 \u23a5\n",
        "\u23a2          \u23a5\n",
        "\u23a3-1  -2  -1\u23a6"
       ]
      }
     ],
     "prompt_number": 120
    },
    {
     "cell_type": "code",
     "collapsed": false,
     "input": [
      "# Find characteristic polynomial\n",
      "poly = M.charpoly(x)\n",
      "poly.as_poly()"
     ],
     "language": "python",
     "metadata": {},
     "outputs": [
      {
       "latex": [
        "$$\\operatorname{Poly}{\\left( x^{3} + x^{2} - 12 x, x, domain=\\mathbb{Z} \\right)}$$"
       ],
       "metadata": {},
       "output_type": "pyout",
       "png": "iVBORw0KGgoAAAANSUhEUgAAAUkAAAAcBAMAAAAekFBrAAAAMFBMVEX///8AAAAAAAAAAAAAAAAA\nAAAAAAAAAAAAAAAAAAAAAAAAAAAAAAAAAAAAAAAAAAAv3aB7AAAAD3RSTlMAIqvdzbtmMu+JdkSZ\nEFSzbGo9AAAACXBIWXMAAA7EAAAOxAGVKw4bAAAFDElEQVRYCcVWX2wURRz+rte7697eXjc18KDE\nXlWqYFAoxMRq0guWKATDSWhiTAiXYIwmGk70zYfWQP0TY1jQQKgomyZGW4OU+EJ96YXAC2jcEEhK\nE9PDxDehJ0ShlLb+fjM3t7PX81oVyyQ38/2+3zczX38zu1tg3tZ3wKumMc78WI2+S1wim8hU23o/\nHqpGLzb3jtww4USL1bZeg267Gn+nuXjNBWPlCibS1YQfoXmoGn+nOTNVa8V6T2VHcwoFx4myIsjf\n4ehgrfXOquTYJoUqxvaK+H8Kw1SMpo5rD2zIyg12b/Q3Ck2XcfWnB0a+rCiB54HQD11/U3nSmC/O\nmSJmLi/NDw5mx83OPc9lEedJ3SmE9sq81ebrNA+xGZ/W0OsaFnAJ/WHnYUxV8n7cWPCxhlo17MP4\n5hzSEfrDi8Q1p4Bdjkxu9TUNhRIezYX+lNCy/TQVxjGDVbt4ilyuAj7QVUE84gXjmlHCgVH4jCRP\n0I9ddq+Wes1lt1owbEc/ltmkK0fZv331VyUp0XFyuQd4PKfLAviTQDRPkPDQFEuR6Az9hMs0AWqa\ny1clA8T6DtgSB13um51VktLILrd4tVxurpgxX7g9woX4mn7s8ngWlwapuFvx8s1s3c0C0afpN9Z/\n34BLY6kpl9Zgy/d9itRGdkmtw9MEGgyt+GoGMM6ew3DLvf3u8JdD9Oz2veVZR1wMv0CMmK13UfcV\nDvmekEvzNmJrEHG5lm1AmjLoAiwn2h4WAROAcnkJO911kgr00qU5CU2gwZN2ZBqhpzBuO12udWso\n2QPzXeyAYfYgT8zvvJjRKVpeLHzRyvDYnSOXTx5ekUPYQewGuzzuxQqcWk8zPGM6aXMgm3L5OY56\nlxWpjdJlOANN4EPrPdBHrMFB+FBhHUKToA/vaJYu3f2JdIyZG9pSEj5cJ3bnb1xzhqnuAjDJLsdd\nQ0ieplqiXuRETJ1y6WGDooALa7k9y4R0SXddE/gwMc2l+MlD4yprCslp1GU4aofX6FrEzP1vwcwP\ni32aC8rlBPn9g10mesZEimoJNLoCc0dH8czezs68IG6JvrITLuMppjWBgg0ZjA+hlzZ0kkUkVqPB\npciiCk54IKYuTfMCrZ7v3n6aEKjlbXYZm3pDSIVLuhGeP1HVku+G5dNlJFz+hpCtC8racQcT+HkS\nOJqjk6eyjtgUJYsW1lt8FxqzvJUhjmZtihf9wiB7PXTOtqplQx7mFLvEBocVWE4n7B1HnKeWmnJ5\nJV7EMUVqI7uM5RG3NYEPxwvYlrTpA/EhX04q6+nQlRlE0petGYOZCU9uXF4wlNrNR1t6xjPMx95H\nvcMPNvjsqdFLaqSwA0tFILuSS3MmUgxlNV5BdnnP4SMPlgTjafpASS3DejfaZuAUInk+wl3ARgOb\nsDPlmMWlzHwazamF5Bixt8NqJXf06l7Wcc1ldtnhR7F7toVWkxp6SZ0fHDuYlZHoSy6tlccGxHtM\nSzFMPHK9FVtmZ6+XBGEyHYCHmr6B0XcO+A7oB345hPMDb64cwksuM0u+rVjv5Lbern29efntqcip\n6jXIkupZdeI6Vwuf8JMa9MmForn/OS6ll51o9K2vbGa2kqkda3IN1p5TJWvRmVS0o+rGxXoqMv84\ntLLlKRoscwsG0dQc6bJBRT2mwL8do/5EDfrkQlG44qkKzLsQiO5i8FqtvZP5WtnFy4XoXVSjXa2R\nW8RUwlvEzf7TVn8BZUhokwPCPKIAAAAASUVORK5CYII=\n",
       "prompt_number": 121,
       "text": [
        "Poly(x**3 + x**2 - 12*x, x, domain='ZZ')"
       ]
      }
     ],
     "prompt_number": 121
    },
    {
     "cell_type": "code",
     "collapsed": false,
     "input": [
      "# eigenvalues are the roots\n",
      "roots(poly)"
     ],
     "language": "python",
     "metadata": {},
     "outputs": [
      {
       "latex": [
        "$$\\begin{Bmatrix}-4 : 1, & 0 : 1, & 3 : 1\\end{Bmatrix}$$"
       ],
       "metadata": {},
       "output_type": "pyout",
       "png": "iVBORw0KGgoAAAANSUhEUgAAAMsAAAAaBAMAAADrt7WKAAAAMFBMVEX///8AAAAAAAAAAAAAAAAA\nAAAAAAAAAAAAAAAAAAAAAAAAAAAAAAAAAAAAAAAAAAAv3aB7AAAAD3RSTlMAMolUmc0idhCru+9m\n3URozekSAAAACXBIWXMAAA7EAAAOxAGVKw4bAAACQklEQVRIDbVVO2gUURQ97ribF0mWRexdFBFS\nTWsVFVPEKoWFisIUaiGCKWzEIoMggrGwEQkKBtRCEFYFm1i4vYoIKiYgSW8REMVviPe+z77fZHcn\nYW+xM+eec8+ZefNmFsC2vRhk1Q8p94lskCnA2Xn2H/rFv4Os52w+POVF7HJRNXcRnYvDlxpOK+Jr\ne8ZSh8dxBo/4J4hZ4p6uWis3p/pYTcUn24r5M0j+WR7n5Urd5o4fM7RgVeLh/dwiefYa2NdpFfAz\nKdY6PG5MbhRz4aRVATO5i+j8MTDu9CL+64r44Yyo515wN83uMb+BVWfxoxj4i7ZRzEimYhbVJYU2\n4jvFTBM3eksKQp6a1YPMaN6J2THPfV3XIWPEC4VDm9o3YHeTuNkpKQh5YOcHSWjeiZnlqzPVVDEG\nhjadGC0IeWpXnplhOqqYdzlQO0ZQnP5C9bGRNLrHCLobuWjaqiAGL8nUlIqpvAfeZqZHx6voHgN6\nNuOpHYhizgEth1cxuDaN5JSdwoG5ub93HBzZLAG8BKYifj1Hq21Ys2gy4qKTToIFKyp4b64AE44g\niqHp5cwK1N2sNqjj7TTgD4ucnea9bhhNhXzEdqf5/BskP9kg3mn+x2Zs/R7L1Hsz+WqxjeWcG7rE\n/st8afq9iPn6kaMrlt9+d43dCr4CrPGrnvk4RL34PmNGQt8A9+L7jLkZ2IawF99nTDv0DXAvvs+Y\nwHUTUP57Vp5uYrLUiPqanshLDZUWD3+WI8mD0pNlBupPyqi3pv0PAYqYPsRWrukAAAAASUVORK5C\nYII=\n",
       "prompt_number": 122,
       "text": [
        "{-4: 1, 0: 1, 3: 1}"
       ]
      }
     ],
     "prompt_number": 122
    },
    {
     "cell_type": "markdown",
     "metadata": {},
     "source": [
      "**7**. Use the function provided below to visualize matrix multiplication as a geometric transformation by experiment with differnt values of the matrix $m$.\n",
      "\n",
      "- What does a diagonal matrix do to the origianl vectors?\n",
      "- What does a non-invertible matrix do to the original vectors?\n",
      "- What property results in matrices that preserves the area of the parallelogram spanned by the two vectors?\n",
      "- What property results in matrices that also preserve the length and angle of the original vectors?\n",
      "- What additional property is necessary to preserve the orientation of the original vecotrs?\n",
      "- What does the transpose of the matrix that preserves the length and angle of the original vectors do?\n",
      "- Write a function that when given any two non-colinear 2D vectors u, v, finds a transformation that converts u into e1 (1,0) and v into e2 (0,1)."
     ]
    },
    {
     "cell_type": "code",
     "collapsed": false,
     "input": [
      "#  Provided function\n",
      "def plot_matrix_transform(m):\n",
      "    \"\"\"Show the geometric effect of m on the standard unit vectors e1 and e2.\"\"\"\n",
      "\n",
      "    e1 = np.array([1,0])\n",
      "    e2 = np.array([0,1])\n",
      "    v1 = np.dot(m, e1)\n",
      "    v2 = np.dot(m, e2)\n",
      "\n",
      "    X = np.zeros((2,2))\n",
      "    Y = np.zeros((2,2))\n",
      "    pts = np.array([e1,e2,v1,v2])\n",
      "    U = pts[:, 0]\n",
      "    V = pts[:, 1]\n",
      "    C = [0,1,0,1]\n",
      "\n",
      "    xmin = min(-1, U.min())\n",
      "    xmax = max(1, U.max())\n",
      "    ymin = min(-1, V.min())\n",
      "    ymax = max(-1, V.max())\n",
      "\n",
      "    plt.figure(figsize=(6,6))\n",
      "    plt.quiver(X, Y, U, V, C, angles='xy', scale_units='xy', scale=1)\n",
      "    plt.axis([xmin, xmax, ymin, ymax]);"
     ],
     "language": "python",
     "metadata": {},
     "outputs": [],
     "prompt_number": 74
    },
    {
     "cell_type": "code",
     "collapsed": false,
     "input": [
      "### Example usage\n",
      "m = np.array([[1,2],[3,4]])\n",
      "plot_matrix_transform(m)"
     ],
     "language": "python",
     "metadata": {},
     "outputs": [
      {
       "metadata": {},
       "output_type": "display_data",
       "png": "iVBORw0KGgoAAAANSUhEUgAAAXkAAAF0CAYAAADGnUnjAAAABHNCSVQICAgIfAhkiAAAAAlwSFlz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\nAAAAAElFTkSuQmCC\n",
       "text": [
        "<matplotlib.figure.Figure at 0x115088ed0>"
       ]
      }
     ],
     "prompt_number": 75
    },
    {
     "cell_type": "code",
     "collapsed": false,
     "input": [
      "# YOUR CODE HERE\n",
      "\n",
      "A1 = np.diag([2,3])\n",
      "A2 = np.array([[2,3],[1,1.5]])\n",
      "A3 = np.array([[np.cos(1), -np.sin(1)], [np.sin(1), np.cos(1)]])\n",
      "A4 = np.array([[np.cos(1), np.sin(1)], [np.sin(1), -np.cos(1)]])\n",
      "\n",
      "print A1, la.det(A1)\n",
      "print\n",
      "print A2, la.det(A2)\n",
      "print\n",
      "print A3, la.det(A3)\n",
      "print\n",
      "print A4, la.det(A4)"
     ],
     "language": "python",
     "metadata": {},
     "outputs": [
      {
       "output_type": "stream",
       "stream": "stdout",
       "text": [
        "[[2 0]\n",
        " [0 3]] 6.0\n",
        "\n",
        "[[ 2.   3. ]\n",
        " [ 1.   1.5]] 0.0\n",
        "\n",
        "[[ 0.5403 -0.8415]\n",
        " [ 0.8415  0.5403]] 1.0\n",
        "\n",
        "[[ 0.5403  0.8415]\n",
        " [ 0.8415 -0.5403]] -1.0\n"
       ]
      }
     ],
     "prompt_number": 76
    },
    {
     "cell_type": "code",
     "collapsed": false,
     "input": [
      "print A3.dot(A3.T)"
     ],
     "language": "python",
     "metadata": {},
     "outputs": [
      {
       "output_type": "stream",
       "stream": "stdout",
       "text": [
        "[[ 1.  0.]\n",
        " [ 0.  1.]]\n"
       ]
      }
     ],
     "prompt_number": 77
    },
    {
     "cell_type": "code",
     "collapsed": false,
     "input": [
      "print A4.dot(A4.T)"
     ],
     "language": "python",
     "metadata": {},
     "outputs": [
      {
       "output_type": "stream",
       "stream": "stdout",
       "text": [
        "[[ 1.  0.]\n",
        " [ 0.  1.]]\n"
       ]
      }
     ],
     "prompt_number": 78
    },
    {
     "cell_type": "code",
     "collapsed": false,
     "input": [
      "# A diagnoal matrix simply scales the vectors\n",
      "# This gives insight into what the eigendecomposition tells us\n",
      "plot_matrix_transform(A1)"
     ],
     "language": "python",
     "metadata": {},
     "outputs": [
      {
       "metadata": {},
       "output_type": "display_data",
       "png": "iVBORw0KGgoAAAANSUhEUgAAAYIAAAF0CAYAAAAuMT6NAAAABHNCSVQICAgIfAhkiAAAAAlwSFlz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\n",
       "text": [
        "<matplotlib.figure.Figure at 0x1188fea90>"
       ]
      }
     ],
     "prompt_number": 79
    },
    {
     "cell_type": "code",
     "collapsed": false,
     "input": [
      "# A singluar matrix collapses one vector onto another\n",
      "# The determinant is zero becasue the parallelogram area is zero\n",
      "plot_matrix_transform(A2)"
     ],
     "language": "python",
     "metadata": {},
     "outputs": [
      {
       "metadata": {},
       "output_type": "display_data",
       "png": "iVBORw0KGgoAAAANSUhEUgAAAYIAAAF0CAYAAAAuMT6NAAAABHNCSVQICAgIfAhkiAAAAAlwSFlz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\nPaIWZ/kAAAAASUVORK5CYII=\n",
       "text": [
        "<matplotlib.figure.Figure at 0x118b3d510>"
       ]
      }
     ],
     "prompt_number": 80
    },
    {
     "cell_type": "code",
     "collapsed": false,
     "input": [
      "# An orthogoanl matrix preservees length and angle\n",
      "# Hence the area is also preserved and the determinant is 1\n",
      "# In 2D it is etiher a rotation (shown here)\n",
      "plot_matrix_transform(A3)"
     ],
     "language": "python",
     "metadata": {},
     "outputs": [
      {
       "metadata": {},
       "output_type": "display_data",
       "png": "iVBORw0KGgoAAAANSUhEUgAAAYIAAAF0CAYAAAAuMT6NAAAABHNCSVQICAgIfAhkiAAAAAlwSFlz\nAAALEgAACxIB0t1+/AAAIABJREFUeJzt3XlA1HX+x/HnAHKIHA5qirdlpZhl4RVeoGR2aiqttdth\nZj+tzEpLSTMjNSXT3FbXXU3LrtXMY80iPMjyKElJRVuW1MwLFeRUEJj5/TEtZaIiDHwHvq/HX8zw\nZebVp6+8mO98v++x2O12OyIiYlpuRgcQERFjqQhERExORSAiYnIqAhERk1MRiIiYnIpARMTkPCr6\nAHPnzmXnzp34+/szc+bMUrd55513SEpKwsvLi5EjR9KyZcuKPq2IiDhJhV8RhIeHEx0dfdHv79ix\ng7S0NObMmcPw4cNZsGBBmR43OTm5otHkV1pL59J6OpfW07nKs54VLoI2bdrg6+t70e8nJibSs2dP\nAFq3bk1eXh6ZmZmXfVztHM6jtXQuradzaT2dy5AiuJyMjAyCgoJKbgcFBZGRkVHZTysiImVUJW8W\na4qFiIjrqvCbxZdjtVpJT08vuZ2eno7Var1gu+Tk5PNe0kRFRVV2NNPQWjqX1tO5tJ7OFRUVxdKl\nS0tuh4SEEBIScsmfqfQiCA0NJS4ujrCwMFJSUvD19SUwMPCC7UoLe/To0cqOZwp+fn7k5OQYHaNG\n+Gn1ak7/8AOhEycaHaXG0P7pXMHBwVdcrpaKTh+dPXs2+/btIzs7m8DAQAYPHkxxcTEAkZGRACxc\nuJCkpCS8vb0ZMWIErVq1KtNjqwicQ//QnGfj009zcscOBn/zDRaLxeg4NYL2T+cKDg6+4p+pcBFU\nJhWBc+gfmnPYiop4/8YbKcjMZOCGDVivu87oSDWC9k/nKk8R6MpikTJK+/57Cn499fnQunUGpxFx\nHhWBSBkdio8v9WuR6k5FIFJGv//lf+L778nX9TBSQ6gIRMog68ABMlNTS27bbTYOrV9vYCIR51ER\niJRBae8J6PCQ1BQqApEyKO2X/uGvvqL43DkD0og4l4pA5DLOZWdz7NtvL7i/MDeX49u2GZBIxLlU\nBCKX8cvGjXjWqUObhx4qua/V3Xfj37IlP+s0UqkBVAQil+HXrBl/2raNG4YPL7mvaUQEgxMSaHH7\n7QYmE3EOFYHIZTTo0AFPP78L7nfz8CD41lsNSCTiXCoCERGTUxGIiJicikBExORUBCIiJqciEBEx\nORWBiIjJqQhERExORSAiYnIqAhERk1MRiIiYnIpARMTkVAQiIianIhARl3TixBmjI5iGikBEXEpx\nsY1XXtnKnj3pRkcxDRWBiLiMM2cKGTZsHUuW7KNr10ZGxzEND6MDiIgAHD+exyOPfMnu3aeIiGiK\nj49+PVUVrbSIGG7v3nQeeiiOY8fyAAgPb2JwInNREYiIob788gAPP7yGvLzCkvvCw5samMh89B6B\niBhm8eK9REWtPK8EWrb0p2XLAANTmY9eEYhIlSsutvHqq9+yYMGeC74XEaFXA1VNRSAiVSovr5Cn\nntrIl1/+XOr3VQRVT4eGRKRKubtbiI7uyEcf9aNZM7/zvuft7U6XLjpttKqpCESkSnl7e9C6dV2y\ns89x6FAOALVrOw5OhIUF4+2tAxVVTUUgIlUuM7OACRO2AFC3rjerV9+Ln18tHRYyiIpARKpcTMw2\nTp48C8DUqT1p08bKmDGhOm3UIHoNJiJV6uuvj/DxxykA9OjRmAceaEtubi6PPtoWd3f9bWoErbqI\nVJmzZ4sYN+4bAHx8PJg+vRsWiwVAJWAgrbyIVJmZM7/n4MFsAF54IZRmzfwNTiSgIhCRKrJ79ynm\nz98NwE031eexx0IMTiT/oyIQkUpXWGjj+ec3YbPZ8fCwEBvbXYeCXIj+T4hIpfvHP3aRnOz4oJmR\nI2+kbdsggxPJ76kIRKRS7d+fxZtv7gCgVasAnnmmg8GJ5I9UBCJSaex2Oy+88DX5+cUAxMZ215XD\nLkhFICKV5qOP/sPWrccA+Mtf2miOkItSEYhIpUhLO0NMzLcANGxYm+joTgYnkotREYhIpZgwYTPZ\n2ecAmDatG/7+ngYnkotREYiI061de4C1aw8CcNddLbnttubGBpJLUhGIiFNlZf02WTQw0IuYmFsN\nTiSXoyIQEaeaMuU70tLOAPDyy51p0KC2wYnkclQEIuI0W7Yc5YMPfgQcHzITFXWtwYmkLFQEIuIU\nZ88WMXbs14DjIydnzOheMllUXJuKQEScYvbsHSWTRceODaVFC00WrS5UBCJSYXv2pDNv3i4A2rev\nx7Bh7QxOJFdCRSAiFVJUZGPMmE0UF9txd7cQG9sDDw/9aqlO9H9LRCpkwYI97N59CoARI9rTrp0m\ni1Y3KgIRKbeDB7OJjU0EoGVLf0aPvtngRFIeKgIRKZcLJ4v2wMdHk0WrIxWBiJTL0qUpbN58FIAH\nH7yerl01WbS6UhGIyBU7ceIMkydvA+Cqq2rz0kuaLFqdqQhE5IpNnLiFrCzHZNEpU24lIMDL4ERS\nESoCEbkicXEHWbPmAAB33NGCfv1aGpxIKkpFICJllp19jujozQD4+3tqsmgNoSIQkTKbOvU7jh93\nTBadOLEzDRv6GpxInEFFICJlsm3bMZYs2QdA166NGDLkOoMTibOoCETksvLzNVm0JlMRiMhlvfXW\nTvbvzwLgueduplWrAIMTiTOpCETkkvbuTWfu3B8ACAkJYvjw9gYnEmdTEYjIRRUXOyaLFhU5JovO\nnNmDWrX0a6Om0f9REbmoBQv28MMPjsmiw4ffwA031DM4kVQGFYGIlOrnn7OZMcMxWbRFC3+ef/4W\ngxNJZVERiMgF7HY748Z9UzJZdPr0bposWoOpCETkAsuW/ZdNm44A8Kc/XUu3bo0NTiSVyfRFYLfb\njY4g4lJOnvxtsmj9+j5MnNjF4ERS2UxfBMe//Zb4YcPY+9575Bw+bHQcEcNNmrSNzMwCAF577VYC\nAzVZtKYz/UG/Rl26kL53L5vHjwcg8NpraRYRQZPwcBp26oS7p6fBCUWqTnz8z6xa9RMAffs25847\nNVnUDCpcBElJSSxevBibzUZERAT9+/c/7/vJycnMmDGDq666CoDOnTszcODAij6tU7UbOpTsgwdJ\nXriQzJQUMlNS2PX3v1PL15fg7t1pGh5O0/Bw6jTWcVKpuXJyzjF+vGOyqJ9fLaZMCdMYCZOoUBHY\nbDYWLlzIxIkTsVqtjB8/ntDQUJo0aXLedm3btuXFF1+sUNDK1mXSJHJ+/plD69aV3FeYl8fPX3zB\nz198AUDd66/nljFjaNmvn1ExRSrNtGnbOXYsD4CXXupMo0aaLGoWFXqPIDU1lYYNG9KgQQM8PDwI\nCwsjMTHxgu2qwxuybu7uRMydS1BISKnf96lXj/ZPPEGLvn2rOJlI5du+/TjvvrsXgC5dGvLgg9cb\nnEiqUoWKICMjg6CgoJLbVquVjIyM87axWCykpKQwduxYpk2bxmEXfkO2lq8vfd99F9+GDS/8ppsb\nterUweJm+vfXpYYpKChmzBjHZFEvL3emT++Om5sOCZlJpf9Wa9myJfPmzSM2Npbbb7+d2NjYyn7K\nCvFt1Ii+776LR+3a591/9sQJ1j3+OPGPP86ZtDSD0ok435w5O0lNzQRg9OgOXHNNoMGJpKpV6D0C\nq9VKenp6ye309HSsVut52/j4+JR83aFDBxYsWEBubi516tQ5b7vk5GSSk5NLbkdFReHn51eReOXm\n17Urdy1axKohQ7DbbES88QabX3uNgsxMDq5dy7HNm+nx2mu0e+ihavFmmqenp2FrWZMU+f52zNzb\n27tGrGly8kneftsxWbRdu3q88EIYtWq5V2kG7Z/Ot3Tp0pKvQ0JCCLnIIe//qVARXH311Rw/fpwT\nJ05gtVrZsmULzzzzzHnbZGZmEhAQgMViITU1FeCCErhY2JycnIrEq5D63brRZfJkdsycydVDhtCo\nd2+2TJzIgTVrKMjKIv7pp9nz4Yd0nzGDgFatDMtZFn5+foauZU2Rl5dX8nV+fn61X9PiYhsjR8ZR\nVGTDzc3C9OndyM8/Q35+1ebQ/ulcfn5+REVFXdHPVKgI3N3dGTp0KFOmTCk5fbRJkybEx8cDEBkZ\nybZt24iPj8fNzQ0vL68LisKVtRs6tOQ6gtoNGtBn/nwOxsWxOTqaM8ePc2zrVpZHRnLzc8/Rfvhw\n3GrVMjixSNktWrSXnTtPADBsWDtuuqm+wYnEKBa7C5/Sc/ToUaMjlOpcdjbfTpnCj++/X3JfULt2\n9HjjDerdcIOByUqnv7icI+vAAZZ26wZAz1mzuPYK/+pyJb/8kkNExCecOVNEs2Z+rF8/kNq1jflD\nRvuncwUHB1/xz+gUmHLw9Pen+/Tp3LV8eclhofQ9e1h55518+9prFJ09a3BCkYv732TRM2eKAMdk\nUaNKQFyDiqACGnXpwn3x8dz09NNYPDywFxeza948lvfpw5FvvjE6nkipPv00lYQEx2ncgwe3pkeP\nJpf5CanpVAQV5OHtTcdx4xiwdi31brwRgOyDB1l7//189fzzFGRmGpxQ5Dfp6WeZNGkrAPXq+fDy\ny5osKioCpwkKCeHe1avp/PLLuHt7A5Dy8ccs69WL/WvWVIurq6XmmzRpK6dPOyaLvvpqV6xWb4MT\niStQETiRm4cH7Z94gkEbNtC4Rw8Azp48yfonniD+scfIO3bM4IRiZuvXH2LFCsdk0T59mnHPPa59\n2rNUHRVBJfBv3px+H35Iz1mz8Ap0XKX5c1wcy8LD2bdkCXabzeCEYja5uecYN87xvlWdOrWYNk2T\nReU3KoJKYrFYuDYqikEJCbS65x4ACnNy+GbcONYMHkzmrxfXiVSF6dMTOXrUcUHc+PGdCA6+8KJO\nMS8VQSWrXb8+vefN47ZFi/Bt1AiA49u28eltt7FzzhxshYUGJ5SaLjExjUWLHONbOna8ioceamNw\nInE1KoIq0vy22xi0cSNtH34YgOKCAhKnT2dFv36c/OEHg9NJTVVQUMzYsZuw28HT043YWE0WlQup\nCKqQp58fYVOncveKFQRecw0AGfv2sequu9j26qsUnjljcEKpaf72tyRSUhynMI8a1YHWresanEhc\nkYrAAA07dWJAXBwdRo92XIhms7F7/nyW9+7N4U2bjI4nNURKymnmzEkC4Prr6/LkkzcanEhclYrA\nIB7e3oSOHct9X3xB/Q4dAMg5dIjPhwwhYfRo8k+fNjihVGfFxTbGjNlEYaENiwViY3vg6Vm146Wl\n+lARGMzapg33rFpF18mT8fj1sxv+u2wZn/TqxU+rVulCNCmX997bx/ffOyaLDh3ajptvbmBwInFl\nKgIX4ObuTrthwxi0cSNNevUC4OypU2wYOZIvH32UXBedwiqu6ciRXKZN2w5AkyZ1ePHFUIMTiatT\nEbgQv6ZNuf399+k1Zw5edR1v6h2Kj+eT8HD2Ll6sC9Hksv43WTQvz3Fa8vTp3fD11WRRuTQVgYux\nWCy0HjiQwQkJXD1gAACFublsfukl/n3ffboQTS5p1aqf2LDhFwAGDryGXr2aGpxIqgMVgYvyqVeP\niLffpu977+H76wdNpG3fzvLISHbMnk3xuXMGJxRXk5GRz8SJjsmiVqs3r7zS1eBEUl2oCFxcs969\nGbRxIyFDh4LFgu3cOb6PjWVFv36c2LHD6HjiQl55ZSsZGY4PHNZkUbkSKoJqwLNOHW6NieGelSsJ\nbN0agNM//siqe+5h68svU/i7D1UXc0pI+IXlyx2HDSMimtK//9UGJ5LqREVQjVwVGsp9cXHc/Pzz\nuNWqBXY7exYu5JOICH5JSDA6nhgkL6+QF190TBatXduD11/vpsmickVUBNWMu5cXtzz3HAPi4mhw\n880A5B4+zBcPPsjGUaPIz8gwOKFUtRkzEjl8OBeA8eM70rixJovKlVERVFPW667j7pUr6RoTg0ft\n2gCkLl/Osp49SV2xQheimcSOHSdYuHAPALfc0oCHH25rcCKpjlQE1Zibuzvthg5lcEICTSMiAMjP\nyGDjU08R99BD5B45YnBCqUznzv02WbRWLcdkUXd3/ZOWK6e9pgao07gxfd97j/C//Q1vqxWAXzZs\n4JPwcJIXLcJWXGxwQqkMc+f+wI8/OmZSjRp1E9ddZzU4kVRXKoIawmKxcE3//gz+6iuuue8+AArz\n8tgyYQL/6tuXjP/8x+CE4kz//e9p3nprJwDXXhvIk0/eZHAiqc5UBDWMt9VK+F//yu3vv0+dJk0A\nOPbdd6zo25fvZ86kuKDA4IRSUTabnbFjv+bcud8mi3p5abKolJ+KoIZqGh7OoA0baDdsmONCtMJC\ndrz5Jp/efjtpiYlGx5MKWLJkH9u3pwHw6KMhhIZeZXAiqe5UBDVYLV9fuk6ezJB166h7/fUAZKak\nsLp/f7ZMnMi53FyDE8qVOno0l6lTvwMgONhXk0XFKVQEJtCoY0cGfP45t4wZg5unJ9jtJL/zDp+E\nh3No/Xqj40kZ2e12xo/fTG6uY7Lo6693o04dT4NTSU2gIjAJd09Pbn72We778kuu6tgRgLyjR4l7\n6CE2PPUUZ9PTDU4ol7N69X7WrTsEwIABV9O7dzODE0lNoSIwmbqtW3P3p58SNmUKtXx9AfhpxQqW\n9ezJf5cv14VoLsoxWXQLAHXrejF5siaLivOoCEzI4uZG20ceYdDGjTTr0weAgtOnSRg1ii/+/Gdy\nDh82OKH8UUzMt6SnOyaLvvJKV4KCfAxOJDWJisDE6jRuzG2LFxMxdy7eQUEAHE5I4JPwcPYsWKAL\n0VzEpk2HWbo0BYBevZowcOA1BieSmkZFYHIWi4Wr772XwQkJXBsVBUDRmTNsnTSJf997Lxk//mhw\nQnM7c0aTRaXyqQgEcFyI1nPWLPp99BF1mjo+3vDEzp182rcvibGxuhDNIG+88T2HDuUA8OKLHWna\n1M/gRFITqQjkPE169GDQhg3cMHw4Fjc37EVF7Jw9m09vu43j27cbHc9UkpJO8s9/OiaLduhQn0cf\n1WRRqRwqArlArdq16TJpEvf++99Y27QBIDM1lX/378/m6GjO5eQYnLDmKyy0MWbMJmw2Ox4eFmJj\ne2iyqFQa7VlyUfVvuokBn39O6Isv4u7lBcDed9/lk/Bwfo6PNzhdzTZv3g/s2+f4kKGnnrqJNm00\nWVQqj4pALsmtVi06jBrFfV9+ScPOnQHIO3aMLx95hPUjRnD21CmDE9Y8qamZzJ7tmCx6zTWBjBrV\nweBEUtOpCKRMAq+5hrs++YRur79OLT/HG5b7V69mWc+epCxdqgvRnMRms/Pii19TUOA4dTc2trsm\ni0qlUxFImVnc3Gjzl78weONGmvftC0BBZiZfPfssnz/wANmHDhmcsPr74IMf2bbtOAAPP9yWTp0a\nGpxIzEBFIFfMt1EjIhcupPf8+fjUrw/AkU2bWB4Rwa7583UhWjkdO5bHlCnfAtCokS/jx3c0OJGY\nhYpAysVisdDqrrsYtHEj1/7pTwAUnT3Lt6++yup77iF9716DE1Yvdrudl17aTE6OY7LotGlh+Plp\nsqhUDRWBVIh33br0nDmTOz7+GL/mzQE4mZTEin792P766xTl5xucsHr47LMDxMX9DMA997QiMrK5\nwYnETFQE4hSNu3dn0Pr1tB8xouRCtKS//pVPIyM5tm2b0fFcWmZmARMmOCaLBgZ68eqrmiwqVUtF\nIE7j4eND5wkTuPezzwgKCQEga/9+1gwcyDfjxnEuO9vghK4pJmYbJ0+eBWDSpC7Ur1/b4ERiNioC\ncbr67dvT/7PP6Bgdjbu3NwD7lixhWXg4B+PiDE7nWr7++ggff+yYLNq9e2MGD25tcCIxIxWBVAq3\nWrW46cknGRgfT6OujkMdZ44fJ37oUNYNH86ZEycMTmi8s2eLGDfOMVnUx8eD6dM1WVSMoSKQShXQ\nqhV3Ll1K99hYPP39ATjw2Wcs69WL/3z8sakvRJs583sOHnQcLhs79haaN/c3OJGYlYpAKp3FzY3r\nH3iAQRs30uKOOwA4l5XFpuefZ+3995N98KCxAQ2we/cp5s/fDcCNN9bjscfaGZxIzExFIFXGt2FD\nIv/5T/r885/4NGgAwNHNm/mkd29+mDcPW1GRwQmrRmGhjeefP3+yqIeH/imKcbT3SZVreccdDE5I\n4PoHHwSgOD+f7157jVV33UX6nj0Gp6t8//jHLpKT0wEYMeJGQkKCDE4kZqciEEN4BQTQfcYM7ly6\nFP8WLQA4tXs3K+64g++mTaPo7FljA1aS/fuzePPNHQC0ahXA6NGaLCrGUxGIoYLDwhi4bh03Pvkk\nFnd37MXF/PD22yzv04ejW7YYHc+p7HY7L7zwNfn5v00W9fb2MDiViIpAXICHjw+doqPpv3Yt9W64\nAYDsgwf5bPBgNo0dS0FWlsEJneOjj/7D1q3HAPjzn6+nS5dGBicScVARiMuo164d965ZQ+eJE0su\nRPvPhx/ySXg4Bz7/3OB0FZOWdoaYGMdk0YYNa/PSS50NTiTyGxWBuBQ3Dw/a/9//MWj9eoLDwgA4\nk5bGumHDiH/8cfKOHzc4YflMmLCZ7OxzAEydGoa/vyaLiutQEYhL8m/Rgjv+9S96zJyJZ0AAAAfX\nruWT8HB+/OCDanUh2tq1B1i79iAAd97Zkr59WxiaR+SPVATisiwWC9f96U8MTkig5V13AXAuO5uv\nX3iBzwYPJmv/foMTXl5W1m+TRQMCPHnttVsNTiRyIRWBuLzaDRrQZ/58It95h9oNHR/deGzrVpZH\nRpL0t79hKyw0OOHFTZnyHWlpZwB4+eUuNGigyaLielQEUm206NuXwRs3cv2f/ww4LkTbPnUqK++8\nk5O7dhmc7kJbthzlgw9+BCAsLJj777/W4EQipVMRSLXi6e9P9+nTuWv5cgJatQIgPTmZVXfeybev\nveYyF6KdPVvE2LFfA+Dt7c6MGd01WVRclopAqqVGXbpwX3w8N40ahcXDA7vNxq5581jepw9HvvnG\n6HjMnr2jZLLomDG30KKFJouK61IRSLXl4e1NxxdfZMDatdS78UbAcSHa2vvv56vnn6cgM9OQXHv2\npDNvnuNQ1Q031OPxx28wJIdIWakIpNoLCgnh3tWr6fzyyyUXoqV8/DHLevVi/5o1VXqqaVGRjTFj\nNlFcbMfd3cIbb3TXZFFxedpDpUZw8/Cg/RNPMGjDBhr36AHA2ZMnWf/EE8Q/9hh5x45VSY4FC/aw\ne/cpAP7v/9rTrl29KnlekYpQEUiN4t+8Of0+/JCes2bhFRgIwM9xcSwLD2ffkiXYbbZKe+6DB7OJ\njU0EoEULf5599uZKey4RZ1IRSI1jsVi4NiqKQQkJtLrnHgAKc3L4Ztw41gweTGZqqtOf84+TRWfM\n6I6PjyaLSvWgIpAaq3b9+vSeN4/bFi3Ct5Fj0ufxbdv49Lbb2DlnjlMvRFu6NIXNm48C8MAD1xEW\nFuy0xxapbCoCqfGa33YbgzZupO3DDwNQXFBA4vTprOjXj5NJSRV+/BMnzjB58jYAGjTwYcIETRaV\n6kVFIKbg6edH2NSp3L1iBYHXXANAxr59rLr7brZNnkzhmTPlfuyJE7eQleWYLDplShgBAV5OySxS\nVVQEYioNO3ViQFwcHUaPLrkQbfc//sHy3r05vGnTFT9eXNxB1qw5AEC/fi24446Wzo4sUulUBGI6\nHt7ehI4dy31ffEH9Do7PDM45dIjPhwwhYfRo8jMyyvQ42dnniI7eDIC/vyaLSvWlIhDTsrZpwz2r\nVtF18mQ8fHwA+O+yZXwSHs5Pq1Zd9kK0qVO/4/hxxyGlCRM607Chb6VnFqkMKgIxNTd3d9oNG8ag\njRtp0qsXAGdPnWLDyJF8+cgj5B49WurP/fBTEUuW7AOga9dGDBlyXVVFFnG6ChdBUlISo0ePZtSo\nUaxcubLUbd555x1GjRrF2LFjOXDgQEWfUsTp/Jo25fb336fXnDl41a0LwKF16/gkPJy9ixefdyFa\nIR7M/JdjyqmXl2OyqJubJouKc9ntdvbsScdmq/wRKRUqApvNxsKFC4mOjubNN99k8+bNHD58+Lxt\nduzYQVpaGnPmzGH48OEsWLCgQoFFKovFYqH1wIEM/uorrh4wAIDC3Fw2v/QS/77vPrIPHgRgEz34\n5aSjGJ577mZatQowKrLUYBaLhcWLk7nllg8YM2YTcXEHOXOmcj6EqUJFkJqaSsOGDWnQoAEeHh6E\nhYWRmJh43jaJiYn07NkTgNatW5OXl0emQVMhRcrCJyiIiLffpu977+Eb7LgwLG37dr589FFy8GUr\nXQAICQniiSfaGxlVarinn76JjIx8PvroPwwdGk+7dkv4y1++4N1393LkSK7TnqdC18BnZGQQFBRU\ncttqtZL6h8v3/7hNUFAQGRkZBP46B0bEVTXr3ZtBGzeSOH06yYsWYSssxI9C+rCeL7idjIx8evVa\nZnTMas/NzQ1bJc6Aqu4cH2jkODxUUFDMhg2/sGHDL0RHbyYkJIjIyGZERjanfft65T5EWSXDUMoy\nBjg5OZnk5OSS21FRUfj5+VVmLNPw9PTUWpaXnx99Z8/mhiFDiBs5kqxDh0gpbod30VmOHdP7AmKs\n5OR0kpPT+fvfd3H//W2YNKkbAEuXLi3ZJiQkhJCQkEs+ToWKwGq1kp6eXnI7PT0dq9V6xdtcLGxO\nTk5F4smv/Pz8tJYV5Ne2LQPi4sjYt49DK86Rlpatj550Eg+PWhQVVc6x75ogPv4QZ88WXXD/VVfV\npk+fZvTp04zu3Rv/OuTQMfQwKirqip6jQkVw9dVXc/z4cU6cOIHVamXLli0888wz520TGhpKXFwc\nYWFhpKSk4Ovrq8NCUi25e3lR/6abeLO7itWZ9IfKxe3ceYLVq/eX3G7XLojIyOZERjbjhhvKfyjo\njypUBO7u7gwdOpQpU6Zgs9mIiIigSZMmxMfHAxAZGcnNN9/Mzp07efrpp/H29mbEiBFOCS4iUtPN\nnfsDERFNiYx0/OUfHFynUp7HYq/Kz/G7QkcvcjGPXBn9xeVcWk/n0nqWzm63k59ffMWfaxEcfOUj\n0HVlsYjLYk2KAAAKMUlEQVSIC7JYLFX24UYqAhERk1MRiIiYnIpARMTkVAQiIianIhARMTkVgYiI\nyakIRERMTkUgImJyKgIREZNTEYiImJyKQETE5FQEIiImpyIQETE5FYGIiMmpCERETE5FICJicioC\nERGTUxGIiJicikBExORUBCIiJqciEBExORWBiIjJqQhERExORSAiYnIqAhERk1MRiIiYnIpARMTk\nVAQiIianIhARMTkVgYiIyakIRERMTkUgImJyKgIREZNTEYiImJyKQETE5FQEIiImpyIQETE5FYGI\niMmpCERETE5FICJicioCERGTUxGIiJicikBExORUBCIiJqciEBExORWBiIjJqQhERExORSAiYnIq\nAhERk1MRiIiYnIpARMTkVAQiIianIhARMTkVgYiIyakIRERMTkUgImJyKgIREZNTEYiImJyKQETE\n5FQEIiImpyIQETE5FYGIiMmpCERETE5FICJicioCERGTUxGIiJicikBExORUBCIiJqciEBExORWB\niIjJqQhERExORSAiYnIqAhERk/Mo7w/m5uYya9YsTp06Rf369Xn22Wfx9fW9YLsnn3wSHx8f3Nzc\ncHd3Z9q0aRUKLCIizlXuIli5ciXt27fn3nvvZeXKlaxcuZIHH3yw1G1feeUV6tSpU+6QIiJSecp9\naCgxMZGePXsC0KtXL7Zv337Rbe12e3mfRkREKlm5XxFkZWURGBgIQEBAAFlZWaVuZ7FYiImJwc3N\njT59+tCnT5/yPqWIiFSCSxZBTEwMmZmZF9w/ZMiQ825bLJZLPkbdunXJzs4mJiaGxo0b06ZNm3LG\nFRERZ7tkEUycOPGi3wsICCAzM5PAwEBOnz5NQEBAqdvVrVsXAH9/fzp16kRqamqpRZCcnExycnLJ\n7aioKPz8/Mr0HyGX5unpqbV0Iq2nc2k9nW/p0qUlX4eEhBASEnLJ7ct9aCg0NJSEhAT69+/PV199\nRceOHS/YpqCgAJvNho+PD/n5+ezatYtBgwaV+nilhc3JySlvPPkdPz8/raUTaT2dS+vpXH5+fkRF\nRV3Rz5S7CPr378+sWbPYuHFjyemjABkZGcyfP5/x48eTmZnJG2+8AYDNZqNbt27ceOON5X1KERGp\nBBa7C5/Sc/ToUaMj1Aj6i8u5tJ7OpfV0ruDg4Cv+GV1ZLCJicioCERGTUxGIiJicikBExORUBCIi\nJqciEBExORWBiIjJqQhERExORSAiYnIqAhERk1MRiIiYnIpARMTkVAQiIianIhARMTkVgYiIyakI\nRERMTkUgImJyKgIREZNTEYiImJyKQETE5FQEIiImpyIQETE5FYGIiMmpCERETE5FICJicioCERGT\nUxGIiJicikBExORUBCIiJqciEBExORWBiIjJqQhERExORSAiYnIqAhERk1MRiIiYnIpARMTkVAQi\nIianIhARMTkVgYiIyakIRERMTkUgImJyKgIREZNTEYiImJyKQETE5FQEIiImpyIQETE5FYGIiMmp\nCERETE5FICJicioCERGTUxGIiJicikBExORUBCIiJqciEBExORWBiIjJqQhERExORSAiYnIqAhER\nk1MRiIiYnIpARMTkVAQiIianIhARMTkVgYiIyakIRERMTkUgImJyKgIREZNTEYiImJyKQETE5FQE\nIiImpyIQETE5FYGIiMmpCERETE5FICJicioCERGTUxGIiJicR3l/cOvWrSxbtowjR44wbdo0WrVq\nVep2SUlJLF68GJvNRkREBP379y93WBERcb5yvyJo1qwZY8aMoW3bthfdxmazsXDhQqKjo3nzzTfZ\nvHkzhw8fLu9TiohIJSj3K4LGjRtfdpvU1FQaNmxIgwYNAAgLCyMxMZEmTZqU92lFRMTJKvU9goyM\nDIKCgkpuW61WMjIyKvMpRUTkCl3yFUFMTAyZmZkX3D9kyBBCQ0MrLZSIiFSdSxbBxIkTK/TgVquV\n9PT0ktvp6elYrdZSt01OTiY5ObnkdlRUFMHBwRV6fvmNn5+f0RFqFK2nc2k9nWvp0qUlX4eEhBAS\nEnLJ7cv9HkFZXH311Rw/fpwTJ05gtVrZsmULzzzzTKnb/jHs0qVLiYqKqsx4pqG1dC6tp3NpPZ2r\nPOtZ7vcIvvvuO0aMGEFKSgrTpk1j6tSpgON9gWnTpgHg7u7O0KFDmTJlCs8++yy33nqr3igWEXEx\n5X5F0KlTJzp16nTB/VarlfHjx5fc7tChAx06dCjv04iISCVz2SuLL3dMS8pOa+lcWk/n0no6V3nW\n02K32+2VkEVERKoJl31FICIiVUNFICJicpV6+mhZaYCdc+Xm5jJr1ixOnTpF/fr1efbZZ/H19b1g\nuyeffBIfHx/c3Nxwd3cvOdtLHMqyv73zzjskJSXh5eXFyJEjadmypQFJq4fLrWdycjIzZszgqquu\nAqBz584MHDjQiKgube7cuezcuRN/f39mzpxZ6jZXvF/aXcDhw4ftR44csb/yyiv2n376qdRtiouL\n7U899ZQ9LS3NXlhYaB8zZoz9l19+qeKk1cOSJUvsK1eutNvtdvuKFSvs77//fqnbjRw50p6Tk1OV\n0aqNsuxv33//vX3q1Kl2u91uT0lJsUdHRxsRtVooy3ru2bPH/vrrrxuUsPrYu3evff/+/fbnnnuu\n1O+XZ790iUNDjRs3vuxVxL8fYOfh4VEywE4ulJiYSM+ePQHo1asX27dvv+i2dp0rUKqy7G+/X+fW\nrVuTl5dX6kgWKfu/X+2Pl9emTZtSX+H/T3n2S5cogrLQALuyy8rKIjAwEICAgACysrJK3c5isRAT\nE8O4ceNYt25dVUZ0eWXZ3/64TVBQkPbJiyjLelosFlJSUhg7dizTpk3TyPpyKs9+WWXvEWiAnXNd\naj1/z2KxXPIx6tatS3Z2NjExMTRu3Jg2bdo4PWtNpr9gnadly5bMmzcPLy8vdu7cSWxsLG+99ZbR\nsaqlK90vq6wIqnKAnRlcaj0DAgLIzMwkMDCQ06dPExAQUOp2devWBcDf359OnTqRmpqqIvhVWfY3\n7ZNlV5a18vHxKfm6Q4cOLFiwgNzcXOrUqVNlOWuC8uyX1ebQ0O8H2BUVFbFlyxa9kriI0NBQEhIS\nAPjqq6/o2LHjBdsUFBRw9uxZAPLz89m1axfNmjWrypgurSz7W2hoKJs2bQIgJSUFX1/fkkNycr6y\nrGdmZmbJX7KpqakAKoFyKM9+6RJXFn/33XcsWrSI7OxsateuTcuWLYmOjiYjI4P58+eXzC7auXPn\neaefDRgwwODkrulip4/+fj3T0tJ44403AMdHinbr1k3r+Qel7W/x8fEAREZGArBw4UKSkpLw9vZm\nxIgRFz31WS6/nl988QXx8fG4ubnh5eXFQw89xLXXXmtwatcze/Zs9u3bR3Z2NoGBgQwePJji4mKg\n/PulSxSBiIgYp9ocGhIRkcqhIhARMTkVgYiIyakIRERMTkUgImJyKgIREZNTEYiImJyKQETE5P4f\nWqbsaFIqL/UAAAAASUVORK5CYII=\n",
       "text": [
        "<matplotlib.figure.Figure at 0x118932890>"
       ]
      }
     ],
     "prompt_number": 81
    },
    {
     "cell_type": "code",
     "collapsed": false,
     "input": [
      "# or a refelction\n",
      "# The reflection does not preserve orietnation\n",
      "# This is indicated by the determinatn being -1\n",
      "plot_matrix_transform(A4)"
     ],
     "language": "python",
     "metadata": {},
     "outputs": [
      {
       "metadata": {},
       "output_type": "display_data",
       "png": "iVBORw0KGgoAAAANSUhEUgAAAYIAAAF0CAYAAAAuMT6NAAAABHNCSVQICAgIfAhkiAAAAAlwSFlz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\nVAQiIianIhARMTkVgYiIyakIRERM7v8BI0ZH6x42knYAAAAASUVORK5CYII=\n",
       "text": [
        "<matplotlib.figure.Figure at 0x11462e490>"
       ]
      }
     ],
     "prompt_number": 82
    },
    {
     "cell_type": "code",
     "collapsed": false,
     "input": [
      "# The tranpose of an orthogonal matrix is its inverse\n",
      "plot_matrix_transform(A3.T)"
     ],
     "language": "python",
     "metadata": {},
     "outputs": [
      {
       "metadata": {},
       "output_type": "display_data",
       "png": "iVBORw0KGgoAAAANSUhEUgAAAYIAAAF0CAYAAAAuMT6NAAAABHNCSVQICAgIfAhkiAAAAAlwSFlz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\n5FQEIiIm9/8BoqWvboP6xscAAAAASUVORK5CYII=\n",
       "text": [
        "<matplotlib.figure.Figure at 0x115069ad0>"
       ]
      }
     ],
     "prompt_number": 83
    },
    {
     "cell_type": "code",
     "collapsed": false,
     "input": [
      "def transform(u, v):\n",
      "    \"\"\"Retruns a matrix that converts u into e1 (1,0) and v into e2 (0,1).\"\"\"\n",
      "    return la.inv(np.vstack([u, v]).T)\n",
      "\n",
      "u = np.random.random(2)\n",
      "v = np.random.random(2)\n",
      "\n",
      "M = transform(u, v)\n",
      "print u, M.dot(u)\n",
      "print v, M.dot(v)"
     ],
     "language": "python",
     "metadata": {},
     "outputs": [
      {
       "output_type": "stream",
       "stream": "stdout",
       "text": [
        "[ 0.0276  0.8173] [ 1.  0.]\n",
        "[ 0.2418  0.0561] [ 0.  1.]\n"
       ]
      }
     ],
     "prompt_number": 84
    },
    {
     "cell_type": "markdown",
     "metadata": {},
     "source": [
      "**8**. Find and plot the least squares fit to the given values of $x$ and $y$ for the following:\n",
      "\n",
      "- a constant\n",
      "- a quadratic equation\n",
      "- a 5th order polynomial\n",
      "- a polynomial of order 50"
     ]
    },
    {
     "cell_type": "code",
     "collapsed": false,
     "input": [
      "plt.figure(figsize=(12,8))\n",
      "x = np.load('x.npy')\n",
      "y = np.load('y.npy')\n",
      "plt.plot(x, y, 'o')\n",
      "\n",
      "### YOUR CODE HERE\n",
      "p0 = np.poly1d(np.polyfit(x, y, 0))\n",
      "p2 = np.poly1d(np.polyfit(x, y, 2))\n",
      "p5 = np.poly1d(np.polyfit(x, y, 5))\n",
      "p50 = np.poly1d(np.polyfit(x, y, 50))\n",
      "\n",
      "plt.plot(x, p0(x), 'b:', linewidth=2)\n",
      "plt.plot(x, p2(x), 'b-', linewidth=2)\n",
      "plt.plot(x, p5(x), 'g--', linewidth=2)\n",
      "plt.plot(x, p50(x), 'r-.', linewidth=2)\n",
      "plt.legend(['Data', 'Constant', 'Qaudratic', 'Order 5', 'Order 50'], loc='best', fontsize=20);"
     ],
     "language": "python",
     "metadata": {},
     "outputs": [
      {
       "output_type": "stream",
       "stream": "stderr",
       "text": [
<<<<<<< HEAD
        "/Users/cliburn/anaconda/lib/python2.7/site-packages/numpy/lib/polynomial.py:588: RankWarning: Polyfit may be poorly conditioned\n",
=======
        "/home/bitnami/anaconda/lib/python2.7/site-packages/numpy/lib/polynomial.py:588: RankWarning: Polyfit may be poorly conditioned\n",
>>>>>>> 8ad8940c2da936619fc155ead5cff8ac90e265fa
        "  warnings.warn(msg, RankWarning)\n"
       ]
      },
      {
       "metadata": {},
       "output_type": "display_data",
<<<<<<< HEAD
       "png": "iVBORw0KGgoAAAANSUhEUgAAAscAAAHjCAYAAADPI7KTAAAABHNCSVQICAgIfAhkiAAAAAlwSFlz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\nRKX+H2a9XuY/BKd+AAAAAElFTkSuQmCC\n",
       "text": [
        "<matplotlib.figure.Figure at 0x118aae090>"
       ]
      }
     ],
     "prompt_number": 85
=======
       "png": "iVBORw0KGgoAAAANSUhEUgAAAscAAAHjCAYAAADPI7KTAAAABHNCSVQICAgIfAhkiAAAAAlwSFlz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\n",
       "text": [
        "<matplotlib.figure.Figure at 0x7fce975fcfd0>"
       ]
      }
     ],
     "prompt_number": 74
>>>>>>> 8ad8940c2da936619fc155ead5cff8ac90e265fa
    },
    {
     "cell_type": "code",
     "collapsed": false,
     "input": [
      "%load_ext version_information\n",
      "\n",
      "%version_information numpy, scipy"
     ],
     "language": "python",
     "metadata": {},
     "outputs": [
      {
       "html": [
        "<table><tr><th>Software</th><th>Version</th></tr><tr><td>Python</td><td>2.7.9 64bit [GCC 4.2.1 (Apple Inc. build 5577)]</td></tr><tr><td>IPython</td><td>2.3.1</td></tr><tr><td>OS</td><td>Darwin 13.4.0 x86_64 i386 64bit</td></tr><tr><td>numpy</td><td>1.9.1</td></tr><tr><td>scipy</td><td>0.14.0</td></tr><tr><td colspan='2'>Thu Jan 22 15:43:33 2015 EST</td></tr></table>"
       ],
       "json": [
        "{\"Software versions\": [{\"version\": \"2.7.9 64bit [GCC 4.2.1 (Apple Inc. build 5577)]\", \"module\": \"Python\"}, {\"version\": \"2.3.1\", \"module\": \"IPython\"}, {\"version\": \"Darwin 13.4.0 x86_64 i386 64bit\", \"module\": \"OS\"}, {\"version\": \"1.9.1\", \"module\": \"numpy\"}, {\"version\": \"0.14.0\", \"module\": \"scipy\"}]}"
       ],
       "latex": [
        "\\begin{tabular}{|l|l|}\\hline\n",
        "{\\bf Software} & {\\bf Version} \\\\ \\hline\\hline\n",
        "Python & 2.7.9 64bit [GCC 4.2.1 (Apple Inc. build 5577)] \\\\ \\hline\n",
        "IPython & 2.3.1 \\\\ \\hline\n",
        "OS & Darwin 13.4.0 x86\\_64 i386 64bit \\\\ \\hline\n",
        "numpy & 1.9.1 \\\\ \\hline\n",
        "scipy & 0.14.0 \\\\ \\hline\n",
        "\\hline \\multicolumn{2}{|l|}{Thu Jan 22 15:43:33 2015 EST} \\\\ \\hline\n",
        "\\end{tabular}\n"
       ],
       "metadata": {},
       "output_type": "pyout",
       "prompt_number": 86,
       "text": [
        "Software versions\n",
        "Python 2.7.9 64bit [GCC 4.2.1 (Apple Inc. build 5577)]\n",
        "IPython 2.3.1\n",
        "OS Darwin 13.4.0 x86_64 i386 64bit\n",
        "numpy 1.9.1\n",
        "scipy 0.14.0\n",
        "Thu Jan 22 15:43:33 2015 EST"
       ]
      }
     ],
     "prompt_number": 86
    },
    {
     "cell_type": "code",
     "collapsed": false,
     "input": [],
     "language": "python",
     "metadata": {},
     "outputs": [],
     "prompt_number": 86
    }
   ],
   "metadata": {}
  }
 ]
}