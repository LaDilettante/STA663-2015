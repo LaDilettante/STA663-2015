{
 "metadata": {
  "name": "",
  "signature": "sha256:c96699b2e599d2278aff50f175ac7d5d367f0706621fa2b5537bdd19e3a97617"
 },
 "nbformat": 3,
 "nbformat_minor": 0,
 "worksheets": [
  {
   "cells": [
    {
     "cell_type": "markdown",
     "metadata": {},
     "source": [
      "Workign with text\n",
      "====\n",
      "\n",
      "One of Python's strengths is the ease of working with text. Here are some examples."
     ]
    },
    {
     "cell_type": "markdown",
     "metadata": {},
     "source": [
      "String methods\n",
      "----"
     ]
    },
    {
     "cell_type": "code",
     "collapsed": false,
     "input": [
      "# multi-line strings use triple quotes\n",
      "s = \"\"\"\n",
      "it was the best of times,\n",
      "it was the worst of times,\n",
      "it was the age of wisdom,\n",
      "it was the age of foolishness,\n",
      "it was the epoch of belief,\n",
      "it was the epoch of incredulity,\n",
      "it was the season of Light,\n",
      "it was the season of Darkness,\n",
      "it was the spring of hope,\n",
      "it was the winter of despair,\n",
      "\"\"\"\n",
      "\n",
      "print s.count('of')\n",
      "print s.find('wisdom')\n",
      "print s.find('foolsihness')"
     ],
     "language": "python",
     "metadata": {},
     "outputs": [
      {
       "output_type": "stream",
       "stream": "stdout",
       "text": [
        "10\n",
        "72\n",
        "-1\n"
       ]
      }
     ],
     "prompt_number": 1
    },
    {
     "cell_type": "code",
     "collapsed": false,
     "input": [
      "print s.upper()"
     ],
     "language": "python",
     "metadata": {},
     "outputs": [
      {
       "output_type": "stream",
       "stream": "stdout",
       "text": [
        "\n",
        "IT WAS THE BEST OF TIMES,\n",
        "IT WAS THE WORST OF TIMES,\n",
        "IT WAS THE AGE OF WISDOM,\n",
        "IT WAS THE AGE OF FOOLISHNESS,\n",
        "IT WAS THE EPOCH OF BELIEF,\n",
        "IT WAS THE EPOCH OF INCREDULITY,\n",
        "IT WAS THE SEASON OF LIGHT,\n",
        "IT WAS THE SEASON OF DARKNESS,\n",
        "IT WAS THE SPRING OF HOPE,\n",
        "IT WAS THE WINTER OF DESPAIR,\n",
        "\n"
       ]
      }
     ],
     "prompt_number": 2
    },
    {
     "cell_type": "code",
     "collapsed": false,
     "input": [
      "print s.replace('was', 'might have been')"
     ],
     "language": "python",
     "metadata": {},
     "outputs": [
      {
       "output_type": "stream",
       "stream": "stdout",
       "text": [
        "\n",
        "it might have been the best of times,\n",
        "it might have been the worst of times,\n",
        "it might have been the age of wisdom,\n",
        "it might have been the age of foolishness,\n",
        "it might have been the epoch of belief,\n",
        "it might have been the epoch of incredulity,\n",
        "it might have been the season of Light,\n",
        "it might have been the season of Darkness,\n",
        "it might have been the spring of hope,\n",
        "it might have been the winter of despair,\n",
        "\n"
       ]
      }
     ],
     "prompt_number": 3
    },
    {
     "cell_type": "markdown",
     "metadata": {},
     "source": [
      "Splitting and joining strings\n",
      "----"
     ]
    },
    {
     "cell_type": "code",
     "collapsed": false,
     "input": [
      "paths = !`echo $PATH`\n",
      "print paths\n",
      "print paths[0]"
     ],
     "language": "python",
     "metadata": {},
     "outputs": [
      {
       "output_type": "stream",
       "stream": "stdout",
       "text": [
        "['/bin/sh: 1: /usr/local/sbin:/usr/local/bin:/usr/sbin:/usr/bin:/sbin:/bin: not found']\n",
        "/bin/sh: 1: /usr/local/sbin:/usr/local/bin:/usr/sbin:/usr/bin:/sbin:/bin: not found\n"
       ]
      }
     ],
     "prompt_number": 2
    },
    {
     "cell_type": "code",
     "collapsed": false,
     "input": [
      "for path in paths[0].split(':'):\n",
      "    print '=> '.join(path.strip().split('/'))"
     ],
     "language": "python",
     "metadata": {},
     "outputs": [
      {
       "output_type": "stream",
       "stream": "stdout",
       "text": [
        "=> bin=> sh\n",
        "=> usr=> local=> bin\n",
        "=> Users=> cliburn=> git=> julia=> \n",
        "=> Developer=> NVIDIA=> CUDA-6.5=> bin\n",
        "=> Users=> cliburn=> anaconda=> bin\n",
        "=> usr=> bin\n",
        "=> bin\n",
        "=> usr=> sbin\n",
        "=> sbin\n",
        "=> usr=> local=> bin\n",
        "=> opt=> X11=> bin\n",
        "=> usr=> texbin\n",
        "No such file or directory\n"
       ]
      }
     ],
     "prompt_number": 5
    },
    {
     "cell_type": "markdown",
     "metadata": {},
     "source": [
      "# The string module\n",
      "\n",
      "The string module provides a very useful maketrans function. It is easeir to show than to explain what this does."
     ]
    },
    {
     "cell_type": "code",
     "collapsed": false,
     "input": [
      "from string import maketrans\n",
      "\n",
      "dna_to_rna = maketrans('ACTG', 'ACUG')\n",
      "\n",
      "dna = 'gattaca'\n",
      "print dna.upper().translate(dna_to_rna).lower()"
     ],
     "language": "python",
     "metadata": {},
     "outputs": [
      {
       "output_type": "stream",
       "stream": "stdout",
       "text": [
        "gauuaca\n"
       ]
      }
     ],
     "prompt_number": 3
    },
    {
     "cell_type": "code",
     "collapsed": false,
     "input": [
      "# Incidentally the translate function is useful for getting rid of unwanted characters in a string\n",
      "\n",
      "from string import punctuation\n",
      "print punctuation"
     ],
     "language": "python",
     "metadata": {},
     "outputs": [
      {
       "output_type": "stream",
       "stream": "stdout",
       "text": [
        "!\"#$%&'()*+,-./:;<=>?@[\\]^_`{|}~\n"
       ]
      }
     ],
     "prompt_number": 5
    },
    {
     "cell_type": "code",
     "collapsed": false,
     "input": [
      "import os\n",
      "\n",
      "# Alice in Wonderland from Project Gutenberg\n",
      "\n",
      "if not os.path.exists('alice.txt'):\n",
      "    ! wget http://www.gutenberg.org/cache/epub/11/pg11.txt -O alice.txt"
     ],
     "language": "python",
     "metadata": {},
     "outputs": [],
     "prompt_number": 6
    },
    {
     "cell_type": "code",
     "collapsed": false,
     "input": [
      "from collections import Counter\n",
      "\n",
      "# Remove \n",
      "alice = open('alice.txt').read()\n",
      "words = alice.translate(None, punctuation).lower().split()\n",
      "word_counts = Counter(words)\n",
      "for item in word_counts.most_common(10):\n",
      "    print item\n",
      "print 'alice', word_counts['alice']\n",
      "print type(word_counts)"
     ],
     "language": "python",
     "metadata": {},
     "outputs": [
      {
       "output_type": "stream",
       "stream": "stdout",
       "text": [
        "('the', 1804)\n",
        "('and', 912)\n",
        "('to', 801)\n",
        "('a', 684)\n",
        "('of', 625)\n",
        "('it', 541)\n",
        "('she', 538)\n",
        "('said', 462)\n",
        "('you', 429)\n",
        "('in', 428)\n",
        "alice 385\n",
        "<class 'collections.Counter'>\n"
       ]
      }
     ],
     "prompt_number": 8
    },
    {
     "cell_type": "markdown",
     "metadata": {},
     "source": [
      "Regular expressions\n",
      "----\n",
      "\n",
      "Regular expressions are a domain specific language for flexible text processing. It is a useful tool, but can be hard to deciper unless you use it often. Where possible, use string methods in preference to regular expressions. Sometiems, however, regular expressiosn are extreemly useful. We will illustrate its use for motif finding in DNA seqeucnes.\n",
      "\n",
      "\n",
      "\n",
      "See [Regular Expression HOWTO](https://docs.python.org/2/howto/regex.html) and the [re documnetation](https://docs.python.org/2/library/re.html) for details."
     ]
    },
    {
     "cell_type": "code",
     "collapsed": false,
     "input": [
      "# Here is the E Coli DNA sequnce for the beta-D-galactosidase enzyme.\n",
      "\n",
      "gene = \"\"\"\n",
      ">ENA|BAE76126|BAE76126.1 Escherichia coli str. K-12 substr. W3110 beta-D-galactosidase \n",
      "ATGACCATGATTACGGATTCACTGGCCGTCGTTTTACAACGTCGTGACTGGGAAAACCCT\n",
      "GGCGTTACCCAACTTAATCGCCTTGCAGCACATCCCCCTTTCGCCAGCTGGCGTAATAGC\n",
      "GAAGAGGCCCGCACCGATCGCCCTTCCCAACAGTTGCGCAGCCTGAATGGCGAATGGCGC\n",
      "TTTGCCTGGTTTCCGGCACCAGAAGCGGTGCCGGAAAGCTGGCTGGAGTGCGATCTTCCT\n",
      "GAGGCCGATACTGTCGTCGTCCCCTCAAACTGGCAGATGCACGGTTACGATGCGCCCATC\n",
      "TACACCAACGTGACCTATCCCATTACGGTCAATCCGCCGTTTGTTCCCACGGAGAATCCG\n",
      "ACGGGTTGTTACTCGCTCACATTTAATGTTGATGAAAGCTGGCTACAGGAAGGCCAGACG\n",
      "CGAATTATTTTTGATGGCGTTAACTCGGCGTTTCATCTGTGGTGCAACGGGCGCTGGGTC\n",
      "GGTTACGGCCAGGACAGTCGTTTGCCGTCTGAATTTGACCTGAGCGCATTTTTACGCGCC\n",
      "GGAGAAAACCGCCTCGCGGTGATGGTGCTGCGCTGGAGTGACGGCAGTTATCTGGAAGAT\n",
      "CAGGATATGTGGCGGATGAGCGGCATTTTCCGTGACGTCTCGTTGCTGCATAAACCGACT\n",
      "ACACAAATCAGCGATTTCCATGTTGCCACTCGCTTTAATGATGATTTCAGCCGCGCTGTA\n",
      "CTGGAGGCTGAAGTTCAGATGTGCGGCGAGTTGCGTGACTACCTACGGGTAACAGTTTCT\n",
      "TTATGGCAGGGTGAAACGCAGGTCGCCAGCGGCACCGCGCCTTTCGGCGGTGAAATTATC\n",
      "GATGAGCGTGGTGGTTATGCCGATCGCGTCACACTACGTCTGAACGTCGAAAACCCGAAA\n",
      "CTGTGGAGCGCCGAAATCCCGAATCTCTATCGTGCGGTGGTTGAACTGCACACCGCCGAC\n",
      "GGCACGCTGATTGAAGCAGAAGCCTGCGATGTCGGTTTCCGCGAGGTGCGGATTGAAAAT\n",
      "GGTCTGCTGCTGCTGAACGGCAAGCCGTTGCTGATTCGAGGCGTTAACCGTCACGAGCAT\n",
      "CATCCTCTGCATGGTCAGGTCATGGATGAGCAGACGATGGTGCAGGATATCCTGCTGATG\n",
      "AAGCAGAACAACTTTAACGCCGTGCGCTGTTCGCATTATCCGAACCATCCGCTGTGGTAC\n",
      "ACGCTGTGCGACCGCTACGGCCTGTATGTGGTGGATGAAGCCAATATTGAAACCCACGGC\n",
      "ATGGTGCCAATGAATCGTCTGACCGATGATCCGCGCTGGCTACCGGCGATGAGCGAACGC\n",
      "GTAACGCGAATGGTGCAGCGCGATCGTAATCACCCGAGTGTGATCATCTGGTCGCTGGGG\n",
      "AATGAATCAGGCCACGGCGCTAATCACGACGCGCTGTATCGCTGGATCAAATCTGTCGAT\n",
      "CCTTCCCGCCCGGTGCAGTATGAAGGCGGCGGAGCCGACACCACGGCCACCGATATTATT\n",
      "TGCCCGATGTACGCGCGCGTGGATGAAGACCAGCCCTTCCCGGCTGTGCCGAAATGGTCC\n",
      "ATCAAAAAATGGCTTTCGCTACCTGGAGAGACGCGCCCGCTGATCCTTTGCGAATACGCC\n",
      "CACGCGATGGGTAACAGTCTTGGCGGTTTCGCTAAATACTGGCAGGCGTTTCGTCAGTAT\n",
      "CCCCGTTTACAGGGCGGCTTCGTCTGGGACTGGGTGGATCAGTCGCTGATTAAATATGAT\n",
      "GAAAACGGCAACCCGTGGTCGGCTTACGGCGGTGATTTTGGCGATACGCCGAACGATCGC\n",
      "CAGTTCTGTATGAACGGTCTGGTCTTTGCCGACCGCACGCCGCATCCAGCGCTGACGGAA\n",
      "GCAAAACACCAGCAGCAGTTTTTCCAGTTCCGTTTATCCGGGCAAACCATCGAAGTGACC\n",
      "AGCGAATACCTGTTCCGTCATAGCGATAACGAGCTCCTGCACTGGATGGTGGCGCTGGAT\n",
      "GGTAAGCCGCTGGCAAGCGGTGAAGTGCCTCTGGATGTCGCTCCACAAGGTAAACAGTTG\n",
      "ATTGAACTGCCTGAACTACCGCAGCCGGAGAGCGCCGGGCAACTCTGGCTCACAGTACGC\n",
      "GTAGTGCAACCGAACGCGACCGCATGGTCAGAAGCCGGGCACATCAGCGCCTGGCAGCAG\n",
      "TGGCGTCTGGCGGAAAACCTCAGTGTGACGCTCCCCGCCGCGTCCCACGCCATCCCGCAT\n",
      "CTGACCACCAGCGAAATGGATTTTTGCATCGAGCTGGGTAATAAGCGTTGGCAATTTAAC\n",
      "CGCCAGTCAGGCTTTCTTTCACAGATGTGGATTGGCGATAAAAAACAACTGCTGACGCCG\n",
      "CTGCGCGATCAGTTCACCCGTGCACCGCTGGATAACGACATTGGCGTAAGTGAAGCGACC\n",
      "CGCATTGACCCTAACGCCTGGGTCGAACGCTGGAAGGCGGCGGGCCATTACCAGGCCGAA\n",
      "GCAGCGTTGTTGCAGTGCACGGCAGATACACTTGCTGATGCGGTGCTGATTACGACCGCT\n",
      "CACGCGTGGCAGCATCAGGGGAAAACCTTATTTATCAGCCGGAAAACCTACCGGATTGAT\n",
      "GGTAGTGGTCAAATGGCGATTACCGTTGATGTTGAAGTGGCGAGCGATACACCGCATCCG\n",
      "GCGCGGATTGGCCTGAACTGCCAGCTGGCGCAGGTAGCAGAGCGGGTAAACTGGCTCGGA\n",
      "TTAGGGCCGCAAGAAAACTATCCCGACCGCCTTACTGCCGCCTGTTTTGACCGCTGGGAT\n",
      "CTGCCATTGTCAGACATGTATACCCCGTACGTCTTCCCGAGCGAAAACGGTCTGCGCTGC\n",
      "GGGACGCGCGAATTGAATTATGGCCCACACCAGTGGCGCGGCGACTTCCAGTTCAACATC\n",
      "AGCCGCTACAGTCAACAGCAACTGATGGAAACCAGCCATCGCCATCTGCTGCACGCGGAA\n",
      "GAAGGCACATGGCTGAATATCGACGGTTTCCATATGGGGATTGGTGGCGACGACTCCTGG\n",
      "AGCCCGTCAGTATCGGCGGAATTCCAGCTGAGCGCCGGTCGCTACCATTACCAGTTGGTC\n",
      "TGGTGTCAAAAATAA\n",
      "\"\"\""
     ],
     "language": "python",
     "metadata": {},
     "outputs": [],
     "prompt_number": 12
    },
    {
     "cell_type": "code",
     "collapsed": false,
     "input": [
      "# Suppose we want to replace motifs that start wtih 'ATA', \n",
      "# followed by between 1 and 4 of any nucleotide, followed by 'CG'\n",
      "# with a blank string of the same length\n",
      "\n",
      "from toolz import partition\n",
      "\n",
      "def replace(match):\n",
      "    return ' ' * len(match.group(0))\n",
      "\n",
      "# convert FASTA into single DNA sequence\n",
      "dna = ''.join(line for line in gene.strip().split('\\n') \n",
      "              if not line.startswith('>'))\n",
      "pattern = 'ATA.{1,4}CG'\n",
      "modified_dna = re.sub(pattern, replace, dna)\n",
      "\n",
      "# pretty print modified sequence\n",
      "linewidth = 60\n",
      "print '\\n'.join([''.join(line) for line \n",
      "                in partition(linewidth, modified_dna)])"
     ],
     "language": "python",
     "metadata": {},
     "outputs": [
      {
       "output_type": "stream",
       "stream": "stdout",
       "text": [
        "ATGACCATGATTACGGATTCACTGGCCGTCGTTTTACAACGTCGTGACTGGGAAAACCCT\n",
        "GGCGTTACCCAACTTAATCGCCTTGCAGCACATCCCCCTTTCGCCAGCTGGCGTA     \n",
        " AAGAGGCCCGCACCGATCGCCCTTCCCAACAGTTGCGCAGCCTGAATGGCGAATGGCGC\n",
        "TTTGCCTGGTTTCCGGCACCAGAAGCGGTGCCGGAAAGCTGGCTGGAGTGCGATCTTCCT\n",
        "GAGGCCG         TCGTCCCCTCAAACTGGCAGATGCACGGTTACGATGCGCCCATC\n",
        "TACACCAACGTGACCTATCCCATTACGGTCAATCCGCCGTTTGTTCCCACGGAGAATCCG\n",
        "ACGGGTTGTTACTCGCTCACATTTAATGTTGATGAAAGCTGGCTACAGGAAGGCCAGACG\n",
        "CGAATTATTTTTGATGGCGTTAACTCGGCGTTTCATCTGTGGTGCAACGGGCGCTGGGTC\n",
        "GGTTACGGCCAGGACAGTCGTTTGCCGTCTGAATTTGACCTGAGCGCATTTTTACGCGCC\n",
        "GGAGAAAACCGCCTCGCGGTGATGGTGCTGCGCTGGAGTGACGGCAGTTATCTGGAAGAT\n",
        "CAGGATATGTGGCGGATGAGCGGCATTTTCCGTGACGTCTCGTTGCTGC        ACT\n",
        "ACACAAATCAGCGATTTCCATGTTGCCACTCGCTTTAATGATGATTTCAGCCGCGCTGTA\n",
        "CTGGAGGCTGAAGTTCAGATGTGCGGCGAGTTGCGTGACTACCTACGGGTAACAGTTTCT\n",
        "TTATGGCAGGGTGAAACGCAGGTCGCCAGCGGCACCGCGCCTTTCGGCGGTGAAATTATC\n",
        "GATGAGCGTGGTGGTTATGCCGATCGCGTCACACTACGTCTGAACGTCGAAAACCCGAAA\n",
        "CTGTGGAGCGCCGAAATCCCGAATCTCTATCGTGCGGTGGTTGAACTGCACACCGCCGAC\n",
        "GGCACGCTGATTGAAGCAGAAGCCTGCGATGTCGGTTTCCGCGAGGTGCGGATTGAAAAT\n",
        "GGTCTGCTGCTGCTGAACGGCAAGCCGTTGCTGATTCGAGGCGTTAACCGTCACGAGCAT\n",
        "CATCCTCTGCATGGTCAGGTCATGGATGAGCAGACGATGGTGCAGGATATCCTGCTGATG\n",
        "AAGCAGAACAACTTTAACGCCGTGCGCTGTTCGCATTATCCGAACCATCCGCTGTGGTAC\n",
        "ACGCTGTGCGACCGCTACGGCCTGTATGTGGTGGATGAAGCCAATATTGAAACCCACGGC\n",
        "ATGGTGCCAATGAATCGTCTGACCGATGATCCGCGCTGGCTACCGGCGATGAGCGAACGC\n",
        "GTAACGCGAATGGTGCAGCGCGATCGTAATCACCCGAGTGTGATCATCTGGTCGCTGGGG\n",
        "AATGAATCAGGCCACGGCGCTAATCACGACGCGCTGTATCGCTGGATCAAATCTGTCGAT\n",
        "CCTTCCCGCCCGGTGCAGTATGAAGGCGGCGGAGCCGACACCACGGCCACCGATATTATT\n",
        "TGCCCGATGTACGCGCGCGTGGATGAAGACCAGCCCTTCCCGGCTGTGCCGAAATGGTCC\n",
        "ATCAAAAAATGGCTTTCGCTACCTGGAGAGACGCGCCCGCTGATCCTTTGCGAATACGCC\n",
        "CACGCGATGGGTAACAGTCTTGGCGGTTTCGCTAAATACTGGCAGGCGTTTCGTCAGTAT\n",
        "CCCCGTTTACAGGGCGGCTTCGTCTGGGACTGGGTGGATCAGTCGCTGATTAAATATGAT\n",
        "GAAAACGGCAACCCGTGGTCGGCTTACGGCGGTGATTTTGGCG        AACGATCGC\n",
        "CAGTTCTGTATGAACGGTCTGGTCTTTGCCGACCGCACGCCGCATCCAGCGCTGACGGAA\n",
        "GCAAAACACCAGCAGCAGTTTTTCCAGTTCCGTTTATCCGGGCAAACCATCGAAGTGACC\n",
        "AGCGAATACCTGTTCCGTC            AGCTCCTGCACTGGATGGTGGCGCTGGAT\n",
        "GGTAAGCCGCTGGCAAGCGGTGAAGTGCCTCTGGATGTCGCTCCACAAGGTAAACAGTTG\n",
        "ATTGAACTGCCTGAACTACCGCAGCCGGAGAGCGCCGGGCAACTCTGGCTCACAGTACGC\n",
        "GTAGTGCAACCGAACGCGACCGCATGGTCAGAAGCCGGGCACATCAGCGCCTGGCAGCAG\n",
        "TGGCGTCTGGCGGAAAACCTCAGTGTGACGCTCCCCGCCGCGTCCCACGCCATCCCGCAT\n",
        "CTGACCACCAGCGAAATGGATTTTTGCATCGAGCTGGGTA       TTGGCAATTTAAC\n",
        "CGCCAGTCAGGCTTTCTTTCACAGATGTGGATTGGCGATAAAAAACAACTGCTGACGCCG\n",
        "CTGCGCGATCAGTTCACCCGTGCACCGCTGG      ACATTGGCGTAAGTGAAGCGACC\n",
        "CGCATTGACCCTAACGCCTGGGTCGAACGCTGGAAGGCGGCGGGCCATTACCAGGCCGAA\n",
        "GCAGCGTTGTTGCAGTGCACGGCAGATACACTTGCTGATGCGGTGCTGATTACGACCGCT\n",
        "CACGCGTGGCAGCATCAGGGGAAAACCTTATTTATCAGCCGGAAAACCTACCGGATTGAT\n",
        "GGTAGTGGTCAAATGGCGATTACCGTTGATGTTGAAGTGGCGAGCG        CATCCG\n",
        "GCGCGGATTGGCCTGAACTGCCAGCTGGCGCAGGTAGCAGAGCGGGTAAACTGGCTCGGA\n",
        "TTAGGGCCGCAAGAAAACTATCCCGACCGCCTTACTGCCGCCTGTTTTGACCGCTGGGAT\n",
        "CTGCCATTGTCAGACATGT        TACGTCTTCCCGAGCGAAAACGGTCTGCGCTGC\n",
        "GGGACGCGCGAATTGAATTATGGCCCACACCAGTGGCGCGGCGACTTCCAGTTCAACATC\n",
        "AGCCGCTACAGTCAACAGCAACTGATGGAAACCAGCCATCGCCATCTGCTGCACGCGGAA\n",
        "GAAGGCACATGGCTGA         GTTTCCATATGGGGATTGGTGGCGACGACTCCTGG\n",
        "AGCCCGTCAGTATCGGCGGAATTCCAGCTGAGCGCCGGTCGCTACCATTACCAGTTGGTC\n"
       ]
      }
     ],
     "prompt_number": 49
    },
    {
     "cell_type": "markdown",
     "metadata": {},
     "source": [
      "The NLTK toolkit\n",
      "----\n",
      "\n",
      "If you will be doing statitical natural language processing or significant amounts of machhine learning on natrual text, check out the [Natural Language Toolkit](http://www.nltk.org/)."
     ]
    },
    {
     "cell_type": "markdown",
     "metadata": {},
     "source": [
      "<font color=red>Exercises</font>\n",
      "----"
     ]
    },
    {
     "cell_type": "markdown",
     "metadata": {},
     "source": [
      "**1**. Write a function to find the complementary strand given a DNA sequence. For example\n",
      "\n",
      "Given  ATCGTTA\n",
      "Return TAGCAAT\n",
      "\n",
      "Note: The following are complementary bases A|T, C|G."
     ]
    },
    {
     "cell_type": "code",
     "collapsed": false,
     "input": [
      "from string import maketrans\n",
      "\n",
      "dna_to_rna = maketrans('ATCG', 'TAGC')\n",
      "\n",
      "dna = 'ATCGTTA'\n",
      "print dna.translate(dna_to_rna)"
     ],
     "language": "python",
     "metadata": {},
     "outputs": [
      {
       "output_type": "stream",
       "stream": "stdout",
       "text": [
        "TAGCAAT\n"
       ]
      }
     ],
     "prompt_number": 11
    },
    {
     "cell_type": "markdown",
     "metadata": {},
     "source": [
      "**2**. Write a regular expression that matches the following:\n",
      "\n",
      "- Phone numbers with the format: (919)-1234567 (i.e. (123)-9876543 should match but not 234-1234567 or (123)-666666)\n",
      "- Email addresss john.doe@duke.edu (i.e. steve@gmail.com should match but not steve@gmail)\n",
      "- DNA seqences with the motif A-C-T-G where - indicates 0 or 1 other nucleotide (any of A,C,T or G)"
     ]
    },
    {
     "cell_type": "code",
     "collapsed": false,
     "input": [
      "import re\n",
      "phones = [\"(919)-1234567\", \"(123)-9876543\", \"234-1234567\", \"(123)-666666\"]\n",
      "print [re.findall(r'\\([0-9]{3}\\)-[0-9]{7}', s) for s in phones]\n",
      "\n",
      "emails = [\"john.doe@duke.edu\", \"steve@gmail.com\", \"steve@gmail\"]\n",
      "print [re.findall(r'\\S+@\\S+\\.\\S+', s) for s in emails]\n",
      "\n",
      "# Not sure about this one"
     ],
     "language": "python",
     "metadata": {},
     "outputs": [
      {
       "output_type": "stream",
       "stream": "stdout",
       "text": [
        "[['(919)-1234567'], ['(123)-9876543'], [], []]\n",
        "[['john.doe@duke.edu'], ['steve@gmail.com'], []]\n"
       ]
      }
     ],
     "prompt_number": 13
    },
    {
     "cell_type": "markdown",
     "metadata": {},
     "source": [
      "**3**. Download 'Pride and Prejudice' by Jane Austem from Project Gutenbrrg.\n",
      "\n",
      "- Remove all punctuation and covert to lower case\n",
      "- Count how many times the word 'married' appears\n",
      "- Count how often the word 'daughter' and 'married' appear in the same 10-word window"
     ]
    },
    {
     "cell_type": "code",
     "collapsed": false,
     "input": [
      "import urllib2\n",
      "import string\n",
      "from collections import Counter\n",
      "\n",
      "pride = urllib2.urlopen('http://www.gutenberg.org/ebooks/1342.txt.utf-8').read()\n",
      "pride = pride.translate(None, string.punctuation).lower().split()\n",
      "\n",
      "pride_counter = Counter(pride)\n",
      "print \"The word 'married' appears \", pride_counter[\"married\"], \"times\"\n",
      "\n",
      "count = 0\n",
      "for i, w in enumerate(pride):\n",
      "    if w == \"married\":\n",
      "        for w2 in pride[(i-10):(i+10)]:\n",
      "            if w2 == \"daughter\":\n",
      "                count += 1\n",
      "print count"
     ],
     "language": "python",
     "metadata": {},
     "outputs": [
      {
       "output_type": "stream",
       "stream": "stdout",
       "text": [
        "The word 'married' appears  61 times\n",
        "7\n"
       ]
      }
     ],
     "prompt_number": 8
    },
    {
     "cell_type": "markdown",
     "metadata": {},
     "source": [
      "**4**. Download \"The Gutenberg Webster's Unabridged Dictionary\" from Project Gutenbrrg\n",
      "\n",
      "- First extract all defined words (109561 words)\n",
      "- Count the number of *defined* English words containing 3 or more vowels (aeiou)\n",
      "- Find all longest palindrome (a palindrome is a word that is spelt the same forwards as backwards - e.g. 'deified')"
     ]
    },
    {
     "cell_type": "code",
     "collapsed": false,
     "input": [
      "webster = urllib2.urlopen(\"http://www.gutenberg.org/cache/epub/673/pg673.txt\").read()\n",
      "webster_word = re.findall(r'(?<=<h1>)\\S+?(?=</h1>)', webster)\n",
      "print len(webster_word)\n",
      "print webster_word[:50]\n",
      "\n",
      "trans = string.maketrans('aeiou', 'aaaaa')\n",
      "print len([w for w in webster_word if w.translate(trans).count('a') >= 3])\n",
      "\n",
      "def check_palindrome(s):\n",
      "    if len(s) <= 1:\n",
      "        return True\n",
      "    elif s[0].lower() != s[-1].lower():\n",
      "        return False\n",
      "    else:\n",
      "        return check_palindrome(s[1:-1])\n",
      "\n",
      "palindromes = [w for w in webster_word if check_palindrome(w)]\n",
      "print palindromes[:100]\n",
      "print max(palindromes, key=len)"
     ],
     "language": "python",
     "metadata": {},
     "outputs": [
      {
       "output_type": "stream",
       "stream": "stdout",
       "text": [
        "104138\n",
        "['A', 'A', 'A', 'A', 'A', 'A', 'A-.', 'Aam', 'Aard-vark', 'Aard-wolf', 'Ab-', 'Ab', 'Abaca', 'Abacinate', 'Abacination', 'Abaciscus', 'Abacist', 'Aback', 'Aback', 'Abactinal', 'Abaction', 'Abactor', 'Abaculus', 'Abacus', 'Abada', 'Abaddon', 'Abaft', 'Abaft', 'Abaisance', 'Abaiser', 'Abaist', 'Abalienate', 'Abalienation', 'Abalone', 'Aband', 'Abandon', 'Abandon', 'Abandon', 'Abandoned', 'Abandonedly', 'Abandonee', 'Abandoner', 'Abandonment', 'Abandum', 'Abanet', 'Abanga', 'Abarticulation', 'Abase', 'Abased', 'Abasedly']\n",
        "63881"
       ]
      },
      {
       "output_type": "stream",
       "stream": "stdout",
       "text": [
        "\n",
        "['A', 'A', 'A', 'A', 'A', 'A', 'Abba', 'Aha', 'Aha', 'Ala', 'Alula', 'Amma', 'Ana', 'ana', 'Anna', 'Anona', 'Ara', 'Ara', 'Arara', 'Asa', 'Ava', 'B', 'Bib', 'Bib', 'Bob', 'Bob', 'Bob', 'Bub', 'Bub', 'Bub', 'C', 'Carac', 'Civic', '2', 'D', 'Dad', 'Deed', 'Deed', 'Deed', 'Deified', 'Did', 'E', 'Eirie', 'Eke', 'Eke', 'Eke', 'Eme', 'Ere', 'Ere', 'Ese', 'Eve', 'Ewe', 'Eye', 'Eye', 'Eye', 'Eye', 'F', 'G', 'Gag', 'Gag', 'Gag', 'Gig', 'Gig', 'Gig', 'Gig', 'Gig', 'Gog', 'H', 'H', 'I', 'I', 'J', 'K', 'Kayak', 't', 'L', 'L', 'Level', 'Level', 'Level', 'Level', 'Lool', 'Madam', 'Malayalam', 'Marram', 'Minim', 'Minim', 'Mum', 'Mum', 'Mum', 'Mum', 'N', 'N', 'Nan', 'Neven', 'Nin', 'Non', 'Noon', 'Noon', 'Noon']"
       ]
      },
      {
       "output_type": "stream",
       "stream": "stdout",
       "text": [
        "\n",
        "Malayalam\n"
       ]
      }
     ],
     "prompt_number": 28
    },
    {
     "cell_type": "code",
     "collapsed": false,
     "input": [],
     "language": "python",
     "metadata": {},
     "outputs": []
    }
   ],
   "metadata": {}
  }
 ]
}