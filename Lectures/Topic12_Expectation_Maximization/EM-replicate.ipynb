{
 "metadata": {
  "name": "",
  "signature": "sha256:2be1756981bdce7a8b25f5a8642d09a31345be57301eb76745dcab7f12a3547c"
 },
 "nbformat": 3,
 "nbformat_minor": 0,
 "worksheets": [
  {
   "cells": [
    {
     "cell_type": "code",
     "collapsed": false,
     "input": [
      "import os\n",
      "import sys\n",
      "import glob\n",
      "import matplotlib.pyplot as plt\n",
      "import numpy as np\n",
      "import pandas as pd\n",
      "%matplotlib inline\n",
      "plt.style.use('ggplot')\n",
      "np.random.seed(1234)\n",
      "\n",
      "np.set_printoptions(formatter={'all':lambda x: '%.3f' % x})\n",
      "\n",
      "from scipy.optimize import minimize\n",
      "from scipy.stats import bernoulli, binom"
     ],
     "language": "python",
     "metadata": {},
     "outputs": [],
     "prompt_number": 1
    },
    {
     "cell_type": "markdown",
     "metadata": {},
     "source": [
      "For the E-step, with each sample we have\n",
      "\n",
      "\\begin{align}\n",
      "w_j &= Q_i(z_i = j) \\\\\n",
      "\\text{[EQN 1]} &= \\frac{\\theta_j^h(1-\\theta_j)^{n-h} }{\\sum_{l=1}^k \\theta_l^h(1-\\theta_l)^{n-h} }\n",
      "\\end{align}\n",
      "\n",
      "For the M-step, we need to find the value of $\\theta$ that maximises the $Q$ function\n",
      "\n",
      "\\begin{align}\n",
      "& \\sum_i \\sum_{z_i} Q_i(z_i) \\log \\frac{p(x_i, z_i; \\theta)}{Q_i(z_i)} \\\\\n",
      "\\text{[EQN 2]} &= \\sum_{i=1}^m \\sum_{j=1}^k w_j \\left( h \\log \\theta_j + (n-h) \\log (1-\\theta_j) + \\log \\phi_j - \\log w_j \\right)\n",
      "\\end{align}\n",
      "\n",
      "We can differentiate and solve for each component $\\theta_s$ where the derivative vanishes\n",
      "\n",
      "\\begin{align}\n",
      "\\sum_{i=1}^m w_s \\left( \\frac{h}{\\theta_s} - \\frac{n-h}{1-\\theta_s} \\right) &= 0  \\\\\n",
      "\\implies \\theta_s &= \\frac {\\sum_{i=1}^m w_s h}{\\sum_{i=1}^m w_s n}\n",
      "\\end{align}\n"
     ]
    },
    {
     "cell_type": "code",
     "collapsed": false,
     "input": [
      "%%timeit\n",
      "xs = np.array([(5,5), (9,1), (8,2), (4,6), (7,3)])\n",
      "thetas = np.array([[0.6, 0.4], [0.5, 0.5]])\n",
      "tol = 0.01\n",
      "max_iter = 100\n",
      "\n",
      "ll_old = 0\n",
      "for i in range(max_iter):\n",
      "    ll_new = 0\n",
      "    \n",
      "    ws_A = []\n",
      "    ws_B = []\n",
      "    vs_A = []\n",
      "    vs_B = []\n",
      "    for x in xs:\n",
      "        ll_A = np.sum(x * np.log(thetas[0]))\n",
      "        ll_B = np.sum(x * np.log(thetas[1]))\n",
      "\n",
      "        denom = np.exp(ll_A) + np.exp(ll_B)\n",
      "        w_A = np.exp(ll_A) / denom\n",
      "        w_B = np.exp(ll_B) / denom\n",
      "        ws_A.append(w_A)\n",
      "        ws_B.append(w_B)\n",
      "\n",
      "        v_A = np.dot(w_A, x)\n",
      "        v_B = np.dot(w_B, x)\n",
      "        vs_A.append(v_A)\n",
      "        vs_B.append(v_B)\n",
      "        \n",
      "        # Update complete log likelihood\n",
      "        ll_new += w_A * ll_A + w_B * ll_B\n",
      "\n",
      "    thetas[0] = np.sum(vs_A, 0) / np.sum(vs_A)\n",
      "    thetas[1] = np.sum(vs_B, 0) / np.sum(vs_B)\n",
      "    \n",
      "    # print \"Iteration %d\" % (i + 1)\n",
      "    # print \"Theta A: %.2f; Theta B: %.2f; ll_new: %.2f\" % (thetas[0][0], thetas[1][0], ll_new)\n",
      "    \n",
      "    if np.abs(ll_new - ll_old) < tol:\n",
      "        break\n",
      "    ll_old = ll_new"
     ],
     "language": "python",
     "metadata": {},
     "outputs": [
      {
       "output_type": "stream",
       "stream": "stdout",
       "text": [
        "100 loops, best of 3: 2.19 ms per loop\n"
       ]
      }
     ],
     "prompt_number": 21
    },
    {
     "cell_type": "code",
     "collapsed": false,
     "input": [
      "# Vectorize the sum over each x in xs\n",
      "xs = np.array([(5,5), (9,1), (8,2), (4,6), (7,3)])\n",
      "thetas = np.array([[0.6, 0.4], [0.5, 0.5]])\n",
      "tol = 0.01\n",
      "max_iter = 100\n",
      "\n",
      "ll_old = 0\n",
      "for i in range(max_iter):\n",
      "    ll_new = 0\n",
      "    \n",
      "    ll_A = xs.dot(np.log(thetas[0]))\n",
      "    ll_B = xs.dot(np.log(thetas[1]))\n",
      "    \n",
      "    denom = np.exp(ll_A) + np.exp(ll_B)\n",
      "    w_A = np.exp(ll_A) / denom\n",
      "    w_B = np.exp(ll_B) / denom\n",
      "    \n",
      "    v_A = w_A[:, np.newaxis] * xs\n",
      "    v_B = w_B[:, np.newaxis] * xs\n",
      "    \n",
      "    ll_new = np.sum(w_A * ll_A + w_B * ll_B)\n",
      "    \n",
      "    print v_A\n",
      "    \n",
      "    thetas[0] = np.sum(v_A, 0) / np.sum(v_A)\n",
      "    thetas[1] = np.sum(v_B, 0) / np.sum(v_B)\n",
      "    \n",
      "    # print \"Iteration %d\" % (i + 1)\n",
      "    # print \"Theta A: %.2f; Theta B: %.2f; ll_new: %.2f\" % (thetas[0,0], thetas[1,0], ll_new)\n",
      "    \n",
      "    if np.abs(ll_new - ll_old) < tol:\n",
      "        break\n",
      "    ll_old = ll_new"
     ],
     "language": "python",
     "metadata": {},
     "outputs": [
      {
       "output_type": "stream",
       "stream": "stdout",
       "text": [
        "[[2.246 2.246]\n",
        " [7.245 0.805]\n",
        " [5.868 1.467]\n",
        " [1.409 2.113]\n",
        " [4.531 1.942]]\n",
        "[[1.479 1.479]\n",
        " [7.304 0.812]\n",
        " [5.651 1.413]\n",
        " [0.761 1.141]\n",
        " [4.015 1.721]]\n",
        "[[1.088 1.088]\n",
        " [7.829 0.870]\n",
        " [6.009 1.502]\n",
        " [0.446 0.670]\n",
        " [4.038 1.731]]\n",
        "[[0.809 0.809]\n",
        " [8.216 0.913]\n",
        " [6.354 1.589]\n",
        " [0.265 0.398]\n",
        " [4.110 1.761]]\n",
        "[[0.645 0.645]\n",
        " [8.418 0.935]\n",
        " [6.572 1.643]\n",
        " [0.180 0.270]\n",
        " [4.159 1.783]]\n",
        "[[0.568 0.568]\n",
        " [8.508 0.945]\n",
        " [6.682 1.670]\n",
        " [0.145 0.217]\n",
        " [4.186 1.794]]\n",
        "[[0.535 0.535]\n",
        " [8.544 0.949]\n",
        " [6.730 1.683]\n",
        " [0.131 0.197]\n",
        " [4.199 1.800]]\n",
        "[[0.523 0.523]\n",
        " [8.559 0.951]\n",
        " [6.750 1.688]\n",
        " [0.126 0.189]\n",
        " [4.205 1.802]]\n",
        "[[0.518 0.518]\n",
        " [8.564 0.952]\n",
        " [6.758 1.690]\n",
        " [0.124 0.186]\n",
        " [4.208 1.803]]\n"
       ]
      }
     ],
     "prompt_number": 92
    },
    {
     "cell_type": "code",
     "collapsed": false,
     "input": [
      "%%timeit\n",
      "# As function\n",
      "xs = np.array([(5,5), (9,1), (8,2), (4,6), (7,3)])\n",
      "thetas = np.array([[0.6, 0.4], [0.5, 0.5]])\n",
      "def em(xs, thetas, max_iter=10, tol=1e-6):\n",
      "    \"\"\"Expectation-maximization for coin sample problem.\"\"\"\n",
      "    \n",
      "    ll_old = -np.infty\n",
      "    for i in range(max_iter):\n",
      "        ll = np.array([np.sum(xs * np.log(theta), axis=1) for theta in thetas])\n",
      "        ws = np.exp(ll) / np.exp(ll).sum(0)\n",
      "        vs = np.array( [ w[:, np.newaxis] * xs for w in ws ] )\n",
      "        # thetas = vs.sum(1) / vs.sum((1,2))\n",
      "        thetas = np.array([ v.sum(0) / v.sum() for v in vs])\n",
      "        \n",
      "        ll_new = (ws * ll).sum()\n",
      "        \n",
      "        # print \"Iteration %d\" % (i+1)\n",
      "        # print \"Theta A: %.2f; Theta B: %.2f; ll: %.2f\" % (thetas[0,0], thetas[1,0], ll_new)\n",
      "        \n",
      "        if np.abs(ll_new - ll_old) < tol:\n",
      "            break\n",
      "        ll_old = ll_new\n",
      "        \n",
      "em(xs, thetas)"
     ],
     "language": "python",
     "metadata": {},
     "outputs": [
      {
       "output_type": "stream",
       "stream": "stdout",
       "text": [
        "1000 loops, best of 3: 1.03 ms per loop\n"
       ]
      }
     ],
     "prompt_number": 91
    },
    {
     "cell_type": "code",
     "collapsed": false,
     "input": [
      "xs * np.log(thetas[0])"
     ],
     "language": "python",
     "metadata": {},
     "outputs": [
      {
       "metadata": {},
       "output_type": "pyout",
       "prompt_number": 42,
       "text": [
        "array([[-2.554, -4.581],\n",
        "       [-4.597, -0.916],\n",
        "       [-4.087, -1.833],\n",
        "       [-2.043, -5.498],\n",
        "       [-3.576, -2.749]])"
       ]
      }
     ],
     "prompt_number": 42
    },
    {
     "cell_type": "code",
     "collapsed": false,
     "input": [],
     "language": "python",
     "metadata": {},
     "outputs": []
    }
   ],
   "metadata": {}
  }
 ]
}