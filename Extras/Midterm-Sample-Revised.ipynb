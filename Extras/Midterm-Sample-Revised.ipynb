{
 "metadata": {
  "name": "",
  "signature": "sha256:354d420cf26d9118aa654e391507477d5976f808490bd3bac2a1a84ce4d79cea"
 },
 "nbformat": 3,
 "nbformat_minor": 0,
 "worksheets": [
  {
   "cells": [
    {
     "cell_type": "markdown",
     "metadata": {},
     "source": [
      "Instructions\n",
      "----\n",
      "\n",
      "This is a \"closed book\" examination - in particular, you are not to use any resources outside of this notebook (except possibly pen and paper). You may consult help from within the notebook using ? but not any online references.\n",
      "\n",
      "You have 1 hour and 45 minutes to complete the exam. Note that the maximum score is 60 points.\n",
      "\n",
      "**Please make a copy of the notebook (File | Make a copy), and rename it to be `midterm-firstanme-lastname`. At the end of the exam, save to your Sakai Dropbox - any files with modification date beyond the end-of-exam time will not be graded.**"
     ]
    },
    {
     "cell_type": "code",
     "collapsed": false,
     "input": [
      "import os\n",
      "import sys\n",
      "import glob\n",
      "import matplotlib.pyplot as plt\n",
      "import numpy as np\n",
      "import pandas as pd\n",
      "%matplotlib inline\n",
      "plt.style.use('ggplot')"
     ],
     "language": "python",
     "metadata": {},
     "outputs": [],
     "prompt_number": 62
    },
    {
     "cell_type": "code",
     "collapsed": false,
     "input": [
      "np.set_printoptions(formatter={'float': '{: 0.3f}'.format})"
     ],
     "language": "python",
     "metadata": {},
     "outputs": [],
     "prompt_number": 63
    },
    {
     "cell_type": "code",
     "collapsed": false,
     "input": [
      "%load_ext rpy2.ipython"
     ],
     "language": "python",
     "metadata": {},
     "outputs": [
      {
       "output_type": "stream",
       "stream": "stdout",
       "text": [
        "The rpy2.ipython extension is already loaded. To reload it, use:\n",
        "  %reload_ext rpy2.ipython\n"
       ]
      }
     ],
     "prompt_number": 64
    },
    {
     "cell_type": "markdown",
     "metadata": {},
     "source": [
      "**Question 1 (10 points)**. \n",
      "\n",
      "Euclid's algorithm for finding the greatest common divisor of two numbers is\n",
      "\n",
      "```python\n",
      "gcd(a, 0) = a\n",
      "gcd(a, b) = gcd(b, a modulo b)\n",
      "```\n",
      "\n",
      "1. Write a function to find the greatest common divisor in Python (4 poinst)\n",
      "2. What is the greatest common divisor of 17384 and 1928? (1 point)\n",
      "3. Write a function to calculate the least common multiple (4 points)\n",
      "4. What is the least common multiple of 17384 and 1928? (1 point)"
     ]
    },
    {
     "cell_type": "code",
     "collapsed": false,
     "input": [
      "def gcd(a, b):\n",
      "    if b == 0:\n",
      "        return a\n",
      "    else:\n",
      "        return gcd(b, a % b)"
     ],
     "language": "python",
     "metadata": {},
     "outputs": [],
     "prompt_number": 65
    },
    {
     "cell_type": "code",
     "collapsed": false,
     "input": [
      "gcd(17384, 1928)"
     ],
     "language": "python",
     "metadata": {},
     "outputs": [
      {
       "metadata": {},
       "output_type": "pyout",
       "prompt_number": 66,
       "text": [
        "8"
       ]
      }
     ],
     "prompt_number": 66
    },
    {
     "cell_type": "code",
     "collapsed": false,
     "input": [
      "def lcd(a, b):\n",
      "    smaller = a if a < b else b\n",
      "    larger = a if a > b else b\n",
      "    for i in range(2, smaller + 1):\n",
      "        if smaller % i == 0 & larger % i == 0:\n",
      "            return i\n",
      "    return None"
     ],
     "language": "python",
     "metadata": {},
     "outputs": [],
     "prompt_number": 67
    },
    {
     "cell_type": "code",
     "collapsed": false,
     "input": [
      "lcd(17384, 1928)"
     ],
     "language": "python",
     "metadata": {},
     "outputs": [
      {
       "metadata": {},
       "output_type": "pyout",
       "prompt_number": 68,
       "text": [
        "2"
       ]
      }
     ],
     "prompt_number": 68
    },
    {
     "cell_type": "markdown",
     "metadata": {},
     "source": [
      "**Question 2 (10 points)**. \n",
      "\n",
      "Consider the following matrix $A$ with dimensions (4,6), to be interpreted as 4 rows of the measurements of 6 features.\n",
      "```python\n",
      "np.array([[5, 5, 2, 6, 2, 0],\n",
      "          [8, 6, 7, 8, 9, 7],\n",
      "          [9, 5, 0, 4, 6, 8],\n",
      "          [8, 7, 9, 3, 6, 1]])\n",
      "```\n",
      "\n",
      "1. Add 1 to the first row, 2 to the second row, 3 to the third row and 4 to the fourth row using a vector `v = np.array([1,2,3,4])` and broadcasting. (2 points)\n",
      "2. Normalize A so that its row means are all 0 and call it A1. (2 points)\n",
      "3. What are the singular values of A1? (2 points)\n",
      "4. What are the eigenvalues of the covariance matrix of A1? (2 points)\n",
      "5. Find the least squares solution vector $x$ if $Ax = y$ where `y = np.array([1,2,3,4]).T` (2 points)"
     ]
    },
    {
     "cell_type": "code",
     "collapsed": false,
     "input": [
      "A = np.array([[5, 5, 2, 6, 2, 0],\n",
      "          [8, 6, 7, 8, 9, 7],\n",
      "          [9, 5, 0, 4, 6, 8],\n",
      "          [8, 7, 9, 3, 6, 1]])\n",
      "v = np.array([1,2,3,4])\n",
      "A + v[:, np.newaxis]"
     ],
     "language": "python",
     "metadata": {},
     "outputs": [
      {
       "metadata": {},
       "output_type": "pyout",
       "prompt_number": 69,
       "text": [
        "array([[ 6,  6,  3,  7,  3,  1],\n",
        "       [10,  8,  9, 10, 11,  9],\n",
        "       [12,  8,  3,  7,  9, 11],\n",
        "       [12, 11, 13,  7, 10,  5]])"
       ]
      }
     ],
     "prompt_number": 69
    },
    {
     "cell_type": "code",
     "collapsed": false,
     "input": [
      "A1 = A - A.mean(axis=1)[:, np.newaxis]\n",
      "print A1\n",
      "print A1.mean(axis=1)"
     ],
     "language": "python",
     "metadata": {},
     "outputs": [
      {
       "output_type": "stream",
       "stream": "stdout",
       "text": [
        "[[ 1.667  1.667 -1.333  2.667 -1.333 -3.333]\n",
        " [ 0.500 -1.500 -0.500  0.500  1.500 -0.500]\n",
        " [ 3.667 -0.333 -5.333 -1.333  0.667  2.667]\n",
        " [ 2.333  1.333  3.333 -2.667  0.333 -4.667]]\n",
        "[-0.000  0.000  0.000 -0.000]\n"
       ]
      }
     ],
     "prompt_number": 70
    },
    {
     "cell_type": "code",
     "collapsed": false,
     "input": [
      "# SVD\n",
      "u, s, v = np.linalg.svd(A1)\n",
      "print s"
     ],
     "language": "python",
     "metadata": {},
     "outputs": [
      {
       "output_type": "stream",
       "stream": "stdout",
       "text": [
        "[ 8.317  5.975  4.635  2.268]\n"
       ]
      }
     ],
     "prompt_number": 71
    },
    {
     "cell_type": "code",
     "collapsed": false,
     "input": [
      "w, v = np.linalg.eig(A1.T.dot(A1))\n",
      "print w\n",
      "print np.real_if_close(w)"
     ],
     "language": "python",
     "metadata": {},
     "outputs": [
      {
       "output_type": "stream",
       "stream": "stdout",
       "text": [
        "[  6.91665070e+01 +0.00000000e+00j   3.57047769e+01 +0.00000000e+00j\n",
        "   2.14855155e+01 +0.00000000e+00j   5.14320066e+00 +0.00000000e+00j\n",
        "  -1.71128066e-16 +3.81140793e-16j  -1.71128066e-16 -3.81140793e-16j]\n",
        "[ 69.167  35.705  21.486  5.143 -0.000 -0.000]\n"
       ]
      }
     ],
     "prompt_number": 72
    },
    {
     "cell_type": "code",
     "collapsed": false,
     "input": [
      "y = np.array([1,2,3,4]).T\n",
      "np.linalg.lstsq(A, y)"
     ],
     "language": "python",
     "metadata": {},
     "outputs": [
      {
       "metadata": {},
       "output_type": "pyout",
       "prompt_number": 73,
       "text": [
        "(array([ 0.360,  0.209,  0.057, -0.336,  0.028, -0.014]),\n",
        " array([], dtype=float64),\n",
        " 4,\n",
        " array([ 28.137,  8.316,  4.767,  3.926]))"
       ]
      }
     ],
     "prompt_number": 73
    },
    {
     "cell_type": "markdown",
     "metadata": {},
     "source": [
      "**Question 3 (10 points)**.\n",
      "\n",
      "1. Prove that $e^{x^2 + y^2}$ is a convex function. (5 points)\n",
      "2. Using `scipy.optimize`, find the values of $x$ and $y$ that minimize $e^{x^2 + y^2}$ in the unconstrained case and in the presence of the constraint that $x + y = 3$. Use (1,1) as a starting guess (5 points)"
     ]
    },
    {
     "cell_type": "code",
     "collapsed": false,
     "input": [
      "import scipy.optimize\n",
      "obj = lambda x: np.exp(x[0]**2 + x[1]**2)\n",
      "\n",
      "# Unconstrained\n",
      "scipy.optimize.minimize(obj, (1, 1))"
     ],
     "language": "python",
     "metadata": {},
     "outputs": [
      {
       "metadata": {},
       "output_type": "pyout",
       "prompt_number": 80,
       "text": [
        "   status: 0\n",
        "  success: True\n",
        "     njev: 10\n",
        "     nfev: 40\n",
        " hess_inv: array([[ 0.750, -0.250],\n",
        "       [-0.250,  0.750]])\n",
        "      fun: 1.0000000000000018\n",
        "        x: array([-0.000, -0.000])\n",
        "  message: 'Optimization terminated successfully.'\n",
        "      jac: array([-0.000, -0.000])"
       ]
      }
     ],
     "prompt_number": 80
    },
    {
     "cell_type": "code",
     "collapsed": false,
     "input": [
      "# Constrained\n",
      "cons = ({'type': 'eq', 'fun': lambda x: x[0] + x[1] -3})\n",
      "scipy.optimize.minimize(obj, (1, 1), constraints=cons)"
     ],
     "language": "python",
     "metadata": {},
     "outputs": [
      {
       "metadata": {},
       "output_type": "pyout",
       "prompt_number": 81,
       "text": [
        "  status: 0\n",
        " success: True\n",
        "    njev: 7\n",
        "    nfev: 34\n",
        "     fun: 90.017131300521896\n",
        "       x: array([ 1.500,  1.500])\n",
        " message: 'Optimization terminated successfully.'\n",
        "     jac: array([ 270.051,  270.051,  0.000])\n",
        "     nit: 7"
       ]
      }
     ],
     "prompt_number": 81
    },
    {
     "cell_type": "markdown",
     "metadata": {},
     "source": [
      "**Question 4 (10 points)**.\n",
      "\n",
      "A milkmaid is at point A and needs to get to point B. However, she also needs to fill a pail of water from the river en route from A to B. The equation of the river's path is shown in the figure below. What is the minimum distance she has to travel to do this?\n",
      "\n",
      "1. Solve using `scipy.optimize` and constrained minimization.\n",
      "2. Solve without using `scipy.optimize`. Hint: Use Lagrange \n",
      "\n",
      "![Milkmaid problem](milkmaid.png)"
     ]
    },
    {
     "cell_type": "code",
     "collapsed": false,
     "input": [
      "a = np.array([2,8])\n",
      "b = np.array([8,4])\n",
      "obj = lambda x: np.sqrt(np.sum((x - a)**2)) + np.sqrt(np.sum((x - b)**2))\n",
      "cons = ({'type': 'eq', 'fun': lambda x: 10 / float(1 + x[0]) - x[1]})\n",
      "scipy.optimize.minimize(obj, (2, 2), constraints=cons)"
     ],
     "language": "python",
     "metadata": {},
     "outputs": [
      {
       "metadata": {},
       "output_type": "pyout",
       "prompt_number": 89,
       "text": [
        "  status: 0\n",
        " success: True\n",
        "    njev: 15\n",
        "    nfev: 68\n",
        "     fun: 9.9633982993831705\n",
        "       x: array([ 0.532,  6.526])\n",
        " message: 'Optimization terminated successfully.'\n",
        "     jac: array([-1.653, -0.388,  0.000])\n",
        "     nit: 15"
       ]
      }
     ],
     "prompt_number": 89
    },
    {
     "cell_type": "markdown",
     "metadata": {},
     "source": [
      "**Question 5 (10 points)**. \n",
      "\n",
      "Find the minimum of the following quadratic function on $\\mathbb{R}^4$ \n",
      "\n",
      "$$f(x) = x^TAx +b^Tx +c$$\n",
      "where\n",
      "$$A = \\left(\\begin{matrix}13&5&0&0\\\\5&7&0&0\\\\0&0&20&-7\\\\0&0&-7&12\\end{matrix}\\right), b = \\left(\\begin{matrix}1\\\\1\\\\1\\\\1\\end{matrix}\\right) \\textrm {and } c = 2$$\n",
      "\n",
      "and $x$ is a column vector.\n",
      "\n",
      "a. Using scipy.optimize (4 points)\n",
      "\n",
      "b. Using a matrix decomposition method (library functions - no need to code your own).  Note: for full credit you should exploit matrix structure. (4 points)\n",
      "\n",
      "c. Find the minimum under the constraint $||x||^2 = 1$ (i.e. on the unit sphere in $\\mathbb{R}^4$). (2 points)\n",
      "\n",
      "**Note: Do not be overly concerned if your values for $x$ at the minimum do not match exactly **\n"
     ]
    },
    {
     "cell_type": "code",
     "collapsed": false,
     "input": [
      "A = np.array([[13,5,0,0], [5,7,0,0], [0,0,20,-7], [0,0,-7,12]])\n",
      "b = np.array([1,1,1,1])\n",
      "c = 2\n",
      "obj = lambda x: x.T.dot(A).dot(x) + b.T.dot(x) + c\n",
      "scipy.optimize.minimize(obj, (0, 0, 0, 0))"
     ],
     "language": "python",
     "metadata": {},
     "outputs": [
      {
       "metadata": {},
       "output_type": "pyout",
       "prompt_number": 93,
       "text": [
        "   status: 0\n",
        "  success: True\n",
        "     njev: 9\n",
        "     nfev: 54\n",
        " hess_inv: array([[ 0.221, -0.404,  0.074,  0.080],\n",
        "       [-0.404,  0.893, -0.161, -0.173],\n",
        "       [ 0.074, -0.161,  0.064,  0.053],\n",
        "       [ 0.080, -0.173,  0.053,  0.090]])\n",
        "      fun: 1.901911788037445\n",
        "        x: array([-0.015, -0.061, -0.050, -0.071])\n",
        "  message: 'Optimization terminated successfully.'\n",
        "      jac: array([-0.000, -0.000,  0.000,  0.000])"
       ]
      }
     ],
     "prompt_number": 93
    },
    {
     "cell_type": "code",
     "collapsed": false,
     "input": [
      "# Basically solve Ax = -b\n",
      "A1 = np.array([[13, 5], [5, 7]])\n",
      "P, L, U = scipy.linalg.lu(A1)\n",
      "print P, L, U"
     ],
     "language": "python",
     "metadata": {},
     "outputs": [
      {
       "output_type": "stream",
       "stream": "stdout",
       "text": [
        "[[ 1.000  0.000]\n",
        " [ 0.000  1.000]] [[ 1.000  0.000]\n",
        " [ 0.385  1.000]] [[ 13.000  5.000]\n",
        " [ 0.000  5.077]]\n"
       ]
      }
     ],
     "prompt_number": 134
    },
    {
     "cell_type": "code",
     "collapsed": false,
     "input": [
      "print L"
     ],
     "language": "python",
     "metadata": {},
     "outputs": [
      {
       "output_type": "stream",
       "stream": "stdout",
       "text": [
        "[[ 1.000  0.000]\n",
        " [ 0.385  1.000]]\n"
       ]
      }
     ],
     "prompt_number": 135
    },
    {
     "cell_type": "markdown",
     "metadata": {},
     "source": [
      "**Question 6 (10 points)**.\n",
      "\n",
      "Given the set of vectors\n",
      "\n",
      "```\n",
      "v1 = np.array([1,2,3])\n",
      "v2 = np.array([2,4,7])\n",
      "v3 = np.array([1,0,1])\n",
      "```\n",
      "\n",
      "1. Calculate the pairwise Euclidean distance matrix using nested for loops. (2 points)\n",
      "2. Calculate the pairwise Euclidean distance matrix using numpy broadcasting. (3 points)\n",
      "3. Find an orthogonal basis for the space spanned by these vectors without using any functions from `numpy.linag` or `scipy.linalg` (5 points)"
     ]
    },
    {
     "cell_type": "code",
     "collapsed": false,
     "input": [
      "v1 = np.array([1,2,3])\n",
      "v2 = np.array([2,4,7])\n",
      "v3 = np.array([1,0,1])\n",
      "A = np.array([v1, v2, v3]).T"
     ],
     "language": "python",
     "metadata": {},
     "outputs": [],
     "prompt_number": 101
    },
    {
     "cell_type": "code",
     "collapsed": false,
     "input": [
      "def norm(x):\n",
      "    return np.sqrt(np.sum(x**2))\n",
      "u1 = v1\n",
      "u2 = v2 - v2.dot(u1) / norm(u1)**2 * u1\n",
      "u3 = v3 - v3.dot(u1) / norm(u1)**2 * u1 - v3.dot(u2) / norm(u2)**2 * u2"
     ],
     "language": "python",
     "metadata": {},
     "outputs": [],
     "prompt_number": 117
    },
    {
     "cell_type": "code",
     "collapsed": false,
     "input": [
      "np.array([u1, u2, u3]).T"
     ],
     "language": "python",
     "metadata": {},
     "outputs": [
      {
       "metadata": {},
       "output_type": "pyout",
       "prompt_number": 119,
       "text": [
        "array([[ 1.000, -0.214,  0.800],\n",
        "       [ 2.000, -0.429, -0.400],\n",
        "       [ 3.000,  0.357,  0.000]])"
       ]
      }
     ],
     "prompt_number": 119
    },
    {
     "cell_type": "code",
     "collapsed": false,
     "input": [
      "u1 = u1 / norm(u1)\n",
      "u2 = u2 / norm(u2)\n",
      "u3 = u3 / norm(u3)\n",
      "np.array([u1, u2, u3]).T"
     ],
     "language": "python",
     "metadata": {},
     "outputs": [
      {
       "metadata": {},
       "output_type": "pyout",
       "prompt_number": 123,
       "text": [
        "array([[ 0.267, -0.359,  0.894],\n",
        "       [ 0.535, -0.717, -0.447],\n",
        "       [ 0.802,  0.598,  0.000]])"
       ]
      }
     ],
     "prompt_number": 123
    },
    {
     "cell_type": "code",
     "collapsed": false,
     "input": [
      "scipy.linalg.orth(A)"
     ],
     "language": "python",
     "metadata": {},
     "outputs": [
      {
       "metadata": {},
       "output_type": "pyout",
       "prompt_number": 103,
       "text": [
        "array([[-0.255, -0.795,  0.550],\n",
        "       [-0.484,  0.598,  0.639],\n",
        "       [-0.837, -0.103, -0.537]])"
       ]
      }
     ],
     "prompt_number": 103
    },
    {
     "cell_type": "code",
     "collapsed": false,
     "input": [
      "R = scipy.linalg.orth(A)\n",
      "R[0, :].dot(R[1, :])"
     ],
     "language": "python",
     "metadata": {},
     "outputs": [
      {
       "metadata": {},
       "output_type": "pyout",
       "prompt_number": 129,
       "text": [
        "1.1102230246251565e-16"
       ]
      }
     ],
     "prompt_number": 129
    },
    {
     "cell_type": "code",
     "collapsed": false,
     "input": [],
     "language": "python",
     "metadata": {},
     "outputs": []
    }
   ],
   "metadata": {}
  }
 ]
}